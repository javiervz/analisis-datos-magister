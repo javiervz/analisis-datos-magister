{
 "cells": [
  {
   "cell_type": "markdown",
   "metadata": {},
   "source": [
    "# **Análisis Computacional de Datos Lingüísticos**\n",
    "### Javier Vera Zúñiga, javier.vera@pucv.cl\n",
    "## **Clase 2**"
   ]
  },
  {
   "cell_type": "markdown",
   "metadata": {},
   "source": [
    "### A. Listas en **Python.** (clase 1)\n",
    "Podemos decir que a **Python** le gustan las **listas.** Esta estructura aparece en muchos lados como una manera de ordenar datos, y al mismo tiempo como una forma de iterar operaciones (repetir una tarea una cantidad definida de veces). En **Python**, las listas se definen (relajadamente) como una secuencia ordenada de **\"cosas\".** Estas **\"cosas\"** pueden ser cualquier **cosa**, incluso otras listas. Veamos ejemplos **:)**"
   ]
  },
  {
   "cell_type": "markdown",
   "metadata": {},
   "source": [
    "#### definiciones básicas! :)"
   ]
  },
  {
   "cell_type": "code",
   "execution_count": 1,
   "metadata": {},
   "outputs": [],
   "source": [
    "## definamos la lista A. Las listas se pueden definir vacías\n",
    "\n",
    "A = []\n",
    "\n",
    "## o bien con algún elemento adentro\n",
    "\n",
    "B = ['verde','casa','perro'] "
   ]
  },
  {
   "cell_type": "code",
   "execution_count": 2,
   "metadata": {},
   "outputs": [
    {
     "data": {
      "text/plain": [
       "['verde', 'casa', 'perro']"
      ]
     },
     "execution_count": 2,
     "metadata": {},
     "output_type": "execute_result"
    }
   ],
   "source": [
    "B"
   ]
  },
  {
   "cell_type": "code",
   "execution_count": 3,
   "metadata": {},
   "outputs": [],
   "source": [
    "## OJO!!! Si notan en las asignaciones anteriores, utilizamos el signo \"=\". En Python (y en muchos lenguajes), este signo \n",
    "## no indica \"igualdad\", sino algo más interesante: en \"A = []\", decimos \"lo que está a la derecha de \"=\" se asigna al nombre\n",
    "## \"A\". Para la igualdad lógica se usa doble signo de igualdad \"==\".\""
   ]
  },
  {
   "cell_type": "code",
   "execution_count": 4,
   "metadata": {},
   "outputs": [
    {
     "data": {
      "text/plain": [
       "(False, True, True)"
      ]
     },
     "execution_count": 4,
     "metadata": {},
     "output_type": "execute_result"
    }
   ],
   "source": [
    "2==3,3==3,2==2*1"
   ]
  },
  {
   "cell_type": "code",
   "execution_count": 5,
   "metadata": {},
   "outputs": [],
   "source": [
    "## también podemos definir A con el operador list(). Este operador puede convertir cosas en listas. Pruebe!!!\n",
    "\n",
    "#A = list()"
   ]
  },
  {
   "cell_type": "code",
   "execution_count": 6,
   "metadata": {},
   "outputs": [
    {
     "name": "stdout",
     "output_type": "stream",
     "text": [
      "0\n",
      "3\n"
     ]
    }
   ],
   "source": [
    "## ¿cómo podemos ver qué hay en una lista? Imprimiéndola! Con \"len\", obtenemos el número de elementos que posee la lista. \n",
    "\n",
    "print(len(A)) ## esto es esperable, A no tiene elementos\n",
    "print(len(B)) ## sabemos que B tiene tres elementos, inicialmente"
   ]
  },
  {
   "cell_type": "code",
   "execution_count": 7,
   "metadata": {},
   "outputs": [
    {
     "name": "stdout",
     "output_type": "stream",
     "text": [
      "verde casa perro\n"
     ]
    }
   ],
   "source": [
    "## la propiedad esencial de las listas es que están ordenadas!!!\n",
    "## por esta razón, tienen posiciones! Insisto: los elementos están asociados a un índice, que puede recorrerse. \n",
    "\n",
    "print(B[0],B[1],B[2])"
   ]
  },
  {
   "cell_type": "code",
   "execution_count": 8,
   "metadata": {},
   "outputs": [],
   "source": [
    "## las listas pueden indexarse por índices, como vimos arriba, \n",
    "## B[0]\n",
    "## o bien, por rebanadas!!!\n",
    "\n",
    "B_slice = B[1:2]"
   ]
  },
  {
   "cell_type": "code",
   "execution_count": 9,
   "metadata": {},
   "outputs": [
    {
     "data": {
      "text/plain": [
       "['casa']"
      ]
     },
     "execution_count": 9,
     "metadata": {},
     "output_type": "execute_result"
    }
   ],
   "source": [
    "B_slice"
   ]
  },
  {
   "cell_type": "code",
   "execution_count": 10,
   "metadata": {},
   "outputs": [],
   "source": [
    "## entonces, el primer índice indica \"desde índice x\" y el segundo \"hasta antes del índice y\"\n",
    "\n",
    "B_slice = B[0:3]"
   ]
  },
  {
   "cell_type": "code",
   "execution_count": 11,
   "metadata": {},
   "outputs": [
    {
     "data": {
      "text/plain": [
       "['verde', 'casa', 'perro']"
      ]
     },
     "execution_count": 11,
     "metadata": {},
     "output_type": "execute_result"
    }
   ],
   "source": [
    "B_slice"
   ]
  },
  {
   "cell_type": "markdown",
   "metadata": {},
   "source": [
    "##### mini-ejercicio 1: pruebe, además, qué ocurre con \n",
    "```python\n",
    "B[:2]\n",
    "```\n",
    "y \n",
    "```python\n",
    "B[:1]\n",
    "```"
   ]
  },
  {
   "cell_type": "code",
   "execution_count": 12,
   "metadata": {},
   "outputs": [
    {
     "data": {
      "text/plain": [
       "['verde', 'casa', 'perro']"
      ]
     },
     "execution_count": 12,
     "metadata": {},
     "output_type": "execute_result"
    }
   ],
   "source": [
    "B"
   ]
  },
  {
   "cell_type": "code",
   "execution_count": 14,
   "metadata": {},
   "outputs": [
    {
     "ename": "IndexError",
     "evalue": "list index out of range",
     "output_type": "error",
     "traceback": [
      "\u001b[0;31m---------------------------------------------------------------------------\u001b[0m",
      "\u001b[0;31mIndexError\u001b[0m                                Traceback (most recent call last)",
      "\u001b[0;32m<ipython-input-14-979b9ed2deae>\u001b[0m in \u001b[0;36m<module>\u001b[0;34m\u001b[0m\n\u001b[1;32m      1\u001b[0m \u001b[0;31m## ¿Qué pasa si imprimimos B[3]? ¿A[0]?\u001b[0m\u001b[0;34m\u001b[0m\u001b[0;34m\u001b[0m\u001b[0;34m\u001b[0m\u001b[0m\n\u001b[1;32m      2\u001b[0m \u001b[0;34m\u001b[0m\u001b[0m\n\u001b[0;32m----> 3\u001b[0;31m \u001b[0mprint\u001b[0m\u001b[0;34m(\u001b[0m\u001b[0mA\u001b[0m\u001b[0;34m[\u001b[0m\u001b[0;36m0\u001b[0m\u001b[0;34m]\u001b[0m\u001b[0;34m)\u001b[0m\u001b[0;34m\u001b[0m\u001b[0;34m\u001b[0m\u001b[0m\n\u001b[0m",
      "\u001b[0;31mIndexError\u001b[0m: list index out of range"
     ]
    }
   ],
   "source": [
    "## ¿Qué pasa si imprimimos B[3]? ¿A[0]?\n",
    "\n",
    "print(A[0])"
   ]
  },
  {
   "cell_type": "code",
   "execution_count": 15,
   "metadata": {},
   "outputs": [
    {
     "data": {
      "text/plain": [
       "'verde'"
      ]
     },
     "execution_count": 15,
     "metadata": {},
     "output_type": "execute_result"
    }
   ],
   "source": [
    "B[0]"
   ]
  },
  {
   "cell_type": "code",
   "execution_count": 16,
   "metadata": {},
   "outputs": [
    {
     "data": {
      "text/plain": [
       "3"
      ]
     },
     "execution_count": 16,
     "metadata": {},
     "output_type": "execute_result"
    }
   ],
   "source": [
    "len(B)"
   ]
  },
  {
   "cell_type": "code",
   "execution_count": 17,
   "metadata": {},
   "outputs": [],
   "source": [
    "## si imprimimos la línea anterior, obtenemos un \"IndexError\". Es decir, Python nos dice \"ojo!!! no existen elementos\n",
    "## asociados a tales índices\n",
    "## noten que el máximo índice posible es \"largo de la lista menos 1\"!!!"
   ]
  },
  {
   "cell_type": "code",
   "execution_count": 18,
   "metadata": {},
   "outputs": [],
   "source": [
    "## => solo podemos imprimir los elementos en posiciones menores al largo\n",
    "\n",
    "b = len(B)\n",
    "a = len(A)"
   ]
  },
  {
   "cell_type": "code",
   "execution_count": 19,
   "metadata": {},
   "outputs": [
    {
     "name": "stdout",
     "output_type": "stream",
     "text": [
      "0\n",
      "3\n"
     ]
    }
   ],
   "source": [
    "print(a)\n",
    "print(b)"
   ]
  },
  {
   "cell_type": "code",
   "execution_count": 20,
   "metadata": {},
   "outputs": [],
   "source": [
    "## ahora, los enteros \"a\" y \"b\" tienen un espacio de memoria asignado que guarda los valores 0 y 3. Podemos utilizarlos \n",
    "## como queramos, por ejemplo\n",
    "\n",
    "c = a+3*(2-b)"
   ]
  },
  {
   "cell_type": "code",
   "execution_count": 21,
   "metadata": {},
   "outputs": [
    {
     "name": "stdout",
     "output_type": "stream",
     "text": [
      "-3\n"
     ]
    }
   ],
   "source": [
    "print(c)"
   ]
  },
  {
   "cell_type": "code",
   "execution_count": 22,
   "metadata": {},
   "outputs": [
    {
     "data": {
      "text/plain": [
       "[]"
      ]
     },
     "execution_count": 22,
     "metadata": {},
     "output_type": "execute_result"
    }
   ],
   "source": [
    "A"
   ]
  },
  {
   "cell_type": "code",
   "execution_count": 23,
   "metadata": {},
   "outputs": [
    {
     "data": {
      "text/plain": [
       "[]"
      ]
     },
     "execution_count": 23,
     "metadata": {},
     "output_type": "execute_result"
    }
   ],
   "source": [
    "A"
   ]
  },
  {
   "cell_type": "markdown",
   "metadata": {},
   "source": [
    "#### agreguemos elementos a listas! :) Las listas son como una **cola** de supermercado. El primero que llega (si nadie se aprovecha) es el primero en ser atendido. Entonces, agregar elementos a una lista implica que estos queden al final :)"
   ]
  },
  {
   "cell_type": "code",
   "execution_count": 25,
   "metadata": {},
   "outputs": [],
   "source": [
    "## ¿Agregar elementos? Sabemos el símbolo \"=\" no es \"igual\": indica que lo que está a la\n",
    "## derecha de \"=\" se asigna a lo que está a la izquierda de \"=\"\n",
    "## ¿Qué pasa si aprietan \"run\" muchas veces?\n",
    "\n",
    "A = A + ['chao']"
   ]
  },
  {
   "cell_type": "code",
   "execution_count": 26,
   "metadata": {},
   "outputs": [
    {
     "data": {
      "text/plain": [
       "['chao', 'chao']"
      ]
     },
     "execution_count": 26,
     "metadata": {},
     "output_type": "execute_result"
    }
   ],
   "source": [
    "A"
   ]
  },
  {
   "cell_type": "code",
   "execution_count": 27,
   "metadata": {},
   "outputs": [],
   "source": [
    "## el símbolo \"+\" indica \"concatenación\", y se usa en muchos contextos!. Noten que para agregar 'hola' a A, es necesario que \n",
    "##'hola' esté adentro de una lista, es decir ['hola']. En general, podemos concatenar (usando \"+\") elementos del mismo tipo. \n",
    "## Prueben la siguiente asignación y miren el error!"
   ]
  },
  {
   "cell_type": "code",
   "execution_count": 28,
   "metadata": {},
   "outputs": [
    {
     "data": {
      "text/plain": [
       "list"
      ]
     },
     "execution_count": 28,
     "metadata": {},
     "output_type": "execute_result"
    }
   ],
   "source": [
    "type(A)"
   ]
  },
  {
   "cell_type": "code",
   "execution_count": 29,
   "metadata": {},
   "outputs": [
    {
     "data": {
      "text/plain": [
       "list"
      ]
     },
     "execution_count": 29,
     "metadata": {},
     "output_type": "execute_result"
    }
   ],
   "source": [
    "type(['hola'])"
   ]
  },
  {
   "cell_type": "code",
   "execution_count": 30,
   "metadata": {},
   "outputs": [
    {
     "ename": "TypeError",
     "evalue": "can only concatenate list (not \"str\") to list",
     "output_type": "error",
     "traceback": [
      "\u001b[0;31m---------------------------------------------------------------------------\u001b[0m",
      "\u001b[0;31mTypeError\u001b[0m                                 Traceback (most recent call last)",
      "\u001b[0;32m<ipython-input-30-81b5202b8158>\u001b[0m in \u001b[0;36m<module>\u001b[0;34m\u001b[0m\n\u001b[0;32m----> 1\u001b[0;31m \u001b[0mA\u001b[0m \u001b[0;34m=\u001b[0m \u001b[0mA\u001b[0m \u001b[0;34m+\u001b[0m \u001b[0;34m'hola'\u001b[0m\u001b[0;34m\u001b[0m\u001b[0;34m\u001b[0m\u001b[0m\n\u001b[0m",
      "\u001b[0;31mTypeError\u001b[0m: can only concatenate list (not \"str\") to list"
     ]
    }
   ],
   "source": [
    "A = A + 'hola'"
   ]
  },
  {
   "cell_type": "code",
   "execution_count": 31,
   "metadata": {},
   "outputs": [
    {
     "data": {
      "text/plain": [
       "['chao', 'chao']"
      ]
     },
     "execution_count": 31,
     "metadata": {},
     "output_type": "execute_result"
    }
   ],
   "source": [
    "## miremos A\n",
    "\n",
    "A"
   ]
  },
  {
   "cell_type": "markdown",
   "metadata": {},
   "source": [
    "#### ciclos for :)"
   ]
  },
  {
   "cell_type": "code",
   "execution_count": 32,
   "metadata": {},
   "outputs": [
    {
     "data": {
      "text/plain": [
       "['chao', 'chao']"
      ]
     },
     "execution_count": 32,
     "metadata": {},
     "output_type": "execute_result"
    }
   ],
   "source": [
    "A"
   ]
  },
  {
   "cell_type": "code",
   "execution_count": 33,
   "metadata": {},
   "outputs": [
    {
     "name": "stdout",
     "output_type": "stream",
     "text": [
      "chao\n",
      "chao\n"
     ]
    }
   ],
   "source": [
    "## ¿Podemos automatizar el proceso de agregar elementos a una lista? Sí se puede!!!, usemos \"ciclos for\"!!!\n",
    "## Un ciclo \"for\" ejecuta una acción muchas veces, y esas veces están definidas con una lista!!!\n",
    "\n",
    "for item in A: ## ciclo \"for\" definido con los elementos de A\n",
    "    print(item)"
   ]
  },
  {
   "cell_type": "code",
   "execution_count": 34,
   "metadata": {},
   "outputs": [],
   "source": [
    "## OJO!!! Para Python, las listas y los ciclos \"for\" son lo mismo! Esto puede parecer raro al principio, pero encierra algo\n",
    "## muy conveniente: debemos aprender qué representación es mejor para cada contexto. "
   ]
  },
  {
   "cell_type": "markdown",
   "metadata": {},
   "source": [
    "Desmenucemos un poco el ciclo **for** de más arriba. \n",
    "\n",
    "La primera línea\n",
    "```python\n",
    "for item in A:\n",
    "```\n",
    "tiene varios elementos: (1) **for**; (2) **item**; (3) **in**; (4) **A**; y (5) **:**.\n",
    "1. **for**: esta palabra (que se colorea en **jupyter**) es un indicador de que viene un ciclo de este tipo (hay otros!)\n",
    "2. **item** es un nombre: **Python** nos dice que en cada paso del ciclo **for** tomamos un nuevo elemento de **A** que se llama **item**. Podríamos usar cualquier nombre. \n",
    "3. **in** es otra palabra coloreada (que no podemos usar como nombre para algo) y que dice **dónde**.\n",
    "4. **A** es la lista que recorremos!\n",
    "5. El signo **:** es imprescindible. Además, si apretamos **enter** luego de este signo, el salto de línea aparece automáticamente. \n",
    "\n",
    "La segunda línea\n",
    "```python\n",
    "print(item)\n",
    "```\n",
    "siempre indica qué queremos hacer en cada paso. "
   ]
  },
  {
   "cell_type": "code",
   "execution_count": 35,
   "metadata": {},
   "outputs": [
    {
     "name": "stdout",
     "output_type": "stream",
     "text": [
      "chao\n",
      "chao\n"
     ]
    }
   ],
   "source": [
    "## otra versión de lo mismo. Un ciclo \"for\" puede recorrer directamente los elementos de una lista, como arriba, o bien los\n",
    "## elementos asociados a posiciones específicas. Veamos!\n",
    "\n",
    "for i in range(len(A)): ## ciclo \"for\" definido con los índices (las posiciones) de A\n",
    "    print(A[i])"
   ]
  },
  {
   "cell_type": "code",
   "execution_count": 36,
   "metadata": {},
   "outputs": [
    {
     "name": "stdout",
     "output_type": "stream",
     "text": [
      "1\n"
     ]
    }
   ],
   "source": [
    "print(i)"
   ]
  },
  {
   "cell_type": "markdown",
   "metadata": {},
   "source": [
    "##### mini-ejercicio 2: desmenuce la línea\n",
    "\n",
    "```python\n",
    "for i in range(len(A)):\n",
    "```\n",
    "\n",
    "indicación: utilice \n",
    "\n",
    "```python\n",
    "list(range(n))\n",
    "```\n",
    "\n",
    "para visualizar este operador. "
   ]
  },
  {
   "cell_type": "code",
   "execution_count": 37,
   "metadata": {},
   "outputs": [
    {
     "name": "stdout",
     "output_type": "stream",
     "text": [
      "range(0, 2)\n",
      "[0, 1]\n"
     ]
    }
   ],
   "source": [
    "## range!\n",
    "\n",
    "print(range(len(A)))\n",
    "print(list(range(len(A))))"
   ]
  },
  {
   "cell_type": "code",
   "execution_count": 38,
   "metadata": {},
   "outputs": [],
   "source": [
    "## es decir, \"range(X)\" entrega todos los números entre 0 y X-1. \"range\" es, a su vez, un tipo de lista. \n",
    "## Conclusión: ciclos \"for\" son equivalentes a listas. Eso es muy cómodo!\n",
    "\n",
    "for i in range(len(A)):\n",
    "    A = A + ['hola'] ## aquí en cada paso agregamos 'hola' a \"A\""
   ]
  },
  {
   "cell_type": "code",
   "execution_count": 39,
   "metadata": {},
   "outputs": [
    {
     "name": "stdout",
     "output_type": "stream",
     "text": [
      "['chao', 'chao', 'hola', 'hola']\n"
     ]
    }
   ],
   "source": [
    "print(A)"
   ]
  },
  {
   "cell_type": "code",
   "execution_count": 40,
   "metadata": {},
   "outputs": [
    {
     "name": "stdout",
     "output_type": "stream",
     "text": [
      "4\n",
      "3\n",
      "['chao', 'chao', 'hola', 'hola', 'verde', 'casa', 'perro']\n",
      "7\n"
     ]
    }
   ],
   "source": [
    "## otro ejemplo: \n",
    "\n",
    "print(len(A))\n",
    "print(len(B))\n",
    "\n",
    "for item in B:\n",
    "    A = A + [item]\n",
    "\n",
    "print(A)\n",
    "print(len(A))\n",
    "\n",
    "## Es decir, agregamos (por cada elemento de B) un 'hola' a A!"
   ]
  },
  {
   "cell_type": "markdown",
   "metadata": {},
   "source": [
    "##### mini-ejercicio 3: explique qué hace el código\n",
    "\n",
    "```python\n",
    "for item in B:\n",
    "    A = A + [item]\n",
    "```"
   ]
  },
  {
   "cell_type": "code",
   "execution_count": 41,
   "metadata": {},
   "outputs": [],
   "source": [
    "## otra ejemplo: definimos una lista vacía y guardamos los elementos de \"A\" en \"C\". \n",
    "\n",
    "C = []\n",
    "for item in A:\n",
    "    C = C + ['hola']"
   ]
  },
  {
   "cell_type": "code",
   "execution_count": 42,
   "metadata": {},
   "outputs": [
    {
     "data": {
      "text/plain": [
       "['hola', 'hola', 'hola', 'hola', 'hola', 'hola', 'hola']"
      ]
     },
     "execution_count": 42,
     "metadata": {},
     "output_type": "execute_result"
    }
   ],
   "source": [
    "C"
   ]
  },
  {
   "cell_type": "markdown",
   "metadata": {},
   "source": [
    "##### ciclos for en 1 dimensión :)"
   ]
  },
  {
   "cell_type": "code",
   "execution_count": 43,
   "metadata": {},
   "outputs": [],
   "source": [
    "## Como hemos visto, los ciclos \"for\" tienen dos dimensiones: una línea que los define y otras posibles líneas donde indicamos\n",
    "## qué hacemos \"dentro\" del ciclo \"for\". Sin embargo, sabemos que los ciclos \"for\" son expresables como listas. \n",
    "## ¿Qué más podemos hacer?\n",
    "\n",
    "C = [item for item in A]"
   ]
  },
  {
   "cell_type": "markdown",
   "metadata": {},
   "source": [
    "```python\n",
    "C = [item for item in A]\n",
    "```\n",
    "es equivalente a \n",
    "\n",
    "```python\n",
    "C = []\n",
    "for item in A:\n",
    "    C = C + [item]\n",
    "```\n",
    "\n",
    "noten que en estas dos representaciones (a **Python** le gusta más la primera :)) los elementos de la lista que usamos para definir el ciclo **for** (**A**) son utilizados para hacer algo con este ciclo. Sin embargo, esto no es necesario! Miren la línea siguiente :)"
   ]
  },
  {
   "cell_type": "code",
   "execution_count": 44,
   "metadata": {},
   "outputs": [],
   "source": [
    "C = ['chao' for item in A]\n",
    "\n",
    "## ¿Qué es mejor?: for en 2D o en 1D? :)"
   ]
  },
  {
   "cell_type": "code",
   "execution_count": 45,
   "metadata": {},
   "outputs": [
    {
     "data": {
      "text/plain": [
       "['chao', 'chao', 'chao', 'chao', 'chao', 'chao', 'chao']"
      ]
     },
     "execution_count": 45,
     "metadata": {},
     "output_type": "execute_result"
    }
   ],
   "source": [
    "C"
   ]
  },
  {
   "cell_type": "markdown",
   "metadata": {},
   "source": [
    "### B. Diccionarios en **Python!**\n",
    "Además de listas, una idea muy útil es trabajar con **diccionarios.** A **Python** le encantan los diccionarios. Esta estructura se define como esperamos que se defina: existen **keys** (las entradas del diccionario), y **values** (las definiciones). El aspecto **central** es el siguiente: los **diccionarios**, a diferencia de las **listas**, **no están ordenados!!!** Esta es una ventaja: si no asignamos posiciones, entonces no necesitamos un lugar en la memoria para este propósito. Por eso, usemos **diccionarios** cada vez que podamos :)"
   ]
  },
  {
   "cell_type": "code",
   "execution_count": 46,
   "metadata": {},
   "outputs": [],
   "source": [
    "## definamos un diccionario vacío, usamos llaves \"{}\" en vez de \"[]\"\n",
    "\n",
    "D = {}"
   ]
  },
  {
   "cell_type": "code",
   "execution_count": 47,
   "metadata": {},
   "outputs": [
    {
     "data": {
      "text/plain": [
       "{}"
      ]
     },
     "execution_count": 47,
     "metadata": {},
     "output_type": "execute_result"
    }
   ],
   "source": [
    "D"
   ]
  },
  {
   "cell_type": "code",
   "execution_count": 66,
   "metadata": {},
   "outputs": [],
   "source": [
    "N = {'hola':{},'chao':[2]}"
   ]
  },
  {
   "cell_type": "code",
   "execution_count": 79,
   "metadata": {},
   "outputs": [
    {
     "data": {
      "text/plain": [
       "[2]"
      ]
     },
     "execution_count": 79,
     "metadata": {},
     "output_type": "execute_result"
    }
   ],
   "source": [
    "N['chao']"
   ]
  },
  {
   "cell_type": "code",
   "execution_count": 76,
   "metadata": {},
   "outputs": [
    {
     "data": {
      "text/plain": [
       "{'hola': {}, 'chao': [2], 'perro': 5}"
      ]
     },
     "execution_count": 76,
     "metadata": {},
     "output_type": "execute_result"
    }
   ],
   "source": [
    "N"
   ]
  },
  {
   "cell_type": "code",
   "execution_count": 78,
   "metadata": {},
   "outputs": [
    {
     "data": {
      "text/plain": [
       "dict_keys(['hola', 'chao', 'perro'])"
      ]
     },
     "execution_count": 78,
     "metadata": {},
     "output_type": "execute_result"
    }
   ],
   "source": [
    "N.keys()"
   ]
  },
  {
   "cell_type": "code",
   "execution_count": 68,
   "metadata": {},
   "outputs": [],
   "source": [
    "V = {1:'hola',2:'chao'}"
   ]
  },
  {
   "cell_type": "code",
   "execution_count": 69,
   "metadata": {},
   "outputs": [
    {
     "data": {
      "text/plain": [
       "dict_keys([1, 2])"
      ]
     },
     "execution_count": 69,
     "metadata": {},
     "output_type": "execute_result"
    }
   ],
   "source": [
    "V.keys()"
   ]
  },
  {
   "cell_type": "code",
   "execution_count": 70,
   "metadata": {},
   "outputs": [
    {
     "data": {
      "text/plain": [
       "dict_values(['hola', 'chao'])"
      ]
     },
     "execution_count": 70,
     "metadata": {},
     "output_type": "execute_result"
    }
   ],
   "source": [
    "V.values()"
   ]
  },
  {
   "cell_type": "code",
   "execution_count": 71,
   "metadata": {},
   "outputs": [],
   "source": [
    "## ¿cómo agregamos elementos? Los diccionarios tienen keys y values (como entrada y definición)\n",
    "## los keys pueden ser (típicamente números o nombres). Los values pueden ser cualquier cosa :) Veamos!\n",
    "\n",
    "D = {1:['hola','chao'], 2:45, 'hola':'chao'}"
   ]
  },
  {
   "cell_type": "code",
   "execution_count": 72,
   "metadata": {},
   "outputs": [
    {
     "data": {
      "text/plain": [
       "{1: ['hola', 'chao'], 2: 45, 'hola': 'chao'}"
      ]
     },
     "execution_count": 72,
     "metadata": {},
     "output_type": "execute_result"
    }
   ],
   "source": [
    "D"
   ]
  },
  {
   "cell_type": "code",
   "execution_count": 106,
   "metadata": {},
   "outputs": [
    {
     "data": {
      "text/plain": [
       "dict_keys([0, 1, 2, 3, 4, 5, 6, 7, 8, 9])"
      ]
     },
     "execution_count": 106,
     "metadata": {},
     "output_type": "execute_result"
    }
   ],
   "source": [
    "D.keys()"
   ]
  },
  {
   "cell_type": "code",
   "execution_count": 107,
   "metadata": {},
   "outputs": [
    {
     "data": {
      "text/plain": [
       "2"
      ]
     },
     "execution_count": 107,
     "metadata": {},
     "output_type": "execute_result"
    }
   ],
   "source": [
    "D[1]"
   ]
  },
  {
   "cell_type": "code",
   "execution_count": 108,
   "metadata": {},
   "outputs": [
    {
     "name": "stdout",
     "output_type": "stream",
     "text": [
      "2\n",
      "3\n"
     ]
    },
    {
     "ename": "KeyError",
     "evalue": "'hola'",
     "output_type": "error",
     "traceback": [
      "\u001b[0;31m---------------------------------------------------------------------------\u001b[0m",
      "\u001b[0;31mKeyError\u001b[0m                                  Traceback (most recent call last)",
      "\u001b[0;32m<ipython-input-108-a6cb610715ab>\u001b[0m in \u001b[0;36m<module>\u001b[0;34m\u001b[0m\n\u001b[1;32m      3\u001b[0m \u001b[0mprint\u001b[0m\u001b[0;34m(\u001b[0m\u001b[0mD\u001b[0m\u001b[0;34m[\u001b[0m\u001b[0;36m1\u001b[0m\u001b[0;34m]\u001b[0m\u001b[0;34m)\u001b[0m\u001b[0;34m\u001b[0m\u001b[0;34m\u001b[0m\u001b[0m\n\u001b[1;32m      4\u001b[0m \u001b[0mprint\u001b[0m\u001b[0;34m(\u001b[0m\u001b[0mD\u001b[0m\u001b[0;34m[\u001b[0m\u001b[0;36m2\u001b[0m\u001b[0;34m]\u001b[0m\u001b[0;34m)\u001b[0m\u001b[0;34m\u001b[0m\u001b[0;34m\u001b[0m\u001b[0m\n\u001b[0;32m----> 5\u001b[0;31m \u001b[0mprint\u001b[0m\u001b[0;34m(\u001b[0m\u001b[0mD\u001b[0m\u001b[0;34m[\u001b[0m\u001b[0;34m'hola'\u001b[0m\u001b[0;34m]\u001b[0m\u001b[0;34m)\u001b[0m\u001b[0;34m\u001b[0m\u001b[0;34m\u001b[0m\u001b[0m\n\u001b[0m",
      "\u001b[0;31mKeyError\u001b[0m: 'hola'"
     ]
    }
   ],
   "source": [
    "## los diccionarios NO tienen orden, solo entradas!\n",
    "\n",
    "print(D[1])\n",
    "print(D[2])\n",
    "print(D['hola'])"
   ]
  },
  {
   "cell_type": "code",
   "execution_count": 109,
   "metadata": {},
   "outputs": [],
   "source": [
    "A = []\n",
    "for item in range(5):\n",
    "    A = A + [item]"
   ]
  },
  {
   "cell_type": "code",
   "execution_count": 88,
   "metadata": {},
   "outputs": [
    {
     "data": {
      "text/plain": [
       "[0, 1, 2, 3, 4]"
      ]
     },
     "execution_count": 88,
     "metadata": {},
     "output_type": "execute_result"
    }
   ],
   "source": [
    "A"
   ]
  },
  {
   "cell_type": "code",
   "execution_count": 89,
   "metadata": {},
   "outputs": [],
   "source": [
    "A = [item for item in range(5)]"
   ]
  },
  {
   "cell_type": "code",
   "execution_count": 91,
   "metadata": {},
   "outputs": [
    {
     "data": {
      "text/plain": [
       "[0, 1, 2, 3, 4]"
      ]
     },
     "execution_count": 91,
     "metadata": {},
     "output_type": "execute_result"
    }
   ],
   "source": [
    "A"
   ]
  },
  {
   "cell_type": "code",
   "execution_count": 97,
   "metadata": {},
   "outputs": [],
   "source": [
    "## un diccionario más en serio!\n",
    "## notemos que usamos un ciclo \"for\" en 1 dimensión para la definición de \"D\". Tal como en las listas, podemos definir \"D\"\n",
    "## en 1 dimensión\n",
    "\n",
    "D = {i:i+1 for i in range(10)}"
   ]
  },
  {
   "cell_type": "code",
   "execution_count": 98,
   "metadata": {},
   "outputs": [
    {
     "data": {
      "text/plain": [
       "{0: 1, 1: 2, 2: 3, 3: 4, 4: 5, 5: 6, 6: 7, 7: 8, 8: 9, 9: 10}"
      ]
     },
     "execution_count": 98,
     "metadata": {},
     "output_type": "execute_result"
    }
   ],
   "source": [
    "D"
   ]
  },
  {
   "cell_type": "code",
   "execution_count": 99,
   "metadata": {},
   "outputs": [],
   "source": [
    "D={}"
   ]
  },
  {
   "cell_type": "code",
   "execution_count": 100,
   "metadata": {},
   "outputs": [
    {
     "data": {
      "text/plain": [
       "0"
      ]
     },
     "execution_count": 100,
     "metadata": {},
     "output_type": "execute_result"
    }
   ],
   "source": [
    "len(D)"
   ]
  },
  {
   "cell_type": "code",
   "execution_count": 101,
   "metadata": {},
   "outputs": [],
   "source": [
    "## o bien, en dos dimensiones!!!\n",
    "\n",
    "D={}\n",
    "\n",
    "for i in [0,1,2,3,4,5,6,7,8,9]:\n",
    "    D[i]=i+1\n",
    "    "
   ]
  },
  {
   "cell_type": "code",
   "execution_count": 115,
   "metadata": {},
   "outputs": [],
   "source": [
    "D={}"
   ]
  },
  {
   "cell_type": "code",
   "execution_count": 116,
   "metadata": {},
   "outputs": [],
   "source": [
    "D[0]=1"
   ]
  },
  {
   "cell_type": "code",
   "execution_count": 117,
   "metadata": {},
   "outputs": [
    {
     "data": {
      "text/plain": [
       "{0: 1}"
      ]
     },
     "execution_count": 117,
     "metadata": {},
     "output_type": "execute_result"
    }
   ],
   "source": [
    "D"
   ]
  },
  {
   "cell_type": "code",
   "execution_count": 118,
   "metadata": {},
   "outputs": [],
   "source": [
    "D[1]=2"
   ]
  },
  {
   "cell_type": "code",
   "execution_count": 119,
   "metadata": {},
   "outputs": [
    {
     "data": {
      "text/plain": [
       "{0: 1, 1: 2}"
      ]
     },
     "execution_count": 119,
     "metadata": {},
     "output_type": "execute_result"
    }
   ],
   "source": [
    "D"
   ]
  },
  {
   "cell_type": "code",
   "execution_count": 130,
   "metadata": {},
   "outputs": [],
   "source": [
    "K = [0]*100"
   ]
  },
  {
   "cell_type": "code",
   "execution_count": 132,
   "metadata": {},
   "outputs": [
    {
     "data": {
      "text/plain": [
       "100"
      ]
     },
     "execution_count": 132,
     "metadata": {},
     "output_type": "execute_result"
    }
   ],
   "source": [
    "len(K)"
   ]
  },
  {
   "cell_type": "code",
   "execution_count": 133,
   "metadata": {},
   "outputs": [],
   "source": [
    "M = ['chao']*5+['hola']*5"
   ]
  },
  {
   "cell_type": "code",
   "execution_count": 134,
   "metadata": {},
   "outputs": [
    {
     "data": {
      "text/plain": [
       "['chao',\n",
       " 'chao',\n",
       " 'chao',\n",
       " 'chao',\n",
       " 'chao',\n",
       " 'hola',\n",
       " 'hola',\n",
       " 'hola',\n",
       " 'hola',\n",
       " 'hola']"
      ]
     },
     "execution_count": 134,
     "metadata": {},
     "output_type": "execute_result"
    }
   ],
   "source": [
    "M"
   ]
  },
  {
   "cell_type": "code",
   "execution_count": 141,
   "metadata": {},
   "outputs": [],
   "source": [
    "## o bien, en dos dimensiones!!!\n",
    "\n",
    "D={0:49355}\n",
    "for i in range(10):\n",
    "    D[i]=M[i]\n",
    "    \n",
    "## en la línea D[i]=i+1 se crea el key \"i\", asignado al value \"i+1\". "
   ]
  },
  {
   "cell_type": "code",
   "execution_count": 142,
   "metadata": {},
   "outputs": [
    {
     "data": {
      "text/plain": [
       "{0: 'chao',\n",
       " 1: 'chao',\n",
       " 2: 'chao',\n",
       " 3: 'chao',\n",
       " 4: 'chao',\n",
       " 5: 'hola',\n",
       " 6: 'hola',\n",
       " 7: 'hola',\n",
       " 8: 'hola',\n",
       " 9: 'hola'}"
      ]
     },
     "execution_count": 142,
     "metadata": {},
     "output_type": "execute_result"
    }
   ],
   "source": [
    "D"
   ]
  },
  {
   "cell_type": "code",
   "execution_count": 112,
   "metadata": {},
   "outputs": [
    {
     "data": {
      "text/plain": [
       "6"
      ]
     },
     "execution_count": 112,
     "metadata": {},
     "output_type": "execute_result"
    }
   ],
   "source": [
    "## no es la posición \"5\", sino es que la \"entrada\" o \"key\" 5!!!\n",
    "\n",
    "D[5]"
   ]
  },
  {
   "cell_type": "code",
   "execution_count": 113,
   "metadata": {},
   "outputs": [
    {
     "name": "stdout",
     "output_type": "stream",
     "text": [
      "[0, 1, 2, 3, 4, 5, 6, 7, 8, 9]\n"
     ]
    }
   ],
   "source": [
    "## ¿Cómo extraemos los keys y values?\n",
    "\n",
    "## keys!\n",
    "\n",
    "keys = list(D.keys())\n",
    "print(keys)"
   ]
  },
  {
   "cell_type": "code",
   "execution_count": 114,
   "metadata": {},
   "outputs": [
    {
     "name": "stdout",
     "output_type": "stream",
     "text": [
      "[1, 2, 3, 4, 5, 6, 7, 8, 9, 10]\n"
     ]
    }
   ],
   "source": [
    "## values!\n",
    "\n",
    "values = list(D.values())\n",
    "print(values)"
   ]
  },
  {
   "cell_type": "markdown",
   "metadata": {},
   "source": [
    "##### ejercicio: contemos las palabras de un texto!"
   ]
  },
  {
   "cell_type": "code",
   "execution_count": 147,
   "metadata": {},
   "outputs": [],
   "source": [
    "## texto \n",
    "texto = 'El Mapuche también conocido como mapudungún del autoglotónimo mapudungun lengua de la tierra o araucano es el idioma de los mapuches un pueblo amerindio que habita los actuales países de Chile y Argentina Su número de hablantes activos se estima entre 100000 y 200000 y el número de hablantes pasivos en unas 100000 personas más Ha influido el léxico del español en su área de distribución y a su vez el suyo ha incorporado palabras del español y del quechua No ha sido clasificada satisfactoriamente y por el momento se la considera una lengua aislada'"
   ]
  },
  {
   "cell_type": "code",
   "execution_count": 148,
   "metadata": {},
   "outputs": [],
   "source": [
    "## cosas de deberíamos hacer (simplificando las cosas)\n",
    "## 1. dividir en palabras (el espacio entre dos puntos en blanco)\n",
    "## 2. palabras en minúscula\n",
    "\n",
    "## Queda como lista!!!\n",
    "\n",
    "texto_split = texto.split()"
   ]
  },
  {
   "cell_type": "code",
   "execution_count": 149,
   "metadata": {},
   "outputs": [
    {
     "data": {
      "text/plain": [
       "['El',\n",
       " 'Mapuche',\n",
       " 'también',\n",
       " 'conocido',\n",
       " 'como',\n",
       " 'mapudungún',\n",
       " 'del',\n",
       " 'autoglotónimo',\n",
       " 'mapudungun',\n",
       " 'lengua',\n",
       " 'de',\n",
       " 'la',\n",
       " 'tierra',\n",
       " 'o',\n",
       " 'araucano',\n",
       " 'es',\n",
       " 'el',\n",
       " 'idioma',\n",
       " 'de',\n",
       " 'los']"
      ]
     },
     "execution_count": 149,
     "metadata": {},
     "output_type": "execute_result"
    }
   ],
   "source": [
    "texto_split[:20]"
   ]
  },
  {
   "cell_type": "markdown",
   "metadata": {},
   "source": [
    "La **noción de palabra** (definida como la secuencia de caracteres entre dos espacios en blanco) es problemática. Algunos papers interesantes:\n",
    "\n",
    "1. Bickel, Balthasar & Fernando Zúñiga. 2017. The ’word’ in polysynthetic languages: phonological and syntactic challenges. In Michael Fortescue, Marianne Mithun & Nicholas Evans (eds.), The handbook of polysynthesis, 158-185. Oxford: Oxford University Press.\n",
    "2. Spencer, Andrew & Ana Luís. 2012. The canonical clitic. In Dunstan Brown, Marina Chumakina & Greville Corbett (eds.), Canonical morphology and syntax, 123–150. Oxford: Oxford University Press. Haspelmath, Martin 2011. The indeterminacy of word segmentation and the nature of morphology and syntax. Folia Linguistica 45(1), 31–80.\n",
    "\n",
    "¿Cómo influye la noción de \"palabra\" en el conteo de palabras? ¿Qué ocurre en lenguas polisintéticas?"
   ]
  },
  {
   "cell_type": "code",
   "execution_count": 150,
   "metadata": {},
   "outputs": [
    {
     "data": {
      "text/plain": [
       "['El',\n",
       " 'Mapuche',\n",
       " 'también',\n",
       " 'conocido',\n",
       " 'como',\n",
       " 'mapudungún',\n",
       " 'del',\n",
       " 'autoglotónimo',\n",
       " 'mapudungun',\n",
       " 'lengua']"
      ]
     },
     "execution_count": 150,
     "metadata": {},
     "output_type": "execute_result"
    }
   ],
   "source": [
    "## ¿Cómo queda \"text_split\"?\n",
    "\n",
    "texto_split[:10]"
   ]
  },
  {
   "cell_type": "code",
   "execution_count": 151,
   "metadata": {},
   "outputs": [],
   "source": [
    "## veamos dos formas de poner las palabras en minúscula: en una línea o bi-dimensional!!!\n",
    "\n",
    "## 1 línea :)\n",
    "## en cada paso de ciclo, un elemento sucesivo de \"texto_split\" es llamado \"word\" y se agrega a la lista luego de aplicar\n",
    "## \"word.lower()\"\n",
    "\n",
    "texto_split_min = []\n",
    "for word in texto_split:\n",
    "    texto_split_min = texto_split_min + [word.lower()]"
   ]
  },
  {
   "cell_type": "code",
   "execution_count": 152,
   "metadata": {},
   "outputs": [
    {
     "data": {
      "text/plain": [
       "['el', 'mapuche', 'también', 'conocido', 'como']"
      ]
     },
     "execution_count": 152,
     "metadata": {},
     "output_type": "execute_result"
    }
   ],
   "source": [
    "texto_split_min[:5]"
   ]
  },
  {
   "cell_type": "code",
   "execution_count": 153,
   "metadata": {},
   "outputs": [],
   "source": [
    "## más de 1 línea :)\n",
    "## en cada paso del ciclo, un elemento sucesivo de \"texto_split\" es llamado \"palabra\". Luego, \"palabra.lower()\" es agregado a\n",
    "## la lista \"text_split_min\", que se define inicialmente vacía. \n",
    "text_split_min = []\n",
    "for palabra in texto_split:\n",
    "    text_split_min = text_split_min + [palabra.lower()]"
   ]
  },
  {
   "cell_type": "code",
   "execution_count": 154,
   "metadata": {},
   "outputs": [
    {
     "data": {
      "text/plain": [
       "['el', 'mapuche', 'también', 'conocido', 'como']"
      ]
     },
     "execution_count": 154,
     "metadata": {},
     "output_type": "execute_result"
    }
   ],
   "source": [
    "text_split_min[:5]"
   ]
  },
  {
   "cell_type": "code",
   "execution_count": 158,
   "metadata": {},
   "outputs": [],
   "source": [
    "## ¿Y si juntamos todo? :) Usemos funciones!!!\n",
    "\n",
    "## input: T es un string del corpus ...\n",
    "## output: listas de strings en minúscula\n",
    "def preparacion_texto(T):\n",
    "\n",
    "    texto_split = T.split()\n",
    "    texto_preparado = []\n",
    "    for palabra in texto_split:\n",
    "        texto_preparado = texto_preparado + [palabra.lower()]\n",
    "    return texto_preparado"
   ]
  },
  {
   "cell_type": "code",
   "execution_count": 159,
   "metadata": {},
   "outputs": [],
   "source": [
    "A = preparacion_texto(texto)"
   ]
  },
  {
   "cell_type": "code",
   "execution_count": 160,
   "metadata": {},
   "outputs": [
    {
     "data": {
      "text/plain": [
       "['el',\n",
       " 'mapuche',\n",
       " 'también',\n",
       " 'conocido',\n",
       " 'como',\n",
       " 'mapudungún',\n",
       " 'del',\n",
       " 'autoglotónimo',\n",
       " 'mapudungun',\n",
       " 'lengua',\n",
       " 'de',\n",
       " 'la',\n",
       " 'tierra',\n",
       " 'o',\n",
       " 'araucano',\n",
       " 'es',\n",
       " 'el',\n",
       " 'idioma',\n",
       " 'de',\n",
       " 'los']"
      ]
     },
     "execution_count": 160,
     "metadata": {},
     "output_type": "execute_result"
    }
   ],
   "source": [
    "A[:20]"
   ]
  },
  {
   "cell_type": "markdown",
   "metadata": {},
   "source": [
    "Desmenucemos un poco la **función** de más arriba. \n",
    "\n",
    "La primera línea\n",
    "```python\n",
    "def preparacion_texto(T):\n",
    "```\n",
    "tiene varios elementos: (1) **def**; (2) **preparacion_texto**; (3) **T**; y (4) **:**.\n",
    "1. **def**: otra palabra coloreada en **jupyter**) que funciona como indicador de que viene una función. \n",
    "2. **preparacion_texto** es el nombre de la función. Con este nombre, podemos reutilizarla más adelante.  \n",
    "3. **T** es el **input** de la función. Pueden ser uno o varios inputs. \n",
    "4. El signo **:** es imprescindible. Además, si apretamos **enter** luego de este signo, el salto de línea aparece automáticamente. \n",
    "\n",
    "La dos líneas siguientes \n",
    "```python\n",
    "texto_split = T.split(' ')\n",
    "texto_preparado = [word.lower() for word in texto_split]\n",
    "```\n",
    "son el cuerpo de la función: separamos por espacios en blanco y podemos en minúsculas. \n",
    "\n",
    "La línea final \n",
    "\n",
    "```python\n",
    "return texto_preparado\n",
    "```\n",
    "\n",
    "entrega el **output**. "
   ]
  },
  {
   "cell_type": "markdown",
   "metadata": {},
   "source": [
    "##### mini-ejercicio 4: implemente funciones que hagan las siguientes cosas\n",
    "\n",
    "1. función **suma**: recibe un entero **n** y suma todos los números menores o iguales a **n**. No use la función **sum** :)\n",
    "2. función **2grama**: recibe un string **T** (un texto) y entrega todos los bigramas, es decir las secuencias de dos palabras sucesivas. \n",
    "3. función **ngrama**: recibe un string **T** (un texto) y entrega todos los ngramas, es decir las secuencias de n palabras sucesivas.  \n",
    "4. función **nostops**: recibe un string **T** (un texto) y una lista **S**. Entrega una lista de palabras que no aparezcan en **S**. \n",
    "5. función **alreves**: recibe un string **T** (un texto) y entrega una lista de strings ordenamos al revés. La última palabra primera, y así sucesivamente. Indicación: pueden usar índices negativos!"
   ]
  },
  {
   "cell_type": "code",
   "execution_count": 161,
   "metadata": {},
   "outputs": [],
   "source": [
    "## usamos la función y le asignamos un nombre!\n",
    "\n",
    "texto = preparacion_texto(texto)"
   ]
  },
  {
   "cell_type": "code",
   "execution_count": 162,
   "metadata": {},
   "outputs": [
    {
     "data": {
      "text/plain": [
       "['el',\n",
       " 'mapuche',\n",
       " 'también',\n",
       " 'conocido',\n",
       " 'como',\n",
       " 'mapudungún',\n",
       " 'del',\n",
       " 'autoglotónimo',\n",
       " 'mapudungun',\n",
       " 'lengua']"
      ]
     },
     "execution_count": 162,
     "metadata": {},
     "output_type": "execute_result"
    }
   ],
   "source": [
    "texto[:10]"
   ]
  },
  {
   "cell_type": "code",
   "execution_count": 164,
   "metadata": {},
   "outputs": [
    {
     "data": {
      "text/plain": [
       "95"
      ]
     },
     "execution_count": 164,
     "metadata": {},
     "output_type": "execute_result"
    }
   ],
   "source": [
    "len(texto)"
   ]
  },
  {
   "cell_type": "code",
   "execution_count": 163,
   "metadata": {},
   "outputs": [],
   "source": [
    "## Implementemos una función que identifique las palabras únicas de un texto (los types). \n",
    "\n",
    "## input: T es un string\n",
    "## output: lista de strings no repetidos\n",
    "palabras_unicas = []\n",
    "\n",
    "for palabra in texto:\n",
    "    if palabra not in palabras_unicas:\n",
    "        palabras_unicas = palabras_unicas + [palabra]\n",
    "    "
   ]
  },
  {
   "cell_type": "code",
   "execution_count": 165,
   "metadata": {},
   "outputs": [
    {
     "data": {
      "text/plain": [
       "64"
      ]
     },
     "execution_count": 165,
     "metadata": {},
     "output_type": "execute_result"
    }
   ],
   "source": [
    "len(palabras_unicas)"
   ]
  },
  {
   "cell_type": "code",
   "execution_count": 166,
   "metadata": {},
   "outputs": [
    {
     "data": {
      "text/plain": [
       "0.6736842105263158"
      ]
     },
     "execution_count": 166,
     "metadata": {},
     "output_type": "execute_result"
    }
   ],
   "source": [
    "len(palabras_unicas)/len(texto)"
   ]
  },
  {
   "cell_type": "markdown",
   "metadata": {},
   "source": [
    "###### mini-ejercicio 5: función diccionario_posiciones\n",
    "Esta **función** recibe un string **T** y entrega un diccionario de palabras únicas **D** (usando la función **conteo**), en donde los **values** son listas que indican las posiciones (en el texto dividido en palabras) en donde aparece cada **key**. Es decir, por ejemplo, \n",
    "\n",
    "```python\n",
    "D['el']\n",
    "```\n",
    "tener la forma\n",
    "\n",
    "```python\n",
    "[1,20]\n",
    "```"
   ]
  },
  {
   "cell_type": "code",
   "execution_count": 73,
   "metadata": {},
   "outputs": [],
   "source": [
    "## ahora contemos palabras\n",
    "## hay muchas formas de hacerlo. Para los sofisticados (busquen \"Counter\" en la librería collections)\n",
    "## usemos una forma que utilice los conceptos que hemos aprendido\n",
    "\n",
    "palabras_unicas = []\n",
    "\n",
    "for palabra in texto:\n",
    "    if palabra not in palabras_unicas:\n",
    "        palabras_unicas += [palabra]"
   ]
  },
  {
   "cell_type": "code",
   "execution_count": 74,
   "metadata": {},
   "outputs": [
    {
     "data": {
      "text/plain": [
       "64"
      ]
     },
     "execution_count": 74,
     "metadata": {},
     "output_type": "execute_result"
    }
   ],
   "source": [
    "len(palabras_unicas)"
   ]
  },
  {
   "cell_type": "code",
   "execution_count": 75,
   "metadata": {},
   "outputs": [],
   "source": [
    "## otra forma!\n",
    "\n",
    "palabras_unicas = []\n",
    "\n",
    "for palabra in texto:\n",
    "    if palabra not in palabras_unicas:\n",
    "        palabras_unicas.append(palabra)"
   ]
  },
  {
   "cell_type": "code",
   "execution_count": 76,
   "metadata": {},
   "outputs": [
    {
     "data": {
      "text/plain": [
       "64"
      ]
     },
     "execution_count": 76,
     "metadata": {},
     "output_type": "execute_result"
    }
   ],
   "source": [
    "len(palabras_unicas)"
   ]
  },
  {
   "cell_type": "code",
   "execution_count": 77,
   "metadata": {},
   "outputs": [
    {
     "data": {
      "text/plain": [
       "64"
      ]
     },
     "execution_count": 77,
     "metadata": {},
     "output_type": "execute_result"
    }
   ],
   "source": [
    "len(palabras_unicas)"
   ]
  },
  {
   "cell_type": "code",
   "execution_count": 78,
   "metadata": {},
   "outputs": [
    {
     "name": "stdout",
     "output_type": "stream",
     "text": [
      "95\n",
      "64\n"
     ]
    }
   ],
   "source": [
    "## ¿Cuántas palabras?\n",
    "\n",
    "print(len(texto))\n",
    "print(len(palabras_unicas))"
   ]
  },
  {
   "cell_type": "code",
   "execution_count": 79,
   "metadata": {},
   "outputs": [],
   "source": [
    "## sigamos! ya que tenemos una manera de identificar las palabras no-repetidas de un texto, queremos definir un diccionario\n",
    "## de frecuencias. Comencemos con uno en donde los values son 0 :)\n",
    "\n",
    "D = {palabra:0 for palabra in palabras_unicas}"
   ]
  },
  {
   "cell_type": "code",
   "execution_count": 80,
   "metadata": {},
   "outputs": [
    {
     "data": {
      "text/plain": [
       "0"
      ]
     },
     "execution_count": 80,
     "metadata": {},
     "output_type": "execute_result"
    }
   ],
   "source": [
    "D['el']"
   ]
  },
  {
   "cell_type": "code",
   "execution_count": 81,
   "metadata": {},
   "outputs": [],
   "source": [
    "## Idea!!! recorrer \"texto\" e ir sumando 1 cada que vez que aparece una palabra\n",
    "\n",
    "for palabra in texto:\n",
    "    \n",
    "    D[palabra] += 1"
   ]
  },
  {
   "cell_type": "code",
   "execution_count": 82,
   "metadata": {},
   "outputs": [
    {
     "data": {
      "text/plain": [
       "{'el': 6,\n",
       " 'mapuche': 1,\n",
       " 'también': 1,\n",
       " 'conocido': 1,\n",
       " 'como': 1,\n",
       " 'mapudungún': 1,\n",
       " 'del': 4,\n",
       " 'autoglotónimo': 1,\n",
       " 'mapudungun': 1,\n",
       " 'lengua': 2,\n",
       " 'de': 6,\n",
       " 'la': 2,\n",
       " 'tierra': 1,\n",
       " 'o': 1,\n",
       " 'araucano': 1,\n",
       " 'es': 1,\n",
       " 'idioma': 1,\n",
       " 'los': 2,\n",
       " 'mapuches': 1,\n",
       " 'un': 1,\n",
       " 'pueblo': 1,\n",
       " 'amerindio': 1,\n",
       " 'que': 1,\n",
       " 'habita': 1,\n",
       " 'actuales': 1,\n",
       " 'países': 1,\n",
       " 'chile': 1,\n",
       " 'y': 6,\n",
       " 'argentina': 1,\n",
       " 'su': 3,\n",
       " 'número': 2,\n",
       " 'hablantes': 2,\n",
       " 'activos': 1,\n",
       " 'se': 2,\n",
       " 'estima': 1,\n",
       " 'entre': 1,\n",
       " '100000': 2,\n",
       " '200000': 1,\n",
       " 'pasivos': 1,\n",
       " 'en': 2,\n",
       " 'unas': 1,\n",
       " 'personas': 1,\n",
       " 'más': 1,\n",
       " 'ha': 3,\n",
       " 'influido': 1,\n",
       " 'léxico': 1,\n",
       " 'español': 2,\n",
       " 'área': 1,\n",
       " 'distribución': 1,\n",
       " 'a': 1,\n",
       " 'vez': 1,\n",
       " 'suyo': 1,\n",
       " 'incorporado': 1,\n",
       " 'palabras': 1,\n",
       " 'quechua': 1,\n",
       " 'no': 1,\n",
       " 'sido': 1,\n",
       " 'clasificada': 1,\n",
       " 'satisfactoriamente': 1,\n",
       " 'por': 1,\n",
       " 'momento': 1,\n",
       " 'considera': 1,\n",
       " 'una': 1,\n",
       " 'aislada': 1}"
      ]
     },
     "execution_count": 82,
     "metadata": {},
     "output_type": "execute_result"
    }
   ],
   "source": [
    "D"
   ]
  },
  {
   "cell_type": "code",
   "execution_count": 83,
   "metadata": {},
   "outputs": [],
   "source": [
    "## ¿Y si juntamos todo? :) Usemos funciones!!!\n",
    "## ejercicio: crear una función que reciba un texto y entregue el diccionario D :)\n",
    "## otro ejercicio: crear una función que reciba un string y entregue los mismo que la función anterior.\n",
    "## indicación para el otro ejercicio: puede utilizar una función dentro de otra función :)"
   ]
  },
  {
   "cell_type": "code",
   "execution_count": 84,
   "metadata": {},
   "outputs": [],
   "source": [
    "## definamos la función frecuencias :)\n",
    "\n",
    "## input: string T\n",
    "## output: diccionario de frecuencias D\n",
    "def frecuencias(T):\n",
    "    ## dividimos la función en tres partes:\n",
    "    ## 1. parte A: \"T\" es transformado a una lista de strings en minúscula \"texto_preparado\"\n",
    "    ## 2. parte B: identificamos las palabras únicas de \"texto_preparado\" y las guardamos en \"palabras_unicas\"\n",
    "    ## 3. parte C: construimos el diccionario de frecuencia usando los elementos de \"palabras_unicas\" como keys\n",
    "    \n",
    "    ## parte A\n",
    "    #texto_tokenizado = preparacion_texto(T) ## usamos la función previa \"preparacion_texto\"\n",
    "    ## dividimos en palabras\n",
    "    texto_tokenizado = T.split(' ')\n",
    "    ## palabras en minúsculas ## en 2D!!!\n",
    "    texto_tokenizado = [palabra.lower() for palabra in texto_tokenizado if palabra not in list('``!\"#$%&\\¿()*+,-./:;<=>?@[\\\\]_{|}')]\n",
    "    \n",
    "    ## parte B\n",
    "    ## iniciamos con una lista vacía\n",
    "    palabras_unicas = []\n",
    "    ## recorremos el texto_tokenizado\n",
    "    for palabra in texto_tokenizado:\n",
    "        ## si una palabra no está, entonces la agregamos :)\n",
    "        if palabra not in palabras_unicas:\n",
    "            palabras_unicas.append(palabra)\n",
    "    \n",
    "    ## parte C\n",
    "    ## diccionado de frecuencias iniciado con ceros\n",
    "    D = {palabra:0 for palabra in palabras_unicas}\n",
    "    ## recorremos texto_tokenizado y sumamos 1 cada vez que aparece una palabra\n",
    "    for palabra in texto_tokenizado:\n",
    "        D[palabra] += 1\n",
    "    \n",
    "    return D"
   ]
  },
  {
   "cell_type": "code",
   "execution_count": 85,
   "metadata": {},
   "outputs": [],
   "source": [
    "texto = 'El Mapuche también conocido como mapudungún del autoglotónimo mapudungun lengua de la tierra o araucano es el idioma de los mapuches un pueblo amerindio que habita los actuales países de Chile y Argentina Su número de hablantes activos se estima entre 100000 y 200000 y el número de hablantes pasivos en unas 100000 personas más Ha influido el léxico del español en su área de distribución y a su vez el suyo ha incorporado palabras del español y del quechua No ha sido clasificada satisfactoriamente y por el momento se la considera una lengua aislada'"
   ]
  },
  {
   "cell_type": "code",
   "execution_count": 86,
   "metadata": {},
   "outputs": [],
   "source": [
    "freq_example = frecuencias(texto)"
   ]
  },
  {
   "cell_type": "code",
   "execution_count": 87,
   "metadata": {},
   "outputs": [
    {
     "data": {
      "text/plain": [
       "{'el': 6,\n",
       " 'mapuche': 1,\n",
       " 'también': 1,\n",
       " 'conocido': 1,\n",
       " 'como': 1,\n",
       " 'mapudungún': 1,\n",
       " 'del': 4,\n",
       " 'autoglotónimo': 1,\n",
       " 'mapudungun': 1,\n",
       " 'lengua': 2,\n",
       " 'de': 6,\n",
       " 'la': 2,\n",
       " 'tierra': 1,\n",
       " 'o': 1,\n",
       " 'araucano': 1,\n",
       " 'es': 1,\n",
       " 'idioma': 1,\n",
       " 'los': 2,\n",
       " 'mapuches': 1,\n",
       " 'un': 1,\n",
       " 'pueblo': 1,\n",
       " 'amerindio': 1,\n",
       " 'que': 1,\n",
       " 'habita': 1,\n",
       " 'actuales': 1,\n",
       " 'países': 1,\n",
       " 'chile': 1,\n",
       " 'y': 6,\n",
       " 'argentina': 1,\n",
       " 'su': 3,\n",
       " 'número': 2,\n",
       " 'hablantes': 2,\n",
       " 'activos': 1,\n",
       " 'se': 2,\n",
       " 'estima': 1,\n",
       " 'entre': 1,\n",
       " '100000': 2,\n",
       " '200000': 1,\n",
       " 'pasivos': 1,\n",
       " 'en': 2,\n",
       " 'unas': 1,\n",
       " 'personas': 1,\n",
       " 'más': 1,\n",
       " 'ha': 3,\n",
       " 'influido': 1,\n",
       " 'léxico': 1,\n",
       " 'español': 2,\n",
       " 'área': 1,\n",
       " 'distribución': 1,\n",
       " 'a': 1,\n",
       " 'vez': 1,\n",
       " 'suyo': 1,\n",
       " 'incorporado': 1,\n",
       " 'palabras': 1,\n",
       " 'quechua': 1,\n",
       " 'no': 1,\n",
       " 'sido': 1,\n",
       " 'clasificada': 1,\n",
       " 'satisfactoriamente': 1,\n",
       " 'por': 1,\n",
       " 'momento': 1,\n",
       " 'considera': 1,\n",
       " 'una': 1,\n",
       " 'aislada': 1}"
      ]
     },
     "execution_count": 87,
     "metadata": {},
     "output_type": "execute_result"
    }
   ],
   "source": [
    "freq_example"
   ]
  },
  {
   "cell_type": "code",
   "execution_count": null,
   "metadata": {},
   "outputs": [],
   "source": []
  },
  {
   "cell_type": "code",
   "execution_count": null,
   "metadata": {},
   "outputs": [],
   "source": []
  }
 ],
 "metadata": {
  "kernelspec": {
   "display_name": "conda_python3",
   "language": "python",
   "name": "conda_python3"
  },
  "language_info": {
   "codemirror_mode": {
    "name": "ipython",
    "version": 3
   },
   "file_extension": ".py",
   "mimetype": "text/x-python",
   "name": "python",
   "nbconvert_exporter": "python",
   "pygments_lexer": "ipython3",
   "version": "3.6.13"
  }
 },
 "nbformat": 4,
 "nbformat_minor": 4
}
