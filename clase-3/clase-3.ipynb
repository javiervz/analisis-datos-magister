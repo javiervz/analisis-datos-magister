{
 "cells": [
  {
   "cell_type": "markdown",
   "metadata": {},
   "source": [
    "# **Análisis Computacional de Datos Lingüísticos**\n",
    "### Javier Vera Zúñiga, javier.vera@pucv.cl\n",
    "## **Clase 3**"
   ]
  },
  {
   "cell_type": "markdown",
   "metadata": {},
   "source": [
    "### A. Diccionarios en **Python!** (repaso clase 2)\n",
    "Además de listas, una idea muy útil es trabajar con **diccionarios.** A **Python** le encantan los diccionarios. Esta estructura se define como esperamos que se defina: existen **keys** (las entradas del diccionario), y **values** (las definiciones). El aspecto **central** es el siguiente: los **diccionarios**, a diferencia de las **listas**, **no están ordenados!!!** Esta es una ventaja: si no asignamos posiciones, entonces no necesitamos un lugar en la memoria para este propósito. Por eso, usemos **diccionarios** cada vez que podamos :)"
   ]
  },
  {
   "cell_type": "code",
   "execution_count": 46,
   "metadata": {},
   "outputs": [],
   "source": [
    "## definamos un diccionario vacío, usamos llaves \"{}\" en vez de \"[]\"\n",
    "\n",
    "D = {}"
   ]
  },
  {
   "cell_type": "code",
   "execution_count": 47,
   "metadata": {},
   "outputs": [
    {
     "data": {
      "text/plain": [
       "{}"
      ]
     },
     "execution_count": 47,
     "metadata": {},
     "output_type": "execute_result"
    }
   ],
   "source": [
    "D"
   ]
  },
  {
   "cell_type": "code",
   "execution_count": 1,
   "metadata": {},
   "outputs": [],
   "source": [
    "## ¿cómo agregamos elementos? Los diccionarios tienen keys y values (como entrada y definición)\n",
    "## los keys pueden ser (típicamente números o nombres). Los values pueden ser cualquier cosa :) Veamos!\n",
    "\n",
    "D = {1:'hola',2:'chao'}"
   ]
  },
  {
   "cell_type": "code",
   "execution_count": 2,
   "metadata": {},
   "outputs": [
    {
     "data": {
      "text/plain": [
       "{1: 'hola', 2: 'chao'}"
      ]
     },
     "execution_count": 2,
     "metadata": {},
     "output_type": "execute_result"
    }
   ],
   "source": [
    "D"
   ]
  },
  {
   "cell_type": "code",
   "execution_count": 3,
   "metadata": {},
   "outputs": [
    {
     "name": "stdout",
     "output_type": "stream",
     "text": [
      "hola\n",
      "chao\n"
     ]
    }
   ],
   "source": [
    "## los diccionarios NO tienen orden, solo entradas!\n",
    "\n",
    "print(D[1])\n",
    "print(D[2])"
   ]
  },
  {
   "cell_type": "code",
   "execution_count": 8,
   "metadata": {},
   "outputs": [
    {
     "name": "stdout",
     "output_type": "stream",
     "text": [
      "[0, 1, 2, 3, 4, 5, 6, 7, 8, 9]\n",
      "[1, 2, 3, 4, 5, 6, 7, 8, 9, 10]\n"
     ]
    }
   ],
   "source": [
    "## podemos acceder a los keys y values de forma simple. Noten que usamos list() para obtener listas de keys y values\n",
    "\n",
    "print(list(D.keys()))\n",
    "print(list(D.values()))"
   ]
  },
  {
   "cell_type": "code",
   "execution_count": 9,
   "metadata": {},
   "outputs": [],
   "source": [
    "## un diccionario más extraño!\n",
    "## notemos que usamos un ciclo \"for\" para definir D\n",
    "\n",
    "for i in range(10):\n",
    "    D[i]=i+1"
   ]
  },
  {
   "cell_type": "code",
   "execution_count": 10,
   "metadata": {},
   "outputs": [
    {
     "data": {
      "text/plain": [
       "{0: 1, 1: 2, 2: 3, 3: 4, 4: 5, 5: 6, 6: 7, 7: 8, 8: 9, 9: 10}"
      ]
     },
     "execution_count": 10,
     "metadata": {},
     "output_type": "execute_result"
    }
   ],
   "source": [
    "D"
   ]
  },
  {
   "cell_type": "code",
   "execution_count": 11,
   "metadata": {},
   "outputs": [],
   "source": [
    "## o bien, en una dimensión\n",
    "\n",
    "D={}\n",
    "\n",
    "for i in [0,1,2,3,4,5,6,7,8,9]:\n",
    "    D[i]=i+1"
   ]
  },
  {
   "cell_type": "code",
   "execution_count": 12,
   "metadata": {},
   "outputs": [
    {
     "data": {
      "text/plain": [
       "6"
      ]
     },
     "execution_count": 12,
     "metadata": {},
     "output_type": "execute_result"
    }
   ],
   "source": [
    "## no es la posición \"5\", sino es que la \"entrada\" o \"key\" 5!!!\n",
    "\n",
    "D[5]"
   ]
  },
  {
   "cell_type": "markdown",
   "metadata": {},
   "source": [
    "### B. Contemos las palabras de un texto!"
   ]
  },
  {
   "cell_type": "code",
   "execution_count": 13,
   "metadata": {},
   "outputs": [],
   "source": [
    "## texto \n",
    "texto = 'El Mapuche también conocido como mapudungún del autoglotónimo mapudungun lengua de la tierra o araucano es el idioma de los mapuches un pueblo amerindio que habita los actuales países de Chile y Argentina Su número de hablantes activos se estima entre 100000 y 200000 y el número de hablantes pasivos en unas 100000 personas más Ha influido el léxico del español en su área de distribución y a su vez el suyo ha incorporado palabras del español y del quechua No ha sido clasificada satisfactoriamente y por el momento se la considera una lengua aislada'"
   ]
  },
  {
   "cell_type": "code",
   "execution_count": 14,
   "metadata": {},
   "outputs": [],
   "source": [
    "## cosas de deberíamos hacer (simplificando las cosas)\n",
    "## 1. dividir en palabras (el espacio entre dos puntos en blanco)\n",
    "## 2. palabras en minúscula\n",
    "\n",
    "## Queda como lista!!!\n",
    "\n",
    "texto_split = texto.split()"
   ]
  },
  {
   "cell_type": "code",
   "execution_count": 29,
   "metadata": {},
   "outputs": [
    {
     "data": {
      "text/plain": [
       "['El',\n",
       " 'Mapuche',\n",
       " 'también',\n",
       " 'conocido',\n",
       " 'como',\n",
       " 'mapudungún',\n",
       " 'del',\n",
       " 'autoglotónimo',\n",
       " 'mapudungun',\n",
       " 'lengua']"
      ]
     },
     "execution_count": 29,
     "metadata": {},
     "output_type": "execute_result"
    }
   ],
   "source": [
    "## ¿Cómo queda \"text_split\"?\n",
    "\n",
    "texto_split[:10]"
   ]
  },
  {
   "cell_type": "code",
   "execution_count": 30,
   "metadata": {},
   "outputs": [],
   "source": [
    "## veamos dos formas de poner las palabras en minúscula: en una línea o bi-dimensional!!!\n",
    "\n",
    "## 1 línea :)\n",
    "## en cada paso de ciclo, un elemento sucesivo de \"texto_split\" es llamado \"word\" y se agrega a la lista luego de aplicar\n",
    "## \"word.lower()\"\n",
    "\n",
    "texto_split_min = [word.lower() for word in texto_split]"
   ]
  },
  {
   "cell_type": "code",
   "execution_count": 31,
   "metadata": {},
   "outputs": [
    {
     "data": {
      "text/plain": [
       "['el', 'mapuche', 'también', 'conocido', 'como']"
      ]
     },
     "execution_count": 31,
     "metadata": {},
     "output_type": "execute_result"
    }
   ],
   "source": [
    "texto_split_min[:5]"
   ]
  },
  {
   "cell_type": "code",
   "execution_count": 32,
   "metadata": {},
   "outputs": [],
   "source": [
    "## más de 1 línea :)\n",
    "## en cada paso del ciclo, un elemento sucesivo de \"texto_split\" es llamado \"palabra\". Luego, \"palabra.lower()\" es agregado a\n",
    "## la lista \"text_split_min\", que se define inicialmente vacía. \n",
    "text_split_min = []\n",
    "for palabra in texto_split:\n",
    "    text_split_min = text_split_min + [palabra.lower()]"
   ]
  },
  {
   "cell_type": "code",
   "execution_count": 33,
   "metadata": {},
   "outputs": [
    {
     "data": {
      "text/plain": [
       "['el', 'mapuche', 'también', 'conocido', 'como']"
      ]
     },
     "execution_count": 33,
     "metadata": {},
     "output_type": "execute_result"
    }
   ],
   "source": [
    "text_split_min[:5]"
   ]
  },
  {
   "cell_type": "code",
   "execution_count": 37,
   "metadata": {},
   "outputs": [],
   "source": [
    "## ¿Y si juntamos todo? :) Usemos funciones!!!\n",
    "\n",
    "## input: T es un string del corpus ...\n",
    "## output: listas de strings en minúscula\n",
    "def preparacion_texto(T):\n",
    "\n",
    "    texto_split = T.split()\n",
    "    texto_preparado = [word.lower() for word in texto_split]\n",
    "        \n",
    "    return texto_preparado"
   ]
  },
  {
   "cell_type": "code",
   "execution_count": 38,
   "metadata": {},
   "outputs": [],
   "source": [
    "A = preparacion_texto(texto)"
   ]
  },
  {
   "cell_type": "code",
   "execution_count": 39,
   "metadata": {},
   "outputs": [
    {
     "data": {
      "text/plain": [
       "['el',\n",
       " 'mapuche',\n",
       " 'también',\n",
       " 'conocido',\n",
       " 'como',\n",
       " 'mapudungún',\n",
       " 'del',\n",
       " 'autoglotónimo',\n",
       " 'mapudungun',\n",
       " 'lengua',\n",
       " 'de',\n",
       " 'la',\n",
       " 'tierra',\n",
       " 'o',\n",
       " 'araucano',\n",
       " 'es',\n",
       " 'el',\n",
       " 'idioma',\n",
       " 'de',\n",
       " 'los']"
      ]
     },
     "execution_count": 39,
     "metadata": {},
     "output_type": "execute_result"
    }
   ],
   "source": [
    "A[:20]"
   ]
  },
  {
   "cell_type": "markdown",
   "metadata": {},
   "source": [
    "Desmenucemos un poco la **función** de más arriba. \n",
    "\n",
    "La primera línea\n",
    "```python\n",
    "def preparacion_texto(T):\n",
    "```\n",
    "tiene varios elementos: (1) **def**; (2) **preparacion_texto**; (3) **T**; y (4) **:**.\n",
    "1. **def**: otra palabra coloreada en **jupyter**) que funciona como indicador de que viene una función. \n",
    "2. **preparacion_texto** es el nombre de la función. Con este nombre, podemos reutilizarla más adelante.  \n",
    "3. **T** es el **input** de la función. Pueden ser uno o varios inputs. \n",
    "4. El signo **:** es imprescindible. Además, si apretamos **enter** luego de este signo, el salto de línea aparece automáticamente. \n",
    "\n",
    "La dos líneas siguientes \n",
    "```python\n",
    "texto_split = T.split(' ')\n",
    "texto_preparado = [word.lower() for word in texto_split]\n",
    "```\n",
    "son el cuerpo de la función: separamos por espacios en blanco y podemos en minúsculas. \n",
    "\n",
    "La línea final \n",
    "\n",
    "```python\n",
    "return texto_preparado\n",
    "```\n",
    "\n",
    "entrega el **output**. "
   ]
  },
  {
   "cell_type": "code",
   "execution_count": 40,
   "metadata": {},
   "outputs": [],
   "source": [
    "## usamos la función y le asignamos un nombre!\n",
    "\n",
    "texto = preparacion_texto(texto)"
   ]
  },
  {
   "cell_type": "code",
   "execution_count": 41,
   "metadata": {},
   "outputs": [
    {
     "data": {
      "text/plain": [
       "['el',\n",
       " 'mapuche',\n",
       " 'también',\n",
       " 'conocido',\n",
       " 'como',\n",
       " 'mapudungún',\n",
       " 'del',\n",
       " 'autoglotónimo',\n",
       " 'mapudungun',\n",
       " 'lengua']"
      ]
     },
     "execution_count": 41,
     "metadata": {},
     "output_type": "execute_result"
    }
   ],
   "source": [
    "texto[:10]"
   ]
  },
  {
   "cell_type": "code",
   "execution_count": 42,
   "metadata": {},
   "outputs": [
    {
     "data": {
      "text/plain": [
       "95"
      ]
     },
     "execution_count": 42,
     "metadata": {},
     "output_type": "execute_result"
    }
   ],
   "source": [
    "len(texto)"
   ]
  },
  {
   "cell_type": "code",
   "execution_count": 43,
   "metadata": {},
   "outputs": [],
   "source": [
    "## Implementemos una función que identifique las palabras únicas de un texto (los types). \n",
    "\n",
    "## input: T es un string\n",
    "## output: lista de strings no repetidos\n",
    "palabras_unicas = []\n",
    "\n",
    "for palabra in texto:\n",
    "    if palabra not in palabras_unicas:\n",
    "        palabras_unicas = palabras_unicas + [palabra]"
   ]
  },
  {
   "cell_type": "code",
   "execution_count": 44,
   "metadata": {},
   "outputs": [
    {
     "data": {
      "text/plain": [
       "64"
      ]
     },
     "execution_count": 44,
     "metadata": {},
     "output_type": "execute_result"
    }
   ],
   "source": [
    "len(palabras_unicas)"
   ]
  },
  {
   "cell_type": "code",
   "execution_count": 45,
   "metadata": {},
   "outputs": [
    {
     "data": {
      "text/plain": [
       "0.6736842105263158"
      ]
     },
     "execution_count": 45,
     "metadata": {},
     "output_type": "execute_result"
    }
   ],
   "source": [
    "len(palabras_unicas)/len(texto)"
   ]
  },
  {
   "cell_type": "markdown",
   "metadata": {},
   "source": [
    "###### mini-ejercicio 5: función diccionario_posiciones\n",
    "Esta **función** recibe un string **T** y entrega un diccionario de palabras únicas **D** (usando la función **conteo**), en donde los **values** son listas que indican las posiciones (en el texto dividido en palabras) en donde aparece cada **key**. Es decir, por ejemplo, \n",
    "\n",
    "```python\n",
    "D['el']\n",
    "```\n",
    "tener la forma\n",
    "\n",
    "```python\n",
    "[1,20]\n",
    "```"
   ]
  },
  {
   "cell_type": "code",
   "execution_count": 48,
   "metadata": {},
   "outputs": [],
   "source": [
    "## ahora contemos palabras\n",
    "## hay muchas formas de hacerlo. Para los sofisticados (busquen \"Counter\" en la librería collections)\n",
    "## usemos una forma que utilice los conceptos que hemos aprendido"
   ]
  },
  {
   "cell_type": "code",
   "execution_count": 49,
   "metadata": {},
   "outputs": [],
   "source": [
    "## otra forma!\n",
    "\n",
    "palabras_unicas = []\n",
    "\n",
    "for palabra in texto:\n",
    "    if palabra not in palabras_unicas:\n",
    "        palabras_unicas.append(palabra)"
   ]
  },
  {
   "cell_type": "code",
   "execution_count": 50,
   "metadata": {},
   "outputs": [
    {
     "data": {
      "text/plain": [
       "64"
      ]
     },
     "execution_count": 50,
     "metadata": {},
     "output_type": "execute_result"
    }
   ],
   "source": [
    "len(palabras_unicas)"
   ]
  },
  {
   "cell_type": "code",
   "execution_count": 51,
   "metadata": {},
   "outputs": [
    {
     "name": "stdout",
     "output_type": "stream",
     "text": [
      "95\n",
      "64\n"
     ]
    }
   ],
   "source": [
    "## ¿Cuántas palabras?\n",
    "\n",
    "print(len(texto))\n",
    "print(len(palabras_unicas))"
   ]
  },
  {
   "cell_type": "code",
   "execution_count": 52,
   "metadata": {},
   "outputs": [],
   "source": [
    "## sigamos! ya que tenemos una manera de identificar las palabras no-repetidas de un texto, queremos definir un diccionario\n",
    "## de frecuencias. Comencemos con uno en donde los values son 0 :)\n",
    "\n",
    "D = {palabra:0 for palabra in palabras_unicas}"
   ]
  },
  {
   "cell_type": "code",
   "execution_count": 53,
   "metadata": {},
   "outputs": [
    {
     "data": {
      "text/plain": [
       "0"
      ]
     },
     "execution_count": 53,
     "metadata": {},
     "output_type": "execute_result"
    }
   ],
   "source": [
    "D['el']"
   ]
  },
  {
   "cell_type": "code",
   "execution_count": 54,
   "metadata": {},
   "outputs": [],
   "source": [
    "## Idea!!! recorrer \"texto\" e ir sumando 1 cada que vez que aparece una palabra\n",
    "\n",
    "for palabra in texto:\n",
    "    \n",
    "    D[palabra] += 1"
   ]
  },
  {
   "cell_type": "code",
   "execution_count": 55,
   "metadata": {},
   "outputs": [
    {
     "data": {
      "text/plain": [
       "{'el': 6,\n",
       " 'mapuche': 1,\n",
       " 'también': 1,\n",
       " 'conocido': 1,\n",
       " 'como': 1,\n",
       " 'mapudungún': 1,\n",
       " 'del': 4,\n",
       " 'autoglotónimo': 1,\n",
       " 'mapudungun': 1,\n",
       " 'lengua': 2,\n",
       " 'de': 6,\n",
       " 'la': 2,\n",
       " 'tierra': 1,\n",
       " 'o': 1,\n",
       " 'araucano': 1,\n",
       " 'es': 1,\n",
       " 'idioma': 1,\n",
       " 'los': 2,\n",
       " 'mapuches': 1,\n",
       " 'un': 1,\n",
       " 'pueblo': 1,\n",
       " 'amerindio': 1,\n",
       " 'que': 1,\n",
       " 'habita': 1,\n",
       " 'actuales': 1,\n",
       " 'países': 1,\n",
       " 'chile': 1,\n",
       " 'y': 6,\n",
       " 'argentina': 1,\n",
       " 'su': 3,\n",
       " 'número': 2,\n",
       " 'hablantes': 2,\n",
       " 'activos': 1,\n",
       " 'se': 2,\n",
       " 'estima': 1,\n",
       " 'entre': 1,\n",
       " '100000': 2,\n",
       " '200000': 1,\n",
       " 'pasivos': 1,\n",
       " 'en': 2,\n",
       " 'unas': 1,\n",
       " 'personas': 1,\n",
       " 'más': 1,\n",
       " 'ha': 3,\n",
       " 'influido': 1,\n",
       " 'léxico': 1,\n",
       " 'español': 2,\n",
       " 'área': 1,\n",
       " 'distribución': 1,\n",
       " 'a': 1,\n",
       " 'vez': 1,\n",
       " 'suyo': 1,\n",
       " 'incorporado': 1,\n",
       " 'palabras': 1,\n",
       " 'quechua': 1,\n",
       " 'no': 1,\n",
       " 'sido': 1,\n",
       " 'clasificada': 1,\n",
       " 'satisfactoriamente': 1,\n",
       " 'por': 1,\n",
       " 'momento': 1,\n",
       " 'considera': 1,\n",
       " 'una': 1,\n",
       " 'aislada': 1}"
      ]
     },
     "execution_count": 55,
     "metadata": {},
     "output_type": "execute_result"
    }
   ],
   "source": [
    "D"
   ]
  },
  {
   "cell_type": "code",
   "execution_count": 56,
   "metadata": {},
   "outputs": [],
   "source": [
    "## ¿Y si juntamos todo? :) Usemos funciones!!!\n",
    "## ejercicio: crear una función que reciba un texto y entregue el diccionario D :)\n",
    "## otro ejercicio: crear una función que reciba un string y entregue los mismo que la función anterior.\n",
    "## indicación para el otro ejercicio: puede utilizar una función dentro de otra función :)"
   ]
  },
  {
   "cell_type": "code",
   "execution_count": 57,
   "metadata": {},
   "outputs": [],
   "source": [
    "## definamos la función frecuencias :)\n",
    "\n",
    "## input: string T\n",
    "## output: diccionario de frecuencias D\n",
    "def frecuencias(T):\n",
    "    ## dividimos la función en tres partes:\n",
    "    ## 1. parte A: \"T\" es transformado a una lista de strings en minúscula \"texto_preparado\"\n",
    "    ## 2. parte B: identificamos las palabras únicas de \"texto_preparado\" y las guardamos en \"palabras_unicas\"\n",
    "    ## 3. parte C: construimos el diccionario de frecuencia usando los elementos de \"palabras_unicas\" como keys\n",
    "    \n",
    "    ## parte A\n",
    "    #texto_tokenizado = preparacion_texto(T) ## usamos la función previa \"preparacion_texto\"\n",
    "    ## dividimos en palabras\n",
    "    texto_tokenizado = T.split(' ')\n",
    "    ## palabras en minúsculas ## en 2D!!!\n",
    "    texto_tokenizado = [palabra.lower() for palabra in texto_tokenizado if palabra not in list('``!\"#$%&\\¿()*+,-./:;<=>?@[\\\\]_{|}')]\n",
    "    \n",
    "    ## parte B\n",
    "    ## iniciamos con una lista vacía\n",
    "    palabras_unicas = []\n",
    "    ## recorremos el texto_tokenizado\n",
    "    for palabra in texto_tokenizado:\n",
    "        ## si una palabra no está, entonces la agregamos :)\n",
    "        if palabra not in palabras_unicas:\n",
    "            palabras_unicas.append(palabra)\n",
    "    \n",
    "    ## parte C\n",
    "    ## diccionado de frecuencias iniciado con ceros\n",
    "    D = {palabra:0 for palabra in palabras_unicas}\n",
    "    ## recorremos texto_tokenizado y sumamos 1 cada vez que aparece una palabra\n",
    "    for palabra in texto_tokenizado:\n",
    "        D[palabra] += 1\n",
    "    \n",
    "    return D"
   ]
  },
  {
   "cell_type": "code",
   "execution_count": 58,
   "metadata": {},
   "outputs": [],
   "source": [
    "texto = 'El Mapuche también conocido como mapudungún del autoglotónimo mapudungun lengua de la tierra o araucano es el idioma de los mapuches un pueblo amerindio que habita los actuales países de Chile y Argentina Su número de hablantes activos se estima entre 100000 y 200000 y el número de hablantes pasivos en unas 100000 personas más Ha influido el léxico del español en su área de distribución y a su vez el suyo ha incorporado palabras del español y del quechua No ha sido clasificada satisfactoriamente y por el momento se la considera una lengua aislada'"
   ]
  },
  {
   "cell_type": "code",
   "execution_count": 59,
   "metadata": {},
   "outputs": [],
   "source": [
    "freq_example = frecuencias(texto)"
   ]
  },
  {
   "cell_type": "code",
   "execution_count": 60,
   "metadata": {},
   "outputs": [
    {
     "data": {
      "text/plain": [
       "{'el': 6,\n",
       " 'mapuche': 1,\n",
       " 'también': 1,\n",
       " 'conocido': 1,\n",
       " 'como': 1,\n",
       " 'mapudungún': 1,\n",
       " 'del': 4,\n",
       " 'autoglotónimo': 1,\n",
       " 'mapudungun': 1,\n",
       " 'lengua': 2,\n",
       " 'de': 6,\n",
       " 'la': 2,\n",
       " 'tierra': 1,\n",
       " 'o': 1,\n",
       " 'araucano': 1,\n",
       " 'es': 1,\n",
       " 'idioma': 1,\n",
       " 'los': 2,\n",
       " 'mapuches': 1,\n",
       " 'un': 1,\n",
       " 'pueblo': 1,\n",
       " 'amerindio': 1,\n",
       " 'que': 1,\n",
       " 'habita': 1,\n",
       " 'actuales': 1,\n",
       " 'países': 1,\n",
       " 'chile': 1,\n",
       " 'y': 6,\n",
       " 'argentina': 1,\n",
       " 'su': 3,\n",
       " 'número': 2,\n",
       " 'hablantes': 2,\n",
       " 'activos': 1,\n",
       " 'se': 2,\n",
       " 'estima': 1,\n",
       " 'entre': 1,\n",
       " '100000': 2,\n",
       " '200000': 1,\n",
       " 'pasivos': 1,\n",
       " 'en': 2,\n",
       " 'unas': 1,\n",
       " 'personas': 1,\n",
       " 'más': 1,\n",
       " 'ha': 3,\n",
       " 'influido': 1,\n",
       " 'léxico': 1,\n",
       " 'español': 2,\n",
       " 'área': 1,\n",
       " 'distribución': 1,\n",
       " 'a': 1,\n",
       " 'vez': 1,\n",
       " 'suyo': 1,\n",
       " 'incorporado': 1,\n",
       " 'palabras': 1,\n",
       " 'quechua': 1,\n",
       " 'no': 1,\n",
       " 'sido': 1,\n",
       " 'clasificada': 1,\n",
       " 'satisfactoriamente': 1,\n",
       " 'por': 1,\n",
       " 'momento': 1,\n",
       " 'considera': 1,\n",
       " 'una': 1,\n",
       " 'aislada': 1}"
      ]
     },
     "execution_count": 60,
     "metadata": {},
     "output_type": "execute_result"
    }
   ],
   "source": [
    "freq_example"
   ]
  },
  {
   "cell_type": "markdown",
   "metadata": {},
   "source": [
    "### C. ¿Cómo visualizamos los resultados?"
   ]
  },
  {
   "cell_type": "code",
   "execution_count": 62,
   "metadata": {},
   "outputs": [],
   "source": [
    "## ¿Qué hacemos con el diccionario freq_example? ¿Cómo extraemos información?"
   ]
  },
  {
   "cell_type": "code",
   "execution_count": 63,
   "metadata": {},
   "outputs": [],
   "source": [
    "## algunas soluciones!"
   ]
  },
  {
   "cell_type": "code",
   "execution_count": 65,
   "metadata": {},
   "outputs": [],
   "source": [
    "## primero: ¿cuáles son las palabras más frecuentes? ¿Cuáles son las menos frecuentes? ¿Cuál es la frecuencia promedio?"
   ]
  },
  {
   "cell_type": "code",
   "execution_count": 66,
   "metadata": {},
   "outputs": [],
   "source": [
    "### palabras más frecuentes! para responder esto, necesitamos saber qué palabras tienen el máximo value.\n",
    "\n",
    "## en este código, extraemos los values con freq_example.values(), lo transformamos a lista (por comodidad) con list(), y identificamos el \n",
    "## máximo de la lista list(freq_example.values()) con max() :)\n",
    "\n",
    "max_value = max(list(freq_example.values()))"
   ]
  },
  {
   "cell_type": "code",
   "execution_count": 67,
   "metadata": {},
   "outputs": [
    {
     "data": {
      "text/plain": [
       "6"
      ]
     },
     "execution_count": 67,
     "metadata": {},
     "output_type": "execute_result"
    }
   ],
   "source": [
    "max_value"
   ]
  },
  {
   "cell_type": "code",
   "execution_count": 69,
   "metadata": {},
   "outputs": [],
   "source": [
    "## entonces, la idea es ahora recorrer los keys de freq_example y encontrar aquellos cuyo value sea max_value\n",
    "\n",
    "## aquí guardamos las palabras que estamos buscando!\n",
    "lista_palabras_mas_frecuentes = []\n",
    "\n",
    "for palabra in freq_example.keys():\n",
    "    ## ahora usamos la palabra mágica: if\n",
    "    ## accedemos al value con freq_example[palabra]\n",
    "    ## si el value correspondiente es max_value (noten que usamos ==), entonces bingo! guardamos la palabra en la lista lista_palabras_mas_frecuentes\n",
    "    if freq_example[palabra] == max_value:\n",
    "        lista_palabras_mas_frecuentes = lista_palabras_mas_frecuentes + [palabra]"
   ]
  },
  {
   "cell_type": "code",
   "execution_count": 71,
   "metadata": {},
   "outputs": [
    {
     "data": {
      "text/plain": [
       "['el', 'de', 'y']"
      ]
     },
     "execution_count": 71,
     "metadata": {},
     "output_type": "execute_result"
    }
   ],
   "source": [
    "## ahora lo vemos :)\n",
    "\n",
    "lista_palabras_mas_frecuentes"
   ]
  },
  {
   "cell_type": "code",
   "execution_count": 72,
   "metadata": {},
   "outputs": [],
   "source": [
    "## ¿Qué conclusiones podemos sacar de esto? ¿Qué va a ocurrir en otros tipos de lenguas?"
   ]
  },
  {
   "cell_type": "code",
   "execution_count": 73,
   "metadata": {},
   "outputs": [],
   "source": [
    "### ahora, las menos frecuentes! Es todo bien análogo a lo que ya hemos hecho. Necesitamos saber qué palabras tienen el mínimo value.\n",
    "\n",
    "## extraemos los values con freq_example.values(), lo transformamos a lista (por comodidad) con list(), y identificamos el \n",
    "## mínimo de la lista list(freq_example.values()) con min() :)\n",
    "\n",
    "min_value = min(list(freq_example.values()))"
   ]
  },
  {
   "cell_type": "code",
   "execution_count": 74,
   "metadata": {},
   "outputs": [
    {
     "data": {
      "text/plain": [
       "1"
      ]
     },
     "execution_count": 74,
     "metadata": {},
     "output_type": "execute_result"
    }
   ],
   "source": [
    "min_value"
   ]
  },
  {
   "cell_type": "code",
   "execution_count": 75,
   "metadata": {},
   "outputs": [],
   "source": [
    "## lo mismo de antes: la idea es ahora recorrer los keys de freq_example y encontrar aquellos cuyo value sea min_value\n",
    "\n",
    "## aquí guardamos las palabras que estamos buscando!\n",
    "lista_palabras_menos_frecuentes = []\n",
    "\n",
    "for palabra in freq_example.keys():\n",
    "    ## ahora usamos la palabra mágica: if\n",
    "    ## accedemos al value con freq_example[palabra]\n",
    "    ## si el value correspondiente es max_value (noten que usamos ==), entonces bingo! guardamos la palabra en la lista lista_palabras_mas_frecuentes\n",
    "    if freq_example[palabra] == min_value:\n",
    "        lista_palabras_menos_frecuentes = lista_palabras_menos_frecuentes + [palabra]"
   ]
  },
  {
   "cell_type": "code",
   "execution_count": 76,
   "metadata": {},
   "outputs": [
    {
     "data": {
      "text/plain": [
       "['mapuche',\n",
       " 'también',\n",
       " 'conocido',\n",
       " 'como',\n",
       " 'mapudungún',\n",
       " 'autoglotónimo',\n",
       " 'mapudungun',\n",
       " 'tierra',\n",
       " 'o',\n",
       " 'araucano',\n",
       " 'es',\n",
       " 'idioma',\n",
       " 'mapuches',\n",
       " 'un',\n",
       " 'pueblo',\n",
       " 'amerindio',\n",
       " 'que',\n",
       " 'habita',\n",
       " 'actuales',\n",
       " 'países',\n",
       " 'chile',\n",
       " 'argentina',\n",
       " 'activos',\n",
       " 'estima',\n",
       " 'entre',\n",
       " '200000',\n",
       " 'pasivos',\n",
       " 'unas',\n",
       " 'personas',\n",
       " 'más',\n",
       " 'influido',\n",
       " 'léxico',\n",
       " 'área',\n",
       " 'distribución',\n",
       " 'a',\n",
       " 'vez',\n",
       " 'suyo',\n",
       " 'incorporado',\n",
       " 'palabras',\n",
       " 'quechua',\n",
       " 'no',\n",
       " 'sido',\n",
       " 'clasificada',\n",
       " 'satisfactoriamente',\n",
       " 'por',\n",
       " 'momento',\n",
       " 'considera',\n",
       " 'una',\n",
       " 'aislada']"
      ]
     },
     "execution_count": 76,
     "metadata": {},
     "output_type": "execute_result"
    }
   ],
   "source": [
    "## ahora lo vemos :)\n",
    "\n",
    "lista_palabras_menos_frecuentes"
   ]
  },
  {
   "cell_type": "code",
   "execution_count": 77,
   "metadata": {},
   "outputs": [],
   "source": [
    "### frecuencia promedio! sabemos que los values de freq_example contienen las frecuencias ¿Cómo calculamos el promedio?"
   ]
  },
  {
   "cell_type": "code",
   "execution_count": 81,
   "metadata": {},
   "outputs": [],
   "source": [
    "## forma 1\n",
    "\n",
    "## guardamos el número de datos en N\n",
    "\n",
    "N = len(list(freq_example.keys()))"
   ]
  },
  {
   "cell_type": "code",
   "execution_count": 82,
   "metadata": {},
   "outputs": [
    {
     "data": {
      "text/plain": [
       "64"
      ]
     },
     "execution_count": 82,
     "metadata": {},
     "output_type": "execute_result"
    }
   ],
   "source": [
    "N"
   ]
  },
  {
   "cell_type": "code",
   "execution_count": 83,
   "metadata": {},
   "outputs": [],
   "source": [
    "## aquí guardamos la suma de todos los valores\n",
    "\n",
    "suma_valores = 0\n",
    "\n",
    "for valor in list(freq_example.values()):\n",
    "    suma_valores+=valor"
   ]
  },
  {
   "cell_type": "code",
   "execution_count": 85,
   "metadata": {},
   "outputs": [
    {
     "data": {
      "text/plain": [
       "95"
      ]
     },
     "execution_count": 85,
     "metadata": {},
     "output_type": "execute_result"
    }
   ],
   "source": [
    "## ¿A qué les recuerda este valor?\n",
    "\n",
    "suma_valores"
   ]
  },
  {
   "cell_type": "code",
   "execution_count": 86,
   "metadata": {},
   "outputs": [],
   "source": [
    "## ahora, calculamos la frecuencia promedio!\n",
    "\n",
    "frecuencia_promedio = suma_valores/N"
   ]
  },
  {
   "cell_type": "code",
   "execution_count": 87,
   "metadata": {},
   "outputs": [
    {
     "data": {
      "text/plain": [
       "1.484375"
      ]
     },
     "execution_count": 87,
     "metadata": {},
     "output_type": "execute_result"
    }
   ],
   "source": [
    "frecuencia_promedio"
   ]
  },
  {
   "cell_type": "code",
   "execution_count": 89,
   "metadata": {},
   "outputs": [],
   "source": [
    "## es decir, en nuestro mini corpus cada palabra aparece en promedio 1.5 veces: ¿Qué nos dice esto?"
   ]
  },
  {
   "cell_type": "code",
   "execution_count": 90,
   "metadata": {},
   "outputs": [],
   "source": [
    "## forma 2: más corta\n",
    "\n",
    "frecuencia_promedio = sum(list(freq_example.values()))/N"
   ]
  },
  {
   "cell_type": "code",
   "execution_count": 91,
   "metadata": {},
   "outputs": [
    {
     "data": {
      "text/plain": [
       "1.484375"
      ]
     },
     "execution_count": 91,
     "metadata": {},
     "output_type": "execute_result"
    }
   ],
   "source": [
    "frecuencia_promedio"
   ]
  },
  {
   "cell_type": "code",
   "execution_count": 96,
   "metadata": {},
   "outputs": [],
   "source": [
    "## forma 3: aún más corta! ;)\n",
    "## importamos una librería súper famosa! https://numpy.org/\n",
    "import numpy as np\n",
    "\n",
    "frecuencia_promedio = np.mean(list(freq_example.values()))"
   ]
  },
  {
   "cell_type": "code",
   "execution_count": 97,
   "metadata": {},
   "outputs": [
    {
     "data": {
      "text/plain": [
       "1.484375"
      ]
     },
     "execution_count": 97,
     "metadata": {},
     "output_type": "execute_result"
    }
   ],
   "source": [
    "frecuencia_promedio"
   ]
  },
  {
   "cell_type": "code",
   "execution_count": 110,
   "metadata": {},
   "outputs": [],
   "source": [
    "## entonces!\n",
    "\n",
    "diccionario_descriptivo = {'rasgos del texto':['frecuencia máxima','frecuencia mínima','frecuencia promedio',\n",
    "                          'número tokens','número types'],\n",
    "                          'valor':[max_value,min_value,frecuencia_promedio,\n",
    "                          sum(list(freq_example.values())),len(freq_example)]}"
   ]
  },
  {
   "cell_type": "code",
   "execution_count": 111,
   "metadata": {},
   "outputs": [
    {
     "data": {
      "text/plain": [
       "{'rasgos del texto': ['frecuencia máxima',\n",
       "  'frecuencia mínima',\n",
       "  'frecuencia promedio',\n",
       "  'número tokens',\n",
       "  'número types'],\n",
       " 'valor': [6, 1, 1.484375, 95, 64]}"
      ]
     },
     "execution_count": 111,
     "metadata": {},
     "output_type": "execute_result"
    }
   ],
   "source": [
    "diccionario_descriptivo"
   ]
  },
  {
   "cell_type": "code",
   "execution_count": 113,
   "metadata": {},
   "outputs": [
    {
     "data": {
      "text/html": [
       "<div>\n",
       "<style scoped>\n",
       "    .dataframe tbody tr th:only-of-type {\n",
       "        vertical-align: middle;\n",
       "    }\n",
       "\n",
       "    .dataframe tbody tr th {\n",
       "        vertical-align: top;\n",
       "    }\n",
       "\n",
       "    .dataframe thead th {\n",
       "        text-align: right;\n",
       "    }\n",
       "</style>\n",
       "<table border=\"1\" class=\"dataframe\">\n",
       "  <thead>\n",
       "    <tr style=\"text-align: right;\">\n",
       "      <th></th>\n",
       "      <th>rasgos del texto</th>\n",
       "      <th>valor</th>\n",
       "    </tr>\n",
       "  </thead>\n",
       "  <tbody>\n",
       "    <tr>\n",
       "      <th>0</th>\n",
       "      <td>frecuencia máxima</td>\n",
       "      <td>6.000000</td>\n",
       "    </tr>\n",
       "    <tr>\n",
       "      <th>1</th>\n",
       "      <td>frecuencia mínima</td>\n",
       "      <td>1.000000</td>\n",
       "    </tr>\n",
       "    <tr>\n",
       "      <th>2</th>\n",
       "      <td>frecuencia promedio</td>\n",
       "      <td>1.484375</td>\n",
       "    </tr>\n",
       "    <tr>\n",
       "      <th>3</th>\n",
       "      <td>número tokens</td>\n",
       "      <td>95.000000</td>\n",
       "    </tr>\n",
       "    <tr>\n",
       "      <th>4</th>\n",
       "      <td>número types</td>\n",
       "      <td>64.000000</td>\n",
       "    </tr>\n",
       "  </tbody>\n",
       "</table>\n",
       "</div>"
      ],
      "text/plain": [
       "      rasgos del texto      valor\n",
       "0    frecuencia máxima   6.000000\n",
       "1    frecuencia mínima   1.000000\n",
       "2  frecuencia promedio   1.484375\n",
       "3        número tokens  95.000000\n",
       "4         número types  64.000000"
      ]
     },
     "execution_count": 113,
     "metadata": {},
     "output_type": "execute_result"
    }
   ],
   "source": [
    "## ahora otra súper librería! https://pandas.pydata.org/\n",
    "import pandas as pd\n",
    "\n",
    "pd.DataFrame.from_dict(diccionario_descriptivo)"
   ]
  },
  {
   "cell_type": "markdown",
   "metadata": {},
   "source": [
    "### D. Visualizaciones gráficas. "
   ]
  },
  {
   "cell_type": "code",
   "execution_count": 114,
   "metadata": {},
   "outputs": [],
   "source": [
    "## ¿Y si graficamos los resultados?"
   ]
  },
  {
   "cell_type": "code",
   "execution_count": 115,
   "metadata": {},
   "outputs": [],
   "source": [
    "## manera 1 (de muchas posibles): histogramas!\n",
    "\n",
    "## sabemos que los values de freq_example guardan las frecuencias\n",
    "\n",
    "frecuencias = list(freq_example.values())"
   ]
  },
  {
   "cell_type": "code",
   "execution_count": 117,
   "metadata": {},
   "outputs": [
    {
     "data": {
      "text/plain": [
       "[6, 1, 1, 1, 1]"
      ]
     },
     "execution_count": 117,
     "metadata": {},
     "output_type": "execute_result"
    }
   ],
   "source": [
    "frecuencias[:5]"
   ]
  },
  {
   "cell_type": "code",
   "execution_count": 118,
   "metadata": {},
   "outputs": [],
   "source": [
    "## ¿Cómo miramos esto?"
   ]
  },
  {
   "cell_type": "code",
   "execution_count": null,
   "metadata": {},
   "outputs": [],
   "source": []
  }
 ],
 "metadata": {
  "kernelspec": {
   "display_name": "conda_python3",
   "language": "python",
   "name": "conda_python3"
  },
  "language_info": {
   "codemirror_mode": {
    "name": "ipython",
    "version": 3
   },
   "file_extension": ".py",
   "mimetype": "text/x-python",
   "name": "python",
   "nbconvert_exporter": "python",
   "pygments_lexer": "ipython3",
   "version": "3.6.13"
  }
 },
 "nbformat": 4,
 "nbformat_minor": 4
}
