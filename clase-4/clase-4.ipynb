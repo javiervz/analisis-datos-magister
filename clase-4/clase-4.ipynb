{
 "cells": [
  {
   "cell_type": "markdown",
   "metadata": {},
   "source": [
    "# **Análisis Computacional de Datos Lingüísticos**\n",
    "### Javier Vera Zúñiga, javier.vera@pucv.cl\n",
    "## **Clase 4**\n",
    "### Manejo de archivos: **texto + tablas!**"
   ]
  },
  {
   "cell_type": "markdown",
   "metadata": {},
   "source": [
    "## Parte A. **(aspectos fundamentales sobre diccionarios desde) pandas!**\n",
    "### [link Glottolog](https://glottolog.org/)\n",
    "### [link pandas](https://pandas.pydata.org/)"
   ]
  },
  {
   "cell_type": "code",
   "execution_count": 1,
   "metadata": {},
   "outputs": [],
   "source": [
    "## usemos pandas!\n",
    "## recomendación: trate siempre de usar pandas para datos tabulados!!! (al menos para leer datos)\n",
    "\n",
    "import pandas as pd"
   ]
  },
  {
   "cell_type": "code",
   "execution_count": 2,
   "metadata": {},
   "outputs": [],
   "source": [
    "## https://glottolog.org/meta/downloads\n",
    "## noten que \"langs\" queda como un objeto del tipo \"data frame\"\n",
    "\n",
    "langs = pd.read_csv('languages_and_dialects_geo.csv',sep=',')"
   ]
  },
  {
   "cell_type": "code",
   "execution_count": 3,
   "metadata": {},
   "outputs": [
    {
     "data": {
      "text/html": [
       "<div>\n",
       "<style scoped>\n",
       "    .dataframe tbody tr th:only-of-type {\n",
       "        vertical-align: middle;\n",
       "    }\n",
       "\n",
       "    .dataframe tbody tr th {\n",
       "        vertical-align: top;\n",
       "    }\n",
       "\n",
       "    .dataframe thead th {\n",
       "        text-align: right;\n",
       "    }\n",
       "</style>\n",
       "<table border=\"1\" class=\"dataframe\">\n",
       "  <thead>\n",
       "    <tr style=\"text-align: right;\">\n",
       "      <th></th>\n",
       "      <th>glottocode</th>\n",
       "      <th>name</th>\n",
       "      <th>isocodes</th>\n",
       "      <th>level</th>\n",
       "      <th>macroarea</th>\n",
       "      <th>latitude</th>\n",
       "      <th>longitude</th>\n",
       "    </tr>\n",
       "  </thead>\n",
       "  <tbody>\n",
       "    <tr>\n",
       "      <th>0</th>\n",
       "      <td>3adt1234</td>\n",
       "      <td>3Ad-Tekles</td>\n",
       "      <td>NaN</td>\n",
       "      <td>dialect</td>\n",
       "      <td>Africa</td>\n",
       "      <td>NaN</td>\n",
       "      <td>NaN</td>\n",
       "    </tr>\n",
       "    <tr>\n",
       "      <th>1</th>\n",
       "      <td>aala1237</td>\n",
       "      <td>Aalawa</td>\n",
       "      <td>NaN</td>\n",
       "      <td>dialect</td>\n",
       "      <td>Papunesia</td>\n",
       "      <td>NaN</td>\n",
       "      <td>NaN</td>\n",
       "    </tr>\n",
       "    <tr>\n",
       "      <th>2</th>\n",
       "      <td>aant1238</td>\n",
       "      <td>Aantantara</td>\n",
       "      <td>NaN</td>\n",
       "      <td>dialect</td>\n",
       "      <td>Papunesia</td>\n",
       "      <td>NaN</td>\n",
       "      <td>NaN</td>\n",
       "    </tr>\n",
       "    <tr>\n",
       "      <th>3</th>\n",
       "      <td>aari1239</td>\n",
       "      <td>Aari</td>\n",
       "      <td>aiw</td>\n",
       "      <td>language</td>\n",
       "      <td>Africa</td>\n",
       "      <td>5.95034</td>\n",
       "      <td>36.5721</td>\n",
       "    </tr>\n",
       "    <tr>\n",
       "      <th>4</th>\n",
       "      <td>aari1240</td>\n",
       "      <td>Aariya</td>\n",
       "      <td>aay</td>\n",
       "      <td>language</td>\n",
       "      <td>Eurasia</td>\n",
       "      <td>NaN</td>\n",
       "      <td>NaN</td>\n",
       "    </tr>\n",
       "    <tr>\n",
       "      <th>...</th>\n",
       "      <td>...</td>\n",
       "      <td>...</td>\n",
       "      <td>...</td>\n",
       "      <td>...</td>\n",
       "      <td>...</td>\n",
       "      <td>...</td>\n",
       "      <td>...</td>\n",
       "    </tr>\n",
       "    <tr>\n",
       "      <th>21324</th>\n",
       "      <td>zuwa1238</td>\n",
       "      <td>Zuwadza</td>\n",
       "      <td>NaN</td>\n",
       "      <td>dialect</td>\n",
       "      <td>Papunesia</td>\n",
       "      <td>NaN</td>\n",
       "      <td>NaN</td>\n",
       "    </tr>\n",
       "    <tr>\n",
       "      <th>21325</th>\n",
       "      <td>zwal1238</td>\n",
       "      <td>Zwall</td>\n",
       "      <td>NaN</td>\n",
       "      <td>dialect</td>\n",
       "      <td>Africa</td>\n",
       "      <td>NaN</td>\n",
       "      <td>NaN</td>\n",
       "    </tr>\n",
       "    <tr>\n",
       "      <th>21326</th>\n",
       "      <td>zyph1238</td>\n",
       "      <td>Zyphe</td>\n",
       "      <td>zyp</td>\n",
       "      <td>language</td>\n",
       "      <td>Eurasia</td>\n",
       "      <td>22.52400</td>\n",
       "      <td>93.2640</td>\n",
       "    </tr>\n",
       "    <tr>\n",
       "      <th>21327</th>\n",
       "      <td>zyud1238</td>\n",
       "      <td>Zyuzdin</td>\n",
       "      <td>NaN</td>\n",
       "      <td>dialect</td>\n",
       "      <td>Eurasia</td>\n",
       "      <td>NaN</td>\n",
       "      <td>NaN</td>\n",
       "    </tr>\n",
       "    <tr>\n",
       "      <th>21328</th>\n",
       "      <td>huaa1249</td>\n",
       "      <td>ǂHua</td>\n",
       "      <td>NaN</td>\n",
       "      <td>dialect</td>\n",
       "      <td>Africa</td>\n",
       "      <td>NaN</td>\n",
       "      <td>NaN</td>\n",
       "    </tr>\n",
       "  </tbody>\n",
       "</table>\n",
       "<p>21329 rows × 7 columns</p>\n",
       "</div>"
      ],
      "text/plain": [
       "      glottocode        name isocodes     level  macroarea  latitude  \\\n",
       "0       3adt1234  3Ad-Tekles      NaN   dialect     Africa       NaN   \n",
       "1       aala1237      Aalawa      NaN   dialect  Papunesia       NaN   \n",
       "2       aant1238  Aantantara      NaN   dialect  Papunesia       NaN   \n",
       "3       aari1239        Aari      aiw  language     Africa   5.95034   \n",
       "4       aari1240      Aariya      aay  language    Eurasia       NaN   \n",
       "...          ...         ...      ...       ...        ...       ...   \n",
       "21324   zuwa1238     Zuwadza      NaN   dialect  Papunesia       NaN   \n",
       "21325   zwal1238       Zwall      NaN   dialect     Africa       NaN   \n",
       "21326   zyph1238       Zyphe      zyp  language    Eurasia  22.52400   \n",
       "21327   zyud1238     Zyuzdin      NaN   dialect    Eurasia       NaN   \n",
       "21328   huaa1249        ǂHua      NaN   dialect     Africa       NaN   \n",
       "\n",
       "       longitude  \n",
       "0            NaN  \n",
       "1            NaN  \n",
       "2            NaN  \n",
       "3        36.5721  \n",
       "4            NaN  \n",
       "...          ...  \n",
       "21324        NaN  \n",
       "21325        NaN  \n",
       "21326    93.2640  \n",
       "21327        NaN  \n",
       "21328        NaN  \n",
       "\n",
       "[21329 rows x 7 columns]"
      ]
     },
     "execution_count": 3,
     "metadata": {},
     "output_type": "execute_result"
    }
   ],
   "source": [
    "langs"
   ]
  },
  {
   "cell_type": "code",
   "execution_count": 4,
   "metadata": {},
   "outputs": [
    {
     "data": {
      "text/plain": [
       "Index(['glottocode', 'name', 'isocodes', 'level', 'macroarea', 'latitude',\n",
       "       'longitude'],\n",
       "      dtype='object')"
      ]
     },
     "execution_count": 4,
     "metadata": {},
     "output_type": "execute_result"
    }
   ],
   "source": [
    "## miremos las columnas\n",
    "\n",
    "langs.columns"
   ]
  },
  {
   "cell_type": "code",
   "execution_count": 5,
   "metadata": {},
   "outputs": [
    {
     "data": {
      "text/plain": [
       "0        3adt1234\n",
       "1        aala1237\n",
       "2        aant1238\n",
       "3        aari1239\n",
       "4        aari1240\n",
       "           ...   \n",
       "21324    zuwa1238\n",
       "21325    zwal1238\n",
       "21326    zyph1238\n",
       "21327    zyud1238\n",
       "21328    huaa1249\n",
       "Name: glottocode, Length: 21329, dtype: object"
      ]
     },
     "execution_count": 5,
     "metadata": {},
     "output_type": "execute_result"
    }
   ],
   "source": [
    "## accedemos a una columna con langs['glottocode']\n",
    "\n",
    "langs['glottocode']"
   ]
  },
  {
   "cell_type": "code",
   "execution_count": 6,
   "metadata": {},
   "outputs": [
    {
     "data": {
      "text/html": [
       "<div>\n",
       "<style scoped>\n",
       "    .dataframe tbody tr th:only-of-type {\n",
       "        vertical-align: middle;\n",
       "    }\n",
       "\n",
       "    .dataframe tbody tr th {\n",
       "        vertical-align: top;\n",
       "    }\n",
       "\n",
       "    .dataframe thead th {\n",
       "        text-align: right;\n",
       "    }\n",
       "</style>\n",
       "<table border=\"1\" class=\"dataframe\">\n",
       "  <thead>\n",
       "    <tr style=\"text-align: right;\">\n",
       "      <th></th>\n",
       "      <th>glottocode</th>\n",
       "      <th>name</th>\n",
       "      <th>isocodes</th>\n",
       "      <th>level</th>\n",
       "      <th>macroarea</th>\n",
       "      <th>latitude</th>\n",
       "      <th>longitude</th>\n",
       "    </tr>\n",
       "  </thead>\n",
       "  <tbody>\n",
       "    <tr>\n",
       "      <th>0</th>\n",
       "      <td>3adt1234</td>\n",
       "      <td>3Ad-Tekles</td>\n",
       "      <td>NaN</td>\n",
       "      <td>dialect</td>\n",
       "      <td>Africa</td>\n",
       "      <td>NaN</td>\n",
       "      <td>NaN</td>\n",
       "    </tr>\n",
       "    <tr>\n",
       "      <th>1</th>\n",
       "      <td>aala1237</td>\n",
       "      <td>Aalawa</td>\n",
       "      <td>NaN</td>\n",
       "      <td>dialect</td>\n",
       "      <td>Papunesia</td>\n",
       "      <td>NaN</td>\n",
       "      <td>NaN</td>\n",
       "    </tr>\n",
       "    <tr>\n",
       "      <th>2</th>\n",
       "      <td>aant1238</td>\n",
       "      <td>Aantantara</td>\n",
       "      <td>NaN</td>\n",
       "      <td>dialect</td>\n",
       "      <td>Papunesia</td>\n",
       "      <td>NaN</td>\n",
       "      <td>NaN</td>\n",
       "    </tr>\n",
       "  </tbody>\n",
       "</table>\n",
       "</div>"
      ],
      "text/plain": [
       "  glottocode        name isocodes    level  macroarea  latitude  longitude\n",
       "0   3adt1234  3Ad-Tekles      NaN  dialect     Africa       NaN        NaN\n",
       "1   aala1237      Aalawa      NaN  dialect  Papunesia       NaN        NaN\n",
       "2   aant1238  Aantantara      NaN  dialect  Papunesia       NaN        NaN"
      ]
     },
     "execution_count": 6,
     "metadata": {},
     "output_type": "execute_result"
    }
   ],
   "source": [
    "## primeras filas!\n",
    "\n",
    "langs[:3]"
   ]
  },
  {
   "cell_type": "code",
   "execution_count": 7,
   "metadata": {},
   "outputs": [
    {
     "data": {
      "text/plain": [
       "RangeIndex(start=0, stop=21329, step=1)"
      ]
     },
     "execution_count": 7,
     "metadata": {},
     "output_type": "execute_result"
    }
   ],
   "source": [
    "## índices!\n",
    "\n",
    "langs.index"
   ]
  },
  {
   "cell_type": "code",
   "execution_count": 8,
   "metadata": {},
   "outputs": [
    {
     "data": {
      "text/plain": [
       "glottocode      3adt1234\n",
       "name          3Ad-Tekles\n",
       "isocodes             NaN\n",
       "level            dialect\n",
       "macroarea         Africa\n",
       "latitude             NaN\n",
       "longitude            NaN\n",
       "Name: 0, dtype: object"
      ]
     },
     "execution_count": 8,
     "metadata": {},
     "output_type": "execute_result"
    }
   ],
   "source": [
    "## iloc!\n",
    "\n",
    "langs.iloc[0]"
   ]
  },
  {
   "cell_type": "code",
   "execution_count": 9,
   "metadata": {},
   "outputs": [
    {
     "data": {
      "text/plain": [
       "'3adt1234'"
      ]
     },
     "execution_count": 9,
     "metadata": {},
     "output_type": "execute_result"
    }
   ],
   "source": [
    "## loc!\n",
    "\n",
    "langs.loc[0,'glottocode']"
   ]
  },
  {
   "cell_type": "code",
   "execution_count": 10,
   "metadata": {},
   "outputs": [],
   "source": [
    "## mirar https://pandas.pydata.org/pandas-docs/stable/user_guide/dsintro.html"
   ]
  },
  {
   "cell_type": "code",
   "execution_count": 11,
   "metadata": {},
   "outputs": [],
   "source": [
    "## nos quedamos con un dataframe con dos columnas: iso vs glottocode\n",
    "## elmiminamos los NaN\n",
    "\n",
    "iso_glotto = langs[['isocodes','glottocode']]\n",
    "iso_glotto = iso_glotto.dropna()"
   ]
  },
  {
   "cell_type": "code",
   "execution_count": 12,
   "metadata": {},
   "outputs": [
    {
     "data": {
      "text/html": [
       "<div>\n",
       "<style scoped>\n",
       "    .dataframe tbody tr th:only-of-type {\n",
       "        vertical-align: middle;\n",
       "    }\n",
       "\n",
       "    .dataframe tbody tr th {\n",
       "        vertical-align: top;\n",
       "    }\n",
       "\n",
       "    .dataframe thead th {\n",
       "        text-align: right;\n",
       "    }\n",
       "</style>\n",
       "<table border=\"1\" class=\"dataframe\">\n",
       "  <thead>\n",
       "    <tr style=\"text-align: right;\">\n",
       "      <th></th>\n",
       "      <th>isocodes</th>\n",
       "      <th>glottocode</th>\n",
       "    </tr>\n",
       "  </thead>\n",
       "  <tbody>\n",
       "    <tr>\n",
       "      <th>3</th>\n",
       "      <td>aiw</td>\n",
       "      <td>aari1239</td>\n",
       "    </tr>\n",
       "    <tr>\n",
       "      <th>4</th>\n",
       "      <td>aay</td>\n",
       "      <td>aari1240</td>\n",
       "    </tr>\n",
       "    <tr>\n",
       "      <th>5</th>\n",
       "      <td>aas</td>\n",
       "      <td>aasa1238</td>\n",
       "    </tr>\n",
       "    <tr>\n",
       "      <th>11</th>\n",
       "      <td>kbt</td>\n",
       "      <td>abad1241</td>\n",
       "    </tr>\n",
       "    <tr>\n",
       "      <th>13</th>\n",
       "      <td>abg</td>\n",
       "      <td>abag1245</td>\n",
       "    </tr>\n",
       "    <tr>\n",
       "      <th>...</th>\n",
       "      <td>...</td>\n",
       "      <td>...</td>\n",
       "    </tr>\n",
       "    <tr>\n",
       "      <th>21311</th>\n",
       "      <td>zuy</td>\n",
       "      <td>zuma1239</td>\n",
       "    </tr>\n",
       "    <tr>\n",
       "      <th>21313</th>\n",
       "      <td>jmb</td>\n",
       "      <td>zumb1240</td>\n",
       "    </tr>\n",
       "    <tr>\n",
       "      <th>21318</th>\n",
       "      <td>zun</td>\n",
       "      <td>zuni1245</td>\n",
       "    </tr>\n",
       "    <tr>\n",
       "      <th>21319</th>\n",
       "      <td>zzj</td>\n",
       "      <td>zuoj1238</td>\n",
       "    </tr>\n",
       "    <tr>\n",
       "      <th>21326</th>\n",
       "      <td>zyp</td>\n",
       "      <td>zyph1238</td>\n",
       "    </tr>\n",
       "  </tbody>\n",
       "</table>\n",
       "<p>8019 rows × 2 columns</p>\n",
       "</div>"
      ],
      "text/plain": [
       "      isocodes glottocode\n",
       "3          aiw   aari1239\n",
       "4          aay   aari1240\n",
       "5          aas   aasa1238\n",
       "11         kbt   abad1241\n",
       "13         abg   abag1245\n",
       "...        ...        ...\n",
       "21311      zuy   zuma1239\n",
       "21313      jmb   zumb1240\n",
       "21318      zun   zuni1245\n",
       "21319      zzj   zuoj1238\n",
       "21326      zyp   zyph1238\n",
       "\n",
       "[8019 rows x 2 columns]"
      ]
     },
     "execution_count": 12,
     "metadata": {},
     "output_type": "execute_result"
    }
   ],
   "source": [
    "iso_glotto"
   ]
  },
  {
   "cell_type": "code",
   "execution_count": 13,
   "metadata": {},
   "outputs": [],
   "source": [
    "## ¿Cómo hacemos un diccionario?\n",
    "\n",
    "## diccionario iso:glottocode\n",
    "\n",
    "## manera sofisticada\n",
    "\n",
    "iso_glotto1 = dict(zip(iso_glotto['isocodes'], iso_glotto['glottocode']))\n",
    "\n",
    "## manera menos sofisticada (no hay una mejor que otra). En general, se prefiere que los códigos sean más\n",
    "## cortos. Sin embargo, también se vuelven más crípticos. Hay que encontrar un balance :)\n",
    "\n",
    "iso = list(iso_glotto['isocodes'])\n",
    "glotto = list(iso_glotto['glottocode'])\n",
    "\n",
    "iso_glotto_pairs = []\n",
    "\n",
    "for i in range(len(iso)):\n",
    "    iso_glotto_pairs += [[iso[i],glotto[i]]]\n",
    "\n",
    "iso_glotto2 = {item[0]:item[1] for item in iso_glotto_pairs}"
   ]
  },
  {
   "cell_type": "code",
   "execution_count": 14,
   "metadata": {},
   "outputs": [
    {
     "data": {
      "text/plain": [
       "'mapu1245'"
      ]
     },
     "execution_count": 14,
     "metadata": {},
     "output_type": "execute_result"
    }
   ],
   "source": [
    "iso_glotto1['arn']"
   ]
  },
  {
   "cell_type": "code",
   "execution_count": 15,
   "metadata": {},
   "outputs": [
    {
     "data": {
      "text/plain": [
       "'mapu1245'"
      ]
     },
     "execution_count": 15,
     "metadata": {},
     "output_type": "execute_result"
    }
   ],
   "source": [
    "iso_glotto2['arn']"
   ]
  },
  {
   "cell_type": "code",
   "execution_count": 16,
   "metadata": {},
   "outputs": [],
   "source": [
    "## ¿Cómo podemos filtrar solo las lenguas de América?\n",
    "\n",
    "## filtramos por lenguas de las Américas\n",
    "\n",
    "macroarea = langs[['isocodes','macroarea']]\n",
    "macroarea = macroarea.dropna()"
   ]
  },
  {
   "cell_type": "code",
   "execution_count": 17,
   "metadata": {},
   "outputs": [],
   "source": [
    "## a la manera sofisticada\n",
    "## ejercicio: hacerlo de la forma no sofisticada!!!\n",
    "\n",
    "macroarea = dict(zip(macroarea['isocodes'], macroarea['macroarea']))"
   ]
  },
  {
   "cell_type": "code",
   "execution_count": 18,
   "metadata": {},
   "outputs": [],
   "source": [
    "areas_list = list(macroarea.values())"
   ]
  },
  {
   "cell_type": "code",
   "execution_count": 19,
   "metadata": {},
   "outputs": [],
   "source": [
    "## extraigamos los values de macroarea\n",
    "\n",
    "## forma sofisticada\n",
    "\n",
    "areas = set(macroarea.values())"
   ]
  },
  {
   "cell_type": "code",
   "execution_count": 20,
   "metadata": {},
   "outputs": [
    {
     "data": {
      "text/plain": [
       "{'Africa',\n",
       " 'Australia',\n",
       " 'Eurasia',\n",
       " 'North America',\n",
       " 'Papunesia',\n",
       " 'South America'}"
      ]
     },
     "execution_count": 20,
     "metadata": {},
     "output_type": "execute_result"
    }
   ],
   "source": [
    "areas"
   ]
  },
  {
   "cell_type": "code",
   "execution_count": 21,
   "metadata": {},
   "outputs": [],
   "source": [
    "## forma no sofisticada\n",
    "\n",
    "areas = []\n",
    "\n",
    "for value in macroarea.values():\n",
    "    if value not in areas:\n",
    "        areas = areas + [value]"
   ]
  },
  {
   "cell_type": "code",
   "execution_count": 22,
   "metadata": {},
   "outputs": [
    {
     "data": {
      "text/plain": [
       "['Africa',\n",
       " 'Eurasia',\n",
       " 'Papunesia',\n",
       " 'South America',\n",
       " 'North America',\n",
       " 'Australia']"
      ]
     },
     "execution_count": 22,
     "metadata": {},
     "output_type": "execute_result"
    }
   ],
   "source": [
    "areas"
   ]
  },
  {
   "cell_type": "code",
   "execution_count": 23,
   "metadata": {},
   "outputs": [],
   "source": [
    "## ¿Cómo podemos filtrar iso_glotto2 solo con lenguas que tengan macroarea 'North America' y 'South America'?\n",
    "\n",
    "## nos quedamos con los keys que estén en el diccionario macroarea\n",
    "iso_glotto2 = {iso:iso_glotto2[iso] for iso in iso_glotto2.keys() if iso in macroarea.keys()}"
   ]
  },
  {
   "cell_type": "code",
   "execution_count": 24,
   "metadata": {},
   "outputs": [],
   "source": [
    "## nos quedamos con los keys que tengan macroarea[key] in ['North America','South America']\n",
    "iso_glotto2 = {iso:iso_glotto2[iso] for iso in iso_glotto2.keys() if macroarea[iso] in ['North America','South America']}"
   ]
  },
  {
   "cell_type": "code",
   "execution_count": 25,
   "metadata": {},
   "outputs": [
    {
     "data": {
      "text/plain": [
       "1260"
      ]
     },
     "execution_count": 25,
     "metadata": {},
     "output_type": "execute_result"
    }
   ],
   "source": [
    "len(iso_glotto2)"
   ]
  },
  {
   "cell_type": "code",
   "execution_count": 26,
   "metadata": {},
   "outputs": [],
   "source": [
    "## y si queremos guardar iso_glotto2? usamos pickle!!!\n",
    "\n",
    "import pickle\n",
    "\n",
    "pickle.dump(iso_glotto2,open('iso_glotto.p','wb'))"
   ]
  },
  {
   "cell_type": "code",
   "execution_count": 27,
   "metadata": {},
   "outputs": [],
   "source": [
    "## ¿Cómo leemos datos pickle?\n",
    "\n",
    "iso_glotto = pickle.load(open('iso_glotto.p','rb'))"
   ]
  },
  {
   "cell_type": "markdown",
   "metadata": {},
   "source": [
    "##### otra información de Glottolog :)"
   ]
  },
  {
   "cell_type": "code",
   "execution_count": 28,
   "metadata": {},
   "outputs": [],
   "source": [
    "## Objetivo: mirar languoids!\n",
    "## https://glottolog.org/meta/downloads\n",
    "\n",
    "languoids = pd.read_csv('languoid.csv',sep=',')"
   ]
  },
  {
   "cell_type": "code",
   "execution_count": 29,
   "metadata": {},
   "outputs": [
    {
     "data": {
      "text/html": [
       "<div>\n",
       "<style scoped>\n",
       "    .dataframe tbody tr th:only-of-type {\n",
       "        vertical-align: middle;\n",
       "    }\n",
       "\n",
       "    .dataframe tbody tr th {\n",
       "        vertical-align: top;\n",
       "    }\n",
       "\n",
       "    .dataframe thead th {\n",
       "        text-align: right;\n",
       "    }\n",
       "</style>\n",
       "<table border=\"1\" class=\"dataframe\">\n",
       "  <thead>\n",
       "    <tr style=\"text-align: right;\">\n",
       "      <th></th>\n",
       "      <th>id</th>\n",
       "      <th>family_id</th>\n",
       "      <th>parent_id</th>\n",
       "      <th>name</th>\n",
       "      <th>bookkeeping</th>\n",
       "      <th>level</th>\n",
       "      <th>latitude</th>\n",
       "      <th>longitude</th>\n",
       "      <th>iso639P3code</th>\n",
       "      <th>description</th>\n",
       "      <th>markup_description</th>\n",
       "      <th>child_family_count</th>\n",
       "      <th>child_language_count</th>\n",
       "      <th>child_dialect_count</th>\n",
       "      <th>country_ids</th>\n",
       "    </tr>\n",
       "  </thead>\n",
       "  <tbody>\n",
       "    <tr>\n",
       "      <th>0</th>\n",
       "      <td>3adt1234</td>\n",
       "      <td>afro1255</td>\n",
       "      <td>nort3292</td>\n",
       "      <td>3Ad-Tekles</td>\n",
       "      <td>False</td>\n",
       "      <td>dialect</td>\n",
       "      <td>NaN</td>\n",
       "      <td>NaN</td>\n",
       "      <td>NaN</td>\n",
       "      <td>NaN</td>\n",
       "      <td>NaN</td>\n",
       "      <td>0</td>\n",
       "      <td>0</td>\n",
       "      <td>0</td>\n",
       "      <td>NaN</td>\n",
       "    </tr>\n",
       "    <tr>\n",
       "      <th>1</th>\n",
       "      <td>aala1237</td>\n",
       "      <td>aust1307</td>\n",
       "      <td>ramo1244</td>\n",
       "      <td>Aalawa</td>\n",
       "      <td>False</td>\n",
       "      <td>dialect</td>\n",
       "      <td>NaN</td>\n",
       "      <td>NaN</td>\n",
       "      <td>NaN</td>\n",
       "      <td>NaN</td>\n",
       "      <td>NaN</td>\n",
       "      <td>0</td>\n",
       "      <td>0</td>\n",
       "      <td>0</td>\n",
       "      <td>NaN</td>\n",
       "    </tr>\n",
       "    <tr>\n",
       "      <th>2</th>\n",
       "      <td>aant1238</td>\n",
       "      <td>nucl1709</td>\n",
       "      <td>nort2920</td>\n",
       "      <td>Aantantara</td>\n",
       "      <td>False</td>\n",
       "      <td>dialect</td>\n",
       "      <td>NaN</td>\n",
       "      <td>NaN</td>\n",
       "      <td>NaN</td>\n",
       "      <td>NaN</td>\n",
       "      <td>NaN</td>\n",
       "      <td>0</td>\n",
       "      <td>0</td>\n",
       "      <td>0</td>\n",
       "      <td>NaN</td>\n",
       "    </tr>\n",
       "    <tr>\n",
       "      <th>3</th>\n",
       "      <td>aari1238</td>\n",
       "      <td>sout2845</td>\n",
       "      <td>ahkk1235</td>\n",
       "      <td>Aari-Gayil</td>\n",
       "      <td>False</td>\n",
       "      <td>family</td>\n",
       "      <td>NaN</td>\n",
       "      <td>NaN</td>\n",
       "      <td>aiz</td>\n",
       "      <td>NaN</td>\n",
       "      <td>NaN</td>\n",
       "      <td>0</td>\n",
       "      <td>2</td>\n",
       "      <td>0</td>\n",
       "      <td>NaN</td>\n",
       "    </tr>\n",
       "    <tr>\n",
       "      <th>4</th>\n",
       "      <td>aari1239</td>\n",
       "      <td>sout2845</td>\n",
       "      <td>aari1238</td>\n",
       "      <td>Aari</td>\n",
       "      <td>False</td>\n",
       "      <td>language</td>\n",
       "      <td>5.95034</td>\n",
       "      <td>36.5721</td>\n",
       "      <td>aiw</td>\n",
       "      <td>NaN</td>\n",
       "      <td>NaN</td>\n",
       "      <td>0</td>\n",
       "      <td>0</td>\n",
       "      <td>0</td>\n",
       "      <td>ET</td>\n",
       "    </tr>\n",
       "    <tr>\n",
       "      <th>...</th>\n",
       "      <td>...</td>\n",
       "      <td>...</td>\n",
       "      <td>...</td>\n",
       "      <td>...</td>\n",
       "      <td>...</td>\n",
       "      <td>...</td>\n",
       "      <td>...</td>\n",
       "      <td>...</td>\n",
       "      <td>...</td>\n",
       "      <td>...</td>\n",
       "      <td>...</td>\n",
       "      <td>...</td>\n",
       "      <td>...</td>\n",
       "      <td>...</td>\n",
       "      <td>...</td>\n",
       "    </tr>\n",
       "    <tr>\n",
       "      <th>25434</th>\n",
       "      <td>zuti1239</td>\n",
       "      <td>tupi1275</td>\n",
       "      <td>guaj1255</td>\n",
       "      <td>Guajajára of Zutiua</td>\n",
       "      <td>False</td>\n",
       "      <td>dialect</td>\n",
       "      <td>NaN</td>\n",
       "      <td>NaN</td>\n",
       "      <td>NaN</td>\n",
       "      <td>NaN</td>\n",
       "      <td>NaN</td>\n",
       "      <td>0</td>\n",
       "      <td>0</td>\n",
       "      <td>0</td>\n",
       "      <td>NaN</td>\n",
       "    </tr>\n",
       "    <tr>\n",
       "      <th>25435</th>\n",
       "      <td>zuwa1238</td>\n",
       "      <td>koia1260</td>\n",
       "      <td>omie1241</td>\n",
       "      <td>Zuwadza</td>\n",
       "      <td>False</td>\n",
       "      <td>dialect</td>\n",
       "      <td>NaN</td>\n",
       "      <td>NaN</td>\n",
       "      <td>NaN</td>\n",
       "      <td>NaN</td>\n",
       "      <td>NaN</td>\n",
       "      <td>0</td>\n",
       "      <td>0</td>\n",
       "      <td>0</td>\n",
       "      <td>NaN</td>\n",
       "    </tr>\n",
       "    <tr>\n",
       "      <th>25436</th>\n",
       "      <td>zwal1238</td>\n",
       "      <td>atla1278</td>\n",
       "      <td>shal1242</td>\n",
       "      <td>Zwall</td>\n",
       "      <td>False</td>\n",
       "      <td>dialect</td>\n",
       "      <td>NaN</td>\n",
       "      <td>NaN</td>\n",
       "      <td>NaN</td>\n",
       "      <td>NaN</td>\n",
       "      <td>NaN</td>\n",
       "      <td>0</td>\n",
       "      <td>0</td>\n",
       "      <td>0</td>\n",
       "      <td>NaN</td>\n",
       "    </tr>\n",
       "    <tr>\n",
       "      <th>25437</th>\n",
       "      <td>zyph1238</td>\n",
       "      <td>sino1245</td>\n",
       "      <td>nucl1757</td>\n",
       "      <td>Zyphe</td>\n",
       "      <td>False</td>\n",
       "      <td>language</td>\n",
       "      <td>22.52400</td>\n",
       "      <td>93.2640</td>\n",
       "      <td>zyp</td>\n",
       "      <td>NaN</td>\n",
       "      <td>NaN</td>\n",
       "      <td>0</td>\n",
       "      <td>0</td>\n",
       "      <td>2</td>\n",
       "      <td>IN MM</td>\n",
       "    </tr>\n",
       "    <tr>\n",
       "      <th>25438</th>\n",
       "      <td>zyud1238</td>\n",
       "      <td>ural1272</td>\n",
       "      <td>komi1269</td>\n",
       "      <td>Zyuzdin</td>\n",
       "      <td>False</td>\n",
       "      <td>dialect</td>\n",
       "      <td>NaN</td>\n",
       "      <td>NaN</td>\n",
       "      <td>NaN</td>\n",
       "      <td>NaN</td>\n",
       "      <td>NaN</td>\n",
       "      <td>0</td>\n",
       "      <td>0</td>\n",
       "      <td>0</td>\n",
       "      <td>NaN</td>\n",
       "    </tr>\n",
       "  </tbody>\n",
       "</table>\n",
       "<p>25439 rows × 15 columns</p>\n",
       "</div>"
      ],
      "text/plain": [
       "             id family_id parent_id                 name  bookkeeping  \\\n",
       "0      3adt1234  afro1255  nort3292           3Ad-Tekles        False   \n",
       "1      aala1237  aust1307  ramo1244               Aalawa        False   \n",
       "2      aant1238  nucl1709  nort2920           Aantantara        False   \n",
       "3      aari1238  sout2845  ahkk1235           Aari-Gayil        False   \n",
       "4      aari1239  sout2845  aari1238                 Aari        False   \n",
       "...         ...       ...       ...                  ...          ...   \n",
       "25434  zuti1239  tupi1275  guaj1255  Guajajára of Zutiua        False   \n",
       "25435  zuwa1238  koia1260  omie1241              Zuwadza        False   \n",
       "25436  zwal1238  atla1278  shal1242                Zwall        False   \n",
       "25437  zyph1238  sino1245  nucl1757                Zyphe        False   \n",
       "25438  zyud1238  ural1272  komi1269              Zyuzdin        False   \n",
       "\n",
       "          level  latitude  longitude iso639P3code  description  \\\n",
       "0       dialect       NaN        NaN          NaN          NaN   \n",
       "1       dialect       NaN        NaN          NaN          NaN   \n",
       "2       dialect       NaN        NaN          NaN          NaN   \n",
       "3        family       NaN        NaN          aiz          NaN   \n",
       "4      language   5.95034    36.5721          aiw          NaN   \n",
       "...         ...       ...        ...          ...          ...   \n",
       "25434   dialect       NaN        NaN          NaN          NaN   \n",
       "25435   dialect       NaN        NaN          NaN          NaN   \n",
       "25436   dialect       NaN        NaN          NaN          NaN   \n",
       "25437  language  22.52400    93.2640          zyp          NaN   \n",
       "25438   dialect       NaN        NaN          NaN          NaN   \n",
       "\n",
       "       markup_description  child_family_count  child_language_count  \\\n",
       "0                     NaN                   0                     0   \n",
       "1                     NaN                   0                     0   \n",
       "2                     NaN                   0                     0   \n",
       "3                     NaN                   0                     2   \n",
       "4                     NaN                   0                     0   \n",
       "...                   ...                 ...                   ...   \n",
       "25434                 NaN                   0                     0   \n",
       "25435                 NaN                   0                     0   \n",
       "25436                 NaN                   0                     0   \n",
       "25437                 NaN                   0                     0   \n",
       "25438                 NaN                   0                     0   \n",
       "\n",
       "       child_dialect_count country_ids  \n",
       "0                        0         NaN  \n",
       "1                        0         NaN  \n",
       "2                        0         NaN  \n",
       "3                        0         NaN  \n",
       "4                        0          ET  \n",
       "...                    ...         ...  \n",
       "25434                    0         NaN  \n",
       "25435                    0         NaN  \n",
       "25436                    0         NaN  \n",
       "25437                    2       IN MM  \n",
       "25438                    0         NaN  \n",
       "\n",
       "[25439 rows x 15 columns]"
      ]
     },
     "execution_count": 29,
     "metadata": {},
     "output_type": "execute_result"
    }
   ],
   "source": [
    "languoids"
   ]
  },
  {
   "cell_type": "code",
   "execution_count": 30,
   "metadata": {},
   "outputs": [],
   "source": [
    "## filtremos languoids según los keys de iso_glotto :)\n",
    "\n",
    "languoids = languoids[languoids['iso639P3code'].isin(iso_glotto.keys())]"
   ]
  },
  {
   "cell_type": "code",
   "execution_count": 31,
   "metadata": {},
   "outputs": [
    {
     "data": {
      "text/html": [
       "<div>\n",
       "<style scoped>\n",
       "    .dataframe tbody tr th:only-of-type {\n",
       "        vertical-align: middle;\n",
       "    }\n",
       "\n",
       "    .dataframe tbody tr th {\n",
       "        vertical-align: top;\n",
       "    }\n",
       "\n",
       "    .dataframe thead th {\n",
       "        text-align: right;\n",
       "    }\n",
       "</style>\n",
       "<table border=\"1\" class=\"dataframe\">\n",
       "  <thead>\n",
       "    <tr style=\"text-align: right;\">\n",
       "      <th></th>\n",
       "      <th>id</th>\n",
       "      <th>family_id</th>\n",
       "      <th>parent_id</th>\n",
       "      <th>name</th>\n",
       "      <th>bookkeeping</th>\n",
       "      <th>level</th>\n",
       "      <th>latitude</th>\n",
       "      <th>longitude</th>\n",
       "      <th>iso639P3code</th>\n",
       "      <th>description</th>\n",
       "      <th>markup_description</th>\n",
       "      <th>child_family_count</th>\n",
       "      <th>child_language_count</th>\n",
       "      <th>child_dialect_count</th>\n",
       "      <th>country_ids</th>\n",
       "    </tr>\n",
       "  </thead>\n",
       "  <tbody>\n",
       "    <tr>\n",
       "      <th>49</th>\n",
       "      <td>abip1241</td>\n",
       "      <td>guai1249</td>\n",
       "      <td>guai1250</td>\n",
       "      <td>Abipon</td>\n",
       "      <td>False</td>\n",
       "      <td>language</td>\n",
       "      <td>-29.000000</td>\n",
       "      <td>-61.000000</td>\n",
       "      <td>axb</td>\n",
       "      <td>NaN</td>\n",
       "      <td>NaN</td>\n",
       "      <td>0</td>\n",
       "      <td>0</td>\n",
       "      <td>0</td>\n",
       "      <td>AR</td>\n",
       "    </tr>\n",
       "    <tr>\n",
       "      <th>50</th>\n",
       "      <td>abis1238</td>\n",
       "      <td>NaN</td>\n",
       "      <td>NaN</td>\n",
       "      <td>Aewa</td>\n",
       "      <td>False</td>\n",
       "      <td>language</td>\n",
       "      <td>-1.284096</td>\n",
       "      <td>-75.084405</td>\n",
       "      <td>ash</td>\n",
       "      <td>NaN</td>\n",
       "      <td>NaN</td>\n",
       "      <td>0</td>\n",
       "      <td>0</td>\n",
       "      <td>0</td>\n",
       "      <td>PE</td>\n",
       "    </tr>\n",
       "    <tr>\n",
       "      <th>84</th>\n",
       "      <td>acat1239</td>\n",
       "      <td>otom1299</td>\n",
       "      <td>west2948</td>\n",
       "      <td>Acatepec Me'phaa</td>\n",
       "      <td>False</td>\n",
       "      <td>language</td>\n",
       "      <td>17.103400</td>\n",
       "      <td>-99.060200</td>\n",
       "      <td>tpx</td>\n",
       "      <td>NaN</td>\n",
       "      <td>NaN</td>\n",
       "      <td>0</td>\n",
       "      <td>0</td>\n",
       "      <td>3</td>\n",
       "      <td>MX</td>\n",
       "    </tr>\n",
       "    <tr>\n",
       "      <th>88</th>\n",
       "      <td>acha1250</td>\n",
       "      <td>araw1281</td>\n",
       "      <td>piap1247</td>\n",
       "      <td>Achagua</td>\n",
       "      <td>False</td>\n",
       "      <td>language</td>\n",
       "      <td>4.386490</td>\n",
       "      <td>-72.200500</td>\n",
       "      <td>aca</td>\n",
       "      <td>NaN</td>\n",
       "      <td>NaN</td>\n",
       "      <td>0</td>\n",
       "      <td>0</td>\n",
       "      <td>0</td>\n",
       "      <td>CO</td>\n",
       "    </tr>\n",
       "    <tr>\n",
       "      <th>92</th>\n",
       "      <td>ache1246</td>\n",
       "      <td>tupi1275</td>\n",
       "      <td>tupi1277</td>\n",
       "      <td>Aché</td>\n",
       "      <td>False</td>\n",
       "      <td>language</td>\n",
       "      <td>-25.586500</td>\n",
       "      <td>-56.469700</td>\n",
       "      <td>guq</td>\n",
       "      <td>NaN</td>\n",
       "      <td>NaN</td>\n",
       "      <td>0</td>\n",
       "      <td>0</td>\n",
       "      <td>0</td>\n",
       "      <td>PY</td>\n",
       "    </tr>\n",
       "    <tr>\n",
       "      <th>...</th>\n",
       "      <td>...</td>\n",
       "      <td>...</td>\n",
       "      <td>...</td>\n",
       "      <td>...</td>\n",
       "      <td>...</td>\n",
       "      <td>...</td>\n",
       "      <td>...</td>\n",
       "      <td>...</td>\n",
       "      <td>...</td>\n",
       "      <td>...</td>\n",
       "      <td>...</td>\n",
       "      <td>...</td>\n",
       "      <td>...</td>\n",
       "      <td>...</td>\n",
       "      <td>...</td>\n",
       "    </tr>\n",
       "    <tr>\n",
       "      <th>25287</th>\n",
       "      <td>zapa1253</td>\n",
       "      <td>zapa1251</td>\n",
       "      <td>zapa1252</td>\n",
       "      <td>Záparo</td>\n",
       "      <td>False</td>\n",
       "      <td>language</td>\n",
       "      <td>-1.998710</td>\n",
       "      <td>-76.364000</td>\n",
       "      <td>zro</td>\n",
       "      <td>NaN</td>\n",
       "      <td>NaN</td>\n",
       "      <td>0</td>\n",
       "      <td>0</td>\n",
       "      <td>0</td>\n",
       "      <td>EC PE</td>\n",
       "    </tr>\n",
       "    <tr>\n",
       "      <th>25331</th>\n",
       "      <td>zenz1235</td>\n",
       "      <td>otom1299</td>\n",
       "      <td>core1263</td>\n",
       "      <td>Zenzontepec Chatino</td>\n",
       "      <td>False</td>\n",
       "      <td>language</td>\n",
       "      <td>16.527990</td>\n",
       "      <td>-97.455460</td>\n",
       "      <td>czn</td>\n",
       "      <td>NaN</td>\n",
       "      <td>NaN</td>\n",
       "      <td>0</td>\n",
       "      <td>0</td>\n",
       "      <td>0</td>\n",
       "      <td>MX</td>\n",
       "    </tr>\n",
       "    <tr>\n",
       "      <th>25389</th>\n",
       "      <td>zoee1240</td>\n",
       "      <td>tupi1275</td>\n",
       "      <td>zoee1241</td>\n",
       "      <td>Zo'é</td>\n",
       "      <td>False</td>\n",
       "      <td>language</td>\n",
       "      <td>-1.772080</td>\n",
       "      <td>-55.507460</td>\n",
       "      <td>pto</td>\n",
       "      <td>NaN</td>\n",
       "      <td>NaN</td>\n",
       "      <td>0</td>\n",
       "      <td>0</td>\n",
       "      <td>0</td>\n",
       "      <td>BR</td>\n",
       "    </tr>\n",
       "    <tr>\n",
       "      <th>25397</th>\n",
       "      <td>zoog1238</td>\n",
       "      <td>otom1299</td>\n",
       "      <td>cajo1239</td>\n",
       "      <td>Zoogocho Zapotec</td>\n",
       "      <td>False</td>\n",
       "      <td>language</td>\n",
       "      <td>17.201600</td>\n",
       "      <td>-96.343300</td>\n",
       "      <td>zpq</td>\n",
       "      <td>NaN</td>\n",
       "      <td>NaN</td>\n",
       "      <td>0</td>\n",
       "      <td>0</td>\n",
       "      <td>3</td>\n",
       "      <td>MX US</td>\n",
       "    </tr>\n",
       "    <tr>\n",
       "      <th>25428</th>\n",
       "      <td>zuni1245</td>\n",
       "      <td>NaN</td>\n",
       "      <td>NaN</td>\n",
       "      <td>Zuni</td>\n",
       "      <td>False</td>\n",
       "      <td>language</td>\n",
       "      <td>35.005600</td>\n",
       "      <td>-108.782000</td>\n",
       "      <td>zun</td>\n",
       "      <td>NaN</td>\n",
       "      <td>NaN</td>\n",
       "      <td>0</td>\n",
       "      <td>0</td>\n",
       "      <td>0</td>\n",
       "      <td>US</td>\n",
       "    </tr>\n",
       "  </tbody>\n",
       "</table>\n",
       "<p>1260 rows × 15 columns</p>\n",
       "</div>"
      ],
      "text/plain": [
       "             id family_id parent_id                 name  bookkeeping  \\\n",
       "49     abip1241  guai1249  guai1250               Abipon        False   \n",
       "50     abis1238       NaN       NaN                 Aewa        False   \n",
       "84     acat1239  otom1299  west2948     Acatepec Me'phaa        False   \n",
       "88     acha1250  araw1281  piap1247              Achagua        False   \n",
       "92     ache1246  tupi1275  tupi1277                 Aché        False   \n",
       "...         ...       ...       ...                  ...          ...   \n",
       "25287  zapa1253  zapa1251  zapa1252               Záparo        False   \n",
       "25331  zenz1235  otom1299  core1263  Zenzontepec Chatino        False   \n",
       "25389  zoee1240  tupi1275  zoee1241                 Zo'é        False   \n",
       "25397  zoog1238  otom1299  cajo1239     Zoogocho Zapotec        False   \n",
       "25428  zuni1245       NaN       NaN                 Zuni        False   \n",
       "\n",
       "          level   latitude   longitude iso639P3code  description  \\\n",
       "49     language -29.000000  -61.000000          axb          NaN   \n",
       "50     language  -1.284096  -75.084405          ash          NaN   \n",
       "84     language  17.103400  -99.060200          tpx          NaN   \n",
       "88     language   4.386490  -72.200500          aca          NaN   \n",
       "92     language -25.586500  -56.469700          guq          NaN   \n",
       "...         ...        ...         ...          ...          ...   \n",
       "25287  language  -1.998710  -76.364000          zro          NaN   \n",
       "25331  language  16.527990  -97.455460          czn          NaN   \n",
       "25389  language  -1.772080  -55.507460          pto          NaN   \n",
       "25397  language  17.201600  -96.343300          zpq          NaN   \n",
       "25428  language  35.005600 -108.782000          zun          NaN   \n",
       "\n",
       "       markup_description  child_family_count  child_language_count  \\\n",
       "49                    NaN                   0                     0   \n",
       "50                    NaN                   0                     0   \n",
       "84                    NaN                   0                     0   \n",
       "88                    NaN                   0                     0   \n",
       "92                    NaN                   0                     0   \n",
       "...                   ...                 ...                   ...   \n",
       "25287                 NaN                   0                     0   \n",
       "25331                 NaN                   0                     0   \n",
       "25389                 NaN                   0                     0   \n",
       "25397                 NaN                   0                     0   \n",
       "25428                 NaN                   0                     0   \n",
       "\n",
       "       child_dialect_count country_ids  \n",
       "49                       0          AR  \n",
       "50                       0          PE  \n",
       "84                       3          MX  \n",
       "88                       0          CO  \n",
       "92                       0          PY  \n",
       "...                    ...         ...  \n",
       "25287                    0       EC PE  \n",
       "25331                    0          MX  \n",
       "25389                    0          BR  \n",
       "25397                    3       MX US  \n",
       "25428                    0          US  \n",
       "\n",
       "[1260 rows x 15 columns]"
      ]
     },
     "execution_count": 31,
     "metadata": {},
     "output_type": "execute_result"
    }
   ],
   "source": [
    "languoids"
   ]
  },
  {
   "cell_type": "code",
   "execution_count": 32,
   "metadata": {},
   "outputs": [],
   "source": [
    "languoids = languoids[['id','family_id']]"
   ]
  },
  {
   "cell_type": "code",
   "execution_count": 33,
   "metadata": {},
   "outputs": [
    {
     "data": {
      "text/html": [
       "<div>\n",
       "<style scoped>\n",
       "    .dataframe tbody tr th:only-of-type {\n",
       "        vertical-align: middle;\n",
       "    }\n",
       "\n",
       "    .dataframe tbody tr th {\n",
       "        vertical-align: top;\n",
       "    }\n",
       "\n",
       "    .dataframe thead th {\n",
       "        text-align: right;\n",
       "    }\n",
       "</style>\n",
       "<table border=\"1\" class=\"dataframe\">\n",
       "  <thead>\n",
       "    <tr style=\"text-align: right;\">\n",
       "      <th></th>\n",
       "      <th>id</th>\n",
       "      <th>family_id</th>\n",
       "    </tr>\n",
       "  </thead>\n",
       "  <tbody>\n",
       "    <tr>\n",
       "      <th>49</th>\n",
       "      <td>abip1241</td>\n",
       "      <td>guai1249</td>\n",
       "    </tr>\n",
       "    <tr>\n",
       "      <th>50</th>\n",
       "      <td>abis1238</td>\n",
       "      <td>NaN</td>\n",
       "    </tr>\n",
       "    <tr>\n",
       "      <th>84</th>\n",
       "      <td>acat1239</td>\n",
       "      <td>otom1299</td>\n",
       "    </tr>\n",
       "    <tr>\n",
       "      <th>88</th>\n",
       "      <td>acha1250</td>\n",
       "      <td>araw1281</td>\n",
       "    </tr>\n",
       "    <tr>\n",
       "      <th>92</th>\n",
       "      <td>ache1246</td>\n",
       "      <td>tupi1275</td>\n",
       "    </tr>\n",
       "    <tr>\n",
       "      <th>...</th>\n",
       "      <td>...</td>\n",
       "      <td>...</td>\n",
       "    </tr>\n",
       "    <tr>\n",
       "      <th>25287</th>\n",
       "      <td>zapa1253</td>\n",
       "      <td>zapa1251</td>\n",
       "    </tr>\n",
       "    <tr>\n",
       "      <th>25331</th>\n",
       "      <td>zenz1235</td>\n",
       "      <td>otom1299</td>\n",
       "    </tr>\n",
       "    <tr>\n",
       "      <th>25389</th>\n",
       "      <td>zoee1240</td>\n",
       "      <td>tupi1275</td>\n",
       "    </tr>\n",
       "    <tr>\n",
       "      <th>25397</th>\n",
       "      <td>zoog1238</td>\n",
       "      <td>otom1299</td>\n",
       "    </tr>\n",
       "    <tr>\n",
       "      <th>25428</th>\n",
       "      <td>zuni1245</td>\n",
       "      <td>NaN</td>\n",
       "    </tr>\n",
       "  </tbody>\n",
       "</table>\n",
       "<p>1260 rows × 2 columns</p>\n",
       "</div>"
      ],
      "text/plain": [
       "             id family_id\n",
       "49     abip1241  guai1249\n",
       "50     abis1238       NaN\n",
       "84     acat1239  otom1299\n",
       "88     acha1250  araw1281\n",
       "92     ache1246  tupi1275\n",
       "...         ...       ...\n",
       "25287  zapa1253  zapa1251\n",
       "25331  zenz1235  otom1299\n",
       "25389  zoee1240  tupi1275\n",
       "25397  zoog1238  otom1299\n",
       "25428  zuni1245       NaN\n",
       "\n",
       "[1260 rows x 2 columns]"
      ]
     },
     "execution_count": 33,
     "metadata": {},
     "output_type": "execute_result"
    }
   ],
   "source": [
    "languoids"
   ]
  },
  {
   "cell_type": "code",
   "execution_count": 34,
   "metadata": {},
   "outputs": [],
   "source": [
    "languoids = languoids.dropna()"
   ]
  },
  {
   "cell_type": "code",
   "execution_count": 35,
   "metadata": {},
   "outputs": [
    {
     "data": {
      "text/html": [
       "<div>\n",
       "<style scoped>\n",
       "    .dataframe tbody tr th:only-of-type {\n",
       "        vertical-align: middle;\n",
       "    }\n",
       "\n",
       "    .dataframe tbody tr th {\n",
       "        vertical-align: top;\n",
       "    }\n",
       "\n",
       "    .dataframe thead th {\n",
       "        text-align: right;\n",
       "    }\n",
       "</style>\n",
       "<table border=\"1\" class=\"dataframe\">\n",
       "  <thead>\n",
       "    <tr style=\"text-align: right;\">\n",
       "      <th></th>\n",
       "      <th>id</th>\n",
       "      <th>family_id</th>\n",
       "    </tr>\n",
       "  </thead>\n",
       "  <tbody>\n",
       "    <tr>\n",
       "      <th>49</th>\n",
       "      <td>abip1241</td>\n",
       "      <td>guai1249</td>\n",
       "    </tr>\n",
       "    <tr>\n",
       "      <th>84</th>\n",
       "      <td>acat1239</td>\n",
       "      <td>otom1299</td>\n",
       "    </tr>\n",
       "    <tr>\n",
       "      <th>88</th>\n",
       "      <td>acha1250</td>\n",
       "      <td>araw1281</td>\n",
       "    </tr>\n",
       "    <tr>\n",
       "      <th>92</th>\n",
       "      <td>ache1246</td>\n",
       "      <td>tupi1275</td>\n",
       "    </tr>\n",
       "    <tr>\n",
       "      <th>96</th>\n",
       "      <td>achi1256</td>\n",
       "      <td>maya1287</td>\n",
       "    </tr>\n",
       "    <tr>\n",
       "      <th>...</th>\n",
       "      <td>...</td>\n",
       "      <td>...</td>\n",
       "    </tr>\n",
       "    <tr>\n",
       "      <th>25277</th>\n",
       "      <td>zani1235</td>\n",
       "      <td>otom1299</td>\n",
       "    </tr>\n",
       "    <tr>\n",
       "      <th>25287</th>\n",
       "      <td>zapa1253</td>\n",
       "      <td>zapa1251</td>\n",
       "    </tr>\n",
       "    <tr>\n",
       "      <th>25331</th>\n",
       "      <td>zenz1235</td>\n",
       "      <td>otom1299</td>\n",
       "    </tr>\n",
       "    <tr>\n",
       "      <th>25389</th>\n",
       "      <td>zoee1240</td>\n",
       "      <td>tupi1275</td>\n",
       "    </tr>\n",
       "    <tr>\n",
       "      <th>25397</th>\n",
       "      <td>zoog1238</td>\n",
       "      <td>otom1299</td>\n",
       "    </tr>\n",
       "  </tbody>\n",
       "</table>\n",
       "<p>1184 rows × 2 columns</p>\n",
       "</div>"
      ],
      "text/plain": [
       "             id family_id\n",
       "49     abip1241  guai1249\n",
       "84     acat1239  otom1299\n",
       "88     acha1250  araw1281\n",
       "92     ache1246  tupi1275\n",
       "96     achi1256  maya1287\n",
       "...         ...       ...\n",
       "25277  zani1235  otom1299\n",
       "25287  zapa1253  zapa1251\n",
       "25331  zenz1235  otom1299\n",
       "25389  zoee1240  tupi1275\n",
       "25397  zoog1238  otom1299\n",
       "\n",
       "[1184 rows x 2 columns]"
      ]
     },
     "execution_count": 35,
     "metadata": {},
     "output_type": "execute_result"
    }
   ],
   "source": [
    "languoids"
   ]
  },
  {
   "cell_type": "code",
   "execution_count": 36,
   "metadata": {},
   "outputs": [],
   "source": [
    "## resolvamos, ahora, una pregunta que ya hemos resuelto. Definamos un diccionario glottocode:familia\n",
    "\n",
    "diccionario_glottocode_fam = {}\n",
    "## primero, recorremos los índices\n",
    "\n",
    "for i in languoids.index:\n",
    "    diccionario_glottocode_fam[languoids.loc[i,'id']]=languoids.loc[i,'family_id']"
   ]
  },
  {
   "cell_type": "code",
   "execution_count": 37,
   "metadata": {},
   "outputs": [
    {
     "data": {
      "text/plain": [
       "1184"
      ]
     },
     "execution_count": 37,
     "metadata": {},
     "output_type": "execute_result"
    }
   ],
   "source": [
    "len(diccionario_glottocode_fam)"
   ]
  },
  {
   "cell_type": "markdown",
   "metadata": {},
   "source": [
    "## Parte B. **texto!**"
   ]
  },
  {
   "cell_type": "code",
   "execution_count": 62,
   "metadata": {},
   "outputs": [
    {
     "data": {
      "text/plain": [
       "1260"
      ]
     },
     "execution_count": 62,
     "metadata": {},
     "output_type": "execute_result"
    }
   ],
   "source": [
    "len(iso_glotto)"
   ]
  },
  {
   "cell_type": "code",
   "execution_count": 68,
   "metadata": {},
   "outputs": [
    {
     "data": {
      "text/plain": [
       "'kaz'"
      ]
     },
     "execution_count": 68,
     "metadata": {},
     "output_type": "execute_result"
    }
   ],
   "source": [
    "#'udhr/udhr_kaz.txt'[10:13]"
   ]
  },
  {
   "cell_type": "code",
   "execution_count": 69,
   "metadata": {},
   "outputs": [],
   "source": [
    "## supongamos que queremos leer los archivos de la carpeta udhr\n",
    "## ¿Qué pasa si no sabemos los nombres? ¿Y si solo sabemos que son archivos .txt? :)\n",
    "\n",
    "import glob\n",
    "\n",
    "lista_files = glob.glob('udhr/*.txt')\n",
    "corpus = {}\n",
    "\n",
    "for file in lista_files:\n",
    "    ## lista de lenguas\n",
    "    if file[10:13] in iso_glotto.keys():\n",
    "        with open(file, 'r') as file_input:\n",
    "            corpus[file[10:13]]=file_input.read()"
   ]
  },
  {
   "cell_type": "code",
   "execution_count": 84,
   "metadata": {},
   "outputs": [],
   "source": [
    "## ahora, lo mismo pero con pandas!\n",
    "\n",
    "import glob\n",
    "\n",
    "lista_files = glob.glob('udhr/*.txt')\n",
    "\n",
    "corpus = {}\n",
    "\n",
    "for file in lista_files:\n",
    "    \n",
    "    if file[10:13] in iso_glotto.keys():\n",
    "        dataframe = pd.read_csv(file, sep='\\n', header=None)\n",
    "        dataframe.columns = ['sentences']\n",
    "        corpus[file[10:13]]=list(dataframe['sentences'])"
   ]
  },
  {
   "cell_type": "code",
   "execution_count": 86,
   "metadata": {},
   "outputs": [
    {
     "ename": "FileNotFoundError",
     "evalue": "[Errno 2] No such file or directory: 'udhr/udhr_axb.txt'",
     "output_type": "error",
     "traceback": [
      "\u001b[0;31m---------------------------------------------------------------------------\u001b[0m",
      "\u001b[0;31mFileNotFoundError\u001b[0m                         Traceback (most recent call last)",
      "\u001b[0;32m<ipython-input-86-9dfa4d3171db>\u001b[0m in \u001b[0;36m<module>\u001b[0;34m\u001b[0m\n\u001b[1;32m      4\u001b[0m \u001b[0;34m\u001b[0m\u001b[0m\n\u001b[1;32m      5\u001b[0m \u001b[0;32mfor\u001b[0m \u001b[0mlengua\u001b[0m \u001b[0;32min\u001b[0m \u001b[0miso_glotto\u001b[0m\u001b[0;34m.\u001b[0m\u001b[0mkeys\u001b[0m\u001b[0;34m(\u001b[0m\u001b[0;34m)\u001b[0m\u001b[0;34m:\u001b[0m\u001b[0;34m\u001b[0m\u001b[0;34m\u001b[0m\u001b[0m\n\u001b[0;32m----> 6\u001b[0;31m     \u001b[0mfile\u001b[0m \u001b[0;34m=\u001b[0m \u001b[0mopen\u001b[0m\u001b[0;34m(\u001b[0m\u001b[0;34m'udhr/'\u001b[0m\u001b[0;34m+\u001b[0m\u001b[0;34m'udhr_'\u001b[0m\u001b[0;34m+\u001b[0m\u001b[0mlengua\u001b[0m\u001b[0;34m+\u001b[0m\u001b[0;34m'.txt'\u001b[0m\u001b[0;34m,\u001b[0m\u001b[0;34m'r'\u001b[0m\u001b[0;34m)\u001b[0m\u001b[0;34m\u001b[0m\u001b[0;34m\u001b[0m\u001b[0m\n\u001b[0m\u001b[1;32m      7\u001b[0m     \u001b[0mfile\u001b[0m \u001b[0;34m=\u001b[0m \u001b[0mfile\u001b[0m\u001b[0;34m.\u001b[0m\u001b[0mread\u001b[0m\u001b[0;34m(\u001b[0m\u001b[0;34m)\u001b[0m\u001b[0;34m\u001b[0m\u001b[0;34m\u001b[0m\u001b[0m\n\u001b[1;32m      8\u001b[0m     \u001b[0mcorpus\u001b[0m\u001b[0;34m[\u001b[0m\u001b[0mlengua\u001b[0m\u001b[0;34m]\u001b[0m\u001b[0;34m=\u001b[0m\u001b[0mfile\u001b[0m\u001b[0;34m\u001b[0m\u001b[0;34m\u001b[0m\u001b[0m\n",
      "\u001b[0;31mFileNotFoundError\u001b[0m: [Errno 2] No such file or directory: 'udhr/udhr_axb.txt'"
     ]
    }
   ],
   "source": [
    "## tercera versión!!! supongamos que sabemos los nombres de los archivos\n",
    "\n",
    "corpus = {}\n",
    "\n",
    "for lengua in iso_glotto.keys():\n",
    "    file = open('udhr/'+'udhr_'+lengua+'.txt','r')\n",
    "    file = file.read()\n",
    "    corpus[lengua]=file"
   ]
  },
  {
   "cell_type": "code",
   "execution_count": 87,
   "metadata": {},
   "outputs": [],
   "source": [
    "## ¿Qué hacemos con este error? De alguna forma, estamos tratando de abrir archivos que no existen :)\n",
    "\n",
    "corpus = {}\n",
    "\n",
    "for lengua in iso_glotto.keys():\n",
    "    \n",
    "    ## noten la secuencia try-except. Usamos el error\n",
    "    \n",
    "    try:\n",
    "        file = open('udhr/'+'udhr_'+lengua+'.txt','r')\n",
    "        file = file.read()\n",
    "        corpus[lengua]=file\n",
    "    except FileNotFoundError:\n",
    "        pass"
   ]
  },
  {
   "cell_type": "code",
   "execution_count": 88,
   "metadata": {},
   "outputs": [
    {
     "data": {
      "text/plain": [
       "'Universal Declaration of Human Rights - Mapudungun\\n© 1996 – 2009 The Office of the High Commissioner for Human Rights\\nThis plain text version prepared by the “UDHR in Unicode”\\nproject, https://www.unicode.org/udhr.\\n---\\n\\nKom Mapu Fijke Az Tañi Az Mogeleam\\n    Tuwvlzugun\\n    (\"Preámbulo\" pi ta wigka)\\n    Kimnieel fij mapu mew tañi kimgen kvme felen kisugvnew felen xvr kvme mvlen. Tvfaci zugu ñi mvleken mvleyem yamvwvn ka xvr kvme nor felen kom pu reñmawke ce mew.\\n    Gewenonmu yamuwvn, zuamgewenonmu kvme felen, goymagenmu nor felen mvley re jazkvnkawvn: Fey mew mvley xvrvmzugu kom pu ce tañi kvme mogeleam kisuke ñi feyentun mew, kisu ñi rakizuam mew ka ñi wimtun mew ñi mvleal egvn.\\n    Tañi mvlenoam kaiñetuwvn zugu, awkan zugu tvfeyci wezake vbmen egvn mvley tañi xvrvmuwael tvfeyci wvnenkvleci pu ce zugu mew tañi yamgeam xvr kvme nor felen.\\n    Ka kimnieel ñi rvf kvme zugugen, wenvykawvn kom pu Xokiñke Ce egvn, nuwkvlelu Kiñe Mapu mew (\"Naciones Unidas\" pi ta wigka): Tvfa egvn xawvlelu \"Naciones Unidas\" mew nuwtuaygvn tvfaci \"Fvxa Cijka\" mew kvme xvr norkvletuam ñi mogen kom pu wenxu ka pu zomo mvlelu ixofij mapu mew feyci, kom xawvci pu ce tañi werkvel ci Pu Xokinke Ce (\"Estados Miembros\" pi ta wigka) mvlelu fij mapu kom pvle kejuwayiñ taiñ yamfalafiel xvr kvme felen ka nor felen piwigvn.\\n    Femueci mvlcy ñi kimniegeael kom mapu mew nor kvme felen ka kisugvnew mvlen tvfaci rakizuam kvzaw mew.\\n    Fey mew Fvxa Xawvn mew (\"Asamblea General\" pi ta wigka)\\n    Wixañpvramgey tvfaci Fvxa Cijka Kom Mapu Fijke Az Ce Tañi Az Mogeleam pigelu.\\n    Rvf kvme zugugelu am fey mew ta mvley tañi kvzawael kom pu ce fij mapu mew, pu fvxake vbmen, kom pu ce wvnenkvlelu cem zugu mew rume, pu wenxu ka pu zomo mvley tañi newenmayafiel ka wenuñpvramafiel tvfaci zugu az mogeleam kom pu mogen ce, fey mew ta yamgeay xvr felen ka nor felen tvfaci mogen mew.\\n  \\n    Kiñe Xoy (1)\\n    Kom pu mogence kisuzuam mvlekey, kom cegeygvn, logkogeygvn ka piwkegeygvn, nieygvn kimvn fey mew mvley tañi yamniewael ka epuñpvle kejuwael egvn.\\n  \\n    Epu Xoy (2)\\n    KIÑE. Kom xipace, fijke mojfvñ ce wixapvraley ñi kvme felen, nor felen tvfaci Fvxa Cijka mew, cumgeay rume ñi zugun, ñi wimtun, cem azgeay rume, cem kimvn rume nieay.\\n    EPU. Kom pu xokiñ ce, cem az mogengeayrume mvlelu fij mapu, ka femueci xvr nvwkvley tvfaci Fvxa Cijka mew.\\n  \\n    Kvla Xoy (3)\\n    Kom ce mvley ñi mogeleael, kisugvnew feleael ka yamniegeael.\\n  \\n    Meli Xoy (4)\\n    Iney rume gelay ñi xafkiñtuceael. Gewelayay xafkiñtucen ran mew kuyfi reke.\\n  \\n    Kecu Xoy (5)\\n    Cem ce rume wezakamekegelayay, kupafkamekegelayay.\\n  \\n    Kayu Xoy (6)\\n    Kom ce fij mapu mew mvley ñi kimgeael, wirintukulelu am ñi vy wigka zugu mew (\"Personalidad Jurídica\" pi ta wigka).\\n  \\n    Reqle Xoy (7)\\n    Kom femgey ce wigka ñi wirikon zugu mew (\"Ley\" pi ta wigka) fey mew kom pu ce pepi nvway tvfaci zugu mew. Yamgerumenole cuci sugu rume wirintukulelu tvfaci \"Fvxa Cijka\" mew.\\n  \\n    Pura Xoy (8)\\n    Pu wigka mew mvley kiñe ruka cew ñi norvmgekemum ixofij wezake zugu; fey mew pepi nvway kom pu ce tañi igkañmageam, yamvñmagenole tvfeyci nor zugu wirintukulelu fvta cijka mew \"Constitución\" pigelu, nielu kom pu xokiñke ce fij mapu.\\n  \\n    Ayja Xoy (9)\\n    Gelay iney rume ñi koraltukugeael ka wemvnentugeael ka wemvnentugeael tañi mapu mew wezakamekenole.\\n  \\n    Mari Xoy (10)\\n    Tvfeyci wigka norvmzuguwe ruka mew, kom pu ce mvley ajkvtuñmageael ñi zugu, tañi kimgeam ñi weza femvn kam femnon ka tañi kimgeam cumueci ñi feletuael ragi kakelu pu ce.\\n  \\n    Mari Kiñe Xoy (11)\\n    \\n      \\n\\tKIÑE. Cem ce rume kimvñmagenole ñi weza femvn gelay cumuelu tañi zajuñmageael ka mvley ñi eluñmageael tañi igkawam.\\n      \\n      \\n\\tEPU. Kuyfi iney rume weza femfule, feyci mew zajufalnofule tvfeyci zugu gelay cumuelu ñi zajuñmageael fewla. Ka gelay cumuelu ñi zoy fvxa zajuñmageael feypilenole fewla tvfeyci nor zugu mew wirintukulelu Fvxa Cijka mew.\\n      \\n    \\n  \\n    Mari Epu Xoy (12)\\n    Wigka ñi wirikon zugu mew (\"Ley\" pi ta wigka) nvwkvley kom pu ce ka fey mew mvley ñi igkañmageael egvn kake ce zugukonle ñi mogen mew, kam ka ce pekanka lef konle ñi ruka mew, kom tañi felen mew ka wezaka zuguyekañmagele.\\n  \\n    Mari Kvla Xoy (13)\\n    \\n      \\n\\tKIÑE. Kom pu ce mvley ñi kisugvnew miyawael xokiñke ce (\"Estados\" pi ta wigka) ñi mapu mew.\\n      \\n      \\n\\tEPU. Kom pu ce pepi xipayay cem xokiñke ce (\"Estado\" pi ta wigka) mew rume ka kisu ñi mvlemum, welu ka pepi wiñotuay.\\n      \\n    \\n  \\n    Mari Meli Xoy (14)\\n    \\n      \\n\\tKIÑE. Cem zugu mew rume inayawgele cem ce rume, tvfa mvley ñi gvnaytuniegeael (\"asilar\" pi ta wigka) cem xokiñ ce mew rume.\\n      \\n      \\n\\tEPU. Welu tvfeyci gvnaytucen kvmelayay, rvf weza femle tvfaci ce, inayawlel (lagvmle, weñele) ka yamnofile tvfaci \"Naciones Unidas\" ñi wixañpvramnieel ci zugu.\\n      \\n    \\n  \\n    Mari Kecu Xoy (15)\\n    \\n      \\n\\tKIÑE. Kom pu ce pepi nvwkvleay cem az mogen (\"nacionalidad\" pi ta wigka) mew rume.\\n      \\n      \\n\\tEPU. Iney rume mvntuñmagelayay ñi az mogen (\"nacionalidad\") ka pepi nvway ka konaygvn kake az mogen mew kvpa femle egvn.\\n      \\n    \\n  \\n    Mari Kayu Xoy (16)\\n    \\n      \\n\\tKIÑE. Kom pu zomo ka pu wenxu pepi kureyeway kvpa kvreyewle cem xipacegeaygu rume, kekewme az mogen nieaygu rume. Kvpa niele kisu ñi pu fvren egu femaygu mvten. Ka femueci kvme feleaygu: iney rume cumekelayaygu egu kurewenkvlen kam wvzatule egu rume.\\n      \\n      \\n\\tEPU. Tvfaci epu ce re kisuzuam pile egu mvten fey wvla pepi kureyewaygu.\\n      \\n      \\n\\tKVLA. Kom pu fijke ce reñmawengenofule gelayafuy ce kom mapu, fey mew ta pu xokiñ ce (\"Estado\" pi ta wigka) ka kom pu ce mvley tañi gvnaytunieael fijke fvrenwen ka reñmawen.\\n      \\n    \\n  \\n    Mari Reqle Xoy (17)\\n    \\n      \\n\\tKIÑE. Kom pu ce mvley kisu ñi gengeael, ka xokiñke ce ñi gengeael cemu rume.\\n      \\n      \\n\\tEPU. Iney rume pekanka mvntuñmagelayay ñi nieel (cemgeay rume).\\n      \\n    \\n  \\n    Mari Pura Xoy (18)\\n    Cem rakizuam rume cem feyentun rume nieay fij pu ce gelayay cumuelu ñi mvntuñmageael ka takuñmageael. Kisuzuam kvpa konle kake feyentun mew femay mvten, kvpa kimelle ñi rakizuam ka feyentun ka pepi kimelafi.\\n  \\n    Mari Ayja Xoy (19)\\n    Kom pu ce pepi entuay ñi rakizuam ka zugu, ka pepi kimellafi kompvle cumueci rume (radiomu, telemu, wirinmu) ka pepi kintuay, ramtuay ka joway zugu tañi kvzawkvlenmu. Ka femueci tvfaci zugu pepi kimellafi cew rume.\\n  \\n    Epu Mari Xoy (20)\\n    \\n      \\n\\tKIÑE. Kom pu ce kisu ñi gvnewmu pepi xawvay cem piei xokiñ ce egvn rume.\\n      \\n      \\n\\tEPU. Welu cem ce rume pinole ñi konaeal cem xokiñ ce ñi kvzaw mew rume, gelay cumuelu ñi gagegeael.\\n      \\n    \\n  \\n    Epu Mari Kiñe Xoy (21)\\n    \\n      \\n\\tKIÑE. Cem ce rume pepi konay logkolealu tvfeyci xokiñ ce mew nvwkvlelu Kiñe Mapu mew (\"País\" pi ta wigka) kam werkvaygvn kiñe ce kisu egvn tañi zujiel.\\n      \\n      \\n\\tEPU. Kom pu ce xvr pepi konay tañi kiñe Mapu Xokiñ ce mew ñi cem kvzaw mew rume.\\n      \\n      \\n\\tKVLA. Tvfey ci Kiñe Mapu Xokiñ ce mew logkolelu: Logkogey kom pu ce mvlelu fey ci xokiñmu tañi zuam. Tvfa ci pu ce mvxvmmuway tañi zujiam ñi logko egvn, kom xvr pepi feypiaygvn iney tañi zuamniefiel tañi logkogeal.\\n      \\n    \\n  \\n    Epu Mari Epu Xoy (22)\\n    Tvfey ci logkolelu Kiñe Mapu Xokiñ Ce mew mvley wvlael ixofij keju tañi kvme feleam ka kvme mogeleam kom pu ce mvlelu tvfey ci Xokiñ mew. Tvfaci logko kvme pepi kejunole ñi pu ce mvley tañi kejuaetew kake Mapu Xokiñ Ce.\\n  \\n    Epu Mari Kvla Xoy (23)\\n    \\n      \\n\\tKIÑE. Kom pu ce mvley ñi nieael kvzaw, mvley kisu zujiael ñi kvzaw femueci ta xvr feleay ta pu ce. Cem ce rumje penoloe kvzaw mvley tañi gvnaytunieaetew wvnenkvleci pu ce ixofij zugu mew, tañi Kiñe Mapu Xokiñ Ce mew.\\n      \\n      \\n\\tEPU. Kom pu ce cumgeay rume mvley ñi kom xvr kujigeael tañi kvzaw mew egvn.\\n      \\n      \\n\\tKVLA. Kom Kvzawci pu ce mvley ñi kvme kujiniegeael; tañi kvme mogeleam ka kvme mogelneam ñi pu fvren. Puwjenole tvfaci mogeam, mvley ñi kejugeael tañi Kiñe Mapu Xokiñ Ce mew.\\n      \\n      \\n\\tMELI. Tvfeyci pu kvzawfe rvf kvme felenole, yamvñmagenole ñi zugu egvn pepi xawvluwaygvn tañi kinewvn igkawam egvn.\\n      \\n    \\n  \\n    Epu Mari Meli Xoy (24)\\n    Kom Kvzawfe pu ce mvley ñi vrkvtuael ñi kvzaw mew, ka tañi zoy kvzawnoam, yamvñmageael ñi orario ka tañi kiñe mufv antv vrkvtuael fij xipantu.\\n  \\n    Epu Mari Kecu Xoy (25)\\n    \\n      \\n\\tKIÑE. Kom pu ce mvley ñi kvme mogen nieael; kuxanle egvn tañi peael lawen, tañi kvme iyael egvn, kvme tukuluwvn ñi peael, kvme ruka mew ñi mvleael, tañi peael lawentufe ce egvn. Tvfa rume falile tañi keju kujigeael. Ka femueci pepi kvzawnole mvley ñi kejuaetew ka gvnaytuaetew pu wvnenkvleci pu ce ixofij zugu mew tañi Kiñe Mapu Xokiñ mew.\\n      \\n      \\n\\tEPU. Pvñeñci pu zomo ka mvle-mvlegeci pu picike ce mvley ñi peaetew ka kejuaetew kvmeke lawentucefe ka femueci kom pu picike ce mvley ñi gvnaytuniegeael kom pu Xokiñ Ce mew.\\n      \\n    \\n  \\n    Epu Mari Kayu Xoy (26)\\n    \\n      \\n\\tKIÑE. Kom pu ce pepi kimay fij cijkatun, cem ce rume kujilayay tañi kimam. Welu kom pu ce mvley tañi rvf kimelgeael fij zugu wvneluw cijkatukeel tañi kim cegeam. Cem ce rume zoy kvpa cijkatule tañi zoy kimam femay mvten ka kom pu ce cumgeay rume, pepi konay cem cijkatun mew rume, tañi ayvnieel ñi inayael.\\n      \\n      \\n\\tEPU. Kom tvfaci cijkatun ka kimeltun mvley ñi kejuael kvme cegeam, kim cegeam, nor vegeam, mvley ñi newenmayafiel ta nor felen ka kisugvnew felen tvfaci mogen mew. Mvley tañi kejuael welukon yamniewael mew ka wenvykawael kom pu ce ka fijke Xokiñke Pu Ce, cem az mogen rume nieaygvn. Kom tvfaci kimeltun mvley ñi kejukvzawmayafiel ka wixañpvramafiel fij kvmeke zugu \"Naciones Unidas\" mew.\\n      \\n      \\n\\tKVLA. Kom pu kurewen mvley kisu egu ñi piael cem kimvn ka cijkatun nieael tañi pu pvñeñ.\\n      \\n    \\n  \\n    Epu Mari Reqle Xoy (27)\\n    \\n      \\n\\tKIÑE. Kom pu ce mvley ñi kisuzuam nvwael cem wimtun mew rume mvlele tañi Xokiñ Ce mew, ka tañi kintuael, inakonael, ka nvael cem fvtake kimvn rume mvlele.\\n      \\n      \\n\\tEPU. Cem ce rume mvley tañi gvnaytukunieñmageae ka kuñiwtukunieñmageael tañi gvbam ka tañi kimvn niele ka femueci mvley ñi niegeael tvfaci zugu cuci ce rume kuwv mew entule cem kvzaw rume.\\n      \\n    \\n  \\n    Epu Mari Pura Xoy (28)\\n    Fijke Kiñe Mapu Xokiñ Ce mew mvley ñi kvme nor elgeael zugu, femueci ta kom pu ce mvlelu fij mapu yamvñmageay ñi nor az felen.\\n  \\n    Epu Mari Ayja Xoy (29)\\n    \\n      \\n\\tKIÑE. Kom pu ce mvley tañi rvf nieael kvme zugu, kvme rakizuam ka tañi nor cegeael tañi ragi pu Xokiñ Ce mew, fey mew am xemkvlelu ce reke ka amulnielu cem kvzaw rume.\\n      \\n      \\n\\tEPU. Tañi nor felenmu ka kisugvnew felenmu kom pu ce nvwkvleay wigka ñi wirikon zugu mew (\"Ley\" pi ta wigka) mvten, fey mew ta kakelu pu ce yamvñmageay ñi kvme feleael, kisugvnew felen, ñi nor feleael ka tañi mvleam xvr ka nor mogen kom pu Xokiñke Ce mew.\\n      \\n      \\n\\tKVLA. Kom tvfaci nor zugu cumkaw rume gelay ñi nvgeael weluka ka pekagka amulgeale. \"Naciones Unidas\" ta pekagka amulael mogen, wixañpvrammekelay tvfaci \"Fvxa Cijka\".\\n      \\n    \\n  \\n    Kvla Mari Xoy (30)\\n    Tvfaci \"Fvxa Cijka\", cew tañi kimelgen cumueci ñi mvleael mogen fij mapu, gelay cem xokiñ ce rume ñi nvafiel tañi goymalafiel ka tañi kvzawmayafiel tañi ñamvmnaqvmgeam cuci zugu rume pegelgeael tvfaci \"Fvxa Cijka\" mew.\\n  '"
      ]
     },
     "execution_count": 88,
     "metadata": {},
     "output_type": "execute_result"
    }
   ],
   "source": [
    "corpus['arn']"
   ]
  },
  {
   "cell_type": "code",
   "execution_count": null,
   "metadata": {},
   "outputs": [],
   "source": []
  }
 ],
 "metadata": {
  "kernelspec": {
   "display_name": "conda_python3",
   "language": "python",
   "name": "conda_python3"
  },
  "language_info": {
   "codemirror_mode": {
    "name": "ipython",
    "version": 3
   },
   "file_extension": ".py",
   "mimetype": "text/x-python",
   "name": "python",
   "nbconvert_exporter": "python",
   "pygments_lexer": "ipython3",
   "version": "3.6.13"
  }
 },
 "nbformat": 4,
 "nbformat_minor": 4
}
