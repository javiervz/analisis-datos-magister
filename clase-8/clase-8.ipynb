{
 "cells": [
  {
   "cell_type": "markdown",
   "metadata": {},
   "source": [
    "## **clase-8** Distancias entre lenguas y frecuencias de palabras!"
   ]
  },
  {
   "cell_type": "markdown",
   "metadata": {},
   "source": [
    "### A. Distancias entre lenguas"
   ]
  },
  {
   "cell_type": "code",
   "execution_count": 2,
   "metadata": {},
   "outputs": [],
   "source": [
    "## usamos pandas para leer los datos\n",
    "\n",
    "import pandas as pd"
   ]
  },
  {
   "cell_type": "code",
   "execution_count": 3,
   "metadata": {},
   "outputs": [],
   "source": [
    "## información sobre lenguas de sudamérica según Glottolog\n",
    "\n",
    "south_america = pd.read_csv('sources_south_america.csv',sep=',')"
   ]
  },
  {
   "cell_type": "code",
   "execution_count": 4,
   "metadata": {},
   "outputs": [
    {
     "data": {
      "text/html": [
       "<div>\n",
       "<style scoped>\n",
       "    .dataframe tbody tr th:only-of-type {\n",
       "        vertical-align: middle;\n",
       "    }\n",
       "\n",
       "    .dataframe tbody tr th {\n",
       "        vertical-align: top;\n",
       "    }\n",
       "\n",
       "    .dataframe thead th {\n",
       "        text-align: right;\n",
       "    }\n",
       "</style>\n",
       "<table border=\"1\" class=\"dataframe\">\n",
       "  <thead>\n",
       "    <tr style=\"text-align: right;\">\n",
       "      <th></th>\n",
       "      <th>Unnamed: 0</th>\n",
       "      <th>languages</th>\n",
       "      <th>name</th>\n",
       "      <th>family</th>\n",
       "      <th>source</th>\n",
       "    </tr>\n",
       "  </thead>\n",
       "  <tbody>\n",
       "    <tr>\n",
       "      <th>0</th>\n",
       "      <td>0</td>\n",
       "      <td>abip1241</td>\n",
       "      <td>Abipon</td>\n",
       "      <td>guai1249</td>\n",
       "      <td>long_grammar</td>\n",
       "    </tr>\n",
       "    <tr>\n",
       "      <th>1</th>\n",
       "      <td>1</td>\n",
       "      <td>acha1250</td>\n",
       "      <td>Achagua</td>\n",
       "      <td>araw1281</td>\n",
       "      <td>grammar</td>\n",
       "    </tr>\n",
       "    <tr>\n",
       "      <th>2</th>\n",
       "      <td>2</td>\n",
       "      <td>achu1248</td>\n",
       "      <td>Achuar-Shiwiar</td>\n",
       "      <td>jiva1245</td>\n",
       "      <td>long_grammar</td>\n",
       "    </tr>\n",
       "    <tr>\n",
       "      <th>3</th>\n",
       "      <td>3</td>\n",
       "      <td>ache1246</td>\n",
       "      <td>Aché</td>\n",
       "      <td>tupi1275</td>\n",
       "      <td>grammar_sketch</td>\n",
       "    </tr>\n",
       "    <tr>\n",
       "      <th>4</th>\n",
       "      <td>4</td>\n",
       "      <td>acro1239</td>\n",
       "      <td>Acroá</td>\n",
       "      <td>nucl1710</td>\n",
       "      <td>wordlist_or_less</td>\n",
       "    </tr>\n",
       "    <tr>\n",
       "      <th>...</th>\n",
       "      <td>...</td>\n",
       "      <td>...</td>\n",
       "      <td>...</td>\n",
       "      <td>...</td>\n",
       "      <td>...</td>\n",
       "    </tr>\n",
       "    <tr>\n",
       "      <th>583</th>\n",
       "      <td>583</td>\n",
       "      <td>yama1264</td>\n",
       "      <td>Yámana</td>\n",
       "      <td>unk</td>\n",
       "      <td>grammar_sketch</td>\n",
       "    </tr>\n",
       "    <tr>\n",
       "      <th>584</th>\n",
       "      <td>584</td>\n",
       "      <td>yano1269</td>\n",
       "      <td>Yãnoma</td>\n",
       "      <td>yano1268</td>\n",
       "      <td>wordlist_or_less</td>\n",
       "    </tr>\n",
       "    <tr>\n",
       "      <th>585</th>\n",
       "      <td>585</td>\n",
       "      <td>zamu1245</td>\n",
       "      <td>Zamuco</td>\n",
       "      <td>zamu1243</td>\n",
       "      <td>grammar_sketch</td>\n",
       "    </tr>\n",
       "    <tr>\n",
       "      <th>586</th>\n",
       "      <td>586</td>\n",
       "      <td>zoee1240</td>\n",
       "      <td>Zo'é</td>\n",
       "      <td>tupi1275</td>\n",
       "      <td>phonology_or_text</td>\n",
       "    </tr>\n",
       "    <tr>\n",
       "      <th>587</th>\n",
       "      <td>587</td>\n",
       "      <td>zapa1253</td>\n",
       "      <td>Záparo</td>\n",
       "      <td>zapa1251</td>\n",
       "      <td>long_grammar</td>\n",
       "    </tr>\n",
       "  </tbody>\n",
       "</table>\n",
       "<p>588 rows × 5 columns</p>\n",
       "</div>"
      ],
      "text/plain": [
       "     Unnamed: 0 languages            name    family             source\n",
       "0             0  abip1241          Abipon  guai1249       long_grammar\n",
       "1             1  acha1250         Achagua  araw1281            grammar\n",
       "2             2  achu1248  Achuar-Shiwiar  jiva1245       long_grammar\n",
       "3             3  ache1246            Aché  tupi1275     grammar_sketch\n",
       "4             4  acro1239           Acroá  nucl1710   wordlist_or_less\n",
       "..          ...       ...             ...       ...                ...\n",
       "583         583  yama1264          Yámana       unk     grammar_sketch\n",
       "584         584  yano1269          Yãnoma  yano1268   wordlist_or_less\n",
       "585         585  zamu1245          Zamuco  zamu1243     grammar_sketch\n",
       "586         586  zoee1240            Zo'é  tupi1275  phonology_or_text\n",
       "587         587  zapa1253          Záparo  zapa1251       long_grammar\n",
       "\n",
       "[588 rows x 5 columns]"
      ]
     },
     "execution_count": 4,
     "metadata": {},
     "output_type": "execute_result"
    }
   ],
   "source": [
    "south_america"
   ]
  },
  {
   "cell_type": "code",
   "execution_count": 6,
   "metadata": {},
   "outputs": [
    {
     "data": {
      "text/plain": [
       "['abip1241',\n",
       " 'acha1250',\n",
       " 'achu1248',\n",
       " 'ache1246',\n",
       " 'acro1239',\n",
       " 'abis1238',\n",
       " 'agua1253',\n",
       " 'aika1237',\n",
       " 'ajyi1238',\n",
       " 'akaw1239']"
      ]
     },
     "execution_count": 6,
     "metadata": {},
     "output_type": "execute_result"
    }
   ],
   "source": [
    "list(south_america['languages'])[:10]"
   ]
  },
  {
   "cell_type": "code",
   "execution_count": 7,
   "metadata": {},
   "outputs": [],
   "source": [
    "## diccionario de lenguas-familia\n",
    "\n",
    "lenguas_familias = dict(zip(south_america['languages'],south_america['family']))"
   ]
  },
  {
   "cell_type": "code",
   "execution_count": 11,
   "metadata": {},
   "outputs": [
    {
     "data": {
      "text/plain": [
       "[('abip1241', 'guai1249'),\n",
       " ('acha1250', 'araw1281'),\n",
       " ('achu1248', 'jiva1245'),\n",
       " ('ache1246', 'tupi1275'),\n",
       " ('acro1239', 'nucl1710'),\n",
       " ('abis1238', 'unk'),\n",
       " ('agua1253', 'jiva1245'),\n",
       " ('aika1237', 'unk'),\n",
       " ('ajyi1238', 'araw1281'),\n",
       " ('akaw1239', 'cari1283')]"
      ]
     },
     "execution_count": 11,
     "metadata": {},
     "output_type": "execute_result"
    }
   ],
   "source": [
    "list(zip(south_america['languages'],south_america['family']))[:10]"
   ]
  },
  {
   "cell_type": "code",
   "execution_count": 8,
   "metadata": {},
   "outputs": [
    {
     "data": {
      "text/plain": [
       "'arau1255'"
      ]
     },
     "execution_count": 8,
     "metadata": {},
     "output_type": "execute_result"
    }
   ],
   "source": [
    "lenguas_familias['mapu1245']"
   ]
  },
  {
   "cell_type": "code",
   "execution_count": 12,
   "metadata": {},
   "outputs": [],
   "source": [
    "## otra forma!\n",
    "\n",
    "lenguas_familias = {}\n",
    "lenguas = list(south_america['languages'])\n",
    "familias = list(south_america['family'])\n",
    "\n",
    "for i in range(len(south_america['languages'])):\n",
    "    lengua = lenguas[i]\n",
    "    familia = familias[i]\n",
    "    lenguas_familias[lengua]=familia#{'#palabras':num_palabras,'aparece':1,hfhfh}#familia"
   ]
  },
  {
   "cell_type": "code",
   "execution_count": 13,
   "metadata": {},
   "outputs": [
    {
     "data": {
      "text/plain": [
       "'arau1255'"
      ]
     },
     "execution_count": 13,
     "metadata": {},
     "output_type": "execute_result"
    }
   ],
   "source": [
    "lenguas_familias['mapu1245']"
   ]
  },
  {
   "cell_type": "code",
   "execution_count": 15,
   "metadata": {},
   "outputs": [
    {
     "data": {
      "text/plain": [
       "['guai1249',\n",
       " 'araw1281',\n",
       " 'jiva1245',\n",
       " 'tupi1275',\n",
       " 'nucl1710',\n",
       " 'unk',\n",
       " 'jiva1245',\n",
       " 'unk',\n",
       " 'araw1281',\n",
       " 'cari1283',\n",
       " 'tupi1275',\n",
       " 'cari1283',\n",
       " 'kawe1237',\n",
       " 'kawe1237',\n",
       " 'huar1251',\n",
       " 'pano1259',\n",
       " 'tupi1275',\n",
       " 'hara1260',\n",
       " 'quec1387',\n",
       " 'tupi1275',\n",
       " 'tupi1275',\n",
       " 'araw1281',\n",
       " 'unk',\n",
       " 'zapa1251',\n",
       " 'unk']"
      ]
     },
     "execution_count": 15,
     "metadata": {},
     "output_type": "execute_result"
    }
   ],
   "source": [
    "list(lenguas_familias.values())[:25]"
   ]
  },
  {
   "cell_type": "code",
   "execution_count": 16,
   "metadata": {},
   "outputs": [],
   "source": [
    "## juntemos todas las lenguas con la misma familia!\n",
    "\n",
    "## las familias únicas son los keys\n",
    "keys = set(lenguas_familias.values())\n",
    "\n",
    "## diccionario con listas!\n",
    "familias_agrupadas = {fam:[] for fam in keys}\n",
    "\n",
    "for lengua in lenguas_familias.keys():\n",
    "    familias_agrupadas[lenguas_familias[lengua]]+=[lengua]"
   ]
  },
  {
   "cell_type": "code",
   "execution_count": 18,
   "metadata": {},
   "outputs": [
    {
     "data": {
      "text/plain": [
       "['ambo1252',\n",
       " 'areq1237',\n",
       " 'ayac1239',\n",
       " 'chim1302',\n",
       " 'caja1238',\n",
       " 'caja1239',\n",
       " 'cald1236',\n",
       " 'cana1262',\n",
       " 'chac1250',\n",
       " 'chin1483',\n",
       " 'chiq1249',\n",
       " 'clas1251',\n",
       " 'inga1252',\n",
       " 'coro1247',\n",
       " 'cusc1236',\n",
       " 'east2551',\n",
       " 'hual1241',\n",
       " 'huam1248',\n",
       " 'yauy1235',\n",
       " 'huay1240',\n",
       " 'huay1241',\n",
       " 'imba1240',\n",
       " 'jauj1238',\n",
       " 'lamb1276',\n",
       " 'loja1235',\n",
       " 'marg1254',\n",
       " 'napo1242',\n",
       " 'nort2976',\n",
       " 'nort2980',\n",
       " 'nort2979',\n",
       " 'nort2973',\n",
       " 'paca1245',\n",
       " 'pana1306',\n",
       " 'puno1238',\n",
       " 'sanm1289',\n",
       " 'sant1433',\n",
       " 'sant1432',\n",
       " 'sihu1235',\n",
       " 'sout2991',\n",
       " 'sout2992',\n",
       " 'sout2990',\n",
       " 'tena1240',\n",
       " 'sala1272',\n",
       " 'yana1272']"
      ]
     },
     "execution_count": 18,
     "metadata": {},
     "output_type": "execute_result"
    }
   ],
   "source": [
    "familias_agrupadas['quec1387']"
   ]
  },
  {
   "cell_type": "code",
   "execution_count": 19,
   "metadata": {},
   "outputs": [],
   "source": [
    "## rasgos de sails!\n",
    "\n",
    "features_sails = pd.read_csv('EA.csv',sep=',')"
   ]
  },
  {
   "cell_type": "code",
   "execution_count": 21,
   "metadata": {},
   "outputs": [
    {
     "data": {
      "text/html": [
       "<div>\n",
       "<style scoped>\n",
       "    .dataframe tbody tr th:only-of-type {\n",
       "        vertical-align: middle;\n",
       "    }\n",
       "\n",
       "    .dataframe tbody tr th {\n",
       "        vertical-align: top;\n",
       "    }\n",
       "\n",
       "    .dataframe thead th {\n",
       "        text-align: right;\n",
       "    }\n",
       "</style>\n",
       "<table border=\"1\" class=\"dataframe\">\n",
       "  <thead>\n",
       "    <tr style=\"text-align: right;\">\n",
       "      <th></th>\n",
       "      <th>Unnamed: 0</th>\n",
       "      <th>agua1253</th>\n",
       "      <th>yane1238</th>\n",
       "      <th>apur1254</th>\n",
       "      <th>apal1257</th>\n",
       "      <th>arhu1242</th>\n",
       "      <th>mapu1245</th>\n",
       "      <th>karo1305</th>\n",
       "      <th>araw1276</th>\n",
       "      <th>awet1244</th>\n",
       "      <th>...</th>\n",
       "      <th>ikpe1245</th>\n",
       "      <th>urar1246</th>\n",
       "      <th>uruu1244</th>\n",
       "      <th>wara1303</th>\n",
       "      <th>wayo1238</th>\n",
       "      <th>xava1240</th>\n",
       "      <th>kwaz1243</th>\n",
       "      <th>yami1256</th>\n",
       "      <th>nhen1239</th>\n",
       "      <th>yura1255</th>\n",
       "    </tr>\n",
       "  </thead>\n",
       "  <tbody>\n",
       "    <tr>\n",
       "      <th>0</th>\n",
       "      <td>ARGEX5-1</td>\n",
       "      <td>ARGEX5-1-C</td>\n",
       "      <td>ARGEX5-1-C</td>\n",
       "      <td>ARGEX5-1-C</td>\n",
       "      <td>ARGEX5-1-C</td>\n",
       "      <td>ARGEX5-1-C</td>\n",
       "      <td>ARGEX5-1-C</td>\n",
       "      <td>ARGEX5-1-C</td>\n",
       "      <td>ARGEX5-1-C</td>\n",
       "      <td>ARGEX5-1-C</td>\n",
       "      <td>...</td>\n",
       "      <td>ARGEX5-1-C</td>\n",
       "      <td>ARGEX5-1-C</td>\n",
       "      <td>ARGEX5-1-C</td>\n",
       "      <td>ARGEX5-1-C</td>\n",
       "      <td>ARGEX5-1-C</td>\n",
       "      <td>ARGEX5-1-C</td>\n",
       "      <td>ARGEX5-1-C</td>\n",
       "      <td>ARGEX5-1-C</td>\n",
       "      <td>ARGEX5-1-C</td>\n",
       "      <td>ARGEX5-1-C</td>\n",
       "    </tr>\n",
       "    <tr>\n",
       "      <th>1</th>\n",
       "      <td>ARGEX5-2</td>\n",
       "      <td>ARGEX5-2-C</td>\n",
       "      <td>ARGEX5-2-C</td>\n",
       "      <td>ARGEX5-2-C</td>\n",
       "      <td>ARGEX5-2-C</td>\n",
       "      <td>ARGEX5-2-B</td>\n",
       "      <td>ARGEX5-2-C</td>\n",
       "      <td>ARGEX5-2-C</td>\n",
       "      <td>ARGEX5-2-C</td>\n",
       "      <td>ARGEX5-2-C</td>\n",
       "      <td>...</td>\n",
       "      <td>ARGEX5-2-C</td>\n",
       "      <td>ARGEX5-2-C</td>\n",
       "      <td>ARGEX5-2-C</td>\n",
       "      <td>ARGEX5-2-C</td>\n",
       "      <td>ARGEX5-2-C</td>\n",
       "      <td>ARGEX5-2-C</td>\n",
       "      <td>ARGEX5-2-C</td>\n",
       "      <td>ARGEX5-2-B</td>\n",
       "      <td>ARGEX5-2-C</td>\n",
       "      <td>ARGEX5-2-C</td>\n",
       "    </tr>\n",
       "    <tr>\n",
       "      <th>2</th>\n",
       "      <td>ARGEX5-3</td>\n",
       "      <td>ARGEX5-3-B</td>\n",
       "      <td>ARGEX5-3-C</td>\n",
       "      <td>ARGEX5-3-C</td>\n",
       "      <td>ARGEX5-3-C</td>\n",
       "      <td>ARGEX5-3-C</td>\n",
       "      <td>ARGEX5-3-C</td>\n",
       "      <td>ARGEX5-3-C</td>\n",
       "      <td>ARGEX5-3-C</td>\n",
       "      <td>ARGEX5-3-C</td>\n",
       "      <td>...</td>\n",
       "      <td>ARGEX5-3-C</td>\n",
       "      <td>ARGEX5-3-C</td>\n",
       "      <td>ARGEX5-3-C</td>\n",
       "      <td>ARGEX5-3-C</td>\n",
       "      <td>ARGEX5-3-C</td>\n",
       "      <td>ARGEX5-3-C</td>\n",
       "      <td>ARGEX5-3-B</td>\n",
       "      <td>ARGEX5-3-C</td>\n",
       "      <td>ARGEX5-3-C</td>\n",
       "      <td>ARGEX5-3-C</td>\n",
       "    </tr>\n",
       "    <tr>\n",
       "      <th>3</th>\n",
       "      <td>ARGEX5-4</td>\n",
       "      <td>ARGEX5-4-B</td>\n",
       "      <td>ARGEX5-4-C</td>\n",
       "      <td>ARGEX5-4-B</td>\n",
       "      <td>ARGEX5-4-B</td>\n",
       "      <td>ARGEX5-4-B</td>\n",
       "      <td>ARGEX5-4-C</td>\n",
       "      <td>ARGEX5-4-B</td>\n",
       "      <td>ARGEX5-4-B</td>\n",
       "      <td>ARGEX5-4-B</td>\n",
       "      <td>...</td>\n",
       "      <td>ARGEX5-4-B</td>\n",
       "      <td>ARGEX5-4-B</td>\n",
       "      <td>ARGEX5-4-C</td>\n",
       "      <td>ARGEX5-4-B</td>\n",
       "      <td>ARGEX5-4-B</td>\n",
       "      <td>ARGEX5-4-B</td>\n",
       "      <td>ARGEX5-4-B</td>\n",
       "      <td>ARGEX5-4-C</td>\n",
       "      <td>ARGEX5-4-B</td>\n",
       "      <td>ARGEX5-4-C</td>\n",
       "    </tr>\n",
       "    <tr>\n",
       "      <th>4</th>\n",
       "      <td>ARGEX5-5</td>\n",
       "      <td>ARGEX5-5-A</td>\n",
       "      <td>ARGEX5-5-D</td>\n",
       "      <td>ARGEX5-5-D</td>\n",
       "      <td>ARGEX5-5-D</td>\n",
       "      <td>ARGEX5-5-C</td>\n",
       "      <td>ARGEX5-5-D</td>\n",
       "      <td>ARGEX5-5-D</td>\n",
       "      <td>ARGEX5-5-D</td>\n",
       "      <td>ARGEX5-5-D</td>\n",
       "      <td>...</td>\n",
       "      <td>ARGEX5-5-D</td>\n",
       "      <td>ARGEX5-5-D</td>\n",
       "      <td>ARGEX5-5-D</td>\n",
       "      <td>ARGEX5-5-D</td>\n",
       "      <td>ARGEX5-5-D</td>\n",
       "      <td>ARGEX5-5-D</td>\n",
       "      <td>ARGEX5-5-C</td>\n",
       "      <td>ARGEX5-5-A</td>\n",
       "      <td>ARGEX5-5-D</td>\n",
       "      <td>ARGEX5-5-D</td>\n",
       "    </tr>\n",
       "    <tr>\n",
       "      <th>5</th>\n",
       "      <td>ARGEX5-6</td>\n",
       "      <td>ARGEX5-6-A</td>\n",
       "      <td>ARGEX5-6-C</td>\n",
       "      <td>ARGEX5-6-C</td>\n",
       "      <td>ARGEX5-6-C</td>\n",
       "      <td>ARGEX5-6-B</td>\n",
       "      <td>ARGEX5-6-C</td>\n",
       "      <td>ARGEX5-6-C</td>\n",
       "      <td>ARGEX5-6-C</td>\n",
       "      <td>ARGEX5-6-C</td>\n",
       "      <td>...</td>\n",
       "      <td>ARGEX5-6-C</td>\n",
       "      <td>ARGEX5-6-C</td>\n",
       "      <td>ARGEX5-6-A</td>\n",
       "      <td>ARGEX5-6-C</td>\n",
       "      <td>ARGEX5-6-C</td>\n",
       "      <td>ARGEX5-6-C</td>\n",
       "      <td>ARGEX5-6-A</td>\n",
       "      <td>ARGEX5-6-B</td>\n",
       "      <td>ARGEX5-6-C</td>\n",
       "      <td>ARGEX5-6-C</td>\n",
       "    </tr>\n",
       "    <tr>\n",
       "      <th>6</th>\n",
       "      <td>ARGEX5-7</td>\n",
       "      <td>ARGEX5-7-A</td>\n",
       "      <td>ARGEX5-7-C</td>\n",
       "      <td>ARGEX5-7-C</td>\n",
       "      <td>ARGEX5-7-C</td>\n",
       "      <td>ARGEX5-7-C</td>\n",
       "      <td>ARGEX5-7-C</td>\n",
       "      <td>ARGEX5-7-C</td>\n",
       "      <td>ARGEX5-7-C</td>\n",
       "      <td>ARGEX5-7-C</td>\n",
       "      <td>...</td>\n",
       "      <td>ARGEX5-7-C</td>\n",
       "      <td>ARGEX5-7-C</td>\n",
       "      <td>ARGEX5-7-A</td>\n",
       "      <td>ARGEX5-7-A</td>\n",
       "      <td>ARGEX5-7-A</td>\n",
       "      <td>ARGEX5-7-A</td>\n",
       "      <td>ARGEX5-7-A</td>\n",
       "      <td>ARGEX5-7-A</td>\n",
       "      <td>ARGEX5-7-D</td>\n",
       "      <td>ARGEX5-7-C</td>\n",
       "    </tr>\n",
       "    <tr>\n",
       "      <th>7</th>\n",
       "      <td>ARGEX5-8</td>\n",
       "      <td>ARGEX5-8-C</td>\n",
       "      <td>ARGEX5-8-C</td>\n",
       "      <td>ARGEX5-8-A</td>\n",
       "      <td>ARGEX5-8-A</td>\n",
       "      <td>ARGEX5-8-A</td>\n",
       "      <td>ARGEX5-8-C</td>\n",
       "      <td>ARGEX5-8-A</td>\n",
       "      <td>ARGEX5-8-A</td>\n",
       "      <td>ARGEX5-8-A</td>\n",
       "      <td>...</td>\n",
       "      <td>ARGEX5-8-A</td>\n",
       "      <td>ARGEX5-8-A</td>\n",
       "      <td>ARGEX5-8-C</td>\n",
       "      <td>ARGEX5-8-A</td>\n",
       "      <td>ARGEX5-8-A</td>\n",
       "      <td>ARGEX5-8-A</td>\n",
       "      <td>ARGEX5-8-B</td>\n",
       "      <td>ARGEX5-8-C</td>\n",
       "      <td>ARGEX5-8-A</td>\n",
       "      <td>ARGEX5-8-C</td>\n",
       "    </tr>\n",
       "    <tr>\n",
       "      <th>8</th>\n",
       "      <td>ARGEX5-9</td>\n",
       "      <td>ARGEX5-9-B</td>\n",
       "      <td>ARGEX5-9-B</td>\n",
       "      <td>ARGEX5-9-B</td>\n",
       "      <td>ARGEX5-9-B</td>\n",
       "      <td>ARGEX5-9-B</td>\n",
       "      <td>ARGEX5-9-B</td>\n",
       "      <td>ARGEX5-9-B</td>\n",
       "      <td>ARGEX5-9-B</td>\n",
       "      <td>ARGEX5-9-B</td>\n",
       "      <td>...</td>\n",
       "      <td>ARGEX5-9-B</td>\n",
       "      <td>ARGEX5-9-B</td>\n",
       "      <td>ARGEX5-9-B</td>\n",
       "      <td>ARGEX5-9-B</td>\n",
       "      <td>ARGEX5-9-B</td>\n",
       "      <td>ARGEX5-9-B</td>\n",
       "      <td>ARGEX5-9-B</td>\n",
       "      <td>ARGEX5-9-B</td>\n",
       "      <td>ARGEX5-9-B</td>\n",
       "      <td>ARGEX5-9-B</td>\n",
       "    </tr>\n",
       "  </tbody>\n",
       "</table>\n",
       "<p>9 rows × 89 columns</p>\n",
       "</div>"
      ],
      "text/plain": [
       "  Unnamed: 0    agua1253    yane1238    apur1254    apal1257    arhu1242  \\\n",
       "0   ARGEX5-1  ARGEX5-1-C  ARGEX5-1-C  ARGEX5-1-C  ARGEX5-1-C  ARGEX5-1-C   \n",
       "1   ARGEX5-2  ARGEX5-2-C  ARGEX5-2-C  ARGEX5-2-C  ARGEX5-2-C  ARGEX5-2-B   \n",
       "2   ARGEX5-3  ARGEX5-3-B  ARGEX5-3-C  ARGEX5-3-C  ARGEX5-3-C  ARGEX5-3-C   \n",
       "3   ARGEX5-4  ARGEX5-4-B  ARGEX5-4-C  ARGEX5-4-B  ARGEX5-4-B  ARGEX5-4-B   \n",
       "4   ARGEX5-5  ARGEX5-5-A  ARGEX5-5-D  ARGEX5-5-D  ARGEX5-5-D  ARGEX5-5-C   \n",
       "5   ARGEX5-6  ARGEX5-6-A  ARGEX5-6-C  ARGEX5-6-C  ARGEX5-6-C  ARGEX5-6-B   \n",
       "6   ARGEX5-7  ARGEX5-7-A  ARGEX5-7-C  ARGEX5-7-C  ARGEX5-7-C  ARGEX5-7-C   \n",
       "7   ARGEX5-8  ARGEX5-8-C  ARGEX5-8-C  ARGEX5-8-A  ARGEX5-8-A  ARGEX5-8-A   \n",
       "8   ARGEX5-9  ARGEX5-9-B  ARGEX5-9-B  ARGEX5-9-B  ARGEX5-9-B  ARGEX5-9-B   \n",
       "\n",
       "     mapu1245    karo1305    araw1276    awet1244  ...    ikpe1245  \\\n",
       "0  ARGEX5-1-C  ARGEX5-1-C  ARGEX5-1-C  ARGEX5-1-C  ...  ARGEX5-1-C   \n",
       "1  ARGEX5-2-C  ARGEX5-2-C  ARGEX5-2-C  ARGEX5-2-C  ...  ARGEX5-2-C   \n",
       "2  ARGEX5-3-C  ARGEX5-3-C  ARGEX5-3-C  ARGEX5-3-C  ...  ARGEX5-3-C   \n",
       "3  ARGEX5-4-C  ARGEX5-4-B  ARGEX5-4-B  ARGEX5-4-B  ...  ARGEX5-4-B   \n",
       "4  ARGEX5-5-D  ARGEX5-5-D  ARGEX5-5-D  ARGEX5-5-D  ...  ARGEX5-5-D   \n",
       "5  ARGEX5-6-C  ARGEX5-6-C  ARGEX5-6-C  ARGEX5-6-C  ...  ARGEX5-6-C   \n",
       "6  ARGEX5-7-C  ARGEX5-7-C  ARGEX5-7-C  ARGEX5-7-C  ...  ARGEX5-7-C   \n",
       "7  ARGEX5-8-C  ARGEX5-8-A  ARGEX5-8-A  ARGEX5-8-A  ...  ARGEX5-8-A   \n",
       "8  ARGEX5-9-B  ARGEX5-9-B  ARGEX5-9-B  ARGEX5-9-B  ...  ARGEX5-9-B   \n",
       "\n",
       "     urar1246    uruu1244    wara1303    wayo1238    xava1240    kwaz1243  \\\n",
       "0  ARGEX5-1-C  ARGEX5-1-C  ARGEX5-1-C  ARGEX5-1-C  ARGEX5-1-C  ARGEX5-1-C   \n",
       "1  ARGEX5-2-C  ARGEX5-2-C  ARGEX5-2-C  ARGEX5-2-C  ARGEX5-2-C  ARGEX5-2-C   \n",
       "2  ARGEX5-3-C  ARGEX5-3-C  ARGEX5-3-C  ARGEX5-3-C  ARGEX5-3-C  ARGEX5-3-B   \n",
       "3  ARGEX5-4-B  ARGEX5-4-C  ARGEX5-4-B  ARGEX5-4-B  ARGEX5-4-B  ARGEX5-4-B   \n",
       "4  ARGEX5-5-D  ARGEX5-5-D  ARGEX5-5-D  ARGEX5-5-D  ARGEX5-5-D  ARGEX5-5-C   \n",
       "5  ARGEX5-6-C  ARGEX5-6-A  ARGEX5-6-C  ARGEX5-6-C  ARGEX5-6-C  ARGEX5-6-A   \n",
       "6  ARGEX5-7-C  ARGEX5-7-A  ARGEX5-7-A  ARGEX5-7-A  ARGEX5-7-A  ARGEX5-7-A   \n",
       "7  ARGEX5-8-A  ARGEX5-8-C  ARGEX5-8-A  ARGEX5-8-A  ARGEX5-8-A  ARGEX5-8-B   \n",
       "8  ARGEX5-9-B  ARGEX5-9-B  ARGEX5-9-B  ARGEX5-9-B  ARGEX5-9-B  ARGEX5-9-B   \n",
       "\n",
       "     yami1256    nhen1239    yura1255  \n",
       "0  ARGEX5-1-C  ARGEX5-1-C  ARGEX5-1-C  \n",
       "1  ARGEX5-2-B  ARGEX5-2-C  ARGEX5-2-C  \n",
       "2  ARGEX5-3-C  ARGEX5-3-C  ARGEX5-3-C  \n",
       "3  ARGEX5-4-C  ARGEX5-4-B  ARGEX5-4-C  \n",
       "4  ARGEX5-5-A  ARGEX5-5-D  ARGEX5-5-D  \n",
       "5  ARGEX5-6-B  ARGEX5-6-C  ARGEX5-6-C  \n",
       "6  ARGEX5-7-A  ARGEX5-7-D  ARGEX5-7-C  \n",
       "7  ARGEX5-8-C  ARGEX5-8-A  ARGEX5-8-C  \n",
       "8  ARGEX5-9-B  ARGEX5-9-B  ARGEX5-9-B  \n",
       "\n",
       "[9 rows x 89 columns]"
      ]
     },
     "execution_count": 21,
     "metadata": {},
     "output_type": "execute_result"
    }
   ],
   "source": [
    "features_sails"
   ]
  },
  {
   "cell_type": "code",
   "execution_count": 22,
   "metadata": {},
   "outputs": [
    {
     "data": {
      "text/plain": [
       "Index(['agua1253', 'yane1238', 'apur1254', 'apal1257', 'arhu1242', 'mapu1245',\n",
       "       'karo1305', 'araw1276', 'awet1244', 'cent2142', 'bora1263', 'boro1282',\n",
       "       'baur1253', 'chip1262', 'mose1249', 'cavi1250', 'chay1248', 'chol1284',\n",
       "       'coca1259', 'colo1256', 'cube1242', 'desa1247', 'emer1243', 'nort2972',\n",
       "       'guat1253', 'hixk1239', 'inga1252', 'iton1250', 'jama1261', 'hupd1244',\n",
       "       'juru1256', 'kama1373', 'kari1311', 'daww1239', 'awac1239', 'kano1245',\n",
       "       'leco1242', 'lako1248', 'sate1243', 'mats1244', 'moco1246', 'maku1278',\n",
       "       'wich1262', 'mund1330', 'movi1243', 'moch1259', 'pare1272', 'wari1268',\n",
       "       'paez1247', 'pila1245', 'puin1248', 'hual1241', 'sout2991', 'sout2990',\n",
       "       'sant1432', 'tena1240', 'yauy1235', 'ayac1239', 'cusc1236', 'caja1238',\n",
       "       'imba1240', 'nort2980', 'paca1245', 'sanm1289', 'huay1240', 'sala1272',\n",
       "       'jauj1238', 'cane1242', 'rikb1245', 'saba1268', 'nina1238', 'ship1254',\n",
       "       'saki1248', 'tari1256', 'tehu1242', 'tapi1253', 'trum1247', 'trio1238',\n",
       "       'ikpe1245', 'urar1246', 'uruu1244', 'wara1303', 'wayo1238', 'xava1240',\n",
       "       'kwaz1243', 'yami1256', 'nhen1239', 'yura1255'],\n",
       "      dtype='object')"
      ]
     },
     "execution_count": 22,
     "metadata": {},
     "output_type": "execute_result"
    }
   ],
   "source": [
    "features_sails.columns[1:]"
   ]
  },
  {
   "cell_type": "code",
   "execution_count": 23,
   "metadata": {},
   "outputs": [],
   "source": [
    "features_dict= {}\n",
    "\n",
    "for L in features_sails.columns[1:]:\n",
    "    list_L = list(features_sails[L])\n",
    "    features_dict[L]=list_L"
   ]
  },
  {
   "cell_type": "code",
   "execution_count": 25,
   "metadata": {},
   "outputs": [
    {
     "data": {
      "text/plain": [
       "['ARGEX5-1-C',\n",
       " 'ARGEX5-2-C',\n",
       " 'ARGEX5-3-C',\n",
       " 'ARGEX5-4-C',\n",
       " 'ARGEX5-5-D',\n",
       " 'ARGEX5-6-C',\n",
       " 'ARGEX5-7-C',\n",
       " 'ARGEX5-8-C',\n",
       " 'ARGEX5-9-B']"
      ]
     },
     "execution_count": 25,
     "metadata": {},
     "output_type": "execute_result"
    }
   ],
   "source": [
    "features_dict['mapu1245']"
   ]
  },
  {
   "cell_type": "code",
   "execution_count": 26,
   "metadata": {},
   "outputs": [
    {
     "name": "stdout",
     "output_type": "stream",
     "text": [
      "88\n"
     ]
    }
   ],
   "source": [
    "print(len(features_dict))"
   ]
  },
  {
   "cell_type": "code",
   "execution_count": 28,
   "metadata": {},
   "outputs": [],
   "source": [
    "## una función de distancia!\n",
    "\n",
    "def hamming(L1,L2):\n",
    "    H = 0\n",
    "    rasgos1 = features_dict[L1]\n",
    "    rasgos2 = features_dict[L2]\n",
    "    n = len(rasgos1)\n",
    "    for i in range(n):\n",
    "        if rasgos1[i]!=rasgos2[i]:\n",
    "            H += 1\n",
    "        \n",
    "    return H/n"
   ]
  },
  {
   "cell_type": "code",
   "execution_count": 30,
   "metadata": {},
   "outputs": [
    {
     "data": {
      "text/plain": [
       "0.4444444444444444"
      ]
     },
     "execution_count": 30,
     "metadata": {},
     "output_type": "execute_result"
    }
   ],
   "source": [
    "hamming('mapu1245','ship1254')"
   ]
  },
  {
   "cell_type": "code",
   "execution_count": 31,
   "metadata": {},
   "outputs": [],
   "source": [
    "## pregunta simple! distancias entre lenguas de 1 familia\n",
    "\n",
    "lenguas_quechua = [L for L in familias_agrupadas['quec1387'] if L in features_dict.keys()]"
   ]
  },
  {
   "cell_type": "code",
   "execution_count": 32,
   "metadata": {},
   "outputs": [
    {
     "data": {
      "text/plain": [
       "['ayac1239',\n",
       " 'caja1238',\n",
       " 'inga1252',\n",
       " 'cusc1236',\n",
       " 'hual1241',\n",
       " 'yauy1235',\n",
       " 'huay1240',\n",
       " 'imba1240',\n",
       " 'jauj1238',\n",
       " 'nort2980',\n",
       " 'paca1245',\n",
       " 'sanm1289',\n",
       " 'sant1432',\n",
       " 'sout2991',\n",
       " 'sout2990',\n",
       " 'tena1240',\n",
       " 'sala1272']"
      ]
     },
     "execution_count": 32,
     "metadata": {},
     "output_type": "execute_result"
    }
   ],
   "source": [
    "lenguas_quechua"
   ]
  },
  {
   "cell_type": "code",
   "execution_count": 43,
   "metadata": {},
   "outputs": [],
   "source": [
    "pares = []"
   ]
  },
  {
   "cell_type": "code",
   "execution_count": 44,
   "metadata": {},
   "outputs": [],
   "source": [
    "for L in lenguas_quechua:\n",
    "    for LL in lenguas_quechua:\n",
    "        pares += [[L,LL]]  "
   ]
  },
  {
   "cell_type": "code",
   "execution_count": 45,
   "metadata": {},
   "outputs": [
    {
     "data": {
      "text/plain": [
       "289"
      ]
     },
     "execution_count": 45,
     "metadata": {},
     "output_type": "execute_result"
    }
   ],
   "source": [
    "len(pares)"
   ]
  },
  {
   "cell_type": "code",
   "execution_count": 37,
   "metadata": {},
   "outputs": [],
   "source": [
    "lista_H = []\n",
    "\n",
    "for par in pares:\n",
    "    L1=par[0]\n",
    "    L2=par[1]\n",
    "    H=hamming(L1,L2)\n",
    "    lista_H+=[H]"
   ]
  },
  {
   "cell_type": "code",
   "execution_count": 40,
   "metadata": {},
   "outputs": [
    {
     "data": {
      "text/plain": [
       "0.07535563244905806"
      ]
     },
     "execution_count": 40,
     "metadata": {},
     "output_type": "execute_result"
    }
   ],
   "source": [
    "import numpy as np\n",
    "\n",
    "np.mean(lista_H)"
   ]
  },
  {
   "cell_type": "code",
   "execution_count": 46,
   "metadata": {},
   "outputs": [],
   "source": [
    "from itertools import combinations\n",
    "  \n",
    "pares = list(combinations(lenguas_quechua, 2))"
   ]
  },
  {
   "cell_type": "code",
   "execution_count": 48,
   "metadata": {},
   "outputs": [
    {
     "data": {
      "text/plain": [
       "136"
      ]
     },
     "execution_count": 48,
     "metadata": {},
     "output_type": "execute_result"
    }
   ],
   "source": [
    "len(pares)"
   ]
  },
  {
   "cell_type": "code",
   "execution_count": 43,
   "metadata": {},
   "outputs": [],
   "source": [
    "import numpy as np\n",
    "\n",
    "distancias_promedio = np.mean([hamming(par[0],par[1]) for par in pares])"
   ]
  },
  {
   "cell_type": "code",
   "execution_count": 44,
   "metadata": {},
   "outputs": [
    {
     "data": {
      "text/plain": [
       "0.08006535947712419"
      ]
     },
     "execution_count": 44,
     "metadata": {},
     "output_type": "execute_result"
    }
   ],
   "source": [
    "distancias_promedio"
   ]
  },
  {
   "cell_type": "code",
   "execution_count": 49,
   "metadata": {},
   "outputs": [],
   "source": [
    "## distancias entre palabras!!! https://aclanthology.org/J11-4003/\n",
    "\n",
    "datos_mapu = pd.read_csv('dataframe_map.csv',sep=',')"
   ]
  },
  {
   "cell_type": "code",
   "execution_count": 50,
   "metadata": {},
   "outputs": [],
   "source": [
    "datos_mapu = datos_mapu[datos_mapu['WordModernName1']=='ellos']"
   ]
  },
  {
   "cell_type": "code",
   "execution_count": 51,
   "metadata": {},
   "outputs": [
    {
     "data": {
      "text/html": [
       "<div>\n",
       "<style scoped>\n",
       "    .dataframe tbody tr th:only-of-type {\n",
       "        vertical-align: middle;\n",
       "    }\n",
       "\n",
       "    .dataframe tbody tr th {\n",
       "        vertical-align: top;\n",
       "    }\n",
       "\n",
       "    .dataframe thead th {\n",
       "        text-align: right;\n",
       "    }\n",
       "</style>\n",
       "<table border=\"1\" class=\"dataframe\">\n",
       "  <thead>\n",
       "    <tr style=\"text-align: right;\">\n",
       "      <th></th>\n",
       "      <th>Unnamed: 0</th>\n",
       "      <th>LanguageId</th>\n",
       "      <th>LanguageName</th>\n",
       "      <th>Latitude</th>\n",
       "      <th>Longitude</th>\n",
       "      <th>WordId</th>\n",
       "      <th>WordModernName1</th>\n",
       "      <th>Phonetic</th>\n",
       "      <th>SpellingAltv1</th>\n",
       "      <th>source_csv</th>\n",
       "    </tr>\n",
       "  </thead>\n",
       "  <tbody>\n",
       "    <tr>\n",
       "      <th>0</th>\n",
       "      <td>0</td>\n",
       "      <td>28001000000</td>\n",
       "      <td>Ref. Spelling</td>\n",
       "      <td>-40.00000</td>\n",
       "      <td>-75.50000</td>\n",
       "      <td>1070</td>\n",
       "      <td>ellos</td>\n",
       "      <td>fëjëŋɘn</td>\n",
       "      <td>feyengün</td>\n",
       "      <td>12-feyengün.csv</td>\n",
       "    </tr>\n",
       "    <tr>\n",
       "      <th>1</th>\n",
       "      <td>1</td>\n",
       "      <td>28131006609</td>\n",
       "      <td>Santa Bárbara</td>\n",
       "      <td>-37.67405</td>\n",
       "      <td>-71.80186</td>\n",
       "      <td>1070</td>\n",
       "      <td>ellos</td>\n",
       "      <td>ˌvë.jë.ˈŋɘn</td>\n",
       "      <td>NaN</td>\n",
       "      <td>12-feyengün.csv</td>\n",
       "    </tr>\n",
       "    <tr>\n",
       "      <th>2</th>\n",
       "      <td>2</td>\n",
       "      <td>28131007109</td>\n",
       "      <td>Cañete</td>\n",
       "      <td>-37.96722</td>\n",
       "      <td>-73.39282</td>\n",
       "      <td>1070</td>\n",
       "      <td>ellos</td>\n",
       "      <td>cʰɪ.ˈðwɪ.ŋɘn</td>\n",
       "      <td>NaN</td>\n",
       "      <td>12-feyengün.csv</td>\n",
       "    </tr>\n",
       "    <tr>\n",
       "      <th>3</th>\n",
       "      <td>3</td>\n",
       "      <td>28131009109</td>\n",
       "      <td>Tirúa</td>\n",
       "      <td>-38.36990</td>\n",
       "      <td>-73.49067</td>\n",
       "      <td>1070</td>\n",
       "      <td>ellos</td>\n",
       "      <td>ˈɸë.jë.ɣ̞ɐ̝</td>\n",
       "      <td>NaN</td>\n",
       "      <td>12-feyengün.csv</td>\n",
       "    </tr>\n",
       "    <tr>\n",
       "      <th>4</th>\n",
       "      <td>4</td>\n",
       "      <td>28131009809</td>\n",
       "      <td>Alto Bío Bío</td>\n",
       "      <td>-38.04457</td>\n",
       "      <td>-71.36344</td>\n",
       "      <td>1070</td>\n",
       "      <td>ellos</td>\n",
       "      <td>m̩.ˌvë.jë.ˈŋɘn</td>\n",
       "      <td>NaN</td>\n",
       "      <td>12-feyengün.csv</td>\n",
       "    </tr>\n",
       "    <tr>\n",
       "      <th>5</th>\n",
       "      <td>5</td>\n",
       "      <td>28141001409</td>\n",
       "      <td>Ercilla</td>\n",
       "      <td>-38.04926</td>\n",
       "      <td>-72.44544</td>\n",
       "      <td>1070</td>\n",
       "      <td>ellos</td>\n",
       "      <td>ˌfɪ.ë.ˈŋɘn</td>\n",
       "      <td>NaN</td>\n",
       "      <td>12-feyengün.csv</td>\n",
       "    </tr>\n",
       "    <tr>\n",
       "      <th>6</th>\n",
       "      <td>6</td>\n",
       "      <td>28141002309</td>\n",
       "      <td>Galvarino</td>\n",
       "      <td>-38.40865</td>\n",
       "      <td>-72.78342</td>\n",
       "      <td>1070</td>\n",
       "      <td>ellos</td>\n",
       "      <td>fë.jë.ˈŋɘn</td>\n",
       "      <td>NaN</td>\n",
       "      <td>12-feyengün.csv</td>\n",
       "    </tr>\n",
       "    <tr>\n",
       "      <th>7</th>\n",
       "      <td>7</td>\n",
       "      <td>28141002509</td>\n",
       "      <td>Victoria</td>\n",
       "      <td>-38.35303</td>\n",
       "      <td>-72.19395</td>\n",
       "      <td>1070</td>\n",
       "      <td>ellos</td>\n",
       "      <td>ˈvëj.ŋʊ</td>\n",
       "      <td>NaN</td>\n",
       "      <td>12-feyengün.csv</td>\n",
       "    </tr>\n",
       "    <tr>\n",
       "      <th>8</th>\n",
       "      <td>8</td>\n",
       "      <td>28141002809</td>\n",
       "      <td>Lonquimay</td>\n",
       "      <td>-38.42587</td>\n",
       "      <td>-71.37014</td>\n",
       "      <td>1070</td>\n",
       "      <td>ellos</td>\n",
       "      <td>ˌfëj.ˈë.ŋɘn</td>\n",
       "      <td>NaN</td>\n",
       "      <td>12-feyengün.csv</td>\n",
       "    </tr>\n",
       "    <tr>\n",
       "      <th>9</th>\n",
       "      <td>9</td>\n",
       "      <td>28141003209</td>\n",
       "      <td>Chol Chol</td>\n",
       "      <td>-38.51661</td>\n",
       "      <td>-72.97454</td>\n",
       "      <td>1070</td>\n",
       "      <td>ellos</td>\n",
       "      <td>ˌfë.jë.ˈŋɘn</td>\n",
       "      <td>NaN</td>\n",
       "      <td>12-feyengün.csv</td>\n",
       "    </tr>\n",
       "    <tr>\n",
       "      <th>10</th>\n",
       "      <td>10</td>\n",
       "      <td>28141005109</td>\n",
       "      <td>Puerto Saavedra</td>\n",
       "      <td>-38.78431</td>\n",
       "      <td>-73.39912</td>\n",
       "      <td>1070</td>\n",
       "      <td>ellos</td>\n",
       "      <td>fë.jë.ˈŋɘn</td>\n",
       "      <td>NaN</td>\n",
       "      <td>12-feyengün.csv</td>\n",
       "    </tr>\n",
       "    <tr>\n",
       "      <th>11</th>\n",
       "      <td>11</td>\n",
       "      <td>28141005409</td>\n",
       "      <td>Truf Truf</td>\n",
       "      <td>-38.75576</td>\n",
       "      <td>-72.43983</td>\n",
       "      <td>1070</td>\n",
       "      <td>ellos</td>\n",
       "      <td>ˌɸë.jë.ˈŋɘn</td>\n",
       "      <td>NaN</td>\n",
       "      <td>12-feyengün.csv</td>\n",
       "    </tr>\n",
       "    <tr>\n",
       "      <th>12</th>\n",
       "      <td>12</td>\n",
       "      <td>28141005909</td>\n",
       "      <td>Icalma</td>\n",
       "      <td>-38.72338</td>\n",
       "      <td>-71.18470</td>\n",
       "      <td>1070</td>\n",
       "      <td>ellos</td>\n",
       "      <td>ˈfëj.mɘn</td>\n",
       "      <td>NaN</td>\n",
       "      <td>12-feyengün.csv</td>\n",
       "    </tr>\n",
       "    <tr>\n",
       "      <th>13</th>\n",
       "      <td>13</td>\n",
       "      <td>28141006309</td>\n",
       "      <td>Freire</td>\n",
       "      <td>-38.99144</td>\n",
       "      <td>-72.88330</td>\n",
       "      <td>1070</td>\n",
       "      <td>ellos</td>\n",
       "      <td>ˌfë.jë.ˈŋɘn</td>\n",
       "      <td>NaN</td>\n",
       "      <td>12-feyengün.csv</td>\n",
       "    </tr>\n",
       "    <tr>\n",
       "      <th>14</th>\n",
       "      <td>14</td>\n",
       "      <td>28141006609</td>\n",
       "      <td>Cunco</td>\n",
       "      <td>-38.97601</td>\n",
       "      <td>-72.01425</td>\n",
       "      <td>1070</td>\n",
       "      <td>ellos</td>\n",
       "      <td>ë.ˈŋɘn</td>\n",
       "      <td>NaN</td>\n",
       "      <td>12-feyengün.csv</td>\n",
       "    </tr>\n",
       "    <tr>\n",
       "      <th>15</th>\n",
       "      <td>15</td>\n",
       "      <td>28141007209</td>\n",
       "      <td>Nueva Toltén</td>\n",
       "      <td>-39.20931</td>\n",
       "      <td>-73.13120</td>\n",
       "      <td>1070</td>\n",
       "      <td>ellos</td>\n",
       "      <td>fë.ˈjɪ.ŋɘn</td>\n",
       "      <td>NaN</td>\n",
       "      <td>12-feyengün.csv</td>\n",
       "    </tr>\n",
       "    <tr>\n",
       "      <th>16</th>\n",
       "      <td>16</td>\n",
       "      <td>28141008509</td>\n",
       "      <td>Villarrica</td>\n",
       "      <td>-39.48612</td>\n",
       "      <td>-72.30380</td>\n",
       "      <td>1070</td>\n",
       "      <td>ellos</td>\n",
       "      <td>ˌfë.jë.ˈŋɘn</td>\n",
       "      <td>NaN</td>\n",
       "      <td>12-feyengün.csv</td>\n",
       "    </tr>\n",
       "    <tr>\n",
       "      <th>17</th>\n",
       "      <td>17</td>\n",
       "      <td>28141008909</td>\n",
       "      <td>Curarrehue</td>\n",
       "      <td>-39.46788</td>\n",
       "      <td>-71.55193</td>\n",
       "      <td>1070</td>\n",
       "      <td>ellos</td>\n",
       "      <td>ˌfëj.ˈjë.ŋɘn</td>\n",
       "      <td>NaN</td>\n",
       "      <td>12-feyengün.csv</td>\n",
       "    </tr>\n",
       "    <tr>\n",
       "      <th>18</th>\n",
       "      <td>18</td>\n",
       "      <td>28151000109</td>\n",
       "      <td>Mariquina</td>\n",
       "      <td>-39.45147</td>\n",
       "      <td>-73.26457</td>\n",
       "      <td>1070</td>\n",
       "      <td>ellos</td>\n",
       "      <td>ˌfë.jë.ˈŋɘn</td>\n",
       "      <td>NaN</td>\n",
       "      <td>12-feyengün.csv</td>\n",
       "    </tr>\n",
       "    <tr>\n",
       "      <th>19</th>\n",
       "      <td>19</td>\n",
       "      <td>28151000409</td>\n",
       "      <td>Lanco</td>\n",
       "      <td>-39.50460</td>\n",
       "      <td>-72.44441</td>\n",
       "      <td>1070</td>\n",
       "      <td>ellos</td>\n",
       "      <td>hë.ˈjɘ.ŋɘn</td>\n",
       "      <td>NaN</td>\n",
       "      <td>12-feyengün.csv</td>\n",
       "    </tr>\n",
       "    <tr>\n",
       "      <th>20</th>\n",
       "      <td>20</td>\n",
       "      <td>28151000709</td>\n",
       "      <td>Panguipulli</td>\n",
       "      <td>-39.54399</td>\n",
       "      <td>-72.12614</td>\n",
       "      <td>1070</td>\n",
       "      <td>ellos</td>\n",
       "      <td>fëj.ˈɣɘŋ</td>\n",
       "      <td>NaN</td>\n",
       "      <td>12-feyengün.csv</td>\n",
       "    </tr>\n",
       "    <tr>\n",
       "      <th>21</th>\n",
       "      <td>21</td>\n",
       "      <td>28151002309</td>\n",
       "      <td>Valdivia</td>\n",
       "      <td>-39.81291</td>\n",
       "      <td>-72.95438</td>\n",
       "      <td>1070</td>\n",
       "      <td>ellos</td>\n",
       "      <td>ˌfë.ˈjɘ.ŋɘn</td>\n",
       "      <td>NaN</td>\n",
       "      <td>12-feyengün.csv</td>\n",
       "    </tr>\n",
       "    <tr>\n",
       "      <th>22</th>\n",
       "      <td>22</td>\n",
       "      <td>28161000309</td>\n",
       "      <td>San Pablo</td>\n",
       "      <td>-40.38308</td>\n",
       "      <td>-73.34988</td>\n",
       "      <td>1070</td>\n",
       "      <td>ellos</td>\n",
       "      <td>ˈëj.t̪ɘn</td>\n",
       "      <td>NaN</td>\n",
       "      <td>12-feyengün.csv</td>\n",
       "    </tr>\n",
       "    <tr>\n",
       "      <th>23</th>\n",
       "      <td>23</td>\n",
       "      <td>28161001209</td>\n",
       "      <td>S. Juan de la Costa</td>\n",
       "      <td>-40.51004</td>\n",
       "      <td>-73.52129</td>\n",
       "      <td>1070</td>\n",
       "      <td>ellos</td>\n",
       "      <td>ˈfëj.ŋɘn</td>\n",
       "      <td>NaN</td>\n",
       "      <td>12-feyengün.csv</td>\n",
       "    </tr>\n",
       "    <tr>\n",
       "      <th>24</th>\n",
       "      <td>24</td>\n",
       "      <td>28221005509</td>\n",
       "      <td>Chalileo</td>\n",
       "      <td>-36.42252</td>\n",
       "      <td>-66.47321</td>\n",
       "      <td>1070</td>\n",
       "      <td>ellos</td>\n",
       "      <td>ëj.ˈŋɘn</td>\n",
       "      <td>NaN</td>\n",
       "      <td>12-feyengün.csv</td>\n",
       "    </tr>\n",
       "    <tr>\n",
       "      <th>25</th>\n",
       "      <td>25</td>\n",
       "      <td>28261005509</td>\n",
       "      <td>Zapala</td>\n",
       "      <td>-38.85047</td>\n",
       "      <td>-69.74997</td>\n",
       "      <td>1070</td>\n",
       "      <td>ellos</td>\n",
       "      <td>ëj.ˈmɘn</td>\n",
       "      <td>NaN</td>\n",
       "      <td>12-feyengün.csv</td>\n",
       "    </tr>\n",
       "    <tr>\n",
       "      <th>26</th>\n",
       "      <td>26</td>\n",
       "      <td>28261007109</td>\n",
       "      <td>Junín de los Andes</td>\n",
       "      <td>-39.82386</td>\n",
       "      <td>-71.28742</td>\n",
       "      <td>1070</td>\n",
       "      <td>ellos</td>\n",
       "      <td>fɪ.ˈŋɘn</td>\n",
       "      <td>NaN</td>\n",
       "      <td>12-feyengün.csv</td>\n",
       "    </tr>\n",
       "    <tr>\n",
       "      <th>27</th>\n",
       "      <td>27</td>\n",
       "      <td>28261007209</td>\n",
       "      <td>Huiliches</td>\n",
       "      <td>-39.63992</td>\n",
       "      <td>-71.18686</td>\n",
       "      <td>1070</td>\n",
       "      <td>ellos</td>\n",
       "      <td>f̞ë.jë.ˈŋɘn</td>\n",
       "      <td>NaN</td>\n",
       "      <td>12-feyengün.csv</td>\n",
       "    </tr>\n",
       "    <tr>\n",
       "      <th>28</th>\n",
       "      <td>28</td>\n",
       "      <td>28271006509</td>\n",
       "      <td>Jacobacci</td>\n",
       "      <td>-41.28813</td>\n",
       "      <td>-69.55719</td>\n",
       "      <td>1070</td>\n",
       "      <td>ellos</td>\n",
       "      <td>ëj.ˈmɘn</td>\n",
       "      <td>NaN</td>\n",
       "      <td>12-feyengün.csv</td>\n",
       "    </tr>\n",
       "  </tbody>\n",
       "</table>\n",
       "</div>"
      ],
      "text/plain": [
       "    Unnamed: 0   LanguageId         LanguageName  Latitude  Longitude  WordId  \\\n",
       "0            0  28001000000        Ref. Spelling -40.00000  -75.50000    1070   \n",
       "1            1  28131006609        Santa Bárbara -37.67405  -71.80186    1070   \n",
       "2            2  28131007109               Cañete -37.96722  -73.39282    1070   \n",
       "3            3  28131009109                Tirúa -38.36990  -73.49067    1070   \n",
       "4            4  28131009809         Alto Bío Bío -38.04457  -71.36344    1070   \n",
       "5            5  28141001409              Ercilla -38.04926  -72.44544    1070   \n",
       "6            6  28141002309            Galvarino -38.40865  -72.78342    1070   \n",
       "7            7  28141002509             Victoria -38.35303  -72.19395    1070   \n",
       "8            8  28141002809            Lonquimay -38.42587  -71.37014    1070   \n",
       "9            9  28141003209            Chol Chol -38.51661  -72.97454    1070   \n",
       "10          10  28141005109      Puerto Saavedra -38.78431  -73.39912    1070   \n",
       "11          11  28141005409            Truf Truf -38.75576  -72.43983    1070   \n",
       "12          12  28141005909               Icalma -38.72338  -71.18470    1070   \n",
       "13          13  28141006309               Freire -38.99144  -72.88330    1070   \n",
       "14          14  28141006609                Cunco -38.97601  -72.01425    1070   \n",
       "15          15  28141007209         Nueva Toltén -39.20931  -73.13120    1070   \n",
       "16          16  28141008509           Villarrica -39.48612  -72.30380    1070   \n",
       "17          17  28141008909           Curarrehue -39.46788  -71.55193    1070   \n",
       "18          18  28151000109            Mariquina -39.45147  -73.26457    1070   \n",
       "19          19  28151000409                Lanco -39.50460  -72.44441    1070   \n",
       "20          20  28151000709          Panguipulli -39.54399  -72.12614    1070   \n",
       "21          21  28151002309             Valdivia -39.81291  -72.95438    1070   \n",
       "22          22  28161000309            San Pablo -40.38308  -73.34988    1070   \n",
       "23          23  28161001209  S. Juan de la Costa -40.51004  -73.52129    1070   \n",
       "24          24  28221005509             Chalileo -36.42252  -66.47321    1070   \n",
       "25          25  28261005509               Zapala -38.85047  -69.74997    1070   \n",
       "26          26  28261007109   Junín de los Andes -39.82386  -71.28742    1070   \n",
       "27          27  28261007209            Huiliches -39.63992  -71.18686    1070   \n",
       "28          28  28271006509            Jacobacci -41.28813  -69.55719    1070   \n",
       "\n",
       "   WordModernName1          Phonetic SpellingAltv1        source_csv  \n",
       "0            ellos         fëjëŋɘn      feyengün  12-feyengün.csv  \n",
       "1            ellos     ˌvë.jë.ˈŋɘn           NaN  12-feyengün.csv  \n",
       "2            ellos      cʰɪ.ˈðwɪ.ŋɘn           NaN  12-feyengün.csv  \n",
       "3            ellos     ˈɸë.jë.ɣ̞ɐ̝           NaN  12-feyengün.csv  \n",
       "4            ellos  m̩.ˌvë.jë.ˈŋɘn           NaN  12-feyengün.csv  \n",
       "5            ellos       ˌfɪ.ë.ˈŋɘn           NaN  12-feyengün.csv  \n",
       "6            ellos      fë.jë.ˈŋɘn           NaN  12-feyengün.csv  \n",
       "7            ellos          ˈvëj.ŋʊ           NaN  12-feyengün.csv  \n",
       "8            ellos     ˌfëj.ˈë.ŋɘn           NaN  12-feyengün.csv  \n",
       "9            ellos     ˌfë.jë.ˈŋɘn           NaN  12-feyengün.csv  \n",
       "10           ellos      fë.jë.ˈŋɘn           NaN  12-feyengün.csv  \n",
       "11           ellos     ˌɸë.jë.ˈŋɘn           NaN  12-feyengün.csv  \n",
       "12           ellos         ˈfëj.mɘn           NaN  12-feyengün.csv  \n",
       "13           ellos     ˌfë.jë.ˈŋɘn           NaN  12-feyengün.csv  \n",
       "14           ellos           ë.ˈŋɘn           NaN  12-feyengün.csv  \n",
       "15           ellos       fë.ˈjɪ.ŋɘn           NaN  12-feyengün.csv  \n",
       "16           ellos     ˌfë.jë.ˈŋɘn           NaN  12-feyengün.csv  \n",
       "17           ellos    ˌfëj.ˈjë.ŋɘn           NaN  12-feyengün.csv  \n",
       "18           ellos     ˌfë.jë.ˈŋɘn           NaN  12-feyengün.csv  \n",
       "19           ellos       hë.ˈjɘ.ŋɘn           NaN  12-feyengün.csv  \n",
       "20           ellos         fëj.ˈɣɘŋ           NaN  12-feyengün.csv  \n",
       "21           ellos      ˌfë.ˈjɘ.ŋɘn           NaN  12-feyengün.csv  \n",
       "22           ellos         ˈëj.t̪ɘn           NaN  12-feyengün.csv  \n",
       "23           ellos         ˈfëj.ŋɘn           NaN  12-feyengün.csv  \n",
       "24           ellos          ëj.ˈŋɘn           NaN  12-feyengün.csv  \n",
       "25           ellos          ëj.ˈmɘn           NaN  12-feyengün.csv  \n",
       "26           ellos           fɪ.ˈŋɘn           NaN  12-feyengün.csv  \n",
       "27           ellos     f̞ë.jë.ˈŋɘn           NaN  12-feyengün.csv  \n",
       "28           ellos          ëj.ˈmɘn           NaN  12-feyengün.csv  "
      ]
     },
     "execution_count": 51,
     "metadata": {},
     "output_type": "execute_result"
    }
   ],
   "source": [
    "datos_mapu"
   ]
  },
  {
   "cell_type": "code",
   "execution_count": 52,
   "metadata": {},
   "outputs": [
    {
     "name": "stdout",
     "output_type": "stream",
     "text": [
      "Requirement already satisfied: jellyfish in c:\\users\\jxver\\anaconda3\\lib\\site-packages (0.8.8)\n"
     ]
    }
   ],
   "source": [
    "!pip install jellyfish"
   ]
  },
  {
   "cell_type": "code",
   "execution_count": 55,
   "metadata": {},
   "outputs": [
    {
     "data": {
      "text/plain": [
       "3"
      ]
     },
     "execution_count": 55,
     "metadata": {},
     "output_type": "execute_result"
    }
   ],
   "source": [
    "import jellyfish\n",
    "\n",
    "jellyfish.levenshtein_distance('fë.jë.ˈŋɘn', 'fëj.ˈjë.ŋɘn')"
   ]
  },
  {
   "cell_type": "markdown",
   "metadata": {},
   "source": [
    "### B. Rasgos de textos"
   ]
  },
  {
   "cell_type": "code",
   "execution_count": null,
   "metadata": {},
   "outputs": [],
   "source": [
    "lista_original = ['hola hola','el perro','el gato y el gato']"
   ]
  },
  {
   "cell_type": "code",
   "execution_count": 68,
   "metadata": {},
   "outputs": [],
   "source": [
    "## aplanar listas!\n",
    "\n",
    "A = [['Aa','B'],['C'],['a','BB','d']]"
   ]
  },
  {
   "cell_type": "code",
   "execution_count": 72,
   "metadata": {},
   "outputs": [],
   "source": [
    "A_aplanada = []\n",
    "\n",
    "for item in A:\n",
    "    for w in item:\n",
    "        A_aplanada+=[w]#[w.lower()]"
   ]
  },
  {
   "cell_type": "code",
   "execution_count": 73,
   "metadata": {},
   "outputs": [
    {
     "data": {
      "text/plain": [
       "['Aa', 'B', 'C', 'a', 'BB', 'd']"
      ]
     },
     "execution_count": 73,
     "metadata": {},
     "output_type": "execute_result"
    }
   ],
   "source": [
    "A_aplanada"
   ]
  },
  {
   "cell_type": "code",
   "execution_count": 74,
   "metadata": {},
   "outputs": [],
   "source": [
    "A_minuscula = []\n",
    "\n",
    "for w in A_aplanada:\n",
    "    A_minuscula+=[w.lower()]"
   ]
  },
  {
   "cell_type": "code",
   "execution_count": 75,
   "metadata": {},
   "outputs": [
    {
     "data": {
      "text/plain": [
       "['aa', 'b', 'c', 'a', 'bb', 'd']"
      ]
     },
     "execution_count": 75,
     "metadata": {},
     "output_type": "execute_result"
    }
   ],
   "source": [
    "A_minuscula"
   ]
  },
  {
   "cell_type": "code",
   "execution_count": 77,
   "metadata": {},
   "outputs": [],
   "source": [
    "## recomendación! use:\n",
    "\n",
    "file = open('udhr/udhr_spa.txt','r', encoding=\"utf8\")\n",
    "file = file.read()"
   ]
  },
  {
   "cell_type": "code",
   "execution_count": 78,
   "metadata": {},
   "outputs": [
    {
     "data": {
      "text/plain": [
       "'Universal Declaration of Human Rights - Spanish\\n© 1996 – 2009 The Office of the High Commissioner for Human Rights\\nThis plain text version prepared by the “UDHR in Unicode”\\nproject, https://www.unicode.org/udhr.\\n---\\n\\nDeclaración Universal de Derechos Humanos\\n      Adoptada y proclamada por la Asamblea General en su resolución 217 A (III), de 10 de diciembre de 1948\\n   \\n      Preámbulo\\n      Considerando que la libertad, la justicia y la paz en el mundo tienen por base el reconocimiento de la dignidad intrínseca y de los derechos iguales e inalienables de todos los miembros de la familia humana,\\n      Considerando que el desconocimiento y el menosprecio de los derechos humanos han originado actos de barbarie ultrajantes para la conciencia de la humanidad; y que se ha proclamado, como la aspiración más elevada del hombre, el advenimiento de un mundo en que los seres humanos, liberados del temor y de la miseria, disfruten de la libertad de palabra y de la libertad de creencias,\\n      Considerando esencial que los derechos humanos sean protegidos por un régimen de Derecho, a fin de que el hombre no se vea compelido al supremo recurso de la rebelión contra la tiranía y la opresión,\\n      Considerando también esencial promover el desarrollo de relaciones amistosas entre las naciones,\\n      Considerando que los pueblos de las Naciones Unidas han reafirmado en la Carta su fe en los derechos fundamentales del hombre, en la dignidad y el valor de la persona humana y en la igualdad de derechos de hombres y mujeres; y se han declarado resueltos a promover el progreso social y a elevar el nivel de vida dentro de un concepto más amplio de la libertad,\\n      Considerando que los Estados Miembros se han comprometido a asegurar, en cooperación con la Organización de las Naciones Unidas, el respeto universal y efectivo a los derechos y libertades fundamentales del hombre, y\\n      Considerando que una concepción común de estos derechos y libertades es de la mayor importancia para el pleno cumplimiento de dicho compromiso,\\n      La Asamblea General\\n      Proclama la presente Declaración Universal de Derechos Humanos como ideal común por el que todos los pueblos y naciones deben esforzarse, a fin de que tanto los individuos como las instituciones, inspirándose constantemente en ella, promuevan, mediante la enseñanza y la educación, el respeto a estos derechos y libertades, y aseguren, por medidas progresivas de carácter nacional e internacional, su reconocimiento y aplicación universales y efectivos, tanto entre los pueblos de los Estados Miembros como entre los de los territorios colocados bajo su jurisdicción.\\n   \\n      Artículo 1\\n      Todos los seres humanos nacen libres e iguales en dignidad y derechos y, dotados como están de razón y conciencia, deben comportarse fraternalmente los unos con los otros.\\n   \\n      Artículo 2\\n      Toda persona tiene los derechos y libertades proclamados en esta Declaración, sin distinción alguna de raza, color, sexo, idioma, religión, opinión política o de cualquier otra índole, origen nacional o social, posición económica, nacimiento o cualquier otra condición.\\n      Además, no se hará distinción alguna fundada en la condición política, jurídica o internacional del país o territorio de cuya jurisdicción dependa una persona, tanto si se trata de un país independiente, como de un territorio bajo administración fiduciaria, no autónomo o sometido a cualquier otra limitación de soberanía.\\n   \\n      Artículo 3\\n      Todo individuo tiene derecho a la vida, a la libertad y a la seguridad de su persona.\\n   \\n      Artículo 4\\n      Nadie estará sometido a esclavitud ni a servidumbre; la esclavitud y la trata de esclavos están prohibidas en todas sus formas.\\n   \\n      Artículo 5\\n      Nadie será sometido a torturas ni a penas o tratos crueles, inhumanos o degradantes.\\n   \\n      Artículo 6\\n      Todo ser humano tiene derecho, en todas partes, al reconocimiento de su personalidad jurídica.\\n   \\n      Artículo 7\\n      Todos son iguales ante la ley y tienen, sin distinción, derecho a igual protección de la ley. Todos tienen derecho a igual protección contra toda discriminación que infrinja esta Declaración y contra toda provocación a tal discriminación.\\n   \\n      Artículo 8\\n      Toda persona tiene derecho a un recurso efectivo, ante los tribunales nacionales competentes, que la ampare contra actos que violen sus derechos fundamentales reconocidos por la constitución o por la ley.\\n   \\n      Artículo 9\\n      Nadie podrá ser arbitrariamente detenido, preso ni desterrado.\\n   \\n      Artículo 10\\n      Toda persona tiene derecho, en condiciones de plena igualdad, a ser oída públicamente y con justicia por un tribunal independiente e imparcial, para la determinación de sus derechos y obligaciones o para el examen de cualquier acusación contra ella en materia penal.\\n   \\n      Artículo 11\\n      \\n         \\n            Toda persona acusada de delito tiene derecho a que se presuma su inocencia mientras no se pruebe su culpabilidad, conforme a la ley y en juicio público en el que se le hayan asegurado todas las garantías necesarias para su defensa.\\n         \\n         \\n            Nadie será condenado por actos u omisiones que en el momento de cometerse no fueron delictivos según el Derecho nacional o internacional. Tampoco se impondrá pena más grave que la aplicable en el momento de la comisión del delito.\\n         \\n      \\n   \\n      Artículo 12\\n      Nadie será objeto de injerencias arbitrarias en su vida privada, su familia, su domicilio o su correspondencia, ni de ataques a su honra o a su reputación. Toda persona tiene derecho a la protección de la ley contra tales injerencias o ataques.\\n   \\n      Artículo 13\\n      \\n         \\n            Toda persona tiene derecho a circular libremente y a elegir su residencia en el territorio de un Estado.\\n         \\n         \\n            Toda persona tiene derecho a salir de cualquier país, incluso el propio, y a regresar a su país.\\n         \\n      \\n   \\n      Artículo 14\\n      \\n         \\n            En caso de persecución, toda persona tiene derecho a buscar asilo, y a disfrutar de él, en cualquier país.\\n         \\n         \\n            Este derecho no podrá ser invocado contra una acción judicial realmente originada por delitos comunes o por actos opuestos a los propósitos y principios de las Naciones Unidas.\\n         \\n      \\n   \\n      Artículo 15\\n      \\n         \\n            Toda persona tiene derecho a una nacionalidad.\\n         \\n         \\n            A nadie se privará arbitrariamente de su nacionalidad ni del derecho a cambiar de nacionalidad.\\n         \\n      \\n   \\n      Artículo 16\\n      \\n         \\n            Los hombres y las mujeres, a partir de la edad núbil, tienen derecho, sin restricción alguna por motivos de raza, nacionalidad o religión, a casarse y fundar una familia; y disfrutarán de iguales derechos en cuanto al matrimonio, durante el matrimonio y en caso de disolución del matrimonio.\\n         \\n         \\n            Sólo mediante libre y pleno consentimiento de los futuros esposos podrá contraerse el matrimonio.\\n         \\n         \\n            La familia es el elemento natural y fundamental de la sociedad y tiene derecho a la protección de la sociedad y del Estado.\\n         \\n      \\n   \\n      Artículo 17\\n      \\n         \\n            Toda persona tiene derecho a la propiedad, individual y colectivamente.\\n         \\n         \\n            Nadie será privado arbitrariamente de su propiedad.\\n         \\n      \\n   \\n      Artículo 18\\n      Toda persona tiene derecho a la libertad de pensamiento, de conciencia y de religión; este derecho incluye la libertad de cambiar de religión o de creencia, así como la libertad de manifestar su religión o su creencia, individual y colectivamente, tanto en público como en privado, por la enseñanza, la práctica, el culto y la observancia.\\n   \\n      Artículo 19\\n      Todo individuo tiene derecho a la libertad de opinión y de expresión; este derecho incluye el no ser molestado a causa de sus opiniones, el de investigar y recibir informaciones y opiniones, y el de difundirlas, sin limitación de fronteras, por cualquier medio de expresión.\\n   \\n      Artículo 20\\n      \\n         \\n            Toda persona tiene derecho a la libertad de reunión y de asociación pacíficas.\\n         \\n         \\n            Nadie podrá ser obligado a pertenecer a una asociación.\\n         \\n      \\n   \\n      Artículo 21\\n      \\n         \\n            Toda persona tiene derecho a participar en el gobierno de su país, directamente o por medio de representantes libremente escogidos.\\n         \\n         \\n            Toda persona tiene el derecho de acceso, en condiciones de igualdad, a las funciones públicas de su país.\\n         \\n         \\n            La voluntad del pueblo es la base de la autoridad del poder público; esta voluntad se expresará mediante elecciones auténticas que habrán de celebrarse periódicamente, por sufragio universal e igual y por voto secreto u otro procedimiento equivalente que garantice la libertad del voto.\\n         \\n      \\n   \\n      Artículo 22\\n      Toda persona, como miembro de la sociedad, tiene derecho a la seguridad social, y a obtener, mediante el esfuerzo nacional y la cooperación internacional, habida cuenta de la organización y los recursos de cada Estado, la satisfacción de los derechos económicos, sociales y culturales, indispensables a su dignidad y al libre desarrollo de su personalidad.\\n   \\n      Artículo 23\\n      \\n         \\n            Toda persona tiene derecho al trabajo, a la libre elección de su trabajo, a condiciones equitativas y satisfactorias de trabajo y a la protección contra el desempleo.\\n         \\n         \\n            Toda personal tiene derecho, sin discriminación alguna, a igual salario por trabajo igual.\\n         \\n         \\n            Toda persona que trabaja tiene derecho a una remuneración equitativa y satisfactoria, que le asegure, así como a su familia, una existencia conforme a la dignidad humana y que será completada, en caso necesario, por cualesquiera otros medios de protección social.\\n         \\n         \\n            Toda persona tiene derecho a fundar sindicatos y a sindicarse para la defensa de sus intereses.\\n         \\n      \\n   \\n      Artículo 24\\n      Toda persona tiene derecho al descanso, al disfrute del tiempo libre, a una limitación razonable de la duración del trabajo y a vacaciones periódicas pagadas.\\n   \\n      Artículo 25\\n      \\n         \\n            Toda persona tiene derecho a un nivel de vida adecuado que le asegure, así como a su familia, la salud y el bienestar, y en especial la alimentación, el vestido, la vivienda, la asistencia médica y los servicios sociales necesarios; tiene asimismo derecho a los seguros en caso de desempleo, enfermedad, invalidez, viudez, vejez y otros casos de pérdida de sus medios de subsistencia por circunstancias independientes de su voluntad.\\n         \\n         \\n            La maternidad y la infancia tienen derecho a cuidados y asistencia especiales. Todos los niños, nacidos de matrimonio o fuera de matrimonio, tienen derecho a igual protección social.\\n         \\n      \\n   \\n      Artículo 26\\n      \\n         \\n            Toda persona tiene derecho a la educación. La educación debe ser gratuita, al menos en lo concerniente a la instrucción elemental y fundamental. La instrucción elemental será obligatoria. La instrucción técnica y profesional habrá de ser generalizada; el acceso a los estudios superiores será igual para todos, en función de los méritos respectivos.\\n         \\n         \\n            La educación tendrá por objeto el pleno desarrollo de la personalidad humana y el fortalecimiento del respeto a los derechos humanos y a las libertades fundamentales; favorecerá la comprensión, la tolerancia y la amistad entre todas las naciones y todos los grupos étnicos o religiosos; y promoverá el desarrollo de las actividades de las Naciones Unidas para el mantenimiento de la paz.\\n         \\n         \\n            Los padres tendrán derecho preferente a escoger el tipo de educación que habrá de darse a sus hijos.\\n         \\n      \\n   \\n      Artículo 27\\n      \\n         \\n            Toda persona tiene derecho a tomar parte libremente en la vida cultural de la comunidad, a gozar de las artes y a participar en el progreso científico y en los beneficios que de él resulten.\\n         \\n         \\n            Toda persona tiene derecho a la protección de los intereses morales y materiales que le correspondan por razón de las producciones científicas, literarias o artísticas de que sea autora.\\n         \\n      \\n   \\n      Artículo 28\\n      Toda persona tiene derecho a que se establezca un orden social e internacional en el que los derechos y libertades proclamados en esta Declaración se hagan plenamente efectivos.\\n   \\n      Artículo 29\\n      \\n         \\n            Toda persona tiene deberes respecto a la comunidad, puesto que sólo en ella puede desarrollar libre y plenamente su personalidad.\\n         \\n         \\n            En el ejercicio de sus derechos y en el disfrute de sus libertades, toda persona estará solamente sujeta a las limitaciones establecidas por la ley con el único fin de asegurar el reconocimiento y el respeto de los derechos y libertades de los demás, y de satisfacer las justas exigencias de la moral, del orden público y del bienestar general en una sociedad democrática.\\n         \\n         \\n            Estos derechos y libertades no podrán en ningún caso ser ejercidos en oposición a los propósitos y principios de las Naciones Unidas.\\n         \\n      \\n   \\n      Artículo 30\\n      Nada en la presente Declaración podrá interpretarse en el sentido de que confiere derecho alguno al Estado, a un grupo o a una persona, para emprender y desarrollar actividades o realizar actos tendientes a la supresión de cualquiera de los derechos y libertades proclamados en esta Declaración.\\n   '"
      ]
     },
     "execution_count": 78,
     "metadata": {},
     "output_type": "execute_result"
    }
   ],
   "source": [
    "file"
   ]
  },
  {
   "cell_type": "code",
   "execution_count": 81,
   "metadata": {},
   "outputs": [],
   "source": [
    "from nltk import sent_tokenize"
   ]
  },
  {
   "cell_type": "code",
   "execution_count": 96,
   "metadata": {},
   "outputs": [
    {
     "data": {
      "text/plain": [
       "True"
      ]
     },
     "execution_count": 96,
     "metadata": {},
     "output_type": "execute_result"
    }
   ],
   "source": [
    "'Artículo 3w45345435'.startswith('Artículo')"
   ]
  },
  {
   "cell_type": "code",
   "execution_count": 97,
   "metadata": {},
   "outputs": [],
   "source": [
    "def clean(F):\n",
    "    F = F.split('\\n')\n",
    "    F = [s.strip() for s in F]\n",
    "    F = [s for s in F if len(s)>0]\n",
    "    F = [sent_tokenize(s) for s in F]\n",
    "    sentences = []\n",
    "    for S in F[5:]:\n",
    "        for s in S:\n",
    "            if not s.startswith('Artículo'):\n",
    "                sentences+=[s]\n",
    "    return sentences"
   ]
  },
  {
   "cell_type": "code",
   "execution_count": 98,
   "metadata": {},
   "outputs": [],
   "source": [
    "oraciones = clean(file)"
   ]
  },
  {
   "cell_type": "code",
   "execution_count": 99,
   "metadata": {},
   "outputs": [
    {
     "data": {
      "text/plain": [
       "['Declaración Universal de Derechos Humanos',\n",
       " 'Adoptada y proclamada por la Asamblea General en su resolución 217 A (III), de 10 de diciembre de 1948',\n",
       " 'Preámbulo',\n",
       " 'Considerando que la libertad, la justicia y la paz en el mundo tienen por base el reconocimiento de la dignidad intrínseca y de los derechos iguales e inalienables de todos los miembros de la familia humana,',\n",
       " 'Considerando que el desconocimiento y el menosprecio de los derechos humanos han originado actos de barbarie ultrajantes para la conciencia de la humanidad; y que se ha proclamado, como la aspiración más elevada del hombre, el advenimiento de un mundo en que los seres humanos, liberados del temor y de la miseria, disfruten de la libertad de palabra y de la libertad de creencias,',\n",
       " 'Considerando esencial que los derechos humanos sean protegidos por un régimen de Derecho, a fin de que el hombre no se vea compelido al supremo recurso de la rebelión contra la tiranía y la opresión,',\n",
       " 'Considerando también esencial promover el desarrollo de relaciones amistosas entre las naciones,',\n",
       " 'Considerando que los pueblos de las Naciones Unidas han reafirmado en la Carta su fe en los derechos fundamentales del hombre, en la dignidad y el valor de la persona humana y en la igualdad de derechos de hombres y mujeres; y se han declarado resueltos a promover el progreso social y a elevar el nivel de vida dentro de un concepto más amplio de la libertad,',\n",
       " 'Considerando que los Estados Miembros se han comprometido a asegurar, en cooperación con la Organización de las Naciones Unidas, el respeto universal y efectivo a los derechos y libertades fundamentales del hombre, y',\n",
       " 'Considerando que una concepción común de estos derechos y libertades es de la mayor importancia para el pleno cumplimiento de dicho compromiso,',\n",
       " 'La Asamblea General',\n",
       " 'Proclama la presente Declaración Universal de Derechos Humanos como ideal común por el que todos los pueblos y naciones deben esforzarse, a fin de que tanto los individuos como las instituciones, inspirándose constantemente en ella, promuevan, mediante la enseñanza y la educación, el respeto a estos derechos y libertades, y aseguren, por medidas progresivas de carácter nacional e internacional, su reconocimiento y aplicación universales y efectivos, tanto entre los pueblos de los Estados Miembros como entre los de los territorios colocados bajo su jurisdicción.',\n",
       " 'Todos los seres humanos nacen libres e iguales en dignidad y derechos y, dotados como están de razón y conciencia, deben comportarse fraternalmente los unos con los otros.',\n",
       " 'Toda persona tiene los derechos y libertades proclamados en esta Declaración, sin distinción alguna de raza, color, sexo, idioma, religión, opinión política o de cualquier otra índole, origen nacional o social, posición económica, nacimiento o cualquier otra condición.',\n",
       " 'Además, no se hará distinción alguna fundada en la condición política, jurídica o internacional del país o territorio de cuya jurisdicción dependa una persona, tanto si se trata de un país independiente, como de un territorio bajo administración fiduciaria, no autónomo o sometido a cualquier otra limitación de soberanía.',\n",
       " 'Todo individuo tiene derecho a la vida, a la libertad y a la seguridad de su persona.',\n",
       " 'Nadie estará sometido a esclavitud ni a servidumbre; la esclavitud y la trata de esclavos están prohibidas en todas sus formas.',\n",
       " 'Nadie será sometido a torturas ni a penas o tratos crueles, inhumanos o degradantes.',\n",
       " 'Todo ser humano tiene derecho, en todas partes, al reconocimiento de su personalidad jurídica.',\n",
       " 'Todos son iguales ante la ley y tienen, sin distinción, derecho a igual protección de la ley.',\n",
       " 'Todos tienen derecho a igual protección contra toda discriminación que infrinja esta Declaración y contra toda provocación a tal discriminación.',\n",
       " 'Toda persona tiene derecho a un recurso efectivo, ante los tribunales nacionales competentes, que la ampare contra actos que violen sus derechos fundamentales reconocidos por la constitución o por la ley.',\n",
       " 'Nadie podrá ser arbitrariamente detenido, preso ni desterrado.',\n",
       " 'Toda persona tiene derecho, en condiciones de plena igualdad, a ser oída públicamente y con justicia por un tribunal independiente e imparcial, para la determinación de sus derechos y obligaciones o para el examen de cualquier acusación contra ella en materia penal.',\n",
       " 'Toda persona acusada de delito tiene derecho a que se presuma su inocencia mientras no se pruebe su culpabilidad, conforme a la ley y en juicio público en el que se le hayan asegurado todas las garantías necesarias para su defensa.',\n",
       " 'Nadie será condenado por actos u omisiones que en el momento de cometerse no fueron delictivos según el Derecho nacional o internacional.',\n",
       " 'Tampoco se impondrá pena más grave que la aplicable en el momento de la comisión del delito.',\n",
       " 'Nadie será objeto de injerencias arbitrarias en su vida privada, su familia, su domicilio o su correspondencia, ni de ataques a su honra o a su reputación.',\n",
       " 'Toda persona tiene derecho a la protección de la ley contra tales injerencias o ataques.',\n",
       " 'Toda persona tiene derecho a circular libremente y a elegir su residencia en el territorio de un Estado.',\n",
       " 'Toda persona tiene derecho a salir de cualquier país, incluso el propio, y a regresar a su país.',\n",
       " 'En caso de persecución, toda persona tiene derecho a buscar asilo, y a disfrutar de él, en cualquier país.',\n",
       " 'Este derecho no podrá ser invocado contra una acción judicial realmente originada por delitos comunes o por actos opuestos a los propósitos y principios de las Naciones Unidas.',\n",
       " 'Toda persona tiene derecho a una nacionalidad.',\n",
       " 'A nadie se privará arbitrariamente de su nacionalidad ni del derecho a cambiar de nacionalidad.',\n",
       " 'Los hombres y las mujeres, a partir de la edad núbil, tienen derecho, sin restricción alguna por motivos de raza, nacionalidad o religión, a casarse y fundar una familia; y disfrutarán de iguales derechos en cuanto al matrimonio, durante el matrimonio y en caso de disolución del matrimonio.',\n",
       " 'Sólo mediante libre y pleno consentimiento de los futuros esposos podrá contraerse el matrimonio.',\n",
       " 'La familia es el elemento natural y fundamental de la sociedad y tiene derecho a la protección de la sociedad y del Estado.',\n",
       " 'Toda persona tiene derecho a la propiedad, individual y colectivamente.',\n",
       " 'Nadie será privado arbitrariamente de su propiedad.',\n",
       " 'Toda persona tiene derecho a la libertad de pensamiento, de conciencia y de religión; este derecho incluye la libertad de cambiar de religión o de creencia, así como la libertad de manifestar su religión o su creencia, individual y colectivamente, tanto en público como en privado, por la enseñanza, la práctica, el culto y la observancia.',\n",
       " 'Todo individuo tiene derecho a la libertad de opinión y de expresión; este derecho incluye el no ser molestado a causa de sus opiniones, el de investigar y recibir informaciones y opiniones, y el de difundirlas, sin limitación de fronteras, por cualquier medio de expresión.',\n",
       " 'Toda persona tiene derecho a la libertad de reunión y de asociación pacíficas.',\n",
       " 'Nadie podrá ser obligado a pertenecer a una asociación.',\n",
       " 'Toda persona tiene derecho a participar en el gobierno de su país, directamente o por medio de representantes libremente escogidos.',\n",
       " 'Toda persona tiene el derecho de acceso, en condiciones de igualdad, a las funciones públicas de su país.',\n",
       " 'La voluntad del pueblo es la base de la autoridad del poder público; esta voluntad se expresará mediante elecciones auténticas que habrán de celebrarse periódicamente, por sufragio universal e igual y por voto secreto u otro procedimiento equivalente que garantice la libertad del voto.',\n",
       " 'Toda persona, como miembro de la sociedad, tiene derecho a la seguridad social, y a obtener, mediante el esfuerzo nacional y la cooperación internacional, habida cuenta de la organización y los recursos de cada Estado, la satisfacción de los derechos económicos, sociales y culturales, indispensables a su dignidad y al libre desarrollo de su personalidad.',\n",
       " 'Toda persona tiene derecho al trabajo, a la libre elección de su trabajo, a condiciones equitativas y satisfactorias de trabajo y a la protección contra el desempleo.',\n",
       " 'Toda personal tiene derecho, sin discriminación alguna, a igual salario por trabajo igual.',\n",
       " 'Toda persona que trabaja tiene derecho a una remuneración equitativa y satisfactoria, que le asegure, así como a su familia, una existencia conforme a la dignidad humana y que será completada, en caso necesario, por cualesquiera otros medios de protección social.',\n",
       " 'Toda persona tiene derecho a fundar sindicatos y a sindicarse para la defensa de sus intereses.',\n",
       " 'Toda persona tiene derecho al descanso, al disfrute del tiempo libre, a una limitación razonable de la duración del trabajo y a vacaciones periódicas pagadas.',\n",
       " 'Toda persona tiene derecho a un nivel de vida adecuado que le asegure, así como a su familia, la salud y el bienestar, y en especial la alimentación, el vestido, la vivienda, la asistencia médica y los servicios sociales necesarios; tiene asimismo derecho a los seguros en caso de desempleo, enfermedad, invalidez, viudez, vejez y otros casos de pérdida de sus medios de subsistencia por circunstancias independientes de su voluntad.',\n",
       " 'La maternidad y la infancia tienen derecho a cuidados y asistencia especiales.',\n",
       " 'Todos los niños, nacidos de matrimonio o fuera de matrimonio, tienen derecho a igual protección social.',\n",
       " 'Toda persona tiene derecho a la educación.',\n",
       " 'La educación debe ser gratuita, al menos en lo concerniente a la instrucción elemental y fundamental.',\n",
       " 'La instrucción elemental será obligatoria.',\n",
       " 'La instrucción técnica y profesional habrá de ser generalizada; el acceso a los estudios superiores será igual para todos, en función de los méritos respectivos.',\n",
       " 'La educación tendrá por objeto el pleno desarrollo de la personalidad humana y el fortalecimiento del respeto a los derechos humanos y a las libertades fundamentales; favorecerá la comprensión, la tolerancia y la amistad entre todas las naciones y todos los grupos étnicos o religiosos; y promoverá el desarrollo de las actividades de las Naciones Unidas para el mantenimiento de la paz.',\n",
       " 'Los padres tendrán derecho preferente a escoger el tipo de educación que habrá de darse a sus hijos.',\n",
       " 'Toda persona tiene derecho a tomar parte libremente en la vida cultural de la comunidad, a gozar de las artes y a participar en el progreso científico y en los beneficios que de él resulten.',\n",
       " 'Toda persona tiene derecho a la protección de los intereses morales y materiales que le correspondan por razón de las producciones científicas, literarias o artísticas de que sea autora.',\n",
       " 'Toda persona tiene derecho a que se establezca un orden social e internacional en el que los derechos y libertades proclamados en esta Declaración se hagan plenamente efectivos.',\n",
       " 'Toda persona tiene deberes respecto a la comunidad, puesto que sólo en ella puede desarrollar libre y plenamente su personalidad.',\n",
       " 'En el ejercicio de sus derechos y en el disfrute de sus libertades, toda persona estará solamente sujeta a las limitaciones establecidas por la ley con el único fin de asegurar el reconocimiento y el respeto de los derechos y libertades de los demás, y de satisfacer las justas exigencias de la moral, del orden público y del bienestar general en una sociedad democrática.',\n",
       " 'Estos derechos y libertades no podrán en ningún caso ser ejercidos en oposición a los propósitos y principios de las Naciones Unidas.',\n",
       " 'Nada en la presente Declaración podrá interpretarse en el sentido de que confiere derecho alguno al Estado, a un grupo o a una persona, para emprender y desarrollar actividades o realizar actos tendientes a la supresión de cualquiera de los derechos y libertades proclamados en esta Declaración.']"
      ]
     },
     "execution_count": 99,
     "metadata": {},
     "output_type": "execute_result"
    }
   ],
   "source": [
    "oraciones"
   ]
  },
  {
   "cell_type": "code",
   "execution_count": 102,
   "metadata": {},
   "outputs": [
    {
     "name": "stdout",
     "output_type": "stream",
     "text": [
      "Requirement already satisfied: pip in c:\\users\\jxver\\anaconda3\\lib\\site-packages (21.2.4)\n",
      "Requirement already satisfied: setuptools in c:\\users\\jxver\\anaconda3\\lib\\site-packages (58.2.0)\n",
      "Requirement already satisfied: wheel in c:\\users\\jxver\\anaconda3\\lib\\site-packages (0.37.0)\n",
      "Requirement already satisfied: spacy in c:\\users\\jxver\\anaconda3\\lib\\site-packages (3.1.3)\n",
      "Requirement already satisfied: murmurhash<1.1.0,>=0.28.0 in c:\\users\\jxver\\anaconda3\\lib\\site-packages (from spacy) (1.0.5)\n",
      "Requirement already satisfied: blis<0.8.0,>=0.4.0 in c:\\users\\jxver\\anaconda3\\lib\\site-packages (from spacy) (0.7.4)\n",
      "Requirement already satisfied: typer<0.5.0,>=0.3.0 in c:\\users\\jxver\\anaconda3\\lib\\site-packages (from spacy) (0.4.0)\n",
      "Requirement already satisfied: pathy>=0.3.5 in c:\\users\\jxver\\anaconda3\\lib\\site-packages (from spacy) (0.6.0)\n",
      "Requirement already satisfied: jinja2 in c:\\users\\jxver\\anaconda3\\lib\\site-packages (from spacy) (2.11.3)\n",
      "Requirement already satisfied: pydantic!=1.8,!=1.8.1,<1.9.0,>=1.7.4 in c:\\users\\jxver\\anaconda3\\lib\\site-packages (from spacy) (1.8.2)\n",
      "Requirement already satisfied: tqdm<5.0.0,>=4.38.0 in c:\\users\\jxver\\anaconda3\\lib\\site-packages (from spacy) (4.59.0)\n",
      "Requirement already satisfied: requests<3.0.0,>=2.13.0 in c:\\users\\jxver\\anaconda3\\lib\\site-packages (from spacy) (2.25.1)\n",
      "Requirement already satisfied: spacy-legacy<3.1.0,>=3.0.8 in c:\\users\\jxver\\anaconda3\\lib\\site-packages (from spacy) (3.0.8)\n",
      "Requirement already satisfied: cymem<2.1.0,>=2.0.2 in c:\\users\\jxver\\anaconda3\\lib\\site-packages (from spacy) (2.0.5)\n",
      "Requirement already satisfied: numpy>=1.15.0 in c:\\users\\jxver\\anaconda3\\lib\\site-packages (from spacy) (1.20.1)\n",
      "Requirement already satisfied: packaging>=20.0 in c:\\users\\jxver\\anaconda3\\lib\\site-packages (from spacy) (20.9)\n",
      "Requirement already satisfied: catalogue<2.1.0,>=2.0.6 in c:\\users\\jxver\\anaconda3\\lib\\site-packages (from spacy) (2.0.6)\n",
      "Requirement already satisfied: thinc<8.1.0,>=8.0.9 in c:\\users\\jxver\\anaconda3\\lib\\site-packages (from spacy) (8.0.10)\n",
      "Requirement already satisfied: preshed<3.1.0,>=3.0.2 in c:\\users\\jxver\\anaconda3\\lib\\site-packages (from spacy) (3.0.5)\n",
      "Requirement already satisfied: wasabi<1.1.0,>=0.8.1 in c:\\users\\jxver\\anaconda3\\lib\\site-packages (from spacy) (0.8.2)\n",
      "Requirement already satisfied: srsly<3.0.0,>=2.4.1 in c:\\users\\jxver\\anaconda3\\lib\\site-packages (from spacy) (2.4.1)\n",
      "Requirement already satisfied: setuptools in c:\\users\\jxver\\anaconda3\\lib\\site-packages (from spacy) (58.2.0)\n",
      "Requirement already satisfied: pyparsing>=2.0.2 in c:\\users\\jxver\\anaconda3\\lib\\site-packages (from packaging>=20.0->spacy) (2.4.7)\n",
      "Requirement already satisfied: smart-open<6.0.0,>=5.0.0 in c:\\users\\jxver\\anaconda3\\lib\\site-packages (from pathy>=0.3.5->spacy) (5.2.1)\n",
      "Requirement already satisfied: typing-extensions>=3.7.4.3 in c:\\users\\jxver\\anaconda3\\lib\\site-packages (from pydantic!=1.8,!=1.8.1,<1.9.0,>=1.7.4->spacy) (3.7.4.3)\n",
      "Requirement already satisfied: urllib3<1.27,>=1.21.1 in c:\\users\\jxver\\anaconda3\\lib\\site-packages (from requests<3.0.0,>=2.13.0->spacy) (1.26.4)\n",
      "Requirement already satisfied: certifi>=2017.4.17 in c:\\users\\jxver\\anaconda3\\lib\\site-packages (from requests<3.0.0,>=2.13.0->spacy) (2020.12.5)\n",
      "Requirement already satisfied: chardet<5,>=3.0.2 in c:\\users\\jxver\\anaconda3\\lib\\site-packages (from requests<3.0.0,>=2.13.0->spacy) (4.0.0)\n",
      "Requirement already satisfied: idna<3,>=2.5 in c:\\users\\jxver\\anaconda3\\lib\\site-packages (from requests<3.0.0,>=2.13.0->spacy) (2.10)\n",
      "Requirement already satisfied: click<9.0.0,>=7.1.1 in c:\\users\\jxver\\anaconda3\\lib\\site-packages (from typer<0.5.0,>=0.3.0->spacy) (7.1.2)\n",
      "Requirement already satisfied: MarkupSafe>=0.23 in c:\\users\\jxver\\anaconda3\\lib\\site-packages (from jinja2->spacy) (1.1.1)\n",
      "Collecting es-core-news-sm==3.1.0\n",
      "  Downloading https://github.com/explosion/spacy-models/releases/download/es_core_news_sm-3.1.0/es_core_news_sm-3.1.0-py3-none-any.whl (13.7 MB)\n",
      "Requirement already satisfied: spacy<3.2.0,>=3.1.0 in c:\\users\\jxver\\anaconda3\\lib\\site-packages (from es-core-news-sm==3.1.0) (3.1.3)\n",
      "Requirement already satisfied: spacy-legacy<3.1.0,>=3.0.8 in c:\\users\\jxver\\anaconda3\\lib\\site-packages (from spacy<3.2.0,>=3.1.0->es-core-news-sm==3.1.0) (3.0.8)\n",
      "Requirement already satisfied: requests<3.0.0,>=2.13.0 in c:\\users\\jxver\\anaconda3\\lib\\site-packages (from spacy<3.2.0,>=3.1.0->es-core-news-sm==3.1.0) (2.25.1)\n",
      "Requirement already satisfied: thinc<8.1.0,>=8.0.9 in c:\\users\\jxver\\anaconda3\\lib\\site-packages (from spacy<3.2.0,>=3.1.0->es-core-news-sm==3.1.0) (8.0.10)\n",
      "Requirement already satisfied: typer<0.5.0,>=0.3.0 in c:\\users\\jxver\\anaconda3\\lib\\site-packages (from spacy<3.2.0,>=3.1.0->es-core-news-sm==3.1.0) (0.4.0)\n",
      "Requirement already satisfied: packaging>=20.0 in c:\\users\\jxver\\anaconda3\\lib\\site-packages (from spacy<3.2.0,>=3.1.0->es-core-news-sm==3.1.0) (20.9)\n",
      "Requirement already satisfied: cymem<2.1.0,>=2.0.2 in c:\\users\\jxver\\anaconda3\\lib\\site-packages (from spacy<3.2.0,>=3.1.0->es-core-news-sm==3.1.0) (2.0.5)\n",
      "Requirement already satisfied: srsly<3.0.0,>=2.4.1 in c:\\users\\jxver\\anaconda3\\lib\\site-packages (from spacy<3.2.0,>=3.1.0->es-core-news-sm==3.1.0) (2.4.1)\n",
      "Requirement already satisfied: wasabi<1.1.0,>=0.8.1 in c:\\users\\jxver\\anaconda3\\lib\\site-packages (from spacy<3.2.0,>=3.1.0->es-core-news-sm==3.1.0) (0.8.2)\n",
      "Requirement already satisfied: catalogue<2.1.0,>=2.0.6 in c:\\users\\jxver\\anaconda3\\lib\\site-packages (from spacy<3.2.0,>=3.1.0->es-core-news-sm==3.1.0) (2.0.6)\n",
      "Requirement already satisfied: tqdm<5.0.0,>=4.38.0 in c:\\users\\jxver\\anaconda3\\lib\\site-packages (from spacy<3.2.0,>=3.1.0->es-core-news-sm==3.1.0) (4.59.0)\n",
      "Requirement already satisfied: blis<0.8.0,>=0.4.0 in c:\\users\\jxver\\anaconda3\\lib\\site-packages (from spacy<3.2.0,>=3.1.0->es-core-news-sm==3.1.0) (0.7.4)\n",
      "Requirement already satisfied: pathy>=0.3.5 in c:\\users\\jxver\\anaconda3\\lib\\site-packages (from spacy<3.2.0,>=3.1.0->es-core-news-sm==3.1.0) (0.6.0)\n",
      "Requirement already satisfied: setuptools in c:\\users\\jxver\\anaconda3\\lib\\site-packages (from spacy<3.2.0,>=3.1.0->es-core-news-sm==3.1.0) (58.2.0)\n",
      "Requirement already satisfied: pydantic!=1.8,!=1.8.1,<1.9.0,>=1.7.4 in c:\\users\\jxver\\anaconda3\\lib\\site-packages (from spacy<3.2.0,>=3.1.0->es-core-news-sm==3.1.0) (1.8.2)\n",
      "Requirement already satisfied: jinja2 in c:\\users\\jxver\\anaconda3\\lib\\site-packages (from spacy<3.2.0,>=3.1.0->es-core-news-sm==3.1.0) (2.11.3)\n",
      "Requirement already satisfied: murmurhash<1.1.0,>=0.28.0 in c:\\users\\jxver\\anaconda3\\lib\\site-packages (from spacy<3.2.0,>=3.1.0->es-core-news-sm==3.1.0) (1.0.5)\n",
      "Requirement already satisfied: preshed<3.1.0,>=3.0.2 in c:\\users\\jxver\\anaconda3\\lib\\site-packages (from spacy<3.2.0,>=3.1.0->es-core-news-sm==3.1.0) (3.0.5)\n",
      "Requirement already satisfied: numpy>=1.15.0 in c:\\users\\jxver\\anaconda3\\lib\\site-packages (from spacy<3.2.0,>=3.1.0->es-core-news-sm==3.1.0) (1.20.1)\n",
      "Requirement already satisfied: pyparsing>=2.0.2 in c:\\users\\jxver\\anaconda3\\lib\\site-packages (from packaging>=20.0->spacy<3.2.0,>=3.1.0->es-core-news-sm==3.1.0) (2.4.7)\n",
      "Requirement already satisfied: smart-open<6.0.0,>=5.0.0 in c:\\users\\jxver\\anaconda3\\lib\\site-packages (from pathy>=0.3.5->spacy<3.2.0,>=3.1.0->es-core-news-sm==3.1.0) (5.2.1)\n",
      "Requirement already satisfied: typing-extensions>=3.7.4.3 in c:\\users\\jxver\\anaconda3\\lib\\site-packages (from pydantic!=1.8,!=1.8.1,<1.9.0,>=1.7.4->spacy<3.2.0,>=3.1.0->es-core-news-sm==3.1.0) (3.7.4.3)\n",
      "Requirement already satisfied: chardet<5,>=3.0.2 in c:\\users\\jxver\\anaconda3\\lib\\site-packages (from requests<3.0.0,>=2.13.0->spacy<3.2.0,>=3.1.0->es-core-news-sm==3.1.0) (4.0.0)\n",
      "Requirement already satisfied: urllib3<1.27,>=1.21.1 in c:\\users\\jxver\\anaconda3\\lib\\site-packages (from requests<3.0.0,>=2.13.0->spacy<3.2.0,>=3.1.0->es-core-news-sm==3.1.0) (1.26.4)\n",
      "Requirement already satisfied: certifi>=2017.4.17 in c:\\users\\jxver\\anaconda3\\lib\\site-packages (from requests<3.0.0,>=2.13.0->spacy<3.2.0,>=3.1.0->es-core-news-sm==3.1.0) (2020.12.5)\n",
      "Requirement already satisfied: idna<3,>=2.5 in c:\\users\\jxver\\anaconda3\\lib\\site-packages (from requests<3.0.0,>=2.13.0->spacy<3.2.0,>=3.1.0->es-core-news-sm==3.1.0) (2.10)\n",
      "Requirement already satisfied: click<9.0.0,>=7.1.1 in c:\\users\\jxver\\anaconda3\\lib\\site-packages (from typer<0.5.0,>=0.3.0->spacy<3.2.0,>=3.1.0->es-core-news-sm==3.1.0) (7.1.2)\n",
      "Requirement already satisfied: MarkupSafe>=0.23 in c:\\users\\jxver\\anaconda3\\lib\\site-packages (from jinja2->spacy<3.2.0,>=3.1.0->es-core-news-sm==3.1.0) (1.1.1)\n",
      "[+] Download and installation successful\n",
      "You can now load the package via spacy.load('es_core_news_sm')\n"
     ]
    }
   ],
   "source": [
    "## pregunta: ¿Cuántos sustantivos tiene el texto?\n",
    "\n",
    "!pip install -U pip setuptools wheel\n",
    "!pip install -U spacy\n",
    "!python -m spacy download es_core_news_sm"
   ]
  },
  {
   "cell_type": "code",
   "execution_count": 104,
   "metadata": {},
   "outputs": [],
   "source": [
    "import spacy\n",
    "\n",
    "nlp = spacy.load(\"es_core_news_sm\")"
   ]
  },
  {
   "cell_type": "code",
   "execution_count": 105,
   "metadata": {},
   "outputs": [
    {
     "data": {
      "text/plain": [
       "Toda persona tiene los derechos y libertades proclamados en esta Declaración, sin distinción alguna de raza, color, sexo, idioma, religión, opinión política o de cualquier otra índole, origen nacional o social, posición económica, nacimiento o cualquier otra condición."
      ]
     },
     "execution_count": 105,
     "metadata": {},
     "output_type": "execute_result"
    }
   ],
   "source": [
    "nlp('Toda persona tiene los derechos y libertades proclamados en esta Declaración, sin distinción alguna de raza, color, sexo, idioma, religión, opinión política o de cualquier otra índole, origen nacional o social, posición económica, nacimiento o cualquier otra condición.')"
   ]
  },
  {
   "cell_type": "code",
   "execution_count": 107,
   "metadata": {},
   "outputs": [],
   "source": [
    "import spacy\n",
    "\n",
    "nlp = spacy.load(\"es_core_news_sm\")\n",
    "analisis = []\n",
    "for s in oraciones:\n",
    "    doc = nlp(s)\n",
    "    analisis+=[doc]"
   ]
  },
  {
   "cell_type": "code",
   "execution_count": 109,
   "metadata": {},
   "outputs": [],
   "source": [
    "tokens, lemmas, pos = [], [], []\n",
    "\n",
    "for token in analisis[0]:\n",
    "    tokens+=[token.text]\n",
    "    lemmas+=[token.lemma_], \n",
    "    pos+=[token.pos_] "
   ]
  },
  {
   "cell_type": "code",
   "execution_count": 110,
   "metadata": {},
   "outputs": [
    {
     "data": {
      "text/plain": [
       "['Declaración', 'Universal', 'de', 'Derechos', 'Humanos']"
      ]
     },
     "execution_count": 110,
     "metadata": {},
     "output_type": "execute_result"
    }
   ],
   "source": [
    "tokens"
   ]
  },
  {
   "cell_type": "code",
   "execution_count": 111,
   "metadata": {},
   "outputs": [
    {
     "data": {
      "text/plain": [
       "[['Declaración'], ['Universal'], ['de'], ['Derechos'], ['Humanos']]"
      ]
     },
     "execution_count": 111,
     "metadata": {},
     "output_type": "execute_result"
    }
   ],
   "source": [
    "lemmas"
   ]
  },
  {
   "cell_type": "code",
   "execution_count": 112,
   "metadata": {},
   "outputs": [
    {
     "data": {
      "text/plain": [
       "['PROPN', 'PROPN', 'ADP', 'PROPN', 'PROPN']"
      ]
     },
     "execution_count": 112,
     "metadata": {},
     "output_type": "execute_result"
    }
   ],
   "source": [
    "pos"
   ]
  },
  {
   "cell_type": "code",
   "execution_count": 114,
   "metadata": {},
   "outputs": [
    {
     "data": {
      "text/plain": [
       "'Todo individuo tiene derecho a la vida, a la libertad y a la seguridad de su persona.'"
      ]
     },
     "execution_count": 114,
     "metadata": {},
     "output_type": "execute_result"
    }
   ],
   "source": [
    "oraciones[15]"
   ]
  },
  {
   "cell_type": "code",
   "execution_count": 115,
   "metadata": {},
   "outputs": [],
   "source": [
    "tokens, lemmas, pos = [], [], []\n",
    "\n",
    "for token in analisis[15]:\n",
    "    tokens+=[token.text]\n",
    "    lemmas+=[token.lemma_], \n",
    "    pos+=[token.pos_] "
   ]
  },
  {
   "cell_type": "code",
   "execution_count": 118,
   "metadata": {},
   "outputs": [
    {
     "data": {
      "text/plain": [
       "['Todo',\n",
       " 'individuo',\n",
       " 'tiene',\n",
       " 'derecho',\n",
       " 'a',\n",
       " 'la',\n",
       " 'vida',\n",
       " ',',\n",
       " 'a',\n",
       " 'la',\n",
       " 'libertad',\n",
       " 'y',\n",
       " 'a',\n",
       " 'la',\n",
       " 'seguridad',\n",
       " 'de',\n",
       " 'su',\n",
       " 'persona',\n",
       " '.']"
      ]
     },
     "execution_count": 118,
     "metadata": {},
     "output_type": "execute_result"
    }
   ],
   "source": [
    "tokens"
   ]
  },
  {
   "cell_type": "code",
   "execution_count": 119,
   "metadata": {},
   "outputs": [
    {
     "data": {
      "text/plain": [
       "[['todo'],\n",
       " ['individuo'],\n",
       " ['tener'],\n",
       " ['derecho'],\n",
       " ['a'],\n",
       " ['el'],\n",
       " ['vida'],\n",
       " [','],\n",
       " ['a'],\n",
       " ['el'],\n",
       " ['libertad'],\n",
       " ['y'],\n",
       " ['a'],\n",
       " ['el'],\n",
       " ['seguridad'],\n",
       " ['de'],\n",
       " ['su'],\n",
       " ['persona'],\n",
       " ['.']]"
      ]
     },
     "execution_count": 119,
     "metadata": {},
     "output_type": "execute_result"
    }
   ],
   "source": [
    "lemmas"
   ]
  },
  {
   "cell_type": "code",
   "execution_count": 120,
   "metadata": {},
   "outputs": [
    {
     "data": {
      "text/plain": [
       "['DET',\n",
       " 'NOUN',\n",
       " 'VERB',\n",
       " 'NOUN',\n",
       " 'ADP',\n",
       " 'DET',\n",
       " 'NOUN',\n",
       " 'PUNCT',\n",
       " 'ADP',\n",
       " 'DET',\n",
       " 'NOUN',\n",
       " 'CCONJ',\n",
       " 'ADP',\n",
       " 'DET',\n",
       " 'NOUN',\n",
       " 'ADP',\n",
       " 'DET',\n",
       " 'NOUN',\n",
       " 'PUNCT']"
      ]
     },
     "execution_count": 120,
     "metadata": {},
     "output_type": "execute_result"
    }
   ],
   "source": [
    "pos"
   ]
  },
  {
   "cell_type": "code",
   "execution_count": 123,
   "metadata": {},
   "outputs": [],
   "source": [
    "sustantivos = 0\n",
    "verbos = 0\n",
    "adjetivos = 0\n",
    "det = 0\n",
    "\n",
    "for doc in analisis:\n",
    "    pos = []\n",
    "    for token in doc:\n",
    "        pos+=[token.pos_] \n",
    "    sustantivos+=pos.count('NOUN')\n",
    "    verbos+=pos.count('VERB')\n",
    "    adjetivos+=pos.count('ADJ')\n",
    "    det+=pos.count('DET')"
   ]
  },
  {
   "cell_type": "code",
   "execution_count": 124,
   "metadata": {},
   "outputs": [
    {
     "name": "stdout",
     "output_type": "stream",
     "text": [
      "508 134 173 334\n"
     ]
    }
   ],
   "source": [
    "print(sustantivos,verbos,adjetivos,det)"
   ]
  },
  {
   "cell_type": "code",
   "execution_count": 125,
   "metadata": {},
   "outputs": [],
   "source": [
    "pos_total=sustantivos+verbos+adjetivos+det"
   ]
  },
  {
   "cell_type": "code",
   "execution_count": 126,
   "metadata": {},
   "outputs": [
    {
     "data": {
      "text/plain": [
       "1149"
      ]
     },
     "execution_count": 126,
     "metadata": {},
     "output_type": "execute_result"
    }
   ],
   "source": [
    "pos_total"
   ]
  },
  {
   "cell_type": "code",
   "execution_count": 127,
   "metadata": {},
   "outputs": [
    {
     "data": {
      "text/plain": [
       "44.21235857267189"
      ]
     },
     "execution_count": 127,
     "metadata": {},
     "output_type": "execute_result"
    }
   ],
   "source": [
    "sustantivos/pos_total*100"
   ]
  },
  {
   "cell_type": "code",
   "execution_count": 128,
   "metadata": {},
   "outputs": [
    {
     "data": {
      "text/plain": [
       "11.66231505657093"
      ]
     },
     "execution_count": 128,
     "metadata": {},
     "output_type": "execute_result"
    }
   ],
   "source": [
    "verbos/pos_total*100"
   ]
  },
  {
   "cell_type": "code",
   "execution_count": 129,
   "metadata": {},
   "outputs": [
    {
     "data": {
      "text/plain": [
       "3.791044776119403"
      ]
     },
     "execution_count": 129,
     "metadata": {},
     "output_type": "execute_result"
    }
   ],
   "source": [
    "sustantivos/verbos"
   ]
  },
  {
   "cell_type": "code",
   "execution_count": 122,
   "metadata": {},
   "outputs": [
    {
     "data": {
      "text/plain": [
       "1"
      ]
     },
     "execution_count": 122,
     "metadata": {},
     "output_type": "execute_result"
    }
   ],
   "source": [
    "A = [11,1,1,1,3,4,5]\n",
    "\n",
    "A.count(4)"
   ]
  },
  {
   "cell_type": "code",
   "execution_count": null,
   "metadata": {},
   "outputs": [],
   "source": []
  }
 ],
 "metadata": {
  "kernelspec": {
   "display_name": "Python 3",
   "language": "python",
   "name": "python3"
  },
  "language_info": {
   "codemirror_mode": {
    "name": "ipython",
    "version": 3
   },
   "file_extension": ".py",
   "mimetype": "text/x-python",
   "name": "python",
   "nbconvert_exporter": "python",
   "pygments_lexer": "ipython3",
   "version": "3.8.8"
  },
  "toc": {
   "base_numbering": 1,
   "nav_menu": {},
   "number_sections": false,
   "sideBar": false,
   "skip_h1_title": false,
   "title_cell": "Table of Contents",
   "title_sidebar": "Contents",
   "toc_cell": false,
   "toc_position": {},
   "toc_section_display": false,
   "toc_window_display": false
  }
 },
 "nbformat": 4,
 "nbformat_minor": 4
}
