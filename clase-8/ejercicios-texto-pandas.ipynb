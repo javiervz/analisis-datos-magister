{
 "cells": [
  {
   "cell_type": "markdown",
   "metadata": {},
   "source": [
    "# **Análisis Computacional de Datos Lingüísticos**\n",
    "### Javier Vera Zúñiga, javier.vera@pucv.cl\n",
    "## A. **ejercicios texto!**"
   ]
  },
  {
   "cell_type": "markdown",
   "metadata": {},
   "source": [
    "Lea el archivo  'udhr_arn.txt' en la carpeta **udhr**."
   ]
  },
  {
   "cell_type": "code",
   "execution_count": 3,
   "metadata": {},
   "outputs": [],
   "source": [
    "## recomendación! use:\n",
    "\n",
    "file = open('udhr/udhr_arn.txt','r', encoding=\"utf8\")\n",
    "file = file.read()"
   ]
  },
  {
   "cell_type": "code",
   "execution_count": 12,
   "metadata": {},
   "outputs": [],
   "source": [
    "file = file.split('\\n')"
   ]
  },
  {
   "cell_type": "code",
   "execution_count": 15,
   "metadata": {},
   "outputs": [
    {
     "data": {
      "text/plain": [
       "['Universal Declaration of Human Rights - Mapudungun',\n",
       " '© 1996 – 2009 The Office of the High Commissioner for Human Rights',\n",
       " 'This plain text version prepared by the “UDHR in Unicode”',\n",
       " 'project, https://www.unicode.org/udhr.',\n",
       " '---',\n",
       " '',\n",
       " 'Kom Mapu Fijke Az Tañi Az Mogeleam',\n",
       " '    Tuwvlzugun',\n",
       " '    (\"Preámbulo\" pi ta wigka)',\n",
       " '    Kimnieel fij mapu mew tañi kimgen kvme felen kisugvnew felen xvr kvme mvlen. Tvfaci zugu ñi mvleken mvleyem yamvwvn ka xvr kvme nor felen kom pu reñmawke ce mew.',\n",
       " '    Gewenonmu yamuwvn, zuamgewenonmu kvme felen, goymagenmu nor felen mvley re jazkvnkawvn: Fey mew mvley xvrvmzugu kom pu ce tañi kvme mogeleam kisuke ñi feyentun mew, kisu ñi rakizuam mew ka ñi wimtun mew ñi mvleal egvn.',\n",
       " '    Tañi mvlenoam kaiñetuwvn zugu, awkan zugu tvfeyci wezake vbmen egvn mvley tañi xvrvmuwael tvfeyci wvnenkvleci pu ce zugu mew tañi yamgeam xvr kvme nor felen.',\n",
       " '    Ka kimnieel ñi rvf kvme zugugen, wenvykawvn kom pu Xokiñke Ce egvn, nuwkvlelu Kiñe Mapu mew (\"Naciones Unidas\" pi ta wigka): Tvfa egvn xawvlelu \"Naciones Unidas\" mew nuwtuaygvn tvfaci \"Fvxa Cijka\" mew kvme xvr norkvletuam ñi mogen kom pu wenxu ka pu zomo mvlelu ixofij mapu mew feyci, kom xawvci pu ce tañi werkvel ci Pu Xokinke Ce (\"Estados Miembros\" pi ta wigka) mvlelu fij mapu kom pvle kejuwayiñ taiñ yamfalafiel xvr kvme felen ka nor felen piwigvn.',\n",
       " '    Femueci mvlcy ñi kimniegeael kom mapu mew nor kvme felen ka kisugvnew mvlen tvfaci rakizuam kvzaw mew.',\n",
       " '    Fey mew Fvxa Xawvn mew (\"Asamblea General\" pi ta wigka)',\n",
       " '    Wixañpvramgey tvfaci Fvxa Cijka Kom Mapu Fijke Az Ce Tañi Az Mogeleam pigelu.',\n",
       " '    Rvf kvme zugugelu am fey mew ta mvley tañi kvzawael kom pu ce fij mapu mew, pu fvxake vbmen, kom pu ce wvnenkvlelu cem zugu mew rume, pu wenxu ka pu zomo mvley tañi newenmayafiel ka wenuñpvramafiel tvfaci zugu az mogeleam kom pu mogen ce, fey mew ta yamgeay xvr felen ka nor felen tvfaci mogen mew.',\n",
       " '  ',\n",
       " '    Kiñe Xoy (1)',\n",
       " '    Kom pu mogence kisuzuam mvlekey, kom cegeygvn, logkogeygvn ka piwkegeygvn, nieygvn kimvn fey mew mvley tañi yamniewael ka epuñpvle kejuwael egvn.',\n",
       " '  ',\n",
       " '    Epu Xoy (2)',\n",
       " '    KIÑE. Kom xipace, fijke mojfvñ ce wixapvraley ñi kvme felen, nor felen tvfaci Fvxa Cijka mew, cumgeay rume ñi zugun, ñi wimtun, cem azgeay rume, cem kimvn rume nieay.',\n",
       " '    EPU. Kom pu xokiñ ce, cem az mogengeayrume mvlelu fij mapu, ka femueci xvr nvwkvley tvfaci Fvxa Cijka mew.',\n",
       " '  ',\n",
       " '    Kvla Xoy (3)',\n",
       " '    Kom ce mvley ñi mogeleael, kisugvnew feleael ka yamniegeael.',\n",
       " '  ',\n",
       " '    Meli Xoy (4)',\n",
       " '    Iney rume gelay ñi xafkiñtuceael. Gewelayay xafkiñtucen ran mew kuyfi reke.',\n",
       " '  ',\n",
       " '    Kecu Xoy (5)',\n",
       " '    Cem ce rume wezakamekegelayay, kupafkamekegelayay.',\n",
       " '  ',\n",
       " '    Kayu Xoy (6)',\n",
       " '    Kom ce fij mapu mew mvley ñi kimgeael, wirintukulelu am ñi vy wigka zugu mew (\"Personalidad Jurídica\" pi ta wigka).',\n",
       " '  ',\n",
       " '    Reqle Xoy (7)',\n",
       " '    Kom femgey ce wigka ñi wirikon zugu mew (\"Ley\" pi ta wigka) fey mew kom pu ce pepi nvway tvfaci zugu mew. Yamgerumenole cuci sugu rume wirintukulelu tvfaci \"Fvxa Cijka\" mew.',\n",
       " '  ',\n",
       " '    Pura Xoy (8)',\n",
       " '    Pu wigka mew mvley kiñe ruka cew ñi norvmgekemum ixofij wezake zugu; fey mew pepi nvway kom pu ce tañi igkañmageam, yamvñmagenole tvfeyci nor zugu wirintukulelu fvta cijka mew \"Constitución\" pigelu, nielu kom pu xokiñke ce fij mapu.',\n",
       " '  ',\n",
       " '    Ayja Xoy (9)',\n",
       " '    Gelay iney rume ñi koraltukugeael ka wemvnentugeael ka wemvnentugeael tañi mapu mew wezakamekenole.',\n",
       " '  ',\n",
       " '    Mari Xoy (10)',\n",
       " '    Tvfeyci wigka norvmzuguwe ruka mew, kom pu ce mvley ajkvtuñmageael ñi zugu, tañi kimgeam ñi weza femvn kam femnon ka tañi kimgeam cumueci ñi feletuael ragi kakelu pu ce.',\n",
       " '  ',\n",
       " '    Mari Kiñe Xoy (11)',\n",
       " '    ',\n",
       " '      ',\n",
       " '\\tKIÑE. Cem ce rume kimvñmagenole ñi weza femvn gelay cumuelu tañi zajuñmageael ka mvley ñi eluñmageael tañi igkawam.',\n",
       " '      ',\n",
       " '      ',\n",
       " '\\tEPU. Kuyfi iney rume weza femfule, feyci mew zajufalnofule tvfeyci zugu gelay cumuelu ñi zajuñmageael fewla. Ka gelay cumuelu ñi zoy fvxa zajuñmageael feypilenole fewla tvfeyci nor zugu mew wirintukulelu Fvxa Cijka mew.',\n",
       " '      ',\n",
       " '    ',\n",
       " '  ',\n",
       " '    Mari Epu Xoy (12)',\n",
       " '    Wigka ñi wirikon zugu mew (\"Ley\" pi ta wigka) nvwkvley kom pu ce ka fey mew mvley ñi igkañmageael egvn kake ce zugukonle ñi mogen mew, kam ka ce pekanka lef konle ñi ruka mew, kom tañi felen mew ka wezaka zuguyekañmagele.',\n",
       " '  ',\n",
       " '    Mari Kvla Xoy (13)',\n",
       " '    ',\n",
       " '      ',\n",
       " '\\tKIÑE. Kom pu ce mvley ñi kisugvnew miyawael xokiñke ce (\"Estados\" pi ta wigka) ñi mapu mew.',\n",
       " '      ',\n",
       " '      ',\n",
       " '\\tEPU. Kom pu ce pepi xipayay cem xokiñke ce (\"Estado\" pi ta wigka) mew rume ka kisu ñi mvlemum, welu ka pepi wiñotuay.',\n",
       " '      ',\n",
       " '    ',\n",
       " '  ',\n",
       " '    Mari Meli Xoy (14)',\n",
       " '    ',\n",
       " '      ',\n",
       " '\\tKIÑE. Cem zugu mew rume inayawgele cem ce rume, tvfa mvley ñi gvnaytuniegeael (\"asilar\" pi ta wigka) cem xokiñ ce mew rume.',\n",
       " '      ',\n",
       " '      ',\n",
       " '\\tEPU. Welu tvfeyci gvnaytucen kvmelayay, rvf weza femle tvfaci ce, inayawlel (lagvmle, weñele) ka yamnofile tvfaci \"Naciones Unidas\" ñi wixañpvramnieel ci zugu.',\n",
       " '      ',\n",
       " '    ',\n",
       " '  ',\n",
       " '    Mari Kecu Xoy (15)',\n",
       " '    ',\n",
       " '      ',\n",
       " '\\tKIÑE. Kom pu ce pepi nvwkvleay cem az mogen (\"nacionalidad\" pi ta wigka) mew rume.',\n",
       " '      ',\n",
       " '      ',\n",
       " '\\tEPU. Iney rume mvntuñmagelayay ñi az mogen (\"nacionalidad\") ka pepi nvway ka konaygvn kake az mogen mew kvpa femle egvn.',\n",
       " '      ',\n",
       " '    ',\n",
       " '  ',\n",
       " '    Mari Kayu Xoy (16)',\n",
       " '    ',\n",
       " '      ',\n",
       " '\\tKIÑE. Kom pu zomo ka pu wenxu pepi kureyeway kvpa kvreyewle cem xipacegeaygu rume, kekewme az mogen nieaygu rume. Kvpa niele kisu ñi pu fvren egu femaygu mvten. Ka femueci kvme feleaygu: iney rume cumekelayaygu egu kurewenkvlen kam wvzatule egu rume.',\n",
       " '      ',\n",
       " '      ',\n",
       " '\\tEPU. Tvfaci epu ce re kisuzuam pile egu mvten fey wvla pepi kureyewaygu.',\n",
       " '      ',\n",
       " '      ',\n",
       " '\\tKVLA. Kom pu fijke ce reñmawengenofule gelayafuy ce kom mapu, fey mew ta pu xokiñ ce (\"Estado\" pi ta wigka) ka kom pu ce mvley tañi gvnaytunieael fijke fvrenwen ka reñmawen.',\n",
       " '      ',\n",
       " '    ',\n",
       " '  ',\n",
       " '    Mari Reqle Xoy (17)',\n",
       " '    ',\n",
       " '      ',\n",
       " '\\tKIÑE. Kom pu ce mvley kisu ñi gengeael, ka xokiñke ce ñi gengeael cemu rume.',\n",
       " '      ',\n",
       " '      ',\n",
       " '\\tEPU. Iney rume pekanka mvntuñmagelayay ñi nieel (cemgeay rume).',\n",
       " '      ',\n",
       " '    ',\n",
       " '  ',\n",
       " '    Mari Pura Xoy (18)',\n",
       " '    Cem rakizuam rume cem feyentun rume nieay fij pu ce gelayay cumuelu ñi mvntuñmageael ka takuñmageael. Kisuzuam kvpa konle kake feyentun mew femay mvten, kvpa kimelle ñi rakizuam ka feyentun ka pepi kimelafi.',\n",
       " '  ',\n",
       " '    Mari Ayja Xoy (19)',\n",
       " '    Kom pu ce pepi entuay ñi rakizuam ka zugu, ka pepi kimellafi kompvle cumueci rume (radiomu, telemu, wirinmu) ka pepi kintuay, ramtuay ka joway zugu tañi kvzawkvlenmu. Ka femueci tvfaci zugu pepi kimellafi cew rume.',\n",
       " '  ',\n",
       " '    Epu Mari Xoy (20)',\n",
       " '    ',\n",
       " '      ',\n",
       " '\\tKIÑE. Kom pu ce kisu ñi gvnewmu pepi xawvay cem piei xokiñ ce egvn rume.',\n",
       " '      ',\n",
       " '      ',\n",
       " '\\tEPU. Welu cem ce rume pinole ñi konaeal cem xokiñ ce ñi kvzaw mew rume, gelay cumuelu ñi gagegeael.',\n",
       " '      ',\n",
       " '    ',\n",
       " '  ',\n",
       " '    Epu Mari Kiñe Xoy (21)',\n",
       " '    ',\n",
       " '      ',\n",
       " '\\tKIÑE. Cem ce rume pepi konay logkolealu tvfeyci xokiñ ce mew nvwkvlelu Kiñe Mapu mew (\"País\" pi ta wigka) kam werkvaygvn kiñe ce kisu egvn tañi zujiel.',\n",
       " '      ',\n",
       " '      ',\n",
       " '\\tEPU. Kom pu ce xvr pepi konay tañi kiñe Mapu Xokiñ ce mew ñi cem kvzaw mew rume.',\n",
       " '      ',\n",
       " '      ',\n",
       " '\\tKVLA. Tvfey ci Kiñe Mapu Xokiñ ce mew logkolelu: Logkogey kom pu ce mvlelu fey ci xokiñmu tañi zuam. Tvfa ci pu ce mvxvmmuway tañi zujiam ñi logko egvn, kom xvr pepi feypiaygvn iney tañi zuamniefiel tañi logkogeal.',\n",
       " '      ',\n",
       " '    ',\n",
       " '  ',\n",
       " '    Epu Mari Epu Xoy (22)',\n",
       " '    Tvfey ci logkolelu Kiñe Mapu Xokiñ Ce mew mvley wvlael ixofij keju tañi kvme feleam ka kvme mogeleam kom pu ce mvlelu tvfey ci Xokiñ mew. Tvfaci logko kvme pepi kejunole ñi pu ce mvley tañi kejuaetew kake Mapu Xokiñ Ce.',\n",
       " '  ',\n",
       " '    Epu Mari Kvla Xoy (23)',\n",
       " '    ',\n",
       " '      ',\n",
       " '\\tKIÑE. Kom pu ce mvley ñi nieael kvzaw, mvley kisu zujiael ñi kvzaw femueci ta xvr feleay ta pu ce. Cem ce rumje penoloe kvzaw mvley tañi gvnaytunieaetew wvnenkvleci pu ce ixofij zugu mew, tañi Kiñe Mapu Xokiñ Ce mew.',\n",
       " '      ',\n",
       " '      ',\n",
       " '\\tEPU. Kom pu ce cumgeay rume mvley ñi kom xvr kujigeael tañi kvzaw mew egvn.',\n",
       " '      ',\n",
       " '      ',\n",
       " '\\tKVLA. Kom Kvzawci pu ce mvley ñi kvme kujiniegeael; tañi kvme mogeleam ka kvme mogelneam ñi pu fvren. Puwjenole tvfaci mogeam, mvley ñi kejugeael tañi Kiñe Mapu Xokiñ Ce mew.',\n",
       " '      ',\n",
       " '      ',\n",
       " '\\tMELI. Tvfeyci pu kvzawfe rvf kvme felenole, yamvñmagenole ñi zugu egvn pepi xawvluwaygvn tañi kinewvn igkawam egvn.',\n",
       " '      ',\n",
       " '    ',\n",
       " '  ',\n",
       " '    Epu Mari Meli Xoy (24)',\n",
       " '    Kom Kvzawfe pu ce mvley ñi vrkvtuael ñi kvzaw mew, ka tañi zoy kvzawnoam, yamvñmageael ñi orario ka tañi kiñe mufv antv vrkvtuael fij xipantu.',\n",
       " '  ',\n",
       " '    Epu Mari Kecu Xoy (25)',\n",
       " '    ',\n",
       " '      ',\n",
       " '\\tKIÑE. Kom pu ce mvley ñi kvme mogen nieael; kuxanle egvn tañi peael lawen, tañi kvme iyael egvn, kvme tukuluwvn ñi peael, kvme ruka mew ñi mvleael, tañi peael lawentufe ce egvn. Tvfa rume falile tañi keju kujigeael. Ka femueci pepi kvzawnole mvley ñi kejuaetew ka gvnaytuaetew pu wvnenkvleci pu ce ixofij zugu mew tañi Kiñe Mapu Xokiñ mew.',\n",
       " '      ',\n",
       " '      ',\n",
       " '\\tEPU. Pvñeñci pu zomo ka mvle-mvlegeci pu picike ce mvley ñi peaetew ka kejuaetew kvmeke lawentucefe ka femueci kom pu picike ce mvley ñi gvnaytuniegeael kom pu Xokiñ Ce mew.',\n",
       " '      ',\n",
       " '    ',\n",
       " '  ',\n",
       " '    Epu Mari Kayu Xoy (26)',\n",
       " '    ',\n",
       " '      ',\n",
       " '\\tKIÑE. Kom pu ce pepi kimay fij cijkatun, cem ce rume kujilayay tañi kimam. Welu kom pu ce mvley tañi rvf kimelgeael fij zugu wvneluw cijkatukeel tañi kim cegeam. Cem ce rume zoy kvpa cijkatule tañi zoy kimam femay mvten ka kom pu ce cumgeay rume, pepi konay cem cijkatun mew rume, tañi ayvnieel ñi inayael.',\n",
       " '      ',\n",
       " '      ',\n",
       " '\\tEPU. Kom tvfaci cijkatun ka kimeltun mvley ñi kejuael kvme cegeam, kim cegeam, nor vegeam, mvley ñi newenmayafiel ta nor felen ka kisugvnew felen tvfaci mogen mew. Mvley tañi kejuael welukon yamniewael mew ka wenvykawael kom pu ce ka fijke Xokiñke Pu Ce, cem az mogen rume nieaygvn. Kom tvfaci kimeltun mvley ñi kejukvzawmayafiel ka wixañpvramafiel fij kvmeke zugu \"Naciones Unidas\" mew.',\n",
       " '      ',\n",
       " '      ',\n",
       " '\\tKVLA. Kom pu kurewen mvley kisu egu ñi piael cem kimvn ka cijkatun nieael tañi pu pvñeñ.',\n",
       " '      ',\n",
       " '    ',\n",
       " '  ',\n",
       " '    Epu Mari Reqle Xoy (27)',\n",
       " '    ',\n",
       " '      ',\n",
       " '\\tKIÑE. Kom pu ce mvley ñi kisuzuam nvwael cem wimtun mew rume mvlele tañi Xokiñ Ce mew, ka tañi kintuael, inakonael, ka nvael cem fvtake kimvn rume mvlele.',\n",
       " '      ',\n",
       " '      ',\n",
       " '\\tEPU. Cem ce rume mvley tañi gvnaytukunieñmageae ka kuñiwtukunieñmageael tañi gvbam ka tañi kimvn niele ka femueci mvley ñi niegeael tvfaci zugu cuci ce rume kuwv mew entule cem kvzaw rume.',\n",
       " '      ',\n",
       " '    ',\n",
       " '  ',\n",
       " '    Epu Mari Pura Xoy (28)',\n",
       " '    Fijke Kiñe Mapu Xokiñ Ce mew mvley ñi kvme nor elgeael zugu, femueci ta kom pu ce mvlelu fij mapu yamvñmageay ñi nor az felen.',\n",
       " '  ',\n",
       " '    Epu Mari Ayja Xoy (29)',\n",
       " '    ',\n",
       " '      ',\n",
       " '\\tKIÑE. Kom pu ce mvley tañi rvf nieael kvme zugu, kvme rakizuam ka tañi nor cegeael tañi ragi pu Xokiñ Ce mew, fey mew am xemkvlelu ce reke ka amulnielu cem kvzaw rume.',\n",
       " '      ',\n",
       " '      ',\n",
       " '\\tEPU. Tañi nor felenmu ka kisugvnew felenmu kom pu ce nvwkvleay wigka ñi wirikon zugu mew (\"Ley\" pi ta wigka) mvten, fey mew ta kakelu pu ce yamvñmageay ñi kvme feleael, kisugvnew felen, ñi nor feleael ka tañi mvleam xvr ka nor mogen kom pu Xokiñke Ce mew.',\n",
       " '      ',\n",
       " '      ',\n",
       " '\\tKVLA. Kom tvfaci nor zugu cumkaw rume gelay ñi nvgeael weluka ka pekagka amulgeale. \"Naciones Unidas\" ta pekagka amulael mogen, wixañpvrammekelay tvfaci \"Fvxa Cijka\".',\n",
       " '      ',\n",
       " '    ',\n",
       " '  ',\n",
       " '    Kvla Mari Xoy (30)',\n",
       " '    Tvfaci \"Fvxa Cijka\", cew tañi kimelgen cumueci ñi mvleael mogen fij mapu, gelay cem xokiñ ce rume ñi nvafiel tañi goymalafiel ka tañi kvzawmayafiel tañi ñamvmnaqvmgeam cuci zugu rume pegelgeael tvfaci \"Fvxa Cijka\" mew.',\n",
       " '  ']"
      ]
     },
     "execution_count": 15,
     "metadata": {},
     "output_type": "execute_result"
    }
   ],
   "source": [
    "file"
   ]
  },
  {
   "cell_type": "code",
   "execution_count": 4,
   "metadata": {},
   "outputs": [],
   "source": [
    "## una función útil :)\n",
    "## link :(\n",
    "\n",
    "import string\n",
    "\n",
    "def remover_puntuacion(s): \n",
    "    for c in string.punctuation:\n",
    "        s=s.replace(c,\"\")\n",
    "    return s"
   ]
  },
  {
   "cell_type": "code",
   "execution_count": 8,
   "metadata": {},
   "outputs": [
    {
     "data": {
      "text/plain": [
       "'!\"#$%&\\'()*+,-./:;<=>?@[\\\\]^_`{|}~'"
      ]
     },
     "execution_count": 8,
     "metadata": {},
     "output_type": "execute_result"
    }
   ],
   "source": [
    "string.punctuation"
   ]
  },
  {
   "cell_type": "code",
   "execution_count": 9,
   "metadata": {},
   "outputs": [],
   "source": [
    "s = 'hola.'"
   ]
  },
  {
   "cell_type": "code",
   "execution_count": 10,
   "metadata": {},
   "outputs": [
    {
     "data": {
      "text/plain": [
       "'hola'"
      ]
     },
     "execution_count": 10,
     "metadata": {},
     "output_type": "execute_result"
    }
   ],
   "source": [
    "remover_puntuacion(s)"
   ]
  },
  {
   "cell_type": "markdown",
   "metadata": {},
   "source": [
    "Resuelva los siguientes problemas de pre-procesamiento:\n",
    "    \n",
    "1. elimine los espacios en blanco que sobran\n",
    "2. Divida cada string de la lista **file** en oraciones. Use **sent_tokenize** de la librería [nltk](https://www.nltk.org/install.html)\n",
    "3. Ahora cada elemento de la lista **file** es una lista de strings. Convierta estos strings en minúscula.\n",
    "4. Use la función **remover_puntuacion** para remover la puntuacion de los strings.\n",
    "5. Divida cada string por espacios en blanco. Ahora la lista **lista** es una lista de listas de strings :)\n",
    "6. Calcule el largo promedio de las oraciones del texto.\n",
    "7. Calcule el número de tokens y el número de types."
   ]
  },
  {
   "cell_type": "code",
   "execution_count": 20,
   "metadata": {},
   "outputs": [],
   "source": [
    "## 1. eliminar espacios en blanco!\n",
    "\n",
    "texto_arn = []\n",
    "\n",
    "for s in file:\n",
    "    s = s.strip()\n",
    "    texto_arn+=[s]"
   ]
  },
  {
   "cell_type": "code",
   "execution_count": 21,
   "metadata": {},
   "outputs": [],
   "source": [
    "#texto_arn = [s.strip() for s in file]"
   ]
  },
  {
   "cell_type": "code",
   "execution_count": 23,
   "metadata": {},
   "outputs": [
    {
     "data": {
      "text/plain": [
       "['Universal Declaration of Human Rights - Mapudungun',\n",
       " '© 1996 – 2009 The Office of the High Commissioner for Human Rights',\n",
       " 'This plain text version prepared by the “UDHR in Unicode”',\n",
       " 'project, https://www.unicode.org/udhr.',\n",
       " '---',\n",
       " '',\n",
       " 'Kom Mapu Fijke Az Tañi Az Mogeleam',\n",
       " 'Tuwvlzugun',\n",
       " '(\"Preámbulo\" pi ta wigka)',\n",
       " 'Kimnieel fij mapu mew tañi kimgen kvme felen kisugvnew felen xvr kvme mvlen. Tvfaci zugu ñi mvleken mvleyem yamvwvn ka xvr kvme nor felen kom pu reñmawke ce mew.',\n",
       " 'Gewenonmu yamuwvn, zuamgewenonmu kvme felen, goymagenmu nor felen mvley re jazkvnkawvn: Fey mew mvley xvrvmzugu kom pu ce tañi kvme mogeleam kisuke ñi feyentun mew, kisu ñi rakizuam mew ka ñi wimtun mew ñi mvleal egvn.',\n",
       " 'Tañi mvlenoam kaiñetuwvn zugu, awkan zugu tvfeyci wezake vbmen egvn mvley tañi xvrvmuwael tvfeyci wvnenkvleci pu ce zugu mew tañi yamgeam xvr kvme nor felen.',\n",
       " 'Ka kimnieel ñi rvf kvme zugugen, wenvykawvn kom pu Xokiñke Ce egvn, nuwkvlelu Kiñe Mapu mew (\"Naciones Unidas\" pi ta wigka): Tvfa egvn xawvlelu \"Naciones Unidas\" mew nuwtuaygvn tvfaci \"Fvxa Cijka\" mew kvme xvr norkvletuam ñi mogen kom pu wenxu ka pu zomo mvlelu ixofij mapu mew feyci, kom xawvci pu ce tañi werkvel ci Pu Xokinke Ce (\"Estados Miembros\" pi ta wigka) mvlelu fij mapu kom pvle kejuwayiñ taiñ yamfalafiel xvr kvme felen ka nor felen piwigvn.',\n",
       " 'Femueci mvlcy ñi kimniegeael kom mapu mew nor kvme felen ka kisugvnew mvlen tvfaci rakizuam kvzaw mew.',\n",
       " 'Fey mew Fvxa Xawvn mew (\"Asamblea General\" pi ta wigka)']"
      ]
     },
     "execution_count": 23,
     "metadata": {},
     "output_type": "execute_result"
    }
   ],
   "source": [
    "texto_arn[:15]"
   ]
  },
  {
   "cell_type": "code",
   "execution_count": 27,
   "metadata": {},
   "outputs": [],
   "source": [
    "texto_arn_sin_string_vacio = []\n",
    "\n",
    "for s in texto_arn:\n",
    "    if len(s)>0:\n",
    "        texto_arn_sin_string_vacio+=[s]"
   ]
  },
  {
   "cell_type": "code",
   "execution_count": 28,
   "metadata": {},
   "outputs": [],
   "source": [
    "#texto_arn = [s for s in texto_arn if len(s)>0]"
   ]
  },
  {
   "cell_type": "code",
   "execution_count": 33,
   "metadata": {},
   "outputs": [],
   "source": [
    "texto_arn_sin_string_vacio = texto_arn_sin_string_vacio[5:]"
   ]
  },
  {
   "cell_type": "code",
   "execution_count": 36,
   "metadata": {},
   "outputs": [
    {
     "data": {
      "text/plain": [
       "['Kom Mapu Fijke Az Tañi Az Mogeleam',\n",
       " 'Tuwvlzugun',\n",
       " '(\"Preámbulo\" pi ta wigka)',\n",
       " 'Kimnieel fij mapu mew tañi kimgen kvme felen kisugvnew felen xvr kvme mvlen. Tvfaci zugu ñi mvleken mvleyem yamvwvn ka xvr kvme nor felen kom pu reñmawke ce mew.',\n",
       " 'Gewenonmu yamuwvn, zuamgewenonmu kvme felen, goymagenmu nor felen mvley re jazkvnkawvn: Fey mew mvley xvrvmzugu kom pu ce tañi kvme mogeleam kisuke ñi feyentun mew, kisu ñi rakizuam mew ka ñi wimtun mew ñi mvleal egvn.',\n",
       " 'Tañi mvlenoam kaiñetuwvn zugu, awkan zugu tvfeyci wezake vbmen egvn mvley tañi xvrvmuwael tvfeyci wvnenkvleci pu ce zugu mew tañi yamgeam xvr kvme nor felen.',\n",
       " 'Ka kimnieel ñi rvf kvme zugugen, wenvykawvn kom pu Xokiñke Ce egvn, nuwkvlelu Kiñe Mapu mew (\"Naciones Unidas\" pi ta wigka): Tvfa egvn xawvlelu \"Naciones Unidas\" mew nuwtuaygvn tvfaci \"Fvxa Cijka\" mew kvme xvr norkvletuam ñi mogen kom pu wenxu ka pu zomo mvlelu ixofij mapu mew feyci, kom xawvci pu ce tañi werkvel ci Pu Xokinke Ce (\"Estados Miembros\" pi ta wigka) mvlelu fij mapu kom pvle kejuwayiñ taiñ yamfalafiel xvr kvme felen ka nor felen piwigvn.',\n",
       " 'Femueci mvlcy ñi kimniegeael kom mapu mew nor kvme felen ka kisugvnew mvlen tvfaci rakizuam kvzaw mew.',\n",
       " 'Fey mew Fvxa Xawvn mew (\"Asamblea General\" pi ta wigka)',\n",
       " 'Wixañpvramgey tvfaci Fvxa Cijka Kom Mapu Fijke Az Ce Tañi Az Mogeleam pigelu.',\n",
       " 'Rvf kvme zugugelu am fey mew ta mvley tañi kvzawael kom pu ce fij mapu mew, pu fvxake vbmen, kom pu ce wvnenkvlelu cem zugu mew rume, pu wenxu ka pu zomo mvley tañi newenmayafiel ka wenuñpvramafiel tvfaci zugu az mogeleam kom pu mogen ce, fey mew ta yamgeay xvr felen ka nor felen tvfaci mogen mew.',\n",
       " 'Kiñe Xoy (1)',\n",
       " 'Kom pu mogence kisuzuam mvlekey, kom cegeygvn, logkogeygvn ka piwkegeygvn, nieygvn kimvn fey mew mvley tañi yamniewael ka epuñpvle kejuwael egvn.',\n",
       " 'Epu Xoy (2)',\n",
       " 'KIÑE. Kom xipace, fijke mojfvñ ce wixapvraley ñi kvme felen, nor felen tvfaci Fvxa Cijka mew, cumgeay rume ñi zugun, ñi wimtun, cem azgeay rume, cem kimvn rume nieay.',\n",
       " 'EPU. Kom pu xokiñ ce, cem az mogengeayrume mvlelu fij mapu, ka femueci xvr nvwkvley tvfaci Fvxa Cijka mew.',\n",
       " 'Kvla Xoy (3)',\n",
       " 'Kom ce mvley ñi mogeleael, kisugvnew feleael ka yamniegeael.',\n",
       " 'Meli Xoy (4)',\n",
       " 'Iney rume gelay ñi xafkiñtuceael. Gewelayay xafkiñtucen ran mew kuyfi reke.',\n",
       " 'Kecu Xoy (5)',\n",
       " 'Cem ce rume wezakamekegelayay, kupafkamekegelayay.',\n",
       " 'Kayu Xoy (6)',\n",
       " 'Kom ce fij mapu mew mvley ñi kimgeael, wirintukulelu am ñi vy wigka zugu mew (\"Personalidad Jurídica\" pi ta wigka).',\n",
       " 'Reqle Xoy (7)']"
      ]
     },
     "execution_count": 36,
     "metadata": {},
     "output_type": "execute_result"
    }
   ],
   "source": [
    "texto_arn_sin_string_vacio[:25]"
   ]
  },
  {
   "cell_type": "code",
   "execution_count": 43,
   "metadata": {},
   "outputs": [
    {
     "name": "stdout",
     "output_type": "stream",
     "text": [
      "Collecting nltk\n",
      "  Downloading nltk-3.6.5-py3-none-any.whl (1.5 MB)\n",
      "Requirement already satisfied: click in c:\\users\\jxver\\anaconda3\\envs\\geo_env\\lib\\site-packages (from nltk) (7.1.2)\n",
      "Requirement already satisfied: joblib in c:\\users\\jxver\\anaconda3\\envs\\geo_env\\lib\\site-packages (from nltk) (1.0.1)\n",
      "Collecting regex>=2021.8.3\n",
      "  Downloading regex-2021.10.8-cp39-cp39-win_amd64.whl (273 kB)\n",
      "Requirement already satisfied: tqdm in c:\\users\\jxver\\anaconda3\\envs\\geo_env\\lib\\site-packages (from nltk) (4.62.3)\n",
      "Requirement already satisfied: colorama in c:\\users\\jxver\\anaconda3\\envs\\geo_env\\lib\\site-packages (from tqdm->nltk) (0.4.4)\n",
      "Installing collected packages: regex, nltk\n",
      "Successfully installed nltk-3.6.5 regex-2021.10.8\n"
     ]
    },
    {
     "name": "stderr",
     "output_type": "stream",
     "text": [
      "  WARNING: The script nltk.exe is installed in 'C:\\Users\\jxver\\AppData\\Roaming\\Python\\Python39\\Scripts' which is not on PATH.\n",
      "  Consider adding this directory to PATH or, if you prefer to suppress this warning, use --no-warn-script-location.\n"
     ]
    }
   ],
   "source": [
    "!pip install --user -U nltk"
   ]
  },
  {
   "cell_type": "code",
   "execution_count": 46,
   "metadata": {},
   "outputs": [
    {
     "ename": "ModuleNotFoundError",
     "evalue": "No module named 'nltk'",
     "output_type": "error",
     "traceback": [
      "\u001b[1;31m---------------------------------------------------------------------------\u001b[0m",
      "\u001b[1;31mModuleNotFoundError\u001b[0m                       Traceback (most recent call last)",
      "\u001b[1;32m~\\AppData\\Local\\Temp/ipykernel_9200/432274581.py\u001b[0m in \u001b[0;36m<module>\u001b[1;34m\u001b[0m\n\u001b[0;32m      1\u001b[0m \u001b[1;31m## dividir en oraciones!\u001b[0m\u001b[1;33m\u001b[0m\u001b[1;33m\u001b[0m\u001b[0m\n\u001b[0;32m      2\u001b[0m \u001b[1;33m\u001b[0m\u001b[0m\n\u001b[1;32m----> 3\u001b[1;33m \u001b[1;32mimport\u001b[0m \u001b[0mnltk\u001b[0m\u001b[1;33m\u001b[0m\u001b[1;33m\u001b[0m\u001b[0m\n\u001b[0m\u001b[0;32m      4\u001b[0m \u001b[0mnltk\u001b[0m\u001b[1;33m.\u001b[0m\u001b[0mdownload\u001b[0m\u001b[1;33m(\u001b[0m\u001b[1;34m'punkt'\u001b[0m\u001b[1;33m)\u001b[0m\u001b[1;33m\u001b[0m\u001b[1;33m\u001b[0m\u001b[0m\n",
      "\u001b[1;31mModuleNotFoundError\u001b[0m: No module named 'nltk'"
     ]
    }
   ],
   "source": [
    "## dividir en oraciones!\n",
    "\n",
    "import nltk\n",
    "nltk.download('punkt')"
   ]
  },
  {
   "cell_type": "code",
   "execution_count": 41,
   "metadata": {},
   "outputs": [],
   "source": [
    "from nltk import sent_tokenize"
   ]
  },
  {
   "cell_type": "code",
   "execution_count": 44,
   "metadata": {},
   "outputs": [
    {
     "data": {
      "text/plain": [
       "['Iney rume gelay ñi xafkiñtuceael.',\n",
       " 'Gewelayay xafkiñtucen ran mew kuyfi reke.']"
      ]
     },
     "execution_count": 44,
     "metadata": {},
     "output_type": "execute_result"
    }
   ],
   "source": [
    "oracion = 'Iney rume gelay ñi xafkiñtuceael. Gewelayay xafkiñtucen ran mew kuyfi reke.'\n",
    "\n",
    "sent_tokenize(oracion)"
   ]
  },
  {
   "cell_type": "code",
   "execution_count": 45,
   "metadata": {},
   "outputs": [],
   "source": [
    "oraciones = []\n",
    "\n",
    "for oracion in texto_arn_sin_string_vacio:\n",
    "    oracion_tokenizada = sent_tokenize(oracion)\n",
    "    oraciones+=[oracion_tokenizada]"
   ]
  },
  {
   "cell_type": "code",
   "execution_count": 49,
   "metadata": {},
   "outputs": [
    {
     "data": {
      "text/plain": [
       "91"
      ]
     },
     "execution_count": 49,
     "metadata": {},
     "output_type": "execute_result"
    }
   ],
   "source": [
    "len(oraciones)"
   ]
  },
  {
   "cell_type": "code",
   "execution_count": 50,
   "metadata": {},
   "outputs": [],
   "source": [
    "lista_oraciones = []\n",
    "\n",
    "for oracion in oraciones:\n",
    "    for s in oracion:\n",
    "        lista_oraciones+=[s]"
   ]
  },
  {
   "cell_type": "code",
   "execution_count": 51,
   "metadata": {},
   "outputs": [
    {
     "data": {
      "text/plain": [
       "144"
      ]
     },
     "execution_count": 51,
     "metadata": {},
     "output_type": "execute_result"
    }
   ],
   "source": [
    "len(lista_oraciones)"
   ]
  },
  {
   "cell_type": "code",
   "execution_count": 63,
   "metadata": {},
   "outputs": [
    {
     "data": {
      "text/plain": [
       "['Kom Mapu Fijke Az Tañi Az Mogeleam',\n",
       " 'Tuwvlzugun',\n",
       " '(\"Preámbulo\" pi ta wigka)',\n",
       " 'Kimnieel fij mapu mew tañi kimgen kvme felen kisugvnew felen xvr kvme mvlen.',\n",
       " 'Tvfaci zugu ñi mvleken mvleyem yamvwvn ka xvr kvme nor felen kom pu reñmawke ce mew.',\n",
       " 'Gewenonmu yamuwvn, zuamgewenonmu kvme felen, goymagenmu nor felen mvley re jazkvnkawvn: Fey mew mvley xvrvmzugu kom pu ce tañi kvme mogeleam kisuke ñi feyentun mew, kisu ñi rakizuam mew ka ñi wimtun mew ñi mvleal egvn.',\n",
       " 'Tañi mvlenoam kaiñetuwvn zugu, awkan zugu tvfeyci wezake vbmen egvn mvley tañi xvrvmuwael tvfeyci wvnenkvleci pu ce zugu mew tañi yamgeam xvr kvme nor felen.',\n",
       " 'Ka kimnieel ñi rvf kvme zugugen, wenvykawvn kom pu Xokiñke Ce egvn, nuwkvlelu Kiñe Mapu mew (\"Naciones Unidas\" pi ta wigka): Tvfa egvn xawvlelu \"Naciones Unidas\" mew nuwtuaygvn tvfaci \"Fvxa Cijka\" mew kvme xvr norkvletuam ñi mogen kom pu wenxu ka pu zomo mvlelu ixofij mapu mew feyci, kom xawvci pu ce tañi werkvel ci Pu Xokinke Ce (\"Estados Miembros\" pi ta wigka) mvlelu fij mapu kom pvle kejuwayiñ taiñ yamfalafiel xvr kvme felen ka nor felen piwigvn.',\n",
       " 'Femueci mvlcy ñi kimniegeael kom mapu mew nor kvme felen ka kisugvnew mvlen tvfaci rakizuam kvzaw mew.',\n",
       " 'Fey mew Fvxa Xawvn mew (\"Asamblea General\" pi ta wigka)',\n",
       " 'Wixañpvramgey tvfaci Fvxa Cijka Kom Mapu Fijke Az Ce Tañi Az Mogeleam pigelu.',\n",
       " 'Rvf kvme zugugelu am fey mew ta mvley tañi kvzawael kom pu ce fij mapu mew, pu fvxake vbmen, kom pu ce wvnenkvlelu cem zugu mew rume, pu wenxu ka pu zomo mvley tañi newenmayafiel ka wenuñpvramafiel tvfaci zugu az mogeleam kom pu mogen ce, fey mew ta yamgeay xvr felen ka nor felen tvfaci mogen mew.',\n",
       " 'Kiñe Xoy (1)',\n",
       " 'Kom pu mogence kisuzuam mvlekey, kom cegeygvn, logkogeygvn ka piwkegeygvn, nieygvn kimvn fey mew mvley tañi yamniewael ka epuñpvle kejuwael egvn.',\n",
       " 'Epu Xoy (2)',\n",
       " 'KIÑE.',\n",
       " 'Kom xipace, fijke mojfvñ ce wixapvraley ñi kvme felen, nor felen tvfaci Fvxa Cijka mew, cumgeay rume ñi zugun, ñi wimtun, cem azgeay rume, cem kimvn rume nieay.',\n",
       " 'EPU.',\n",
       " 'Kom pu xokiñ ce, cem az mogengeayrume mvlelu fij mapu, ka femueci xvr nvwkvley tvfaci Fvxa Cijka mew.',\n",
       " 'Kvla Xoy (3)',\n",
       " 'Kom ce mvley ñi mogeleael, kisugvnew feleael ka yamniegeael.',\n",
       " 'Meli Xoy (4)',\n",
       " 'Iney rume gelay ñi xafkiñtuceael.',\n",
       " 'Gewelayay xafkiñtucen ran mew kuyfi reke.',\n",
       " 'Kecu Xoy (5)']"
      ]
     },
     "execution_count": 63,
     "metadata": {},
     "output_type": "execute_result"
    }
   ],
   "source": [
    "lista_oraciones[:25]"
   ]
  },
  {
   "cell_type": "code",
   "execution_count": 53,
   "metadata": {},
   "outputs": [],
   "source": [
    "lista_oraciones_minuscula = []\n",
    "\n",
    "for oracion in lista_oraciones:\n",
    "    lista_oraciones_minuscula+=[oracion.lower()]"
   ]
  },
  {
   "cell_type": "code",
   "execution_count": 55,
   "metadata": {},
   "outputs": [],
   "source": [
    "lista_oraciones_rem_punt = []\n",
    "\n",
    "for oracion in lista_oraciones_minuscula:\n",
    "    lista_oraciones_rem_punt+=[remover_puntuacion(oracion)]"
   ]
  },
  {
   "cell_type": "code",
   "execution_count": 57,
   "metadata": {},
   "outputs": [],
   "source": [
    "lista_oraciones_palabras = []\n",
    "\n",
    "for oracion in lista_oraciones_rem_punt:\n",
    "    lista_oraciones_palabras+=[oracion.split(' ')]"
   ]
  },
  {
   "cell_type": "code",
   "execution_count": 62,
   "metadata": {},
   "outputs": [
    {
     "name": "stdout",
     "output_type": "stream",
     "text": [
      "['kom', 'mapu', 'fijke', 'az', 'tañi', 'az', 'mogeleam']\n",
      "['tvfaci', 'zugu', 'ñi', 'mvleken', 'mvleyem', 'yamvwvn', 'ka', 'xvr', 'kvme', 'nor', 'felen', 'kom', 'pu', 'reñmawke', 'ce', 'mew']\n",
      "['gewenonmu', 'yamuwvn', 'zuamgewenonmu', 'kvme', 'felen', 'goymagenmu', 'nor', 'felen', 'mvley', 're', 'jazkvnkawvn', 'fey', 'mew', 'mvley', 'xvrvmzugu', 'kom', 'pu', 'ce', 'tañi', 'kvme', 'mogeleam', 'kisuke', 'ñi', 'feyentun', 'mew', 'kisu', 'ñi', 'rakizuam', 'mew', 'ka', 'ñi', 'wimtun', 'mew', 'ñi', 'mvleal', 'egvn']\n",
      "['ka', 'kimnieel', 'ñi', 'rvf', 'kvme', 'zugugen', 'wenvykawvn', 'kom', 'pu', 'xokiñke', 'ce', 'egvn', 'nuwkvlelu', 'kiñe', 'mapu', 'mew', 'naciones', 'unidas', 'pi', 'ta', 'wigka', 'tvfa', 'egvn', 'xawvlelu', 'naciones', 'unidas', 'mew', 'nuwtuaygvn', 'tvfaci', 'fvxa', 'cijka', 'mew', 'kvme', 'xvr', 'norkvletuam', 'ñi', 'mogen', 'kom', 'pu', 'wenxu', 'ka', 'pu', 'zomo', 'mvlelu', 'ixofij', 'mapu', 'mew', 'feyci', 'kom', 'xawvci', 'pu', 'ce', 'tañi', 'werkvel', 'ci', 'pu', 'xokinke', 'ce', 'estados', 'miembros', 'pi', 'ta', 'wigka', 'mvlelu', 'fij', 'mapu', 'kom', 'pvle', 'kejuwayiñ', 'taiñ', 'yamfalafiel', 'xvr', 'kvme', 'felen', 'ka', 'nor', 'felen', 'piwigvn']\n",
      "['femueci', 'mvlcy', 'ñi', 'kimniegeael', 'kom', 'mapu', 'mew', 'nor', 'kvme', 'felen', 'ka', 'kisugvnew', 'mvlen', 'tvfaci', 'rakizuam', 'kvzaw', 'mew']\n",
      "['wixañpvramgey', 'tvfaci', 'fvxa', 'cijka', 'kom', 'mapu', 'fijke', 'az', 'ce', 'tañi', 'az', 'mogeleam', 'pigelu']\n",
      "['rvf', 'kvme', 'zugugelu', 'am', 'fey', 'mew', 'ta', 'mvley', 'tañi', 'kvzawael', 'kom', 'pu', 'ce', 'fij', 'mapu', 'mew', 'pu', 'fvxake', 'vbmen', 'kom', 'pu', 'ce', 'wvnenkvlelu', 'cem', 'zugu', 'mew', 'rume', 'pu', 'wenxu', 'ka', 'pu', 'zomo', 'mvley', 'tañi', 'newenmayafiel', 'ka', 'wenuñpvramafiel', 'tvfaci', 'zugu', 'az', 'mogeleam', 'kom', 'pu', 'mogen', 'ce', 'fey', 'mew', 'ta', 'yamgeay', 'xvr', 'felen', 'ka', 'nor', 'felen', 'tvfaci', 'mogen', 'mew']\n",
      "['kom', 'pu', 'mogence', 'kisuzuam', 'mvlekey', 'kom', 'cegeygvn', 'logkogeygvn', 'ka', 'piwkegeygvn', 'nieygvn', 'kimvn', 'fey', 'mew', 'mvley', 'tañi', 'yamniewael', 'ka', 'epuñpvle', 'kejuwael', 'egvn']\n",
      "['kom', 'xipace', 'fijke', 'mojfvñ', 'ce', 'wixapvraley', 'ñi', 'kvme', 'felen', 'nor', 'felen', 'tvfaci', 'fvxa', 'cijka', 'mew', 'cumgeay', 'rume', 'ñi', 'zugun', 'ñi', 'wimtun', 'cem', 'azgeay', 'rume', 'cem', 'kimvn', 'rume', 'nieay']\n",
      "['kom', 'pu', 'xokiñ', 'ce', 'cem', 'az', 'mogengeayrume', 'mvlelu', 'fij', 'mapu', 'ka', 'femueci', 'xvr', 'nvwkvley', 'tvfaci', 'fvxa', 'cijka', 'mew']\n",
      "['kom', 'ce', 'mvley', 'ñi', 'mogeleael', 'kisugvnew', 'feleael', 'ka', 'yamniegeael']\n",
      "['kom', 'ce', 'fij', 'mapu', 'mew', 'mvley', 'ñi', 'kimgeael', 'wirintukulelu', 'am', 'ñi', 'vy', 'wigka', 'zugu', 'mew', 'personalidad', 'jurídica', 'pi', 'ta', 'wigka']\n",
      "['kom', 'femgey', 'ce', 'wigka', 'ñi', 'wirikon', 'zugu', 'mew', 'ley', 'pi', 'ta', 'wigka', 'fey', 'mew', 'kom', 'pu', 'ce', 'pepi', 'nvway', 'tvfaci', 'zugu', 'mew']\n",
      "['pu', 'wigka', 'mew', 'mvley', 'kiñe', 'ruka', 'cew', 'ñi', 'norvmgekemum', 'ixofij', 'wezake', 'zugu', 'fey', 'mew', 'pepi', 'nvway', 'kom', 'pu', 'ce', 'tañi', 'igkañmageam', 'yamvñmagenole', 'tvfeyci', 'nor', 'zugu', 'wirintukulelu', 'fvta', 'cijka', 'mew', 'constitución', 'pigelu', 'nielu', 'kom', 'pu', 'xokiñke', 'ce', 'fij', 'mapu']\n",
      "['tvfeyci', 'wigka', 'norvmzuguwe', 'ruka', 'mew', 'kom', 'pu', 'ce', 'mvley', 'ajkvtuñmageael', 'ñi', 'zugu', 'tañi', 'kimgeam', 'ñi', 'weza', 'femvn', 'kam', 'femnon', 'ka', 'tañi', 'kimgeam', 'cumueci', 'ñi', 'feletuael', 'ragi', 'kakelu', 'pu', 'ce']\n",
      "['wigka', 'ñi', 'wirikon', 'zugu', 'mew', 'ley', 'pi', 'ta', 'wigka', 'nvwkvley', 'kom', 'pu', 'ce', 'ka', 'fey', 'mew', 'mvley', 'ñi', 'igkañmageael', 'egvn', 'kake', 'ce', 'zugukonle', 'ñi', 'mogen', 'mew', 'kam', 'ka', 'ce', 'pekanka', 'lef', 'konle', 'ñi', 'ruka', 'mew', 'kom', 'tañi', 'felen', 'mew', 'ka', 'wezaka', 'zuguyekañmagele']\n",
      "['kom', 'pu', 'ce', 'mvley', 'ñi', 'kisugvnew', 'miyawael', 'xokiñke', 'ce', 'estados', 'pi', 'ta', 'wigka', 'ñi', 'mapu', 'mew']\n",
      "['kom', 'pu', 'ce', 'pepi', 'xipayay', 'cem', 'xokiñke', 'ce', 'estado', 'pi', 'ta', 'wigka', 'mew', 'rume', 'ka', 'kisu', 'ñi', 'mvlemum', 'welu', 'ka', 'pepi', 'wiñotuay']\n",
      "['kom', 'pu', 'ce', 'pepi', 'nvwkvleay', 'cem', 'az', 'mogen', 'nacionalidad', 'pi', 'ta', 'wigka', 'mew', 'rume']\n",
      "['kom', 'pu', 'zomo', 'ka', 'pu', 'wenxu', 'pepi', 'kureyeway', 'kvpa', 'kvreyewle', 'cem', 'xipacegeaygu', 'rume', 'kekewme', 'az', 'mogen', 'nieaygu', 'rume']\n",
      "['kom', 'pu', 'fijke', 'ce', 'reñmawengenofule', 'gelayafuy', 'ce', 'kom', 'mapu', 'fey', 'mew', 'ta', 'pu', 'xokiñ', 'ce', 'estado', 'pi', 'ta', 'wigka', 'ka', 'kom', 'pu', 'ce', 'mvley', 'tañi', 'gvnaytunieael', 'fijke', 'fvrenwen', 'ka', 'reñmawen']\n",
      "['kom', 'pu', 'ce', 'mvley', 'kisu', 'ñi', 'gengeael', 'ka', 'xokiñke', 'ce', 'ñi', 'gengeael', 'cemu', 'rume']\n",
      "['kom', 'pu', 'ce', 'pepi', 'entuay', 'ñi', 'rakizuam', 'ka', 'zugu', 'ka', 'pepi', 'kimellafi', 'kompvle', 'cumueci', 'rume', 'radiomu', 'telemu', 'wirinmu', 'ka', 'pepi', 'kintuay', 'ramtuay', 'ka', 'joway', 'zugu', 'tañi', 'kvzawkvlenmu']\n",
      "['kom', 'pu', 'ce', 'kisu', 'ñi', 'gvnewmu', 'pepi', 'xawvay', 'cem', 'piei', 'xokiñ', 'ce', 'egvn', 'rume']\n",
      "['kom', 'pu', 'ce', 'xvr', 'pepi', 'konay', 'tañi', 'kiñe', 'mapu', 'xokiñ', 'ce', 'mew', 'ñi', 'cem', 'kvzaw', 'mew', 'rume']\n",
      "['tvfey', 'ci', 'kiñe', 'mapu', 'xokiñ', 'ce', 'mew', 'logkolelu', 'logkogey', 'kom', 'pu', 'ce', 'mvlelu', 'fey', 'ci', 'xokiñmu', 'tañi', 'zuam']\n",
      "['tvfa', 'ci', 'pu', 'ce', 'mvxvmmuway', 'tañi', 'zujiam', 'ñi', 'logko', 'egvn', 'kom', 'xvr', 'pepi', 'feypiaygvn', 'iney', 'tañi', 'zuamniefiel', 'tañi', 'logkogeal']\n",
      "['tvfey', 'ci', 'logkolelu', 'kiñe', 'mapu', 'xokiñ', 'ce', 'mew', 'mvley', 'wvlael', 'ixofij', 'keju', 'tañi', 'kvme', 'feleam', 'ka', 'kvme', 'mogeleam', 'kom', 'pu', 'ce', 'mvlelu', 'tvfey', 'ci', 'xokiñ', 'mew']\n",
      "['kom', 'pu', 'ce', 'mvley', 'ñi', 'nieael', 'kvzaw', 'mvley', 'kisu', 'zujiael', 'ñi', 'kvzaw', 'femueci', 'ta', 'xvr', 'feleay', 'ta', 'pu', 'ce']\n",
      "['kom', 'pu', 'ce', 'cumgeay', 'rume', 'mvley', 'ñi', 'kom', 'xvr', 'kujigeael', 'tañi', 'kvzaw', 'mew', 'egvn']\n",
      "['kom', 'kvzawci', 'pu', 'ce', 'mvley', 'ñi', 'kvme', 'kujiniegeael', 'tañi', 'kvme', 'mogeleam', 'ka', 'kvme', 'mogelneam', 'ñi', 'pu', 'fvren']\n",
      "['kom', 'kvzawfe', 'pu', 'ce', 'mvley', 'ñi', 'vrkvtuael', 'ñi', 'kvzaw', 'mew', 'ka', 'tañi', 'zoy', 'kvzawnoam', 'yamvñmageael', 'ñi', 'orario', 'ka', 'tañi', 'kiñe', 'mufv', 'antv', 'vrkvtuael', 'fij', 'xipantu']\n",
      "['kom', 'pu', 'ce', 'mvley', 'ñi', 'kvme', 'mogen', 'nieael', 'kuxanle', 'egvn', 'tañi', 'peael', 'lawen', 'tañi', 'kvme', 'iyael', 'egvn', 'kvme', 'tukuluwvn', 'ñi', 'peael', 'kvme', 'ruka', 'mew', 'ñi', 'mvleael', 'tañi', 'peael', 'lawentufe', 'ce', 'egvn']\n",
      "['pvñeñci', 'pu', 'zomo', 'ka', 'mvlemvlegeci', 'pu', 'picike', 'ce', 'mvley', 'ñi', 'peaetew', 'ka', 'kejuaetew', 'kvmeke', 'lawentucefe', 'ka', 'femueci', 'kom', 'pu', 'picike', 'ce', 'mvley', 'ñi', 'gvnaytuniegeael', 'kom', 'pu', 'xokiñ', 'ce', 'mew']\n",
      "['kom', 'pu', 'ce', 'pepi', 'kimay', 'fij', 'cijkatun', 'cem', 'ce', 'rume', 'kujilayay', 'tañi', 'kimam']\n",
      "['welu', 'kom', 'pu', 'ce', 'mvley', 'tañi', 'rvf', 'kimelgeael', 'fij', 'zugu', 'wvneluw', 'cijkatukeel', 'tañi', 'kim', 'cegeam']\n",
      "['cem', 'ce', 'rume', 'zoy', 'kvpa', 'cijkatule', 'tañi', 'zoy', 'kimam', 'femay', 'mvten', 'ka', 'kom', 'pu', 'ce', 'cumgeay', 'rume', 'pepi', 'konay', 'cem', 'cijkatun', 'mew', 'rume', 'tañi', 'ayvnieel', 'ñi', 'inayael']\n",
      "['kom', 'tvfaci', 'cijkatun', 'ka', 'kimeltun', 'mvley', 'ñi', 'kejuael', 'kvme', 'cegeam', 'kim', 'cegeam', 'nor', 'vegeam', 'mvley', 'ñi', 'newenmayafiel', 'ta', 'nor', 'felen', 'ka', 'kisugvnew', 'felen', 'tvfaci', 'mogen', 'mew']\n",
      "['mvley', 'tañi', 'kejuael', 'welukon', 'yamniewael', 'mew', 'ka', 'wenvykawael', 'kom', 'pu', 'ce', 'ka', 'fijke', 'xokiñke', 'pu', 'ce', 'cem', 'az', 'mogen', 'rume', 'nieaygvn']\n",
      "['kom', 'tvfaci', 'kimeltun', 'mvley', 'ñi', 'kejukvzawmayafiel', 'ka', 'wixañpvramafiel', 'fij', 'kvmeke', 'zugu', 'naciones', 'unidas', 'mew']\n",
      "['kom', 'pu', 'kurewen', 'mvley', 'kisu', 'egu', 'ñi', 'piael', 'cem', 'kimvn', 'ka', 'cijkatun', 'nieael', 'tañi', 'pu', 'pvñeñ']\n",
      "['kom', 'pu', 'ce', 'mvley', 'ñi', 'kisuzuam', 'nvwael', 'cem', 'wimtun', 'mew', 'rume', 'mvlele', 'tañi', 'xokiñ', 'ce', 'mew', 'ka', 'tañi', 'kintuael', 'inakonael', 'ka', 'nvael', 'cem', 'fvtake', 'kimvn', 'rume', 'mvlele']\n",
      "['fijke', 'kiñe', 'mapu', 'xokiñ', 'ce', 'mew', 'mvley', 'ñi', 'kvme', 'nor', 'elgeael', 'zugu', 'femueci', 'ta', 'kom', 'pu', 'ce', 'mvlelu', 'fij', 'mapu', 'yamvñmageay', 'ñi', 'nor', 'az', 'felen']\n",
      "['kom', 'pu', 'ce', 'mvley', 'tañi', 'rvf', 'nieael', 'kvme', 'zugu', 'kvme', 'rakizuam', 'ka', 'tañi', 'nor', 'cegeael', 'tañi', 'ragi', 'pu', 'xokiñ', 'ce', 'mew', 'fey', 'mew', 'am', 'xemkvlelu', 'ce', 'reke', 'ka', 'amulnielu', 'cem', 'kvzaw', 'rume']\n",
      "['tañi', 'nor', 'felenmu', 'ka', 'kisugvnew', 'felenmu', 'kom', 'pu', 'ce', 'nvwkvleay', 'wigka', 'ñi', 'wirikon', 'zugu', 'mew', 'ley', 'pi', 'ta', 'wigka', 'mvten', 'fey', 'mew', 'ta', 'kakelu', 'pu', 'ce', 'yamvñmageay', 'ñi', 'kvme', 'feleael', 'kisugvnew', 'felen', 'ñi', 'nor', 'feleael', 'ka', 'tañi', 'mvleam', 'xvr', 'ka', 'nor', 'mogen', 'kom', 'pu', 'xokiñke', 'ce', 'mew']\n",
      "['kom', 'tvfaci', 'nor', 'zugu', 'cumkaw', 'rume', 'gelay', 'ñi', 'nvgeael', 'weluka', 'ka', 'pekagka', 'amulgeale']\n"
     ]
    }
   ],
   "source": [
    "for oracion in lista_oraciones_palabras:\n",
    "    if 'kom' in oracion:\n",
    "        print(oracion)\n",
    "\n",
    "#lista_oraciones_palabras"
   ]
  },
  {
   "cell_type": "code",
   "execution_count": 64,
   "metadata": {},
   "outputs": [],
   "source": [
    "numero_tokens = 0\n",
    "\n",
    "for oracion in lista_oraciones_palabras:\n",
    "    numero_tokens+=len(oracion)"
   ]
  },
  {
   "cell_type": "code",
   "execution_count": 65,
   "metadata": {},
   "outputs": [
    {
     "data": {
      "text/plain": [
       "1742"
      ]
     },
     "execution_count": 65,
     "metadata": {},
     "output_type": "execute_result"
    }
   ],
   "source": [
    "numero_tokens"
   ]
  },
  {
   "cell_type": "code",
   "execution_count": 69,
   "metadata": {},
   "outputs": [],
   "source": [
    "diccionario_tokens ={}\n",
    "\n",
    "for i in range(len(lista_oraciones_palabras)):\n",
    "    oracion = lista_oraciones_palabras[i]\n",
    "    diccionario_tokens[i]=len(oracion)"
   ]
  },
  {
   "cell_type": "code",
   "execution_count": 74,
   "metadata": {},
   "outputs": [
    {
     "data": {
      "text/plain": [
       "12.097222222222221"
      ]
     },
     "execution_count": 74,
     "metadata": {},
     "output_type": "execute_result"
    }
   ],
   "source": [
    "import numpy as np\n",
    "\n",
    "np.mean(list(diccionario_tokens.values()))"
   ]
  },
  {
   "cell_type": "code",
   "execution_count": 61,
   "metadata": {},
   "outputs": [
    {
     "data": {
      "text/plain": [
       "[['kom', 'mapu', 'fijke', 'az', 'tañi', 'az', 'mogeleam'],\n",
       " ['tuwvlzugun'],\n",
       " ['preámbulo', 'pi', 'ta', 'wigka'],\n",
       " ['kimnieel',\n",
       "  'fij',\n",
       "  'mapu',\n",
       "  'mew',\n",
       "  'tañi',\n",
       "  'kimgen',\n",
       "  'kvme',\n",
       "  'felen',\n",
       "  'kisugvnew',\n",
       "  'felen',\n",
       "  'xvr',\n",
       "  'kvme',\n",
       "  'mvlen'],\n",
       " ['tvfaci',\n",
       "  'zugu',\n",
       "  'ñi',\n",
       "  'mvleken',\n",
       "  'mvleyem',\n",
       "  'yamvwvn',\n",
       "  'ka',\n",
       "  'xvr',\n",
       "  'kvme',\n",
       "  'nor',\n",
       "  'felen',\n",
       "  'kom',\n",
       "  'pu',\n",
       "  'reñmawke',\n",
       "  'ce',\n",
       "  'mew'],\n",
       " ['gewenonmu',\n",
       "  'yamuwvn',\n",
       "  'zuamgewenonmu',\n",
       "  'kvme',\n",
       "  'felen',\n",
       "  'goymagenmu',\n",
       "  'nor',\n",
       "  'felen',\n",
       "  'mvley',\n",
       "  're',\n",
       "  'jazkvnkawvn',\n",
       "  'fey',\n",
       "  'mew',\n",
       "  'mvley',\n",
       "  'xvrvmzugu',\n",
       "  'kom',\n",
       "  'pu',\n",
       "  'ce',\n",
       "  'tañi',\n",
       "  'kvme',\n",
       "  'mogeleam',\n",
       "  'kisuke',\n",
       "  'ñi',\n",
       "  'feyentun',\n",
       "  'mew',\n",
       "  'kisu',\n",
       "  'ñi',\n",
       "  'rakizuam',\n",
       "  'mew',\n",
       "  'ka',\n",
       "  'ñi',\n",
       "  'wimtun',\n",
       "  'mew',\n",
       "  'ñi',\n",
       "  'mvleal',\n",
       "  'egvn'],\n",
       " ['tañi',\n",
       "  'mvlenoam',\n",
       "  'kaiñetuwvn',\n",
       "  'zugu',\n",
       "  'awkan',\n",
       "  'zugu',\n",
       "  'tvfeyci',\n",
       "  'wezake',\n",
       "  'vbmen',\n",
       "  'egvn',\n",
       "  'mvley',\n",
       "  'tañi',\n",
       "  'xvrvmuwael',\n",
       "  'tvfeyci',\n",
       "  'wvnenkvleci',\n",
       "  'pu',\n",
       "  'ce',\n",
       "  'zugu',\n",
       "  'mew',\n",
       "  'tañi',\n",
       "  'yamgeam',\n",
       "  'xvr',\n",
       "  'kvme',\n",
       "  'nor',\n",
       "  'felen'],\n",
       " ['ka',\n",
       "  'kimnieel',\n",
       "  'ñi',\n",
       "  'rvf',\n",
       "  'kvme',\n",
       "  'zugugen',\n",
       "  'wenvykawvn',\n",
       "  'kom',\n",
       "  'pu',\n",
       "  'xokiñke',\n",
       "  'ce',\n",
       "  'egvn',\n",
       "  'nuwkvlelu',\n",
       "  'kiñe',\n",
       "  'mapu',\n",
       "  'mew',\n",
       "  'naciones',\n",
       "  'unidas',\n",
       "  'pi',\n",
       "  'ta',\n",
       "  'wigka',\n",
       "  'tvfa',\n",
       "  'egvn',\n",
       "  'xawvlelu',\n",
       "  'naciones',\n",
       "  'unidas',\n",
       "  'mew',\n",
       "  'nuwtuaygvn',\n",
       "  'tvfaci',\n",
       "  'fvxa',\n",
       "  'cijka',\n",
       "  'mew',\n",
       "  'kvme',\n",
       "  'xvr',\n",
       "  'norkvletuam',\n",
       "  'ñi',\n",
       "  'mogen',\n",
       "  'kom',\n",
       "  'pu',\n",
       "  'wenxu',\n",
       "  'ka',\n",
       "  'pu',\n",
       "  'zomo',\n",
       "  'mvlelu',\n",
       "  'ixofij',\n",
       "  'mapu',\n",
       "  'mew',\n",
       "  'feyci',\n",
       "  'kom',\n",
       "  'xawvci',\n",
       "  'pu',\n",
       "  'ce',\n",
       "  'tañi',\n",
       "  'werkvel',\n",
       "  'ci',\n",
       "  'pu',\n",
       "  'xokinke',\n",
       "  'ce',\n",
       "  'estados',\n",
       "  'miembros',\n",
       "  'pi',\n",
       "  'ta',\n",
       "  'wigka',\n",
       "  'mvlelu',\n",
       "  'fij',\n",
       "  'mapu',\n",
       "  'kom',\n",
       "  'pvle',\n",
       "  'kejuwayiñ',\n",
       "  'taiñ',\n",
       "  'yamfalafiel',\n",
       "  'xvr',\n",
       "  'kvme',\n",
       "  'felen',\n",
       "  'ka',\n",
       "  'nor',\n",
       "  'felen',\n",
       "  'piwigvn'],\n",
       " ['femueci',\n",
       "  'mvlcy',\n",
       "  'ñi',\n",
       "  'kimniegeael',\n",
       "  'kom',\n",
       "  'mapu',\n",
       "  'mew',\n",
       "  'nor',\n",
       "  'kvme',\n",
       "  'felen',\n",
       "  'ka',\n",
       "  'kisugvnew',\n",
       "  'mvlen',\n",
       "  'tvfaci',\n",
       "  'rakizuam',\n",
       "  'kvzaw',\n",
       "  'mew'],\n",
       " ['fey',\n",
       "  'mew',\n",
       "  'fvxa',\n",
       "  'xawvn',\n",
       "  'mew',\n",
       "  'asamblea',\n",
       "  'general',\n",
       "  'pi',\n",
       "  'ta',\n",
       "  'wigka'],\n",
       " ['wixañpvramgey',\n",
       "  'tvfaci',\n",
       "  'fvxa',\n",
       "  'cijka',\n",
       "  'kom',\n",
       "  'mapu',\n",
       "  'fijke',\n",
       "  'az',\n",
       "  'ce',\n",
       "  'tañi',\n",
       "  'az',\n",
       "  'mogeleam',\n",
       "  'pigelu'],\n",
       " ['rvf',\n",
       "  'kvme',\n",
       "  'zugugelu',\n",
       "  'am',\n",
       "  'fey',\n",
       "  'mew',\n",
       "  'ta',\n",
       "  'mvley',\n",
       "  'tañi',\n",
       "  'kvzawael',\n",
       "  'kom',\n",
       "  'pu',\n",
       "  'ce',\n",
       "  'fij',\n",
       "  'mapu',\n",
       "  'mew',\n",
       "  'pu',\n",
       "  'fvxake',\n",
       "  'vbmen',\n",
       "  'kom',\n",
       "  'pu',\n",
       "  'ce',\n",
       "  'wvnenkvlelu',\n",
       "  'cem',\n",
       "  'zugu',\n",
       "  'mew',\n",
       "  'rume',\n",
       "  'pu',\n",
       "  'wenxu',\n",
       "  'ka',\n",
       "  'pu',\n",
       "  'zomo',\n",
       "  'mvley',\n",
       "  'tañi',\n",
       "  'newenmayafiel',\n",
       "  'ka',\n",
       "  'wenuñpvramafiel',\n",
       "  'tvfaci',\n",
       "  'zugu',\n",
       "  'az',\n",
       "  'mogeleam',\n",
       "  'kom',\n",
       "  'pu',\n",
       "  'mogen',\n",
       "  'ce',\n",
       "  'fey',\n",
       "  'mew',\n",
       "  'ta',\n",
       "  'yamgeay',\n",
       "  'xvr',\n",
       "  'felen',\n",
       "  'ka',\n",
       "  'nor',\n",
       "  'felen',\n",
       "  'tvfaci',\n",
       "  'mogen',\n",
       "  'mew'],\n",
       " ['kiñe', 'xoy', '1'],\n",
       " ['kom',\n",
       "  'pu',\n",
       "  'mogence',\n",
       "  'kisuzuam',\n",
       "  'mvlekey',\n",
       "  'kom',\n",
       "  'cegeygvn',\n",
       "  'logkogeygvn',\n",
       "  'ka',\n",
       "  'piwkegeygvn',\n",
       "  'nieygvn',\n",
       "  'kimvn',\n",
       "  'fey',\n",
       "  'mew',\n",
       "  'mvley',\n",
       "  'tañi',\n",
       "  'yamniewael',\n",
       "  'ka',\n",
       "  'epuñpvle',\n",
       "  'kejuwael',\n",
       "  'egvn'],\n",
       " ['epu', 'xoy', '2'],\n",
       " ['kiñe'],\n",
       " ['kom',\n",
       "  'xipace',\n",
       "  'fijke',\n",
       "  'mojfvñ',\n",
       "  'ce',\n",
       "  'wixapvraley',\n",
       "  'ñi',\n",
       "  'kvme',\n",
       "  'felen',\n",
       "  'nor',\n",
       "  'felen',\n",
       "  'tvfaci',\n",
       "  'fvxa',\n",
       "  'cijka',\n",
       "  'mew',\n",
       "  'cumgeay',\n",
       "  'rume',\n",
       "  'ñi',\n",
       "  'zugun',\n",
       "  'ñi',\n",
       "  'wimtun',\n",
       "  'cem',\n",
       "  'azgeay',\n",
       "  'rume',\n",
       "  'cem',\n",
       "  'kimvn',\n",
       "  'rume',\n",
       "  'nieay'],\n",
       " ['epu'],\n",
       " ['kom',\n",
       "  'pu',\n",
       "  'xokiñ',\n",
       "  'ce',\n",
       "  'cem',\n",
       "  'az',\n",
       "  'mogengeayrume',\n",
       "  'mvlelu',\n",
       "  'fij',\n",
       "  'mapu',\n",
       "  'ka',\n",
       "  'femueci',\n",
       "  'xvr',\n",
       "  'nvwkvley',\n",
       "  'tvfaci',\n",
       "  'fvxa',\n",
       "  'cijka',\n",
       "  'mew'],\n",
       " ['kvla', 'xoy', '3'],\n",
       " ['kom',\n",
       "  'ce',\n",
       "  'mvley',\n",
       "  'ñi',\n",
       "  'mogeleael',\n",
       "  'kisugvnew',\n",
       "  'feleael',\n",
       "  'ka',\n",
       "  'yamniegeael'],\n",
       " ['meli', 'xoy', '4'],\n",
       " ['iney', 'rume', 'gelay', 'ñi', 'xafkiñtuceael'],\n",
       " ['gewelayay', 'xafkiñtucen', 'ran', 'mew', 'kuyfi', 'reke'],\n",
       " ['kecu', 'xoy', '5']]"
      ]
     },
     "execution_count": 61,
     "metadata": {},
     "output_type": "execute_result"
    }
   ],
   "source": [
    "lista_oraciones_palabras[:25]"
   ]
  },
  {
   "cell_type": "markdown",
   "metadata": {},
   "source": [
    "Lea el archivo  'udhr_spa.txt' en la carpeta **udhr**."
   ]
  },
  {
   "cell_type": "markdown",
   "metadata": {},
   "source": [
    "Resuelva los siguientes problemas de pre-procesamiento:\n",
    "    \n",
    "1. Rehaga los pasos 1 y 2 de los ejercicios anteriores.\n",
    "2. Usemos [spacy](https://spacy.io/usage). Instale!"
   ]
  },
  {
   "cell_type": "code",
   "execution_count": 1,
   "metadata": {},
   "outputs": [],
   "source": [
    "## texto en español\n",
    "\n",
    "## recomendación! use:\n",
    "\n",
    "file = open('udhr/udhr_spa.txt','r', encoding=\"utf8\")\n",
    "file = file.read()"
   ]
  },
  {
   "cell_type": "code",
   "execution_count": 2,
   "metadata": {},
   "outputs": [
    {
     "data": {
      "text/plain": [
       "['Universal Declaration of Human Rights - Spanish',\n",
       " '© 1996 – 2009 The Office of the High Commissioner for Human Rights',\n",
       " 'This plain text version prepared by the “UDHR in Unicode”',\n",
       " 'project, https://www.unicode.org/udhr.',\n",
       " '---',\n",
       " '',\n",
       " 'Declaración Universal de Derechos Humanos',\n",
       " '      Adoptada y proclamada por la Asamblea General en su resolución 217 A (III), de 10 de diciembre de 1948',\n",
       " '   ',\n",
       " '      Preámbulo',\n",
       " '      Considerando que la libertad, la justicia y la paz en el mundo tienen por base el reconocimiento de la dignidad intrínseca y de los derechos iguales e inalienables de todos los miembros de la familia humana,',\n",
       " '      Considerando que el desconocimiento y el menosprecio de los derechos humanos han originado actos de barbarie ultrajantes para la conciencia de la humanidad; y que se ha proclamado, como la aspiración más elevada del hombre, el advenimiento de un mundo en que los seres humanos, liberados del temor y de la miseria, disfruten de la libertad de palabra y de la libertad de creencias,',\n",
       " '      Considerando esencial que los derechos humanos sean protegidos por un régimen de Derecho, a fin de que el hombre no se vea compelido al supremo recurso de la rebelión contra la tiranía y la opresión,',\n",
       " '      Considerando también esencial promover el desarrollo de relaciones amistosas entre las naciones,',\n",
       " '      Considerando que los pueblos de las Naciones Unidas han reafirmado en la Carta su fe en los derechos fundamentales del hombre, en la dignidad y el valor de la persona humana y en la igualdad de derechos de hombres y mujeres; y se han declarado resueltos a promover el progreso social y a elevar el nivel de vida dentro de un concepto más amplio de la libertad,',\n",
       " '      Considerando que los Estados Miembros se han comprometido a asegurar, en cooperación con la Organización de las Naciones Unidas, el respeto universal y efectivo a los derechos y libertades fundamentales del hombre, y',\n",
       " '      Considerando que una concepción común de estos derechos y libertades es de la mayor importancia para el pleno cumplimiento de dicho compromiso,',\n",
       " '      La Asamblea General',\n",
       " '      Proclama la presente Declaración Universal de Derechos Humanos como ideal común por el que todos los pueblos y naciones deben esforzarse, a fin de que tanto los individuos como las instituciones, inspirándose constantemente en ella, promuevan, mediante la enseñanza y la educación, el respeto a estos derechos y libertades, y aseguren, por medidas progresivas de carácter nacional e internacional, su reconocimiento y aplicación universales y efectivos, tanto entre los pueblos de los Estados Miembros como entre los de los territorios colocados bajo su jurisdicción.',\n",
       " '   ',\n",
       " '      Artículo 1',\n",
       " '      Todos los seres humanos nacen libres e iguales en dignidad y derechos y, dotados como están de razón y conciencia, deben comportarse fraternalmente los unos con los otros.',\n",
       " '   ',\n",
       " '      Artículo 2',\n",
       " '      Toda persona tiene los derechos y libertades proclamados en esta Declaración, sin distinción alguna de raza, color, sexo, idioma, religión, opinión política o de cualquier otra índole, origen nacional o social, posición económica, nacimiento o cualquier otra condición.',\n",
       " '      Además, no se hará distinción alguna fundada en la condición política, jurídica o internacional del país o territorio de cuya jurisdicción dependa una persona, tanto si se trata de un país independiente, como de un territorio bajo administración fiduciaria, no autónomo o sometido a cualquier otra limitación de soberanía.',\n",
       " '   ',\n",
       " '      Artículo 3',\n",
       " '      Todo individuo tiene derecho a la vida, a la libertad y a la seguridad de su persona.',\n",
       " '   ',\n",
       " '      Artículo 4',\n",
       " '      Nadie estará sometido a esclavitud ni a servidumbre; la esclavitud y la trata de esclavos están prohibidas en todas sus formas.',\n",
       " '   ',\n",
       " '      Artículo 5',\n",
       " '      Nadie será sometido a torturas ni a penas o tratos crueles, inhumanos o degradantes.',\n",
       " '   ',\n",
       " '      Artículo 6',\n",
       " '      Todo ser humano tiene derecho, en todas partes, al reconocimiento de su personalidad jurídica.',\n",
       " '   ',\n",
       " '      Artículo 7',\n",
       " '      Todos son iguales ante la ley y tienen, sin distinción, derecho a igual protección de la ley. Todos tienen derecho a igual protección contra toda discriminación que infrinja esta Declaración y contra toda provocación a tal discriminación.',\n",
       " '   ',\n",
       " '      Artículo 8',\n",
       " '      Toda persona tiene derecho a un recurso efectivo, ante los tribunales nacionales competentes, que la ampare contra actos que violen sus derechos fundamentales reconocidos por la constitución o por la ley.',\n",
       " '   ',\n",
       " '      Artículo 9',\n",
       " '      Nadie podrá ser arbitrariamente detenido, preso ni desterrado.',\n",
       " '   ',\n",
       " '      Artículo 10',\n",
       " '      Toda persona tiene derecho, en condiciones de plena igualdad, a ser oída públicamente y con justicia por un tribunal independiente e imparcial, para la determinación de sus derechos y obligaciones o para el examen de cualquier acusación contra ella en materia penal.',\n",
       " '   ',\n",
       " '      Artículo 11',\n",
       " '      ',\n",
       " '         ',\n",
       " '            Toda persona acusada de delito tiene derecho a que se presuma su inocencia mientras no se pruebe su culpabilidad, conforme a la ley y en juicio público en el que se le hayan asegurado todas las garantías necesarias para su defensa.',\n",
       " '         ',\n",
       " '         ',\n",
       " '            Nadie será condenado por actos u omisiones que en el momento de cometerse no fueron delictivos según el Derecho nacional o internacional. Tampoco se impondrá pena más grave que la aplicable en el momento de la comisión del delito.',\n",
       " '         ',\n",
       " '      ',\n",
       " '   ',\n",
       " '      Artículo 12',\n",
       " '      Nadie será objeto de injerencias arbitrarias en su vida privada, su familia, su domicilio o su correspondencia, ni de ataques a su honra o a su reputación. Toda persona tiene derecho a la protección de la ley contra tales injerencias o ataques.',\n",
       " '   ',\n",
       " '      Artículo 13',\n",
       " '      ',\n",
       " '         ',\n",
       " '            Toda persona tiene derecho a circular libremente y a elegir su residencia en el territorio de un Estado.',\n",
       " '         ',\n",
       " '         ',\n",
       " '            Toda persona tiene derecho a salir de cualquier país, incluso el propio, y a regresar a su país.',\n",
       " '         ',\n",
       " '      ',\n",
       " '   ',\n",
       " '      Artículo 14',\n",
       " '      ',\n",
       " '         ',\n",
       " '            En caso de persecución, toda persona tiene derecho a buscar asilo, y a disfrutar de él, en cualquier país.',\n",
       " '         ',\n",
       " '         ',\n",
       " '            Este derecho no podrá ser invocado contra una acción judicial realmente originada por delitos comunes o por actos opuestos a los propósitos y principios de las Naciones Unidas.',\n",
       " '         ',\n",
       " '      ',\n",
       " '   ',\n",
       " '      Artículo 15',\n",
       " '      ',\n",
       " '         ',\n",
       " '            Toda persona tiene derecho a una nacionalidad.',\n",
       " '         ',\n",
       " '         ',\n",
       " '            A nadie se privará arbitrariamente de su nacionalidad ni del derecho a cambiar de nacionalidad.',\n",
       " '         ',\n",
       " '      ',\n",
       " '   ',\n",
       " '      Artículo 16',\n",
       " '      ',\n",
       " '         ',\n",
       " '            Los hombres y las mujeres, a partir de la edad núbil, tienen derecho, sin restricción alguna por motivos de raza, nacionalidad o religión, a casarse y fundar una familia; y disfrutarán de iguales derechos en cuanto al matrimonio, durante el matrimonio y en caso de disolución del matrimonio.',\n",
       " '         ',\n",
       " '         ',\n",
       " '            Sólo mediante libre y pleno consentimiento de los futuros esposos podrá contraerse el matrimonio.',\n",
       " '         ',\n",
       " '         ',\n",
       " '            La familia es el elemento natural y fundamental de la sociedad y tiene derecho a la protección de la sociedad y del Estado.',\n",
       " '         ',\n",
       " '      ',\n",
       " '   ',\n",
       " '      Artículo 17',\n",
       " '      ',\n",
       " '         ',\n",
       " '            Toda persona tiene derecho a la propiedad, individual y colectivamente.',\n",
       " '         ',\n",
       " '         ',\n",
       " '            Nadie será privado arbitrariamente de su propiedad.',\n",
       " '         ',\n",
       " '      ',\n",
       " '   ',\n",
       " '      Artículo 18',\n",
       " '      Toda persona tiene derecho a la libertad de pensamiento, de conciencia y de religión; este derecho incluye la libertad de cambiar de religión o de creencia, así como la libertad de manifestar su religión o su creencia, individual y colectivamente, tanto en público como en privado, por la enseñanza, la práctica, el culto y la observancia.',\n",
       " '   ',\n",
       " '      Artículo 19',\n",
       " '      Todo individuo tiene derecho a la libertad de opinión y de expresión; este derecho incluye el no ser molestado a causa de sus opiniones, el de investigar y recibir informaciones y opiniones, y el de difundirlas, sin limitación de fronteras, por cualquier medio de expresión.',\n",
       " '   ',\n",
       " '      Artículo 20',\n",
       " '      ',\n",
       " '         ',\n",
       " '            Toda persona tiene derecho a la libertad de reunión y de asociación pacíficas.',\n",
       " '         ',\n",
       " '         ',\n",
       " '            Nadie podrá ser obligado a pertenecer a una asociación.',\n",
       " '         ',\n",
       " '      ',\n",
       " '   ',\n",
       " '      Artículo 21',\n",
       " '      ',\n",
       " '         ',\n",
       " '            Toda persona tiene derecho a participar en el gobierno de su país, directamente o por medio de representantes libremente escogidos.',\n",
       " '         ',\n",
       " '         ',\n",
       " '            Toda persona tiene el derecho de acceso, en condiciones de igualdad, a las funciones públicas de su país.',\n",
       " '         ',\n",
       " '         ',\n",
       " '            La voluntad del pueblo es la base de la autoridad del poder público; esta voluntad se expresará mediante elecciones auténticas que habrán de celebrarse periódicamente, por sufragio universal e igual y por voto secreto u otro procedimiento equivalente que garantice la libertad del voto.',\n",
       " '         ',\n",
       " '      ',\n",
       " '   ',\n",
       " '      Artículo 22',\n",
       " '      Toda persona, como miembro de la sociedad, tiene derecho a la seguridad social, y a obtener, mediante el esfuerzo nacional y la cooperación internacional, habida cuenta de la organización y los recursos de cada Estado, la satisfacción de los derechos económicos, sociales y culturales, indispensables a su dignidad y al libre desarrollo de su personalidad.',\n",
       " '   ',\n",
       " '      Artículo 23',\n",
       " '      ',\n",
       " '         ',\n",
       " '            Toda persona tiene derecho al trabajo, a la libre elección de su trabajo, a condiciones equitativas y satisfactorias de trabajo y a la protección contra el desempleo.',\n",
       " '         ',\n",
       " '         ',\n",
       " '            Toda personal tiene derecho, sin discriminación alguna, a igual salario por trabajo igual.',\n",
       " '         ',\n",
       " '         ',\n",
       " '            Toda persona que trabaja tiene derecho a una remuneración equitativa y satisfactoria, que le asegure, así como a su familia, una existencia conforme a la dignidad humana y que será completada, en caso necesario, por cualesquiera otros medios de protección social.',\n",
       " '         ',\n",
       " '         ',\n",
       " '            Toda persona tiene derecho a fundar sindicatos y a sindicarse para la defensa de sus intereses.',\n",
       " '         ',\n",
       " '      ',\n",
       " '   ',\n",
       " '      Artículo 24',\n",
       " '      Toda persona tiene derecho al descanso, al disfrute del tiempo libre, a una limitación razonable de la duración del trabajo y a vacaciones periódicas pagadas.',\n",
       " '   ',\n",
       " '      Artículo 25',\n",
       " '      ',\n",
       " '         ',\n",
       " '            Toda persona tiene derecho a un nivel de vida adecuado que le asegure, así como a su familia, la salud y el bienestar, y en especial la alimentación, el vestido, la vivienda, la asistencia médica y los servicios sociales necesarios; tiene asimismo derecho a los seguros en caso de desempleo, enfermedad, invalidez, viudez, vejez y otros casos de pérdida de sus medios de subsistencia por circunstancias independientes de su voluntad.',\n",
       " '         ',\n",
       " '         ',\n",
       " '            La maternidad y la infancia tienen derecho a cuidados y asistencia especiales. Todos los niños, nacidos de matrimonio o fuera de matrimonio, tienen derecho a igual protección social.',\n",
       " '         ',\n",
       " '      ',\n",
       " '   ',\n",
       " '      Artículo 26',\n",
       " '      ',\n",
       " '         ',\n",
       " '            Toda persona tiene derecho a la educación. La educación debe ser gratuita, al menos en lo concerniente a la instrucción elemental y fundamental. La instrucción elemental será obligatoria. La instrucción técnica y profesional habrá de ser generalizada; el acceso a los estudios superiores será igual para todos, en función de los méritos respectivos.',\n",
       " '         ',\n",
       " '         ',\n",
       " '            La educación tendrá por objeto el pleno desarrollo de la personalidad humana y el fortalecimiento del respeto a los derechos humanos y a las libertades fundamentales; favorecerá la comprensión, la tolerancia y la amistad entre todas las naciones y todos los grupos étnicos o religiosos; y promoverá el desarrollo de las actividades de las Naciones Unidas para el mantenimiento de la paz.',\n",
       " '         ',\n",
       " '         ',\n",
       " '            Los padres tendrán derecho preferente a escoger el tipo de educación que habrá de darse a sus hijos.',\n",
       " '         ',\n",
       " '      ',\n",
       " '   ',\n",
       " '      Artículo 27',\n",
       " '      ',\n",
       " '         ',\n",
       " '            Toda persona tiene derecho a tomar parte libremente en la vida cultural de la comunidad, a gozar de las artes y a participar en el progreso científico y en los beneficios que de él resulten.',\n",
       " '         ',\n",
       " '         ',\n",
       " '            Toda persona tiene derecho a la protección de los intereses morales y materiales que le correspondan por razón de las producciones científicas, literarias o artísticas de que sea autora.',\n",
       " '         ',\n",
       " '      ',\n",
       " '   ',\n",
       " '      Artículo 28',\n",
       " '      Toda persona tiene derecho a que se establezca un orden social e internacional en el que los derechos y libertades proclamados en esta Declaración se hagan plenamente efectivos.',\n",
       " '   ',\n",
       " '      Artículo 29',\n",
       " '      ',\n",
       " '         ',\n",
       " '            Toda persona tiene deberes respecto a la comunidad, puesto que sólo en ella puede desarrollar libre y plenamente su personalidad.',\n",
       " '         ',\n",
       " '         ',\n",
       " '            En el ejercicio de sus derechos y en el disfrute de sus libertades, toda persona estará solamente sujeta a las limitaciones establecidas por la ley con el único fin de asegurar el reconocimiento y el respeto de los derechos y libertades de los demás, y de satisfacer las justas exigencias de la moral, del orden público y del bienestar general en una sociedad democrática.',\n",
       " '         ',\n",
       " '         ',\n",
       " '            Estos derechos y libertades no podrán en ningún caso ser ejercidos en oposición a los propósitos y principios de las Naciones Unidas.',\n",
       " '         ',\n",
       " '      ',\n",
       " '   ',\n",
       " '      Artículo 30',\n",
       " '      Nada en la presente Declaración podrá interpretarse en el sentido de que confiere derecho alguno al Estado, a un grupo o a una persona, para emprender y desarrollar actividades o realizar actos tendientes a la supresión de cualquiera de los derechos y libertades proclamados en esta Declaración.',\n",
       " '   ']"
      ]
     },
     "execution_count": 2,
     "metadata": {},
     "output_type": "execute_result"
    }
   ],
   "source": [
    "file.split('\\n')"
   ]
  },
  {
   "cell_type": "code",
   "execution_count": 26,
   "metadata": {},
   "outputs": [
    {
     "name": "stdout",
     "output_type": "stream",
     "text": [
      "Requirement already satisfied: pip in c:\\users\\jxver\\anaconda3\\envs\\geo_env\\lib\\site-packages (21.3)\n",
      "Requirement already satisfied: setuptools in c:\\users\\jxver\\anaconda3\\envs\\geo_env\\lib\\site-packages (58.2.0)\n",
      "Requirement already satisfied: wheel in c:\\users\\jxver\\anaconda3\\envs\\geo_env\\lib\\site-packages (0.37.0)\n",
      "Requirement already satisfied: spacy in c:\\users\\jxver\\anaconda3\\envs\\geo_env\\lib\\site-packages (3.1.3)\n",
      "Requirement already satisfied: setuptools in c:\\users\\jxver\\anaconda3\\envs\\geo_env\\lib\\site-packages (from spacy) (58.2.0)\n",
      "Requirement already satisfied: numpy>=1.15.0 in c:\\users\\jxver\\anaconda3\\envs\\geo_env\\lib\\site-packages (from spacy) (1.21.2)\n",
      "Requirement already satisfied: packaging>=20.0 in c:\\users\\jxver\\anaconda3\\envs\\geo_env\\lib\\site-packages (from spacy) (21.0)\n",
      "Requirement already satisfied: typer<0.5.0,>=0.3.0 in c:\\users\\jxver\\anaconda3\\envs\\geo_env\\lib\\site-packages (from spacy) (0.4.0)\n",
      "Requirement already satisfied: tqdm<5.0.0,>=4.38.0 in c:\\users\\jxver\\anaconda3\\envs\\geo_env\\lib\\site-packages (from spacy) (4.62.3)\n",
      "Requirement already satisfied: preshed<3.1.0,>=3.0.2 in c:\\users\\jxver\\anaconda3\\envs\\geo_env\\lib\\site-packages (from spacy) (3.0.5)\n",
      "Requirement already satisfied: spacy-legacy<3.1.0,>=3.0.8 in c:\\users\\jxver\\anaconda3\\envs\\geo_env\\lib\\site-packages (from spacy) (3.0.8)\n",
      "Requirement already satisfied: cymem<2.1.0,>=2.0.2 in c:\\users\\jxver\\anaconda3\\envs\\geo_env\\lib\\site-packages (from spacy) (2.0.5)\n",
      "Requirement already satisfied: requests<3.0.0,>=2.13.0 in c:\\users\\jxver\\anaconda3\\envs\\geo_env\\lib\\site-packages (from spacy) (2.26.0)\n",
      "Requirement already satisfied: murmurhash<1.1.0,>=0.28.0 in c:\\users\\jxver\\anaconda3\\envs\\geo_env\\lib\\site-packages (from spacy) (1.0.5)\n",
      "Requirement already satisfied: srsly<3.0.0,>=2.4.1 in c:\\users\\jxver\\anaconda3\\envs\\geo_env\\lib\\site-packages (from spacy) (2.4.1)\n",
      "Requirement already satisfied: pydantic!=1.8,!=1.8.1,<1.9.0,>=1.7.4 in c:\\users\\jxver\\anaconda3\\envs\\geo_env\\lib\\site-packages (from spacy) (1.8.2)\n",
      "Requirement already satisfied: jinja2 in c:\\users\\jxver\\anaconda3\\envs\\geo_env\\lib\\site-packages (from spacy) (3.0.1)\n",
      "Requirement already satisfied: catalogue<2.1.0,>=2.0.6 in c:\\users\\jxver\\anaconda3\\envs\\geo_env\\lib\\site-packages (from spacy) (2.0.6)\n",
      "Requirement already satisfied: wasabi<1.1.0,>=0.8.1 in c:\\users\\jxver\\anaconda3\\envs\\geo_env\\lib\\site-packages (from spacy) (0.8.2)\n",
      "Requirement already satisfied: pathy>=0.3.5 in c:\\users\\jxver\\anaconda3\\envs\\geo_env\\lib\\site-packages (from spacy) (0.6.0)\n",
      "Requirement already satisfied: thinc<8.1.0,>=8.0.9 in c:\\users\\jxver\\anaconda3\\envs\\geo_env\\lib\\site-packages (from spacy) (8.0.10)\n",
      "Requirement already satisfied: blis<0.8.0,>=0.4.0 in c:\\users\\jxver\\anaconda3\\envs\\geo_env\\lib\\site-packages (from spacy) (0.7.4)\n",
      "Requirement already satisfied: pyparsing>=2.0.2 in c:\\users\\jxver\\anaconda3\\envs\\geo_env\\lib\\site-packages (from packaging>=20.0->spacy) (2.4.7)\n",
      "Requirement already satisfied: smart-open<6.0.0,>=5.0.0 in c:\\users\\jxver\\anaconda3\\envs\\geo_env\\lib\\site-packages (from pathy>=0.3.5->spacy) (5.2.1)\n",
      "Requirement already satisfied: typing-extensions>=3.7.4.3 in c:\\users\\jxver\\anaconda3\\envs\\geo_env\\lib\\site-packages (from pydantic!=1.8,!=1.8.1,<1.9.0,>=1.7.4->spacy) (3.10.0.2)\n",
      "Requirement already satisfied: charset-normalizer~=2.0.0 in c:\\users\\jxver\\anaconda3\\envs\\geo_env\\lib\\site-packages (from requests<3.0.0,>=2.13.0->spacy) (2.0.6)\n",
      "Requirement already satisfied: idna<4,>=2.5 in c:\\users\\jxver\\anaconda3\\envs\\geo_env\\lib\\site-packages (from requests<3.0.0,>=2.13.0->spacy) (3.2)\n",
      "Requirement already satisfied: urllib3<1.27,>=1.21.1 in c:\\users\\jxver\\anaconda3\\envs\\geo_env\\lib\\site-packages (from requests<3.0.0,>=2.13.0->spacy) (1.26.6)\n",
      "Requirement already satisfied: certifi>=2017.4.17 in c:\\users\\jxver\\anaconda3\\envs\\geo_env\\lib\\site-packages (from requests<3.0.0,>=2.13.0->spacy) (2021.5.30)\n",
      "Requirement already satisfied: colorama in c:\\users\\jxver\\anaconda3\\envs\\geo_env\\lib\\site-packages (from tqdm<5.0.0,>=4.38.0->spacy) (0.4.4)\n",
      "Requirement already satisfied: click<9.0.0,>=7.1.1 in c:\\users\\jxver\\anaconda3\\envs\\geo_env\\lib\\site-packages (from typer<0.5.0,>=0.3.0->spacy) (7.1.2)\n",
      "Requirement already satisfied: MarkupSafe>=2.0 in c:\\users\\jxver\\anaconda3\\envs\\geo_env\\lib\\site-packages (from jinja2->spacy) (2.0.1)\n",
      "Collecting en-core-web-sm==3.1.0\n",
      "  Downloading https://github.com/explosion/spacy-models/releases/download/en_core_web_sm-3.1.0/en_core_web_sm-3.1.0-py3-none-any.whl (13.6 MB)\n",
      "Requirement already satisfied: spacy<3.2.0,>=3.1.0 in c:\\users\\jxver\\anaconda3\\envs\\geo_env\\lib\\site-packages (from en-core-web-sm==3.1.0) (3.1.3)\n",
      "Requirement already satisfied: typer<0.5.0,>=0.3.0 in c:\\users\\jxver\\anaconda3\\envs\\geo_env\\lib\\site-packages (from spacy<3.2.0,>=3.1.0->en-core-web-sm==3.1.0) (0.4.0)\n",
      "Requirement already satisfied: tqdm<5.0.0,>=4.38.0 in c:\\users\\jxver\\anaconda3\\envs\\geo_env\\lib\\site-packages (from spacy<3.2.0,>=3.1.0->en-core-web-sm==3.1.0) (4.62.3)\n",
      "Requirement already satisfied: cymem<2.1.0,>=2.0.2 in c:\\users\\jxver\\anaconda3\\envs\\geo_env\\lib\\site-packages (from spacy<3.2.0,>=3.1.0->en-core-web-sm==3.1.0) (2.0.5)\n",
      "Requirement already satisfied: spacy-legacy<3.1.0,>=3.0.8 in c:\\users\\jxver\\anaconda3\\envs\\geo_env\\lib\\site-packages (from spacy<3.2.0,>=3.1.0->en-core-web-sm==3.1.0) (3.0.8)\n",
      "Requirement already satisfied: blis<0.8.0,>=0.4.0 in c:\\users\\jxver\\anaconda3\\envs\\geo_env\\lib\\site-packages (from spacy<3.2.0,>=3.1.0->en-core-web-sm==3.1.0) (0.7.4)\n",
      "Requirement already satisfied: wasabi<1.1.0,>=0.8.1 in c:\\users\\jxver\\anaconda3\\envs\\geo_env\\lib\\site-packages (from spacy<3.2.0,>=3.1.0->en-core-web-sm==3.1.0) (0.8.2)\n",
      "Requirement already satisfied: murmurhash<1.1.0,>=0.28.0 in c:\\users\\jxver\\anaconda3\\envs\\geo_env\\lib\\site-packages (from spacy<3.2.0,>=3.1.0->en-core-web-sm==3.1.0) (1.0.5)\n",
      "Requirement already satisfied: pydantic!=1.8,!=1.8.1,<1.9.0,>=1.7.4 in c:\\users\\jxver\\anaconda3\\envs\\geo_env\\lib\\site-packages (from spacy<3.2.0,>=3.1.0->en-core-web-sm==3.1.0) (1.8.2)\n",
      "Requirement already satisfied: preshed<3.1.0,>=3.0.2 in c:\\users\\jxver\\anaconda3\\envs\\geo_env\\lib\\site-packages (from spacy<3.2.0,>=3.1.0->en-core-web-sm==3.1.0) (3.0.5)\n",
      "Requirement already satisfied: setuptools in c:\\users\\jxver\\anaconda3\\envs\\geo_env\\lib\\site-packages (from spacy<3.2.0,>=3.1.0->en-core-web-sm==3.1.0) (58.2.0)\n",
      "Requirement already satisfied: srsly<3.0.0,>=2.4.1 in c:\\users\\jxver\\anaconda3\\envs\\geo_env\\lib\\site-packages (from spacy<3.2.0,>=3.1.0->en-core-web-sm==3.1.0) (2.4.1)\n",
      "Requirement already satisfied: packaging>=20.0 in c:\\users\\jxver\\anaconda3\\envs\\geo_env\\lib\\site-packages (from spacy<3.2.0,>=3.1.0->en-core-web-sm==3.1.0) (21.0)\n",
      "Requirement already satisfied: jinja2 in c:\\users\\jxver\\anaconda3\\envs\\geo_env\\lib\\site-packages (from spacy<3.2.0,>=3.1.0->en-core-web-sm==3.1.0) (3.0.1)\n",
      "Requirement already satisfied: thinc<8.1.0,>=8.0.9 in c:\\users\\jxver\\anaconda3\\envs\\geo_env\\lib\\site-packages (from spacy<3.2.0,>=3.1.0->en-core-web-sm==3.1.0) (8.0.10)\n",
      "Requirement already satisfied: catalogue<2.1.0,>=2.0.6 in c:\\users\\jxver\\anaconda3\\envs\\geo_env\\lib\\site-packages (from spacy<3.2.0,>=3.1.0->en-core-web-sm==3.1.0) (2.0.6)\n",
      "Requirement already satisfied: numpy>=1.15.0 in c:\\users\\jxver\\anaconda3\\envs\\geo_env\\lib\\site-packages (from spacy<3.2.0,>=3.1.0->en-core-web-sm==3.1.0) (1.21.2)\n",
      "Requirement already satisfied: pathy>=0.3.5 in c:\\users\\jxver\\anaconda3\\envs\\geo_env\\lib\\site-packages (from spacy<3.2.0,>=3.1.0->en-core-web-sm==3.1.0) (0.6.0)\n",
      "Requirement already satisfied: requests<3.0.0,>=2.13.0 in c:\\users\\jxver\\anaconda3\\envs\\geo_env\\lib\\site-packages (from spacy<3.2.0,>=3.1.0->en-core-web-sm==3.1.0) (2.26.0)\n",
      "Requirement already satisfied: pyparsing>=2.0.2 in c:\\users\\jxver\\anaconda3\\envs\\geo_env\\lib\\site-packages (from packaging>=20.0->spacy<3.2.0,>=3.1.0->en-core-web-sm==3.1.0) (2.4.7)\n",
      "Requirement already satisfied: smart-open<6.0.0,>=5.0.0 in c:\\users\\jxver\\anaconda3\\envs\\geo_env\\lib\\site-packages (from pathy>=0.3.5->spacy<3.2.0,>=3.1.0->en-core-web-sm==3.1.0) (5.2.1)\n",
      "Requirement already satisfied: typing-extensions>=3.7.4.3 in c:\\users\\jxver\\anaconda3\\envs\\geo_env\\lib\\site-packages (from pydantic!=1.8,!=1.8.1,<1.9.0,>=1.7.4->spacy<3.2.0,>=3.1.0->en-core-web-sm==3.1.0) (3.10.0.2)\n",
      "Requirement already satisfied: certifi>=2017.4.17 in c:\\users\\jxver\\anaconda3\\envs\\geo_env\\lib\\site-packages (from requests<3.0.0,>=2.13.0->spacy<3.2.0,>=3.1.0->en-core-web-sm==3.1.0) (2021.5.30)\n",
      "Requirement already satisfied: urllib3<1.27,>=1.21.1 in c:\\users\\jxver\\anaconda3\\envs\\geo_env\\lib\\site-packages (from requests<3.0.0,>=2.13.0->spacy<3.2.0,>=3.1.0->en-core-web-sm==3.1.0) (1.26.6)\n",
      "Requirement already satisfied: charset-normalizer~=2.0.0 in c:\\users\\jxver\\anaconda3\\envs\\geo_env\\lib\\site-packages (from requests<3.0.0,>=2.13.0->spacy<3.2.0,>=3.1.0->en-core-web-sm==3.1.0) (2.0.6)\n",
      "Requirement already satisfied: idna<4,>=2.5 in c:\\users\\jxver\\anaconda3\\envs\\geo_env\\lib\\site-packages (from requests<3.0.0,>=2.13.0->spacy<3.2.0,>=3.1.0->en-core-web-sm==3.1.0) (3.2)\n",
      "Requirement already satisfied: colorama in c:\\users\\jxver\\anaconda3\\envs\\geo_env\\lib\\site-packages (from tqdm<5.0.0,>=4.38.0->spacy<3.2.0,>=3.1.0->en-core-web-sm==3.1.0) (0.4.4)\n",
      "Requirement already satisfied: click<9.0.0,>=7.1.1 in c:\\users\\jxver\\anaconda3\\envs\\geo_env\\lib\\site-packages (from typer<0.5.0,>=0.3.0->spacy<3.2.0,>=3.1.0->en-core-web-sm==3.1.0) (7.1.2)\n",
      "Requirement already satisfied: MarkupSafe>=2.0 in c:\\users\\jxver\\anaconda3\\envs\\geo_env\\lib\\site-packages (from jinja2->spacy<3.2.0,>=3.1.0->en-core-web-sm==3.1.0) (2.0.1)\n",
      "Installing collected packages: en-core-web-sm\n",
      "Successfully installed en-core-web-sm-3.1.0\n",
      "[+] Download and installation successful\n",
      "You can now load the package via spacy.load('en_core_web_sm')\n"
     ]
    }
   ],
   "source": [
    "!pip install -U pip setuptools wheel\n",
    "!pip install -U spacy\n",
    "!python -m spacy download en_core_web_sm"
   ]
  },
  {
   "cell_type": "code",
   "execution_count": 34,
   "metadata": {},
   "outputs": [],
   "source": [
    "s = 'The evaporation was done by the water.'"
   ]
  },
  {
   "cell_type": "code",
   "execution_count": 35,
   "metadata": {},
   "outputs": [],
   "source": [
    "import spacy\n",
    "\n",
    "nlp = spacy.load(\"en_core_web_sm\")\n",
    "doc = nlp(s)"
   ]
  },
  {
   "cell_type": "code",
   "execution_count": 36,
   "metadata": {},
   "outputs": [],
   "source": [
    "tokens = []\n",
    "lemmas = []\n",
    "pos = []\n",
    "tag = []\n",
    "\n",
    "for token in doc:\n",
    "    tokens+=[token.text]\n",
    "    lemmas+=[token.lemma_], \n",
    "    pos+=[token.pos_] \n",
    "    tag+=[token.tag_]"
   ]
  },
  {
   "cell_type": "code",
   "execution_count": 37,
   "metadata": {},
   "outputs": [
    {
     "data": {
      "text/plain": [
       "['The', 'evaporation', 'was', 'done', 'by', 'the', 'water', '.']"
      ]
     },
     "execution_count": 37,
     "metadata": {},
     "output_type": "execute_result"
    }
   ],
   "source": [
    "tokens[:10]"
   ]
  },
  {
   "cell_type": "code",
   "execution_count": 38,
   "metadata": {},
   "outputs": [
    {
     "data": {
      "text/plain": [
       "[['the'], ['evaporation'], ['be'], ['do'], ['by'], ['the'], ['water'], ['.']]"
      ]
     },
     "execution_count": 38,
     "metadata": {},
     "output_type": "execute_result"
    }
   ],
   "source": [
    "lemmas[:10]"
   ]
  },
  {
   "cell_type": "code",
   "execution_count": 39,
   "metadata": {},
   "outputs": [
    {
     "data": {
      "text/plain": [
       "['DET', 'NOUN', 'AUX', 'VERB', 'ADP', 'DET', 'NOUN', 'PUNCT']"
      ]
     },
     "execution_count": 39,
     "metadata": {},
     "output_type": "execute_result"
    }
   ],
   "source": [
    "pos[:10]"
   ]
  },
  {
   "cell_type": "code",
   "execution_count": 40,
   "metadata": {},
   "outputs": [
    {
     "data": {
      "text/plain": [
       "['DT', 'NN', 'VBD', 'VBN', 'IN', 'DT', 'NN', '.']"
      ]
     },
     "execution_count": 40,
     "metadata": {},
     "output_type": "execute_result"
    }
   ],
   "source": [
    "tag[:10]"
   ]
  },
  {
   "cell_type": "markdown",
   "metadata": {},
   "source": [
    "Para cada oración del texto, detecte los sustantivos."
   ]
  },
  {
   "cell_type": "code",
   "execution_count": 26,
   "metadata": {},
   "outputs": [],
   "source": [
    "file = open('udhr/udhr_eng.txt','r', encoding=\"utf8\")\n",
    "file = file.read()"
   ]
  },
  {
   "cell_type": "markdown",
   "metadata": {},
   "source": [
    "Repita el mismo análisis para el archivo **'udhr_eng.txt'** en la carpeta **udhr**. Agregue la línea:"
   ]
  },
  {
   "cell_type": "code",
   "execution_count": 45,
   "metadata": {},
   "outputs": [
    {
     "ename": "ModuleNotFoundError",
     "evalue": "No module named 'nltk'",
     "output_type": "error",
     "traceback": [
      "\u001b[1;31m---------------------------------------------------------------------------\u001b[0m",
      "\u001b[1;31mModuleNotFoundError\u001b[0m                       Traceback (most recent call last)",
      "\u001b[1;32m~\\AppData\\Local\\Temp/ipykernel_9200/1734127563.py\u001b[0m in \u001b[0;36m<module>\u001b[1;34m\u001b[0m\n\u001b[1;32m----> 1\u001b[1;33m \u001b[1;32mimport\u001b[0m \u001b[0mnltk\u001b[0m\u001b[1;33m\u001b[0m\u001b[1;33m\u001b[0m\u001b[0m\n\u001b[0m",
      "\u001b[1;31mModuleNotFoundError\u001b[0m: No module named 'nltk'"
     ]
    }
   ],
   "source": [
    "import nltk"
   ]
  },
  {
   "cell_type": "code",
   "execution_count": 44,
   "metadata": {},
   "outputs": [
    {
     "ename": "ModuleNotFoundError",
     "evalue": "No module named 'nltk'",
     "output_type": "error",
     "traceback": [
      "\u001b[1;31m---------------------------------------------------------------------------\u001b[0m",
      "\u001b[1;31mModuleNotFoundError\u001b[0m                       Traceback (most recent call last)",
      "\u001b[1;32m~\\AppData\\Local\\Temp/ipykernel_9200/715502373.py\u001b[0m in \u001b[0;36m<module>\u001b[1;34m\u001b[0m\n\u001b[1;32m----> 1\u001b[1;33m \u001b[1;32mimport\u001b[0m \u001b[0mnltk\u001b[0m \u001b[1;32mas\u001b[0m \u001b[0mnltk\u001b[0m\u001b[1;33m\u001b[0m\u001b[1;33m\u001b[0m\u001b[0m\n\u001b[0m\u001b[0;32m      2\u001b[0m \u001b[1;32mfrom\u001b[0m \u001b[0mnltk\u001b[0m\u001b[1;33m.\u001b[0m\u001b[0mcorpus\u001b[0m \u001b[1;32mimport\u001b[0m \u001b[0mwordnet\u001b[0m \u001b[1;32mas\u001b[0m \u001b[0mwn\u001b[0m\u001b[1;33m\u001b[0m\u001b[1;33m\u001b[0m\u001b[0m\n\u001b[0;32m      3\u001b[0m \u001b[1;33m\u001b[0m\u001b[0m\n\u001b[0;32m      4\u001b[0m \u001b[0mlem\u001b[0m \u001b[1;33m=\u001b[0m \u001b[0mwn\u001b[0m\u001b[1;33m.\u001b[0m\u001b[0mlemmas\u001b[0m\u001b[1;33m(\u001b[0m\u001b[1;34m'frustration'\u001b[0m\u001b[1;33m)\u001b[0m\u001b[1;33m\u001b[0m\u001b[1;33m\u001b[0m\u001b[0m\n\u001b[0;32m      5\u001b[0m \u001b[0mprint\u001b[0m\u001b[1;33m(\u001b[0m\u001b[0mlem\u001b[0m\u001b[1;33m)\u001b[0m\u001b[1;33m\u001b[0m\u001b[1;33m\u001b[0m\u001b[0m\n",
      "\u001b[1;31mModuleNotFoundError\u001b[0m: No module named 'nltk'"
     ]
    }
   ],
   "source": [
    "import nltk as nltk\n",
    "from nltk.corpus import wordnet as wn\n",
    "\n",
    "lem = wn.lemmas('frustration')\n",
    "print(lem)"
   ]
  },
  {
   "cell_type": "code",
   "execution_count": null,
   "metadata": {},
   "outputs": [],
   "source": []
  },
  {
   "cell_type": "code",
   "execution_count": null,
   "metadata": {},
   "outputs": [],
   "source": []
  },
  {
   "cell_type": "code",
   "execution_count": 30,
   "metadata": {},
   "outputs": [],
   "source": [
    "## !python -m spacy download en_core_web_sm"
   ]
  },
  {
   "cell_type": "markdown",
   "metadata": {},
   "source": [
    "## B. **ejercicios pandas!**"
   ]
  },
  {
   "cell_type": "code",
   "execution_count": 92,
   "metadata": {},
   "outputs": [],
   "source": [
    "## usemos pandas!\n",
    "\n",
    "import pandas as pd"
   ]
  },
  {
   "cell_type": "code",
   "execution_count": 94,
   "metadata": {},
   "outputs": [],
   "source": [
    "## leamos un archivo csv\n",
    "\n",
    "sources = pd.read_csv('sources_south_america.csv',sep=',')"
   ]
  },
  {
   "cell_type": "code",
   "execution_count": 96,
   "metadata": {},
   "outputs": [
    {
     "data": {
      "text/html": [
       "<div>\n",
       "<style scoped>\n",
       "    .dataframe tbody tr th:only-of-type {\n",
       "        vertical-align: middle;\n",
       "    }\n",
       "\n",
       "    .dataframe tbody tr th {\n",
       "        vertical-align: top;\n",
       "    }\n",
       "\n",
       "    .dataframe thead th {\n",
       "        text-align: right;\n",
       "    }\n",
       "</style>\n",
       "<table border=\"1\" class=\"dataframe\">\n",
       "  <thead>\n",
       "    <tr style=\"text-align: right;\">\n",
       "      <th></th>\n",
       "      <th>Unnamed: 0</th>\n",
       "      <th>languages</th>\n",
       "      <th>name</th>\n",
       "      <th>family</th>\n",
       "      <th>source</th>\n",
       "    </tr>\n",
       "  </thead>\n",
       "  <tbody>\n",
       "    <tr>\n",
       "      <th>0</th>\n",
       "      <td>0</td>\n",
       "      <td>abip1241</td>\n",
       "      <td>Abipon</td>\n",
       "      <td>guai1249</td>\n",
       "      <td>long_grammar</td>\n",
       "    </tr>\n",
       "    <tr>\n",
       "      <th>1</th>\n",
       "      <td>1</td>\n",
       "      <td>acha1250</td>\n",
       "      <td>Achagua</td>\n",
       "      <td>araw1281</td>\n",
       "      <td>grammar</td>\n",
       "    </tr>\n",
       "    <tr>\n",
       "      <th>2</th>\n",
       "      <td>2</td>\n",
       "      <td>achu1248</td>\n",
       "      <td>Achuar-Shiwiar</td>\n",
       "      <td>jiva1245</td>\n",
       "      <td>long_grammar</td>\n",
       "    </tr>\n",
       "    <tr>\n",
       "      <th>3</th>\n",
       "      <td>3</td>\n",
       "      <td>ache1246</td>\n",
       "      <td>Aché</td>\n",
       "      <td>tupi1275</td>\n",
       "      <td>grammar_sketch</td>\n",
       "    </tr>\n",
       "    <tr>\n",
       "      <th>4</th>\n",
       "      <td>4</td>\n",
       "      <td>acro1239</td>\n",
       "      <td>Acroá</td>\n",
       "      <td>nucl1710</td>\n",
       "      <td>wordlist_or_less</td>\n",
       "    </tr>\n",
       "    <tr>\n",
       "      <th>...</th>\n",
       "      <td>...</td>\n",
       "      <td>...</td>\n",
       "      <td>...</td>\n",
       "      <td>...</td>\n",
       "      <td>...</td>\n",
       "    </tr>\n",
       "    <tr>\n",
       "      <th>583</th>\n",
       "      <td>583</td>\n",
       "      <td>yama1264</td>\n",
       "      <td>Yámana</td>\n",
       "      <td>unk</td>\n",
       "      <td>grammar_sketch</td>\n",
       "    </tr>\n",
       "    <tr>\n",
       "      <th>584</th>\n",
       "      <td>584</td>\n",
       "      <td>yano1269</td>\n",
       "      <td>Yãnoma</td>\n",
       "      <td>yano1268</td>\n",
       "      <td>wordlist_or_less</td>\n",
       "    </tr>\n",
       "    <tr>\n",
       "      <th>585</th>\n",
       "      <td>585</td>\n",
       "      <td>zamu1245</td>\n",
       "      <td>Zamuco</td>\n",
       "      <td>zamu1243</td>\n",
       "      <td>grammar_sketch</td>\n",
       "    </tr>\n",
       "    <tr>\n",
       "      <th>586</th>\n",
       "      <td>586</td>\n",
       "      <td>zoee1240</td>\n",
       "      <td>Zo'é</td>\n",
       "      <td>tupi1275</td>\n",
       "      <td>phonology_or_text</td>\n",
       "    </tr>\n",
       "    <tr>\n",
       "      <th>587</th>\n",
       "      <td>587</td>\n",
       "      <td>zapa1253</td>\n",
       "      <td>Záparo</td>\n",
       "      <td>zapa1251</td>\n",
       "      <td>long_grammar</td>\n",
       "    </tr>\n",
       "  </tbody>\n",
       "</table>\n",
       "<p>588 rows × 5 columns</p>\n",
       "</div>"
      ],
      "text/plain": [
       "     Unnamed: 0 languages            name    family             source\n",
       "0             0  abip1241          Abipon  guai1249       long_grammar\n",
       "1             1  acha1250         Achagua  araw1281            grammar\n",
       "2             2  achu1248  Achuar-Shiwiar  jiva1245       long_grammar\n",
       "3             3  ache1246            Aché  tupi1275     grammar_sketch\n",
       "4             4  acro1239           Acroá  nucl1710   wordlist_or_less\n",
       "..          ...       ...             ...       ...                ...\n",
       "583         583  yama1264          Yámana       unk     grammar_sketch\n",
       "584         584  yano1269          Yãnoma  yano1268   wordlist_or_less\n",
       "585         585  zamu1245          Zamuco  zamu1243     grammar_sketch\n",
       "586         586  zoee1240            Zo'é  tupi1275  phonology_or_text\n",
       "587         587  zapa1253          Záparo  zapa1251       long_grammar\n",
       "\n",
       "[588 rows x 5 columns]"
      ]
     },
     "execution_count": 96,
     "metadata": {},
     "output_type": "execute_result"
    }
   ],
   "source": [
    "sources"
   ]
  },
  {
   "cell_type": "code",
   "execution_count": 99,
   "metadata": {},
   "outputs": [
    {
     "data": {
      "text/plain": [
       "['Unnamed: 0', 'languages', 'name', 'family', 'source']"
      ]
     },
     "execution_count": 99,
     "metadata": {},
     "output_type": "execute_result"
    }
   ],
   "source": [
    "## columnas!\n",
    "\n",
    "list(sources.columns)"
   ]
  },
  {
   "cell_type": "code",
   "execution_count": 108,
   "metadata": {},
   "outputs": [],
   "source": [
    "## filtremos algunas columnas!\n",
    "\n",
    "languages_dataframe = sources.drop(columns=['Unnamed: 0','source'])"
   ]
  },
  {
   "cell_type": "code",
   "execution_count": 114,
   "metadata": {},
   "outputs": [
    {
     "data": {
      "text/plain": [
       "Index(['languages', 'name', 'family'], dtype='object')"
      ]
     },
     "execution_count": 114,
     "metadata": {},
     "output_type": "execute_result"
    }
   ],
   "source": [
    "languages_dataframe.columns"
   ]
  },
  {
   "cell_type": "code",
   "execution_count": 110,
   "metadata": {},
   "outputs": [
    {
     "data": {
      "text/html": [
       "<div>\n",
       "<style scoped>\n",
       "    .dataframe tbody tr th:only-of-type {\n",
       "        vertical-align: middle;\n",
       "    }\n",
       "\n",
       "    .dataframe tbody tr th {\n",
       "        vertical-align: top;\n",
       "    }\n",
       "\n",
       "    .dataframe thead th {\n",
       "        text-align: right;\n",
       "    }\n",
       "</style>\n",
       "<table border=\"1\" class=\"dataframe\">\n",
       "  <thead>\n",
       "    <tr style=\"text-align: right;\">\n",
       "      <th></th>\n",
       "      <th>languages</th>\n",
       "      <th>name</th>\n",
       "      <th>family</th>\n",
       "    </tr>\n",
       "  </thead>\n",
       "  <tbody>\n",
       "    <tr>\n",
       "      <th>0</th>\n",
       "      <td>abip1241</td>\n",
       "      <td>Abipon</td>\n",
       "      <td>guai1249</td>\n",
       "    </tr>\n",
       "    <tr>\n",
       "      <th>1</th>\n",
       "      <td>acha1250</td>\n",
       "      <td>Achagua</td>\n",
       "      <td>araw1281</td>\n",
       "    </tr>\n",
       "    <tr>\n",
       "      <th>2</th>\n",
       "      <td>achu1248</td>\n",
       "      <td>Achuar-Shiwiar</td>\n",
       "      <td>jiva1245</td>\n",
       "    </tr>\n",
       "    <tr>\n",
       "      <th>3</th>\n",
       "      <td>ache1246</td>\n",
       "      <td>Aché</td>\n",
       "      <td>tupi1275</td>\n",
       "    </tr>\n",
       "    <tr>\n",
       "      <th>4</th>\n",
       "      <td>acro1239</td>\n",
       "      <td>Acroá</td>\n",
       "      <td>nucl1710</td>\n",
       "    </tr>\n",
       "    <tr>\n",
       "      <th>...</th>\n",
       "      <td>...</td>\n",
       "      <td>...</td>\n",
       "      <td>...</td>\n",
       "    </tr>\n",
       "    <tr>\n",
       "      <th>583</th>\n",
       "      <td>yama1264</td>\n",
       "      <td>Yámana</td>\n",
       "      <td>unk</td>\n",
       "    </tr>\n",
       "    <tr>\n",
       "      <th>584</th>\n",
       "      <td>yano1269</td>\n",
       "      <td>Yãnoma</td>\n",
       "      <td>yano1268</td>\n",
       "    </tr>\n",
       "    <tr>\n",
       "      <th>585</th>\n",
       "      <td>zamu1245</td>\n",
       "      <td>Zamuco</td>\n",
       "      <td>zamu1243</td>\n",
       "    </tr>\n",
       "    <tr>\n",
       "      <th>586</th>\n",
       "      <td>zoee1240</td>\n",
       "      <td>Zo'é</td>\n",
       "      <td>tupi1275</td>\n",
       "    </tr>\n",
       "    <tr>\n",
       "      <th>587</th>\n",
       "      <td>zapa1253</td>\n",
       "      <td>Záparo</td>\n",
       "      <td>zapa1251</td>\n",
       "    </tr>\n",
       "  </tbody>\n",
       "</table>\n",
       "<p>588 rows × 3 columns</p>\n",
       "</div>"
      ],
      "text/plain": [
       "    languages            name    family\n",
       "0    abip1241          Abipon  guai1249\n",
       "1    acha1250         Achagua  araw1281\n",
       "2    achu1248  Achuar-Shiwiar  jiva1245\n",
       "3    ache1246            Aché  tupi1275\n",
       "4    acro1239           Acroá  nucl1710\n",
       "..        ...             ...       ...\n",
       "583  yama1264          Yámana       unk\n",
       "584  yano1269          Yãnoma  yano1268\n",
       "585  zamu1245          Zamuco  zamu1243\n",
       "586  zoee1240            Zo'é  tupi1275\n",
       "587  zapa1253          Záparo  zapa1251\n",
       "\n",
       "[588 rows x 3 columns]"
      ]
     },
     "execution_count": 110,
     "metadata": {},
     "output_type": "execute_result"
    }
   ],
   "source": [
    "languages_dataframe"
   ]
  },
  {
   "cell_type": "markdown",
   "metadata": {},
   "source": [
    "Algunas preguntas:\n",
    "    \n",
    "1. Construya un diccionario que tenga como keys los códigos glottocode, y como values los nombres de las lenguas.\n",
    "2. Construya otro diccionario que tenga como keys los códigos glottocode, y como values las familias de las lenguas.\n",
    "3. Determine todas las familias lingüísticas documentadas. Filtre el dataframe **languages** para alguna familia. \n",
    "4. Cuente el número de lenguas de cada familia.\n",
    "5. Construya el diccionario {familia:[lengua1,lengua2,...],...}"
   ]
  },
  {
   "cell_type": "code",
   "execution_count": 103,
   "metadata": {},
   "outputs": [],
   "source": [
    "glottocode_name = {}"
   ]
  },
  {
   "cell_type": "code",
   "execution_count": 111,
   "metadata": {},
   "outputs": [
    {
     "data": {
      "text/plain": [
       "0      abip1241\n",
       "1      acha1250\n",
       "2      achu1248\n",
       "3      ache1246\n",
       "4      acro1239\n",
       "         ...   \n",
       "583    yama1264\n",
       "584    yano1269\n",
       "585    zamu1245\n",
       "586    zoee1240\n",
       "587    zapa1253\n",
       "Name: languages, Length: 588, dtype: object"
      ]
     },
     "execution_count": 111,
     "metadata": {},
     "output_type": "execute_result"
    }
   ],
   "source": [
    "languages_dataframe['languages']"
   ]
  },
  {
   "cell_type": "code",
   "execution_count": 115,
   "metadata": {},
   "outputs": [],
   "source": [
    "lenguas = list(languages_dataframe['languages'])"
   ]
  },
  {
   "cell_type": "code",
   "execution_count": 116,
   "metadata": {},
   "outputs": [
    {
     "data": {
      "text/plain": [
       "588"
      ]
     },
     "execution_count": 116,
     "metadata": {},
     "output_type": "execute_result"
    }
   ],
   "source": [
    "len(lenguas)"
   ]
  },
  {
   "cell_type": "code",
   "execution_count": 117,
   "metadata": {},
   "outputs": [
    {
     "data": {
      "text/plain": [
       "['abip1241',\n",
       " 'acha1250',\n",
       " 'achu1248',\n",
       " 'ache1246',\n",
       " 'acro1239',\n",
       " 'abis1238',\n",
       " 'agua1253',\n",
       " 'aika1237',\n",
       " 'ajyi1238',\n",
       " 'akaw1239']"
      ]
     },
     "execution_count": 117,
     "metadata": {},
     "output_type": "execute_result"
    }
   ],
   "source": [
    "lenguas[:10]"
   ]
  },
  {
   "cell_type": "code",
   "execution_count": 118,
   "metadata": {},
   "outputs": [],
   "source": [
    "nombres = list(languages_dataframe['name'])"
   ]
  },
  {
   "cell_type": "code",
   "execution_count": 119,
   "metadata": {},
   "outputs": [
    {
     "data": {
      "text/plain": [
       "588"
      ]
     },
     "execution_count": 119,
     "metadata": {},
     "output_type": "execute_result"
    }
   ],
   "source": [
    "len(nombres)"
   ]
  },
  {
   "cell_type": "code",
   "execution_count": 120,
   "metadata": {},
   "outputs": [
    {
     "data": {
      "text/plain": [
       "['Abipon',\n",
       " 'Achagua',\n",
       " 'Achuar-Shiwiar',\n",
       " 'Aché',\n",
       " 'Acroá',\n",
       " 'Aewa',\n",
       " 'Aguaruna',\n",
       " 'Aikanã',\n",
       " 'Ajyíninka Apurucayali',\n",
       " 'Akawaio-Ingariko']"
      ]
     },
     "execution_count": 120,
     "metadata": {},
     "output_type": "execute_result"
    }
   ],
   "source": [
    "nombres[:10]"
   ]
  },
  {
   "cell_type": "code",
   "execution_count": 121,
   "metadata": {},
   "outputs": [],
   "source": [
    "for i in range(len(nombres)):\n",
    "    name = nombres[i]\n",
    "    codigo = lenguas[i]\n",
    "    glottocode_name[codigo]=name"
   ]
  },
  {
   "cell_type": "code",
   "execution_count": 127,
   "metadata": {},
   "outputs": [
    {
     "data": {
      "text/plain": [
       "'Mapudungun'"
      ]
     },
     "execution_count": 127,
     "metadata": {},
     "output_type": "execute_result"
    }
   ],
   "source": [
    "glottocode_name['mapu1245']"
   ]
  },
  {
   "cell_type": "code",
   "execution_count": 123,
   "metadata": {},
   "outputs": [],
   "source": [
    "familia = list(languages_dataframe['family'])"
   ]
  },
  {
   "cell_type": "code",
   "execution_count": 124,
   "metadata": {},
   "outputs": [
    {
     "data": {
      "text/plain": [
       "['guai1249',\n",
       " 'araw1281',\n",
       " 'jiva1245',\n",
       " 'tupi1275',\n",
       " 'nucl1710',\n",
       " 'unk',\n",
       " 'jiva1245',\n",
       " 'unk',\n",
       " 'araw1281',\n",
       " 'cari1283']"
      ]
     },
     "execution_count": 124,
     "metadata": {},
     "output_type": "execute_result"
    }
   ],
   "source": [
    "familia[:10]"
   ]
  },
  {
   "cell_type": "code",
   "execution_count": 125,
   "metadata": {},
   "outputs": [],
   "source": [
    "glottocode_familia = {}\n",
    "\n",
    "for i in range(len(nombres)):\n",
    "    fam = familia[i]\n",
    "    codigo = lenguas[i]\n",
    "    glottocode_familia[codigo]=fam"
   ]
  },
  {
   "cell_type": "code",
   "execution_count": 128,
   "metadata": {},
   "outputs": [
    {
     "data": {
      "text/plain": [
       "'arau1255'"
      ]
     },
     "execution_count": 128,
     "metadata": {},
     "output_type": "execute_result"
    }
   ],
   "source": [
    "glottocode_familia['mapu1245']"
   ]
  },
  {
   "cell_type": "code",
   "execution_count": 133,
   "metadata": {},
   "outputs": [],
   "source": [
    "glottocode_familia = dict(zip(languages_dataframe['languages'],languages_dataframe['family']))"
   ]
  },
  {
   "cell_type": "code",
   "execution_count": 134,
   "metadata": {},
   "outputs": [
    {
     "data": {
      "text/plain": [
       "{'abip1241': 'guai1249',\n",
       " 'acha1250': 'araw1281',\n",
       " 'achu1248': 'jiva1245',\n",
       " 'ache1246': 'tupi1275',\n",
       " 'acro1239': 'nucl1710',\n",
       " 'abis1238': 'unk',\n",
       " 'agua1253': 'jiva1245',\n",
       " 'aika1237': 'unk',\n",
       " 'ajyi1238': 'araw1281',\n",
       " 'akaw1239': 'cari1283',\n",
       " 'akun1241': 'tupi1275',\n",
       " 'akur1238': 'cari1283',\n",
       " 'alac1239': 'kawe1237',\n",
       " 'alac1240': 'kawe1237',\n",
       " 'alle1238': 'huar1251',\n",
       " 'amah1246': 'pano1259',\n",
       " 'aman1266': 'tupi1275',\n",
       " 'amar1274': 'hara1260',\n",
       " 'ambo1252': 'quec1387',\n",
       " 'amun1246': 'tupi1275',\n",
       " 'anam1249': 'tupi1275',\n",
       " 'anau1243': 'araw1281',\n",
       " 'anda1286': 'unk',\n",
       " 'ando1255': 'zapa1251',\n",
       " 'ando1256': 'unk',\n",
       " 'ando1254': 'huit1251',\n",
       " 'anga1316': 'leng1261',\n",
       " 'ango1257': 'chib1249',\n",
       " 'anse1238': 'choc1280',\n",
       " 'anti1242': 'chib1249',\n",
       " 'apal1257': 'cari1283',\n",
       " 'apia1247': 'cari1283',\n",
       " 'apia1248': 'tupi1275',\n",
       " 'apin1244': 'nucl1710',\n",
       " 'apol1242': 'araw1281',\n",
       " 'apur1254': 'araw1281',\n",
       " 'arab1268': 'zapa1251',\n",
       " 'arai1239': 'araw1281',\n",
       " 'arao1248': 'pano1259',\n",
       " 'arap1275': 'tuca1253',\n",
       " 'araw1273': 'tupi1275',\n",
       " 'araz1236': 'pano1259',\n",
       " 'areq1237': 'quec1387',\n",
       " 'arge1236': 'sign1238',\n",
       " 'arhu1242': 'chib1249',\n",
       " 'arik1265': 'nucl1710',\n",
       " 'arik1264': 'tupi1275',\n",
       " 'aroa1234': 'unk',\n",
       " 'arua1264': 'araw1281',\n",
       " 'arut1244': 'unk',\n",
       " 'arua1263': 'araw1282',\n",
       " 'arua1261': 'tupi1275',\n",
       " 'asha1243': 'araw1281',\n",
       " 'ashe1273': 'araw1281',\n",
       " 'ashe1272': 'araw1281',\n",
       " 'atac1235': 'unk',\n",
       " 'ator1244': 'araw1281',\n",
       " 'atsa1242': 'pano1259',\n",
       " 'ndyu1242': 'indo1319',\n",
       " 'aura1243': 'tupi1275',\n",
       " 'aush1242': 'zapa1251',\n",
       " 'avac1239': 'tupi1275',\n",
       " 'awac1239': 'barb1265',\n",
       " 'awet1244': 'tupi1275',\n",
       " 'ayac1239': 'quec1387',\n",
       " 'ayor1240': 'zamu1243',\n",
       " 'baka1277': 'cari1283',\n",
       " 'guar1293': 'araw1281',\n",
       " 'bani1255': 'araw1281',\n",
       " 'bara1380': 'tuca1253',\n",
       " 'barr1251': 'chib1249',\n",
       " 'bare1276': 'araw1281',\n",
       " 'bari1297': 'chib1249',\n",
       " 'baur1253': 'araw1281',\n",
       " 'berb1259': 'indo1319',\n",
       " 'beto1236': 'unk',\n",
       " 'chim1302': 'quec1387',\n",
       " 'boli1236': 'sign1238',\n",
       " 'bona1255': 'cari1283',\n",
       " 'bora1263': 'bora1262',\n",
       " 'bord1248': 'chib1249',\n",
       " 'boro1282': 'boro1281',\n",
       " 'braz1236': 'sign1238',\n",
       " 'cabi1241': 'araw1281',\n",
       " 'cafu1238': 'indo1319',\n",
       " 'cahu1268': 'zapa1251',\n",
       " 'caja1238': 'quec1387',\n",
       " 'caja1239': 'quec1387',\n",
       " 'cald1236': 'quec1387',\n",
       " 'cams1241': 'unk',\n",
       " 'cana1260': 'barb1265',\n",
       " 'cand1248': 'unk',\n",
       " 'cane1242': 'nucl1710',\n",
       " 'cani1243': 'unk',\n",
       " 'capa1241': 'pano1259',\n",
       " 'capo1236': 'nucl1710',\n",
       " 'arub1238': 'uncl1493',\n",
       " 'caqu1242': 'araw1281',\n",
       " 'cara1271': 'choc1280',\n",
       " 'cara1272': 'tuca1253',\n",
       " 'cara1273': 'unk',\n",
       " 'cari1280': 'araw1281',\n",
       " 'cari1275': 'indo1319',\n",
       " 'cari1276': 'aust1307',\n",
       " 'cari1279': 'cari1283',\n",
       " 'cash1251': 'pano1259',\n",
       " 'cash1254': 'pano1259',\n",
       " 'cash1253': 'pano1259',\n",
       " 'cauq1239': 'ayma1253',\n",
       " 'cavi1250': 'pano1259',\n",
       " 'cayu1262': 'unk',\n",
       " 'cana1262': 'quec1387',\n",
       " 'cent2142': 'ayma1253',\n",
       " 'cent2150': 'chib1249',\n",
       " 'chac1249': 'barb1265',\n",
       " 'chac1250': 'quec1387',\n",
       " 'chai1253': 'cari1283',\n",
       " 'cham1315': 'zamu1243',\n",
       " 'cham1318': 'araw1281',\n",
       " 'chan1296': 'char1238',\n",
       " 'chap1269': 'chap1271',\n",
       " 'char1240': 'char1238',\n",
       " 'chib1270': 'chib1249',\n",
       " 'chil1264': 'sign1238',\n",
       " 'chim1309': 'chib1249',\n",
       " 'chin1483': 'quec1387',\n",
       " 'chip1262': 'uruc1242',\n",
       " 'chiq1249': 'quec1387',\n",
       " 'chir1286': 'tupi1275',\n",
       " 'chir1294': 'pano1259',\n",
       " 'chol1284': 'hibi1242',\n",
       " 'chon1248': 'unk',\n",
       " 'chac1251': 'pano1259',\n",
       " 'cint1239': 'tupi1275',\n",
       " 'clas1251': 'quec1387',\n",
       " 'coca1259': 'tupi1275',\n",
       " 'coer1236': 'huit1251',\n",
       " 'cofa1242': 'unk',\n",
       " 'cogu1240': 'chib1249',\n",
       " 'inga1252': 'quec1387',\n",
       " 'colo1249': 'sign1238',\n",
       " 'colo1254': 'indo1319',\n",
       " 'coro1249': 'puri1261',\n",
       " 'coro1247': 'quec1387',\n",
       " 'coto1237': 'kama1371',\n",
       " 'cube1242': 'tuca1253',\n",
       " 'cuib1242': 'guah1252',\n",
       " 'culi1244': 'araw1282',\n",
       " 'cull1235': 'unk',\n",
       " 'cuma1240': 'cari1283',\n",
       " 'curr1243': 'araw1281',\n",
       " 'cusc1236': 'quec1387',\n",
       " 'demu1235': 'pano1259',\n",
       " 'deni1241': 'araw1282',\n",
       " 'desa1247': 'tuca1253',\n",
       " 'djeo1235': 'nucl1710',\n",
       " 'duit1239': 'chib1249',\n",
       " 'daww1239': 'nada1235',\n",
       " 'east2551': 'quec1387',\n",
       " 'east2555': 'tupi1275',\n",
       " 'ecua1243': 'sign1238',\n",
       " 'embe1259': 'choc1280',\n",
       " 'embe1260': 'choc1280',\n",
       " 'embe1262': 'choc1280',\n",
       " 'embe1261': 'choc1280',\n",
       " 'enaw1238': 'araw1281',\n",
       " 'epen1239': 'choc1280',\n",
       " 'esee1248': 'pano1259',\n",
       " 'fuln1247': 'unk',\n",
       " 'gali1262': 'cari1283',\n",
       " 'gavi1246': 'tupi1275',\n",
       " 'geic1236': 'nucl1710',\n",
       " 'guac1239': 'unk',\n",
       " 'guah1255': 'guah1252',\n",
       " 'guaj1256': 'tupi1275',\n",
       " 'guam1248': 'barb1265',\n",
       " 'guam1236': 'unk',\n",
       " 'guan1268': 'leng1261',\n",
       " 'guar1292': 'tupi1275',\n",
       " 'guat1253': 'unk',\n",
       " 'guay1257': 'guah1252',\n",
       " 'guer1242': 'nucl1710',\n",
       " 'guia1246': 'indo1319',\n",
       " 'guin1258': 'araw1281',\n",
       " 'creo1235': 'indo1319',\n",
       " 'guen1235': 'char1238',\n",
       " 'haus1240': 'chon1288',\n",
       " 'hibi1243': 'hibi1242',\n",
       " 'hixk1239': 'cari1283',\n",
       " 'yuwa1244': 'jodi1234',\n",
       " 'huac1244': 'hara1260',\n",
       " 'hual1241': 'quec1387',\n",
       " 'huam1248': 'quec1387',\n",
       " 'huam1247': 'jiva1245',\n",
       " 'yauy1235': 'quec1387',\n",
       " 'huay1240': 'quec1387',\n",
       " 'huay1241': 'quec1387',\n",
       " 'huil1244': 'arau1255',\n",
       " 'riog1239': 'indo1319',\n",
       " 'hupd1244': 'nada1235',\n",
       " 'igna1246': 'araw1281',\n",
       " 'ikpe1245': 'cari1283',\n",
       " 'imba1240': 'quec1387',\n",
       " 'inga1254': 'nucl1710',\n",
       " 'inma1234': 'sign1238',\n",
       " 'iqui1243': 'zapa1251',\n",
       " 'iran1263': 'unk',\n",
       " 'isco1239': 'pano1259',\n",
       " 'iten1243': 'chap1271',\n",
       " 'iton1250': 'unk',\n",
       " 'iyow1239': 'mata1289',\n",
       " 'iyoj1235': 'mata1289',\n",
       " 'inap1243': 'araw1281',\n",
       " 'japr1238': 'cari1283',\n",
       " 'jaqa1244': 'ayma1253',\n",
       " 'jauj1238': 'quec1387',\n",
       " 'jebe1250': 'cahu1265',\n",
       " 'jira1235': 'unk',\n",
       " 'jora1240': 'tupi1275',\n",
       " 'juma1250': 'araw1281',\n",
       " 'juri1235': 'ticu1244',\n",
       " 'juru1256': 'tupi1275',\n",
       " 'juma1249': 'tupi1275',\n",
       " 'kadi1248': 'guai1249',\n",
       " 'kain1272': 'nucl1710',\n",
       " 'kais1242': 'araw1281',\n",
       " 'kaiw1246': 'tupi1275',\n",
       " 'cacu1241': 'kaku1242',\n",
       " 'kama1372': 'kama1371',\n",
       " 'kama1373': 'tupi1275',\n",
       " 'kank1244': 'chib1249',\n",
       " 'kano1245': 'unk',\n",
       " 'kara1500': 'nucl1710',\n",
       " 'kari1312': 'pano1259',\n",
       " 'kari1317': 'tupi1275',\n",
       " 'kari1254': 'unk',\n",
       " 'kari1311': 'tupi1275',\n",
       " 'karo1305': 'tupi1275',\n",
       " 'kata1270': 'katu1274',\n",
       " 'kana1291': 'katu1274',\n",
       " 'kaxa1239': 'pano1259',\n",
       " 'kaxu1237': 'cari1283',\n",
       " 'kaya1329': 'tupi1275',\n",
       " 'kaya1330': 'nucl1710',\n",
       " 'kepk1241': 'tupi1275',\n",
       " 'kimd1235': 'nucl1710',\n",
       " 'kite1237': 'chap1271',\n",
       " 'kore1283': 'tuca1253',\n",
       " 'coro1248': 'nucl1710',\n",
       " 'koru1247': 'pano1259',\n",
       " 'guan1269': 'tuca1253',\n",
       " 'kren1239': 'nucl1710',\n",
       " 'cure1236': 'tuca1253',\n",
       " 'kuik1246': 'cari1283',\n",
       " 'kuli1255': 'pano1259',\n",
       " 'kunz1244': 'unk',\n",
       " 'kuru1309': 'tupi1275',\n",
       " 'kust1238': 'araw1281',\n",
       " 'kuyu1236': 'chap1271',\n",
       " 'kwaz1243': 'unk',\n",
       " 'kwin1243': 'indo1319',\n",
       " 'lako1248': 'namb1299',\n",
       " 'lamb1276': 'quec1387',\n",
       " 'latu1238': 'namb1299',\n",
       " 'leco1242': 'unk',\n",
       " 'tupi1274': 'tupi1275',\n",
       " 'loja1235': 'quec1387',\n",
       " 'araw1276': 'araw1281',\n",
       " 'chiq1248': 'unk',\n",
       " 'lule1238': 'unk',\n",
       " 'mabe1235': 'pano1259',\n",
       " 'maca1260': 'mata1289',\n",
       " 'maca1261': 'tuca1253',\n",
       " 'maca1259': 'guah1252',\n",
       " 'mach1267': 'araw1281',\n",
       " 'mach1268': 'araw1281',\n",
       " 'maco1239': 'jodi1234',\n",
       " 'macu1260': 'tuca1253',\n",
       " 'macu1258': 'nucl1710',\n",
       " 'macu1259': 'cari1283',\n",
       " 'jama1261': 'araw1282',\n",
       " 'orej1242': 'tuca1253',\n",
       " 'maip1247': 'unk',\n",
       " 'maku1278': 'tupi1275',\n",
       " 'mala1432': 'nucl1710',\n",
       " 'mala1522': 'chib1249',\n",
       " 'mama1278': 'namb1299',\n",
       " 'mana1299': 'araw1281',\n",
       " 'mand1448': 'araw1281',\n",
       " 'mapi1252': 'araw1281',\n",
       " 'mapo1246': 'cari1283',\n",
       " 'mapu1245': 'arau1255',\n",
       " 'mara1409': 'araw1281',\n",
       " 'marg1254': 'quec1387',\n",
       " 'mari1442': 'tupi1275',\n",
       " 'maru1252': 'pano1259',\n",
       " 'masa1311': 'kama1371',\n",
       " 'mash1270': 'araw1281',\n",
       " 'mata1275': 'unk',\n",
       " 'mati1253': 'cari1283',\n",
       " 'mato1253': 'unk',\n",
       " 'mats1244': 'pano1259',\n",
       " 'mati1255': 'pano1259',\n",
       " 'maxa1247': 'nucl1710',\n",
       " 'mayo1271': 'pano1259',\n",
       " 'mayo1270': 'pano1259',\n",
       " 'mayo1272': 'pano1259',\n",
       " 'mbya1239': 'tupi1275',\n",
       " 'mehi1240': 'araw1281',\n",
       " 'saki1248': 'tupi1275',\n",
       " 'meni1247': 'kama1371',\n",
       " 'mepu1234': 'unk',\n",
       " 'sanm1288': 'unk',\n",
       " 'mill1237': 'huar1251',\n",
       " 'mini1256': 'huit1251',\n",
       " 'miri1270': 'tuca1253',\n",
       " 'moch1259': 'unk',\n",
       " 'moco1246': 'guai1249',\n",
       " 'mori1273': 'araw1281',\n",
       " 'mose1249': 'unk',\n",
       " 'movi1243': 'unk',\n",
       " 'muin1242': 'bora1262',\n",
       " 'mund1330': 'tupi1275',\n",
       " 'muni1258': 'unk',\n",
       " 'mure1235': 'unk',\n",
       " 'muru1274': 'huit1251',\n",
       " 'maku1246': 'unk',\n",
       " 'nade1244': 'nada1235',\n",
       " 'nant1250': 'araw1281',\n",
       " 'nape1237': 'chap1271',\n",
       " 'napo1242': 'quec1387',\n",
       " 'nawa1239': 'pano1259',\n",
       " 'nhen1239': 'tupi1275',\n",
       " 'nina1238': 'yano1268',\n",
       " 'niva1238': 'mata1289',\n",
       " 'noma1263': 'araw1281',\n",
       " 'nonu1241': 'huit1251',\n",
       " 'nort2976': 'quec1387',\n",
       " 'nort2980': 'quec1387',\n",
       " 'krey1238': 'nucl1710',\n",
       " 'nort2979': 'quec1387',\n",
       " 'nort2972': 'choc1280',\n",
       " 'nort2971': 'leng1261',\n",
       " 'nort2973': 'quec1387',\n",
       " 'nuka1242': 'kaku1242',\n",
       " 'nuku1263': 'pano1259',\n",
       " 'nupo1240': 'huit1251',\n",
       " 'ocai1244': 'huit1251',\n",
       " 'ofay1240': 'nucl1710',\n",
       " 'omag1248': 'tupi1275',\n",
       " 'omur1241': 'unk',\n",
       " 'opon1234': 'cari1283',\n",
       " 'orow1243': 'chap1271',\n",
       " 'otii1244': 'unk',\n",
       " 'otom1301': 'otom1276',\n",
       " 'otuk1240': 'boro1281',\n",
       " 'paca1246': 'pano1259',\n",
       " 'paca1245': 'quec1387',\n",
       " 'pait1247': 'tupi1275',\n",
       " 'pale1260': 'indo1319',\n",
       " 'pali1279': 'araw1281',\n",
       " 'palm1241': 'cari1283',\n",
       " 'pana1306': 'quec1387',\n",
       " 'enap1235': 'cari1283',\n",
       " 'pana1307': 'nucl1710',\n",
       " 'pank1250': 'unk',\n",
       " 'pano1254': 'pano1259',\n",
       " 'pano1255': 'pano1259',\n",
       " 'papi1253': 'indo1319',\n",
       " 'para1311': 'tupi1275',\n",
       " 'para1318': 'sign1238',\n",
       " 'para1312': 'tupi1275',\n",
       " 'para1313': 'tupi1275',\n",
       " 'para1324': 'unk',\n",
       " 'para1316': 'araw1281',\n",
       " 'para1309': 'cari1283',\n",
       " 'pare1272': 'araw1281',\n",
       " 'para1310': 'cari1283',\n",
       " 'para1315': 'nucl1710',\n",
       " 'pass1250': 'araw1281',\n",
       " 'pata1262': 'cari1283',\n",
       " 'pata1261': 'nucl1710',\n",
       " 'paum1247': 'araw1282',\n",
       " 'paun1241': 'araw1281',\n",
       " 'paux1235': 'cari1283',\n",
       " 'paux1236': 'cari1283',\n",
       " 'paya1236': 'unk',\n",
       " 'peba1243': 'peba1241',\n",
       " 'pemo1248': 'cari1283',\n",
       " 'lore1243': 'indo1319',\n",
       " 'peru1235': 'sign1238',\n",
       " 'piap1246': 'araw1281',\n",
       " 'piar1243': 'jodi1234',\n",
       " 'pich1237': 'araw1281',\n",
       " 'pila1245': 'guai1249',\n",
       " 'pime1237': 'cari1283',\n",
       " 'pira1253': 'unk',\n",
       " 'pisa1245': 'tuca1253',\n",
       " 'play1240': 'guah1252',\n",
       " 'poya1241': 'pano1259',\n",
       " 'puel1244': 'unk',\n",
       " 'puin1248': 'unk',\n",
       " 'pume1238': 'unk',\n",
       " 'puno1238': 'quec1387',\n",
       " 'puqu1242': 'unk',\n",
       " 'puri1262': 'puri1261',\n",
       " 'puru1264': 'tupi1275',\n",
       " 'paez1247': 'unk',\n",
       " 'pemo1245': 'cari1283',\n",
       " 'qawa1238': 'kawe1237',\n",
       " 'rama1271': 'unk',\n",
       " 'remo1250': 'pano1259',\n",
       " 'remo1249': 'pano1259',\n",
       " 'remo1248': 'pano1259',\n",
       " 'resi1247': 'araw1281',\n",
       " 'reye1240': 'pano1259',\n",
       " 'rikb1245': 'nucl1710',\n",
       " 'roco1235': 'chap1271',\n",
       " 'saba1268': 'namb1299',\n",
       " 'sala1273': 'tupi1275',\n",
       " 'sanb1242': 'chib1249',\n",
       " 'sanm1289': 'quec1387',\n",
       " 'sana1298': 'leng1261',\n",
       " 'sant1433': 'quec1387',\n",
       " 'sant1432': 'quec1387',\n",
       " 'sanu1240': 'yano1268',\n",
       " 'sapa1254': 'cari1283',\n",
       " 'sape1238': 'unk',\n",
       " 'sara1340': 'indo1319',\n",
       " 'sara1331': 'araw1281',\n",
       " 'sate1243': 'tupi1275',\n",
       " 'sech1236': 'unk',\n",
       " 'seco1241': 'tuca1253',\n",
       " 'onaa1245': 'chon1288',\n",
       " 'sens1242': 'pano1259',\n",
       " 'shan1283': 'pano1259',\n",
       " 'shar1245': 'pano1259',\n",
       " 'chay1248': 'cahu1265',\n",
       " 'sheb1234': 'unk',\n",
       " 'ship1254': 'pano1259',\n",
       " 'shua1257': 'jiva1245',\n",
       " 'sihu1235': 'quec1387',\n",
       " 'sion1247': 'tuca1253',\n",
       " 'siri1274': 'tuca1253',\n",
       " 'siri1273': 'tupi1275',\n",
       " 'sivi1235': 'sign1238',\n",
       " 'skep1238': 'indo1319',\n",
       " 'sout2991': 'quec1387',\n",
       " 'sout3127': 'araw1281',\n",
       " 'sout2996': 'ayma1253',\n",
       " 'sout2992': 'quec1387',\n",
       " 'sout2989': 'leng1261',\n",
       " 'sout2994': 'namb1299',\n",
       " 'sout2990': 'quec1387',\n",
       " 'sran1240': 'indo1319',\n",
       " 'suru1263': 'araw1282',\n",
       " 'suru1262': 'tupi1275',\n",
       " 'suru1261': 'tupi1275',\n",
       " 'suya1243': 'nucl1710',\n",
       " 'sali1298': 'jodi1234',\n",
       " 'saop1235': 'nucl1710',\n",
       " 'taca1256': 'pano1259',\n",
       " 'tacu1234': 'tupi1275',\n",
       " 'tall1235': 'unk',\n",
       " 'tama1340': 'tuca1253',\n",
       " 'tama1338': 'cari1283',\n",
       " 'tani1257': 'tuca1253',\n",
       " 'tapa1262': 'otom1276',\n",
       " 'tapi1253': 'tupi1275',\n",
       " 'tapi1254': 'tupi1275',\n",
       " 'tari1256': 'araw1281',\n",
       " 'taru1236': 'unk',\n",
       " 'tatu1247': 'tuca1253',\n",
       " 'taus1253': 'unk',\n",
       " 'tawa1278': 'namb1299',\n",
       " 'tehu1242': 'chon1288',\n",
       " 'emer1243': 'tupi1275',\n",
       " 'tena1240': 'quec1387',\n",
       " 'temb1276': 'tupi1275',\n",
       " 'tenh1241': 'tupi1275',\n",
       " 'tere1279': 'araw1281',\n",
       " 'teus1236': 'chon1288',\n",
       " 'ticu1245': 'ticu1244',\n",
       " 'timo1237': 'unk',\n",
       " 'tini1245': 'unk',\n",
       " 'tive1236': 'cari1283',\n",
       " 'toba1269': 'guai1249',\n",
       " 'toba1268': 'leng1261',\n",
       " 'toba1282': 'unk',\n",
       " 'toca1235': 'tupi1275',\n",
       " 'toro1255': 'pano1259',\n",
       " 'tora1263': 'chap1271',\n",
       " 'toto1306': 'barb1265',\n",
       " 'trin1277': 'unk',\n",
       " 'trin1276': 'unk',\n",
       " 'trin1274': 'araw1281',\n",
       " 'trio1238': 'cari1283',\n",
       " 'trum1247': 'unk',\n",
       " 'colo1256': 'barb1265',\n",
       " 'tuca1252': 'tuca1253',\n",
       " 'sala1272': 'quec1387',\n",
       " 'tupa1250': 'tupi1275',\n",
       " 'tupi1273': 'tupi1275',\n",
       " 'turi1247': 'tupi1275',\n",
       " 'tuxi1238': 'pano1259',\n",
       " 'tuxa1239': 'unk',\n",
       " 'tuyu1244': 'tuca1253',\n",
       " 'uain1239': 'araw1281',\n",
       " 'kari1301': 'indo1319',\n",
       " 'ucay1237': 'araw1281',\n",
       " 'uiri1238': 'araw1281',\n",
       " 'umot1240': 'boro1281',\n",
       " 'urar1246': 'unk',\n",
       " 'uruu1244': 'uruc1242',\n",
       " 'urue1240': 'tupi1275',\n",
       " 'urub1250': 'tupi1275',\n",
       " 'urub1243': 'sign1238',\n",
       " 'urug1238': 'sign1238',\n",
       " 'urum1250': 'tupi1275',\n",
       " 'urup1245': 'chap1271',\n",
       " 'vene1237': 'sign1238',\n",
       " 'vile1241': 'unk',\n",
       " 'pira1254': 'tuca1253',\n",
       " 'waim1255': 'tuca1253',\n",
       " 'waim1253': 'cari1283',\n",
       " 'waiw1244': 'cari1283',\n",
       " 'wany1246': 'chap1271',\n",
       " 'waor1240': 'unk',\n",
       " 'wapi1253': 'araw1281',\n",
       " 'wara1303': 'unk',\n",
       " 'ware1255': 'araw1281',\n",
       " 'wari1268': 'chap1271',\n",
       " 'paus1244': 'tupi1275',\n",
       " 'waur1244': 'araw1281',\n",
       " 'waya1270': 'tupi1275',\n",
       " 'waya1269': 'cari1283',\n",
       " 'wayo1238': 'tupi1275',\n",
       " 'wayu1242': 'cari1283',\n",
       " 'wayu1243': 'araw1281',\n",
       " 'west2640': 'tupi1275',\n",
       " 'west2651': 'chib1249',\n",
       " 'wich1264': 'mata1289',\n",
       " 'wich1262': 'mata1289',\n",
       " 'wich1263': 'mata1289',\n",
       " 'wira1264': 'tupi1275',\n",
       " 'woun1238': 'choc1280',\n",
       " 'xakr1238': 'nucl1710',\n",
       " 'xava1240': 'nucl1710',\n",
       " 'xere1240': 'nucl1710',\n",
       " 'xeta1241': 'tupi1275',\n",
       " 'xing1248': 'tupi1275',\n",
       " 'xipa1240': 'tupi1275',\n",
       " 'xiri1243': 'araw1281',\n",
       " 'xokl1240': 'nucl1710',\n",
       " 'xuku1239': 'unk',\n",
       " 'yaba1248': 'cari1283',\n",
       " 'yaba1249': 'araw1281',\n",
       " 'yagu1244': 'peba1241',\n",
       " 'yahu1241': 'tuca1253',\n",
       " 'yaoa1239': 'cari1283',\n",
       " 'yame1242': 'peba1241',\n",
       " 'yami1256': 'pano1259',\n",
       " 'yana1272': 'quec1387',\n",
       " 'yane1238': 'araw1281',\n",
       " 'yano1261': 'yano1268',\n",
       " 'yano1262': 'yano1268',\n",
       " 'yaro1235': 'yano1268',\n",
       " 'yaru1257': 'chap1271',\n",
       " 'yaru1255': 'cari1283',\n",
       " 'yavi1244': 'araw1281',\n",
       " 'yawa1261': 'araw1281',\n",
       " 'yawa1260': 'pano1259',\n",
       " 'maqu1238': 'cari1283',\n",
       " 'yine1238': 'araw1281',\n",
       " 'yora1241': 'pano1259',\n",
       " 'yucu1253': 'araw1281',\n",
       " 'yuhu1238': 'nada1235',\n",
       " 'yukp1241': 'cari1283',\n",
       " 'jupu1235': 'tuca1253',\n",
       " 'yuqu1240': 'tupi1275',\n",
       " 'yura1255': 'unk',\n",
       " 'yuru1243': 'unk',\n",
       " 'yuru1263': 'tuca1253',\n",
       " 'yama1264': 'unk',\n",
       " 'yano1269': 'yano1268',\n",
       " 'zamu1245': 'zamu1243',\n",
       " 'zoee1240': 'tupi1275',\n",
       " 'zapa1253': 'zapa1251'}"
      ]
     },
     "execution_count": 134,
     "metadata": {},
     "output_type": "execute_result"
    }
   ],
   "source": [
    "glottocode_familia"
   ]
  },
  {
   "cell_type": "code",
   "execution_count": 136,
   "metadata": {},
   "outputs": [],
   "source": [
    "## analizar familias\n",
    "\n",
    "familias_unicas = []\n",
    "\n",
    "for fam in familia:\n",
    "    if fam not in familias_unicas:\n",
    "        familias_unicas+=[fam]"
   ]
  },
  {
   "cell_type": "code",
   "execution_count": 137,
   "metadata": {},
   "outputs": [
    {
     "data": {
      "text/plain": [
       "48"
      ]
     },
     "execution_count": 137,
     "metadata": {},
     "output_type": "execute_result"
    }
   ],
   "source": [
    "len(familias_unicas)"
   ]
  },
  {
   "cell_type": "code",
   "execution_count": 139,
   "metadata": {},
   "outputs": [],
   "source": [
    "familias_unicas = list(set(familia))"
   ]
  },
  {
   "cell_type": "code",
   "execution_count": 140,
   "metadata": {},
   "outputs": [
    {
     "data": {
      "text/plain": [
       "['indo1319',\n",
       " 'jodi1234',\n",
       " 'huar1251',\n",
       " 'choc1280',\n",
       " 'araw1281',\n",
       " 'chap1271',\n",
       " 'kawe1237',\n",
       " 'ticu1244',\n",
       " 'hara1260',\n",
       " 'huit1251',\n",
       " 'zapa1251',\n",
       " 'unk',\n",
       " 'sign1238',\n",
       " 'nucl1710',\n",
       " 'tupi1275',\n",
       " 'uruc1242',\n",
       " 'leng1261',\n",
       " 'barb1265',\n",
       " 'guah1252',\n",
       " 'tuca1253',\n",
       " 'char1238',\n",
       " 'puri1261',\n",
       " 'quec1387',\n",
       " 'chib1249',\n",
       " 'ayma1253',\n",
       " 'guai1249',\n",
       " 'otom1276',\n",
       " 'peba1241',\n",
       " 'pano1259',\n",
       " 'jiva1245',\n",
       " 'boro1281',\n",
       " 'namb1299',\n",
       " 'arau1255',\n",
       " 'cahu1265',\n",
       " 'uncl1493',\n",
       " 'araw1282',\n",
       " 'hibi1242',\n",
       " 'chon1288',\n",
       " 'yano1268',\n",
       " 'mata1289',\n",
       " 'nada1235',\n",
       " 'kaku1242',\n",
       " 'aust1307',\n",
       " 'bora1262',\n",
       " 'kama1371',\n",
       " 'cari1283',\n",
       " 'zamu1243',\n",
       " 'katu1274']"
      ]
     },
     "execution_count": 140,
     "metadata": {},
     "output_type": "execute_result"
    }
   ],
   "source": [
    "familias_unicas"
   ]
  },
  {
   "cell_type": "code",
   "execution_count": 141,
   "metadata": {},
   "outputs": [
    {
     "data": {
      "text/html": [
       "<div>\n",
       "<style scoped>\n",
       "    .dataframe tbody tr th:only-of-type {\n",
       "        vertical-align: middle;\n",
       "    }\n",
       "\n",
       "    .dataframe tbody tr th {\n",
       "        vertical-align: top;\n",
       "    }\n",
       "\n",
       "    .dataframe thead th {\n",
       "        text-align: right;\n",
       "    }\n",
       "</style>\n",
       "<table border=\"1\" class=\"dataframe\">\n",
       "  <thead>\n",
       "    <tr style=\"text-align: right;\">\n",
       "      <th></th>\n",
       "      <th>languages</th>\n",
       "      <th>name</th>\n",
       "      <th>family</th>\n",
       "    </tr>\n",
       "  </thead>\n",
       "  <tbody>\n",
       "    <tr>\n",
       "      <th>186</th>\n",
       "      <td>haus1240</td>\n",
       "      <td>Haush</td>\n",
       "      <td>chon1288</td>\n",
       "    </tr>\n",
       "    <tr>\n",
       "      <th>433</th>\n",
       "      <td>onaa1245</td>\n",
       "      <td>Selk'nam</td>\n",
       "      <td>chon1288</td>\n",
       "    </tr>\n",
       "    <tr>\n",
       "      <th>475</th>\n",
       "      <td>tehu1242</td>\n",
       "      <td>Tehuelche</td>\n",
       "      <td>chon1288</td>\n",
       "    </tr>\n",
       "    <tr>\n",
       "      <th>481</th>\n",
       "      <td>teus1236</td>\n",
       "      <td>Teushen</td>\n",
       "      <td>chon1288</td>\n",
       "    </tr>\n",
       "  </tbody>\n",
       "</table>\n",
       "</div>"
      ],
      "text/plain": [
       "    languages       name    family\n",
       "186  haus1240      Haush  chon1288\n",
       "433  onaa1245   Selk'nam  chon1288\n",
       "475  tehu1242  Tehuelche  chon1288\n",
       "481  teus1236    Teushen  chon1288"
      ]
     },
     "execution_count": 141,
     "metadata": {},
     "output_type": "execute_result"
    }
   ],
   "source": [
    "fam = 'chon1288'\n",
    "\n",
    "languages_dataframe[languages_dataframe['family']==fam]"
   ]
  },
  {
   "cell_type": "code",
   "execution_count": 147,
   "metadata": {},
   "outputs": [],
   "source": [
    "diccionario_familias = {}\n",
    "\n",
    "for fam in familias_unicas:\n",
    "    D = languages_dataframe[languages_dataframe['family']==fam]\n",
    "    lenguas = list(D['languages'])\n",
    "    diccionario_familias[fam]=lenguas"
   ]
  },
  {
   "cell_type": "code",
   "execution_count": 148,
   "metadata": {},
   "outputs": [
    {
     "data": {
      "text/plain": [
       "['haus1240', 'onaa1245', 'tehu1242', 'teus1236']"
      ]
     },
     "execution_count": 148,
     "metadata": {},
     "output_type": "execute_result"
    }
   ],
   "source": [
    "diccionario_familias['chon1288']"
   ]
  },
  {
   "cell_type": "code",
   "execution_count": null,
   "metadata": {},
   "outputs": [],
   "source": []
  }
 ],
 "metadata": {
  "kernelspec": {
   "display_name": "Python 3 (ipykernel)",
   "language": "python",
   "name": "python3"
  },
  "language_info": {
   "codemirror_mode": {
    "name": "ipython",
    "version": 3
   },
   "file_extension": ".py",
   "mimetype": "text/x-python",
   "name": "python",
   "nbconvert_exporter": "python",
   "pygments_lexer": "ipython3",
   "version": "3.9.7"
  }
 },
 "nbformat": 4,
 "nbformat_minor": 4
}
