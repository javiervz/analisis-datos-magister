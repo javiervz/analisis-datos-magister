{
 "cells": [
  {
   "cell_type": "markdown",
   "id": "1b2eb120",
   "metadata": {},
   "source": [
    "## Ejercicios"
   ]
  },
  {
   "cell_type": "markdown",
   "id": "8e162dc3",
   "metadata": {},
   "source": [
    "### 1. Uso de listas"
   ]
  },
  {
   "cell_type": "code",
   "execution_count": 1,
   "id": "2d06790f",
   "metadata": {},
   "outputs": [],
   "source": [
    "## considere el siguiente string\n",
    "## (recuerden que los strings están entre '' o entre \"\". A veces, es cómodo usar \"\" cuando el string lleva ')\n",
    "\n",
    "string = \"Los selk'nam u onas son un pueblo amerindio que hasta principios del siglo XX vivía en el norte y centro de la isla Grande de Tierra del Fuego, en el extremo austral del continente americano, en Argentina y Chile. Originalmente eran nómadas terrestres, cazadores y recolectores. Luego de un genocidio a principios del siglo XX y un proceso de transculturación que operó por más de un siglo, los selknam que continúan viviendo en la porción argentina de la isla se encuentran aculturados por completo.\""
   ]
  },
  {
   "cell_type": "code",
   "execution_count": 2,
   "id": "220ba640",
   "metadata": {},
   "outputs": [],
   "source": [
    "## el primer desafío es dividir este string en palabras ¿Cómo hacemos eso? :)\n",
    "## manera 1: pruebe qué ocurre con el siguiente código\n",
    "\n",
    "lista_strings = string.split()"
   ]
  },
  {
   "cell_type": "code",
   "execution_count": 3,
   "id": "a1ff537f",
   "metadata": {},
   "outputs": [
    {
     "data": {
      "text/plain": [
       "['Los',\n",
       " \"selk'nam\",\n",
       " 'u',\n",
       " 'onas',\n",
       " 'son',\n",
       " 'un',\n",
       " 'pueblo',\n",
       " 'amerindio',\n",
       " 'que',\n",
       " 'hasta']"
      ]
     },
     "execution_count": 3,
     "metadata": {},
     "output_type": "execute_result"
    }
   ],
   "source": [
    "lista_strings[:10]"
   ]
  },
  {
   "cell_type": "code",
   "execution_count": 4,
   "id": "0ff6f149",
   "metadata": {},
   "outputs": [],
   "source": [
    "## responda: ¿Qué hace .split() al final de un string?"
   ]
  },
  {
   "cell_type": "code",
   "execution_count": 5,
   "id": "8e696d6d",
   "metadata": {},
   "outputs": [],
   "source": [
    "## determine ahora el número de palabras del texto\n",
    "## por el momento, la variable numero_palabras vale 0. Usted debe reasignarla al valor correspondiente\n",
    "numero_palabras = 0"
   ]
  },
  {
   "cell_type": "code",
   "execution_count": 6,
   "id": "e4de09b0",
   "metadata": {},
   "outputs": [],
   "source": [
    "numero_palabras = len(lista_strings)"
   ]
  },
  {
   "cell_type": "code",
   "execution_count": 7,
   "id": "e9202470",
   "metadata": {},
   "outputs": [
    {
     "data": {
      "text/plain": [
       "84"
      ]
     },
     "execution_count": 7,
     "metadata": {},
     "output_type": "execute_result"
    }
   ],
   "source": [
    "numero_palabras"
   ]
  },
  {
   "cell_type": "code",
   "execution_count": 8,
   "id": "b2bc4af6",
   "metadata": {},
   "outputs": [],
   "source": [
    "## definamos otra lista, que llamamos texto_copia\n",
    "\n",
    "texto_copia = []"
   ]
  },
  {
   "cell_type": "code",
   "execution_count": 9,
   "id": "ff53825f",
   "metadata": {},
   "outputs": [
    {
     "data": {
      "text/plain": [
       "0"
      ]
     },
     "execution_count": 9,
     "metadata": {},
     "output_type": "execute_result"
    }
   ],
   "source": [
    "len(texto_copia)"
   ]
  },
  {
   "cell_type": "code",
   "execution_count": 10,
   "id": "7df59d8f",
   "metadata": {},
   "outputs": [],
   "source": [
    "for item in lista_strings:\n",
    "    texto_copia = texto_copia + [item]\n",
    "    #texto_copia += [item]"
   ]
  },
  {
   "cell_type": "code",
   "execution_count": 11,
   "id": "5a0853ff",
   "metadata": {},
   "outputs": [
    {
     "data": {
      "text/plain": [
       "['Los',\n",
       " \"selk'nam\",\n",
       " 'u',\n",
       " 'onas',\n",
       " 'son',\n",
       " 'un',\n",
       " 'pueblo',\n",
       " 'amerindio',\n",
       " 'que',\n",
       " 'hasta']"
      ]
     },
     "execution_count": 11,
     "metadata": {},
     "output_type": "execute_result"
    }
   ],
   "source": [
    "texto_copia[:10]"
   ]
  },
  {
   "cell_type": "code",
   "execution_count": 12,
   "id": "969bc1af",
   "metadata": {},
   "outputs": [],
   "source": [
    "## su tarea es copiar cada palabra de lista_strings en texto_copia. Use un ciclo for :)"
   ]
  },
  {
   "cell_type": "code",
   "execution_count": 13,
   "id": "b1cf8797",
   "metadata": {},
   "outputs": [],
   "source": [
    "## cuente el número de elementos de texto_copia: ¿Coincide con el largo de lista_strings?"
   ]
  },
  {
   "cell_type": "code",
   "execution_count": 14,
   "id": "73e9af4d",
   "metadata": {},
   "outputs": [
    {
     "data": {
      "text/plain": [
       "84"
      ]
     },
     "execution_count": 14,
     "metadata": {},
     "output_type": "execute_result"
    }
   ],
   "source": [
    "len(lista_strings)"
   ]
  },
  {
   "cell_type": "code",
   "execution_count": 15,
   "id": "f15baebd",
   "metadata": {},
   "outputs": [
    {
     "data": {
      "text/plain": [
       "84"
      ]
     },
     "execution_count": 15,
     "metadata": {},
     "output_type": "execute_result"
    }
   ],
   "source": [
    "len(texto_copia)"
   ]
  },
  {
   "cell_type": "markdown",
   "id": "0a96fd34",
   "metadata": {},
   "source": [
    "### 2. Palabras en minúscula"
   ]
  },
  {
   "cell_type": "code",
   "execution_count": 16,
   "id": "6b4db192",
   "metadata": {},
   "outputs": [],
   "source": [
    "## ¿Qué ocurre con el siguiente código?\n",
    "\n",
    "palabra = 'Lingüística'\n",
    "\n",
    "palabra_min = palabra.lower()"
   ]
  },
  {
   "cell_type": "code",
   "execution_count": 17,
   "id": "e2503739",
   "metadata": {},
   "outputs": [
    {
     "data": {
      "text/plain": [
       "'lingüística'"
      ]
     },
     "execution_count": 17,
     "metadata": {},
     "output_type": "execute_result"
    }
   ],
   "source": [
    "palabra_min"
   ]
  },
  {
   "cell_type": "code",
   "execution_count": 18,
   "id": "c81f6129",
   "metadata": {},
   "outputs": [],
   "source": [
    "## la tarea es: defina una nueva lista, que llamaremos lista_strings_min"
   ]
  },
  {
   "cell_type": "code",
   "execution_count": 19,
   "id": "2f396066",
   "metadata": {},
   "outputs": [],
   "source": [
    "lista_strings_min = []"
   ]
  },
  {
   "cell_type": "code",
   "execution_count": 20,
   "id": "2b9b2345",
   "metadata": {},
   "outputs": [],
   "source": [
    "for palabra in lista_strings:\n",
    "    palabra_min = palabra.lower()\n",
    "    lista_strings_min = lista_strings_min + [palabra_min] "
   ]
  },
  {
   "cell_type": "code",
   "execution_count": 21,
   "id": "696c5017",
   "metadata": {},
   "outputs": [],
   "source": [
    "#for palabra in lista_strings:\n",
    "#    lista_strings_min = lista_strings_min + [palabra.lower()] "
   ]
  },
  {
   "cell_type": "code",
   "execution_count": 22,
   "id": "f0cfe40a",
   "metadata": {},
   "outputs": [
    {
     "data": {
      "text/plain": [
       "['los',\n",
       " \"selk'nam\",\n",
       " 'u',\n",
       " 'onas',\n",
       " 'son',\n",
       " 'un',\n",
       " 'pueblo',\n",
       " 'amerindio',\n",
       " 'que',\n",
       " 'hasta']"
      ]
     },
     "execution_count": 22,
     "metadata": {},
     "output_type": "execute_result"
    }
   ],
   "source": [
    "lista_strings_min[:10]"
   ]
  },
  {
   "cell_type": "code",
   "execution_count": 23,
   "id": "d68dede9",
   "metadata": {},
   "outputs": [],
   "source": [
    "## que contenga las palabras en minúscula de lista_strings. Use un ciclo for"
   ]
  },
  {
   "cell_type": "markdown",
   "id": "8211816e",
   "metadata": {},
   "source": [
    "### 3. Contemos cuántas veces aparece una palabra"
   ]
  },
  {
   "cell_type": "code",
   "execution_count": 24,
   "id": "bfe4214e",
   "metadata": {},
   "outputs": [],
   "source": [
    "## considere ahora la lista con las palabras en minúscula lista_strings_min. La idea es contar cuántas\n",
    "## veces aparece una palabra de su elección. Eligamos la palabra \"el\""
   ]
  },
  {
   "cell_type": "code",
   "execution_count": 25,
   "id": "06deaed8",
   "metadata": {},
   "outputs": [],
   "source": [
    "palabra = 'y'"
   ]
  },
  {
   "cell_type": "code",
   "execution_count": 26,
   "id": "b8c32432",
   "metadata": {},
   "outputs": [],
   "source": [
    "## definamos una variable donde guardamos el número de veces que aparece"
   ]
  },
  {
   "cell_type": "code",
   "execution_count": 27,
   "id": "72532d0b",
   "metadata": {},
   "outputs": [],
   "source": [
    "numero_veces_palabra = 0"
   ]
  },
  {
   "cell_type": "code",
   "execution_count": 28,
   "id": "d2d5fae3",
   "metadata": {},
   "outputs": [
    {
     "data": {
      "text/plain": [
       "0"
      ]
     },
     "execution_count": 28,
     "metadata": {},
     "output_type": "execute_result"
    }
   ],
   "source": [
    "numero_veces_palabra"
   ]
  },
  {
   "cell_type": "code",
   "execution_count": 29,
   "id": "2ab68a2d",
   "metadata": {},
   "outputs": [],
   "source": [
    "## la idea detrás de esto es la siguiente: ya sabemos que con un ciclo for podemos recorrer las palabras de\n",
    "## lista_strings_min. En cada paso, debemos detectar si el elemento de la lista es igual a \"palabra\".\n",
    "## ¿Cómo hacemos eso?"
   ]
  },
  {
   "cell_type": "code",
   "execution_count": 30,
   "id": "cccc2225",
   "metadata": {},
   "outputs": [],
   "source": [
    "## para resolver este problema, necesitamos una condición lógica: Si el elemento es igual a \"palabra\",\n",
    "## sumamos 1 a numero_veces_palabra; si no, no pasa nada, y continuamos con el elemento siguiente.\n",
    "## esta condición lógica se expresa a través del operador \"if\". "
   ]
  },
  {
   "cell_type": "code",
   "execution_count": 31,
   "id": "420b94f7",
   "metadata": {},
   "outputs": [],
   "source": [
    "## un ejemplo\n",
    "A = [1,2,3]"
   ]
  },
  {
   "cell_type": "code",
   "execution_count": 32,
   "id": "ba4a1f81",
   "metadata": {},
   "outputs": [
    {
     "data": {
      "text/plain": [
       "[1, 2, 3]"
      ]
     },
     "execution_count": 32,
     "metadata": {},
     "output_type": "execute_result"
    }
   ],
   "source": [
    "A"
   ]
  },
  {
   "cell_type": "code",
   "execution_count": 33,
   "id": "49514754",
   "metadata": {},
   "outputs": [],
   "source": [
    "## si queremos guardar en otra lista, B, los elementos de A que son mayores a 2, usamos"
   ]
  },
  {
   "cell_type": "code",
   "execution_count": 34,
   "id": "5c22204d",
   "metadata": {},
   "outputs": [],
   "source": [
    "B = []\n",
    "for numero in A:\n",
    "    if numero>2:\n",
    "        B = B + [numero]\n",
    "        #B += [numero]\n",
    "        #B.append(numero)"
   ]
  },
  {
   "cell_type": "code",
   "execution_count": 35,
   "id": "ef60319f",
   "metadata": {},
   "outputs": [
    {
     "data": {
      "text/plain": [
       "[3]"
      ]
     },
     "execution_count": 35,
     "metadata": {},
     "output_type": "execute_result"
    }
   ],
   "source": [
    "B"
   ]
  },
  {
   "cell_type": "code",
   "execution_count": 36,
   "id": "f88d3696",
   "metadata": {},
   "outputs": [],
   "source": [
    "## explique este código. Con esto, resuelva el problema de contar cuántas veces aparece una palabra. "
   ]
  },
  {
   "cell_type": "code",
   "execution_count": 37,
   "id": "4d30061c",
   "metadata": {},
   "outputs": [],
   "source": [
    "for item in lista_strings_min:\n",
    "    if item == palabra:\n",
    "        numero_veces_palabra = numero_veces_palabra + 1 "
   ]
  },
  {
   "cell_type": "code",
   "execution_count": 38,
   "id": "8c89f649",
   "metadata": {},
   "outputs": [
    {
     "data": {
      "text/plain": [
       "4"
      ]
     },
     "execution_count": 38,
     "metadata": {},
     "output_type": "execute_result"
    }
   ],
   "source": [
    "numero_veces_palabra"
   ]
  },
  {
   "cell_type": "code",
   "execution_count": 39,
   "id": "983e3641",
   "metadata": {},
   "outputs": [],
   "source": [
    "lista_y = []\n",
    "\n",
    "for item in lista_strings_min:\n",
    "    if item == palabra:\n",
    "        lista_y = lista_y + [item]"
   ]
  },
  {
   "cell_type": "code",
   "execution_count": 40,
   "id": "c2734690",
   "metadata": {},
   "outputs": [
    {
     "data": {
      "text/plain": [
       "4"
      ]
     },
     "execution_count": 40,
     "metadata": {},
     "output_type": "execute_result"
    }
   ],
   "source": [
    "len(lista_y)"
   ]
  },
  {
   "cell_type": "markdown",
   "id": "34d7958d",
   "metadata": {},
   "source": [
    "### 4. Funciones en **Python**"
   ]
  },
  {
   "cell_type": "code",
   "execution_count": 41,
   "id": "0bb6e43f",
   "metadata": {},
   "outputs": [],
   "source": [
    "## a partir de la lista string, puede ser útil crear una rutina que sea replicable en otro lado. Es bueno \n",
    "## pensar en rutinas (pedazos de código) que se ocupan muchas veces. Un buen ejemplo de esto es partir con un \n",
    "## string entre  ' ' y terminar con una lista de palabras en mínúscula. "
   ]
  },
  {
   "cell_type": "code",
   "execution_count": 42,
   "id": "3ead3353",
   "metadata": {},
   "outputs": [
    {
     "data": {
      "text/plain": [
       "\"Los selk'nam u onas son un pueblo amerindio que hasta principios del siglo XX vivía en el norte y centro de la isla Grande de Tierra del Fuego, en el extremo austral del continente americano, en Argentina y Chile. Originalmente eran nómadas terrestres, cazadores y recolectores. Luego de un genocidio a principios del siglo XX y un proceso de transculturación que operó por más de un siglo, los selknam que continúan viviendo en la porción argentina de la isla se encuentran aculturados por completo.\""
      ]
     },
     "execution_count": 42,
     "metadata": {},
     "output_type": "execute_result"
    }
   ],
   "source": [
    "## sabemos que string es:\n",
    "\n",
    "string"
   ]
  },
  {
   "cell_type": "code",
   "execution_count": 43,
   "id": "dc802c6f",
   "metadata": {},
   "outputs": [],
   "source": [
    "## si queremos crear una lista de palabras en minúscula, usamos\n",
    "## creamos una lista vacia\n",
    "palabras_min = []\n",
    "## dividimos entre espacios en blanco\n",
    "lista_palabras = string.split(' ')"
   ]
  },
  {
   "cell_type": "code",
   "execution_count": 44,
   "id": "2aab3e83",
   "metadata": {},
   "outputs": [],
   "source": [
    "## recorremos con un ciclo for las palabras de lista_palabras\n",
    "for palabra in lista_palabras:\n",
    "    ## en cada iteración, podemos las palabras en minúscula\n",
    "    palabras_min+=[palabra.lower()]"
   ]
  },
  {
   "cell_type": "code",
   "execution_count": 45,
   "id": "6214ec50",
   "metadata": {},
   "outputs": [],
   "source": [
    "## si juntamos todo, queda: \n",
    "\n",
    "## creamos una lista vacia\n",
    "palabras_min = []\n",
    "## dividimos entre espacios en blanco\n",
    "lista_palabras = string.split(' ')\n",
    "## recorremos con un ciclo for las palabras de lista_palabras\n",
    "for palabra in lista_palabras:\n",
    "    ## en cada iteración, podemos las palabras en minúscula\n",
    "    palabras_min+=[palabra.lower()]"
   ]
  },
  {
   "cell_type": "code",
   "execution_count": 46,
   "id": "fd1a1702",
   "metadata": {},
   "outputs": [],
   "source": [
    "## ahora, ¿qué pasa si tenemos otro string y queremos hacer lo mismo pero sin escribir todas estas\n",
    "## instrucciones?\n",
    "\n",
    "def minusculas(S):\n",
    "    ## creamos una lista vacia\n",
    "    palabras_min = []\n",
    "    ## dividimos entre espacios en blanco\n",
    "    lista_palabras = S.split(' ')\n",
    "    ## recorremos con un ciclo for las palabras de lista_palabras\n",
    "    for palabra in lista_palabras:\n",
    "        ## en cada iteración, podemos las palabras en minúscula\n",
    "        palabras_min+=[palabra.lower()]\n",
    "    return palabras_min"
   ]
  },
  {
   "cell_type": "code",
   "execution_count": 47,
   "id": "48667ca7",
   "metadata": {},
   "outputs": [
    {
     "data": {
      "text/plain": [
       "['los',\n",
       " \"selk'nam\",\n",
       " 'u',\n",
       " 'onas',\n",
       " 'son',\n",
       " 'un',\n",
       " 'pueblo',\n",
       " 'amerindio',\n",
       " 'que',\n",
       " 'hasta']"
      ]
     },
     "execution_count": 47,
     "metadata": {},
     "output_type": "execute_result"
    }
   ],
   "source": [
    "minusculas(string)[:10]"
   ]
  },
  {
   "cell_type": "code",
   "execution_count": 48,
   "id": "aec5b2a2",
   "metadata": {},
   "outputs": [],
   "source": [
    "## ahora, el desafío es similar a lo visto en la clase 2: cree una función que identifique las palabras\n",
    "## únicas de un string S\n",
    "\n",
    "## input: string S\n",
    "## output: lista de palabras unicas (lista_palabras_unicas)\n",
    "def palabras_unicas(S):\n",
    "    ## código aquí :)\n",
    "    return lista_palabras_unicas"
   ]
  },
  {
   "cell_type": "code",
   "execution_count": 49,
   "id": "c14c95c1",
   "metadata": {},
   "outputs": [],
   "source": [
    "## otra versión de lo mismo! Construya una función que haga lo mismo de palabras_unicas, usando un ciclo\n",
    "## for de una dimensión. \n",
    "\n",
    "## input: string S\n",
    "## output: lista de palabras unicas (lista_palabras_unicas)\n",
    "def palabras_unicas_una_dim(S):\n",
    "    ## código aquí :)\n",
    "    return lista_palabras_unicas"
   ]
  },
  {
   "cell_type": "code",
   "execution_count": 50,
   "id": "e1b2b722",
   "metadata": {},
   "outputs": [],
   "source": [
    "## ya sabemos cómo construir una función que identifica las palabras únicas: ¿Podremos identificar las\n",
    "## palabras que aparecen dos veces? Construya una función que resuelva este problema.\n",
    "\n",
    "## input: string S\n",
    "## output: lista de palabras unicas (lista_palabras_unicas)\n",
    "def palabras_dos_veces(S):\n",
    "    ## código aquí :)\n",
    "    return lista_palabras_dos"
   ]
  },
  {
   "cell_type": "code",
   "execution_count": 51,
   "id": "edaf7b17",
   "metadata": {},
   "outputs": [],
   "source": [
    "## otra extensión de la función anterior: construya una función que reciba un string y entregue un diccionario\n",
    "## con las palabras únicas como keys; y las frecuencias respectivad como values. \n",
    "\n",
    "## input: string S\n",
    "## output: diccionario de frecuencias de la forma {palabra:frecuencia ...}\n",
    "def frecuencia_palabras(S):\n",
    "    ## código aquí :)\n",
    "    return diccionario_frecuencias"
   ]
  },
  {
   "cell_type": "code",
   "execution_count": 52,
   "id": "f07ffc0b",
   "metadata": {},
   "outputs": [],
   "source": [
    "## las funciones pueden recibir varios inputs. Construya una función que reciba dos listas S y P, y entregue\n",
    "## las palabras contenidas en S que no están en P. Por ejemplo, si S = ['hola, chao'] y P = ['hola, gato'] debemos\n",
    "## identificar la lista ['chao']\n",
    "\n",
    "## inputs: listas S y P\n",
    "## output: lista de palabras que están en S, pero no en P\n",
    "def not_lista(S,P):\n",
    "    ## código aquí!\n",
    "    return lista_S_not_P"
   ]
  },
  {
   "cell_type": "code",
   "execution_count": 53,
   "id": "69b5cb93",
   "metadata": {},
   "outputs": [],
   "source": [
    "## algo parecido a la función anterior. Construya una función que reciba dos listas S y P, y entregue\n",
    "## las palabras contenidas en S y en P. Por ejemplo, si S = ['hola', 'chao'] y P = ['hola', 'gato'] debemos\n",
    "## identificar la lista ['hola']\n",
    "\n",
    "## inputs: listas S y P\n",
    "## output: lista de palabras que están en S, pero no en P\n",
    "def and_lista(S,P):\n",
    "    ## código aquí!\n",
    "    return lista_S_and_P"
   ]
  },
  {
   "cell_type": "code",
   "execution_count": 54,
   "id": "703ab158",
   "metadata": {},
   "outputs": [],
   "source": [
    "## diccionarios!!! Construya una función que reciba una lista de strings, y entregue un diccionario de la \n",
    "## forma {palabra:[palabra_posterior1,...]}, donde \"palabra\" es cada palabra única de la lista, y la lista\n",
    "## [palabra_posterior1,...] es una lista de las palabras que siguen a \"palabra\" a lo largo del texto.\n",
    "## Por ejemplo, si S = ['el','gato','persigue','al','perro','y','el','gato','se','llama','sustantivo'] \n",
    "## {'gato':['persigue','se']}\n",
    "\n",
    "## inputs: lista de strings S \n",
    "## output: diccionario de la forma {palabra:[palabra_posterior1,...]}\n",
    "def palabras_siguientes(S):\n",
    "    ## código aquí!\n",
    "    return diccionario_palabras_siguientes"
   ]
  },
  {
   "cell_type": "code",
   "execution_count": null,
   "id": "6b90e176",
   "metadata": {},
   "outputs": [],
   "source": []
  }
 ],
 "metadata": {
  "kernelspec": {
   "display_name": "conda_python3",
   "language": "python",
   "name": "conda_python3"
  },
  "language_info": {
   "codemirror_mode": {
    "name": "ipython",
    "version": 3
   },
   "file_extension": ".py",
   "mimetype": "text/x-python",
   "name": "python",
   "nbconvert_exporter": "python",
   "pygments_lexer": "ipython3",
   "version": "3.6.13"
  }
 },
 "nbformat": 4,
 "nbformat_minor": 5
}
