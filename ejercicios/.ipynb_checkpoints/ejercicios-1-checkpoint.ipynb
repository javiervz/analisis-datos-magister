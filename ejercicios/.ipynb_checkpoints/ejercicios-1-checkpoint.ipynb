{
 "cells": [
  {
   "cell_type": "markdown",
   "id": "c44596b2",
   "metadata": {},
   "source": [
    "## Ejercicios"
   ]
  },
  {
   "cell_type": "markdown",
   "id": "164bf29f",
   "metadata": {},
   "source": [
    "### 1. Uso de listas"
   ]
  },
  {
   "cell_type": "code",
   "execution_count": 1,
   "id": "92ac0687",
   "metadata": {},
   "outputs": [],
   "source": [
    "## considere el siguiente string\n",
    "## (recuerden que los strings están entre '' o entre \"\". A veces, es cómodo usar \"\" cuando el string lleva ')\n",
    "\n",
    "string = \"Los selk'nam u onas son un pueblo amerindio que hasta principios del siglo XX vivía en el norte y centro de la isla Grande de Tierra del Fuego, en el extremo austral del continente americano, en Argentina y Chile. Originalmente eran nómadas terrestres, cazadores y recolectores. Luego de un genocidio a principios del siglo XX y un proceso de transculturación que operó por más de un siglo, los selknam que continúan viviendo en la porción argentina de la isla se encuentran aculturados por completo.\""
   ]
  },
  {
   "cell_type": "code",
   "execution_count": 2,
   "id": "b94bb667",
   "metadata": {},
   "outputs": [],
   "source": [
    "## el primer desafío es dividir este string en palabras ¿Cómo hacemos eso? :)\n",
    "## manera 1: pruebe qué ocurre con el siguiente código\n",
    "\n",
    "lista_strings = string.split()"
   ]
  },
  {
   "cell_type": "code",
   "execution_count": 3,
   "id": "74a64a5b",
   "metadata": {},
   "outputs": [],
   "source": [
    "## responda: ¿Qué hace .split() al final de un string?"
   ]
  },
  {
   "cell_type": "code",
   "execution_count": 4,
   "id": "5011ad27",
   "metadata": {},
   "outputs": [],
   "source": [
    "## determine ahora el número de palabras del texto\n",
    "## por el momento, la variable numero_palabras vale 0. Usted debe reasignarla al valor correspondiente\n",
    "numero_palabras = 0"
   ]
  },
  {
   "cell_type": "code",
   "execution_count": 5,
   "id": "da96962b",
   "metadata": {},
   "outputs": [],
   "source": [
    "## definamos otra lista, que llamamos texto_copia\n",
    "\n",
    "texto_copia = []"
   ]
  },
  {
   "cell_type": "code",
   "execution_count": 6,
   "id": "e7f29ad6",
   "metadata": {},
   "outputs": [],
   "source": [
    "## su tarea es copiar cada palabra de lista_strings en texto_copia. Use un ciclo for :)"
   ]
  },
  {
   "cell_type": "code",
   "execution_count": 7,
   "id": "94534fdc",
   "metadata": {},
   "outputs": [],
   "source": [
    "## cuente el número de elementos de texto_copia: ¿Coincide con el largo de lista_strings?"
   ]
  },
  {
   "cell_type": "markdown",
   "id": "d249c018",
   "metadata": {},
   "source": [
    "### 2. Palabras en minúscula"
   ]
  },
  {
   "cell_type": "code",
   "execution_count": 8,
   "id": "73f3375a",
   "metadata": {},
   "outputs": [],
   "source": [
    "## ¿Qué ocurre con el siguiente código?\n",
    "\n",
    "palabra = 'Lingüística'\n",
    "\n",
    "palabra_min = palabra.lower()"
   ]
  },
  {
   "cell_type": "code",
   "execution_count": 9,
   "id": "974f5c0b",
   "metadata": {},
   "outputs": [
    {
     "data": {
      "text/plain": [
       "'lingüística'"
      ]
     },
     "execution_count": 9,
     "metadata": {},
     "output_type": "execute_result"
    }
   ],
   "source": [
    "palabra_min"
   ]
  },
  {
   "cell_type": "code",
   "execution_count": 10,
   "id": "05d621bd",
   "metadata": {},
   "outputs": [],
   "source": [
    "## la tarea es: defina una nueva lista, que llamaremos lista_strings_min"
   ]
  },
  {
   "cell_type": "code",
   "execution_count": 11,
   "id": "987e4faa",
   "metadata": {},
   "outputs": [],
   "source": [
    "lista_strings_min = []"
   ]
  },
  {
   "cell_type": "code",
   "execution_count": 12,
   "id": "15c57fd1",
   "metadata": {},
   "outputs": [],
   "source": [
    "## que contenga las palabras en minúscula de lista_strings. Use un ciclo for"
   ]
  },
  {
   "cell_type": "markdown",
   "id": "ef6157fa",
   "metadata": {},
   "source": [
    "### 3. Contemos cuántas veces aparece una palabra"
   ]
  },
  {
   "cell_type": "code",
   "execution_count": 13,
   "id": "f48cf4fa",
   "metadata": {},
   "outputs": [],
   "source": [
    "## considere ahora la lista con las palabras en minúscula lista_strings_min. La idea es contar cuántas\n",
    "## veces aparece una palabra de su elección. Eligamos la palabra \"el\""
   ]
  },
  {
   "cell_type": "code",
   "execution_count": 14,
   "id": "735ea000",
   "metadata": {},
   "outputs": [],
   "source": [
    "palabra = 'el'"
   ]
  },
  {
   "cell_type": "code",
   "execution_count": 15,
   "id": "43bbc210",
   "metadata": {},
   "outputs": [],
   "source": [
    "## definamos una variable donde guardamos el número de veces que aparece"
   ]
  },
  {
   "cell_type": "code",
   "execution_count": 16,
   "id": "68b27ded",
   "metadata": {},
   "outputs": [],
   "source": [
    "numero_veces_palabra = 0"
   ]
  },
  {
   "cell_type": "code",
   "execution_count": 17,
   "id": "fe2aa813",
   "metadata": {},
   "outputs": [],
   "source": [
    "## la idea detrás de esto es la siguiente: ya sabemos que con un ciclo for podemos recorrer las palabras de\n",
    "## lista_strings_min. En cada paso, debemos detectar si el elemento de la lista es igual a \"palabra\".\n",
    "## ¿Cómo hacemos eso?"
   ]
  },
  {
   "cell_type": "code",
   "execution_count": 18,
   "id": "baa35488",
   "metadata": {},
   "outputs": [],
   "source": [
    "## para resolver este problema, necesitamos una condición lógica: Si el elemento es igual a \"palabra\",\n",
    "## sumamos 1 a numero_veces_palabra; si no, no pasa nada, y continuamos con el elemento siguiente.\n",
    "## esta condición lógica se expresa a través del operador \"if\". "
   ]
  },
  {
   "cell_type": "code",
   "execution_count": 19,
   "id": "36d9cd2c",
   "metadata": {},
   "outputs": [],
   "source": [
    "## un ejemplo\n",
    "A = [1,2,3]"
   ]
  },
  {
   "cell_type": "code",
   "execution_count": 20,
   "id": "2215794a",
   "metadata": {},
   "outputs": [],
   "source": [
    "## si queremos guardar en otra lista, B, los elementos de A que son mayores a 2, usamos"
   ]
  },
  {
   "cell_type": "code",
   "execution_count": 21,
   "id": "58711fc9",
   "metadata": {},
   "outputs": [],
   "source": [
    "B = []\n",
    "for numero in A:\n",
    "    if numero>2:\n",
    "        B = B + [numero]"
   ]
  },
  {
   "cell_type": "code",
   "execution_count": 22,
   "id": "6b2ad3b3",
   "metadata": {},
   "outputs": [
    {
     "data": {
      "text/plain": [
       "[3]"
      ]
     },
     "execution_count": 22,
     "metadata": {},
     "output_type": "execute_result"
    }
   ],
   "source": [
    "B"
   ]
  },
  {
   "cell_type": "code",
   "execution_count": 23,
   "id": "7270bf1e",
   "metadata": {},
   "outputs": [],
   "source": [
    "## explique este código. Con esto, resuelva el problema de contar cuántas veces aparece una palabra. "
   ]
  },
  {
   "cell_type": "markdown",
   "id": "30e711e1",
   "metadata": {},
   "source": [
    "### 4. Funciones en **Python**"
   ]
  },
  {
   "cell_type": "code",
   "execution_count": 26,
   "id": "44230d9f",
   "metadata": {},
   "outputs": [],
   "source": [
    "## a partir de la lista string, puede ser útil crear una rutina que sea replicable en otro lado. Es bueno \n",
    "## pensar en rutinas (pedazos de código) que se ocupan muchas veces. Un buen ejemplo de esto es partir con un \n",
    "## string entre  ' ' y terminar con una lista de palabras en mínúscula. "
   ]
  },
  {
   "cell_type": "code",
   "execution_count": 27,
   "id": "dbc2af3a",
   "metadata": {},
   "outputs": [
    {
     "data": {
      "text/plain": [
       "\"Los selk'nam u onas son un pueblo amerindio que hasta principios del siglo XX vivía en el norte y centro de la isla Grande de Tierra del Fuego, en el extremo austral del continente americano, en Argentina y Chile. Originalmente eran nómadas terrestres, cazadores y recolectores. Luego de un genocidio a principios del siglo XX y un proceso de transculturación que operó por más de un siglo, los selknam que continúan viviendo en la porción argentina de la isla se encuentran aculturados por completo.\""
      ]
     },
     "execution_count": 27,
     "metadata": {},
     "output_type": "execute_result"
    }
   ],
   "source": [
    "## sabemos que string es:\n",
    "\n",
    "string"
   ]
  },
  {
   "cell_type": "code",
   "execution_count": 29,
   "id": "2b1cdc2a",
   "metadata": {},
   "outputs": [],
   "source": [
    "## si queremos crear una lista de palabras en minúscula, usamos\n",
    "## creamos una lista vacia\n",
    "palabras_min = []\n",
    "## dividimos entre espacios en blanco\n",
    "lista_palabras = string.split(' ')"
   ]
  },
  {
   "cell_type": "code",
   "execution_count": 31,
   "id": "f7321d39",
   "metadata": {},
   "outputs": [],
   "source": [
    "## recorremos con un ciclo for las palabras de lista_palabras\n",
    "for palabra in lista_palabras:\n",
    "    ## en cada iteración, podemos las palabras en minúscula\n",
    "    palabras_min+=[palabra.lower()]"
   ]
  },
  {
   "cell_type": "code",
   "execution_count": 33,
   "id": "bf86b2f3",
   "metadata": {},
   "outputs": [],
   "source": [
    "## si juntamos todo, queda: \n",
    "\n",
    "## creamos una lista vacia\n",
    "palabras_min = []\n",
    "## dividimos entre espacios en blanco\n",
    "lista_palabras = string.split(' ')\n",
    "## recorremos con un ciclo for las palabras de lista_palabras\n",
    "for palabra in lista_palabras:\n",
    "    ## en cada iteración, podemos las palabras en minúscula\n",
    "    palabras_min+=[palabra.lower()]"
   ]
  },
  {
   "cell_type": "code",
   "execution_count": 34,
   "id": "42e5c289",
   "metadata": {},
   "outputs": [],
   "source": [
    "## ahora, ¿qué pasa si tenemos otro string y queremos hacer lo mismo pero sin escribir todas estas\n",
    "## instrucciones?\n",
    "\n",
    "def minusculas(S):\n",
    "    ## creamos una lista vacia\n",
    "    palabras_min = []\n",
    "    ## dividimos entre espacios en blanco\n",
    "    lista_palabras = S.split(' ')\n",
    "    ## recorremos con un ciclo for las palabras de lista_palabras\n",
    "    for palabra in lista_palabras:\n",
    "        ## en cada iteración, podemos las palabras en minúscula\n",
    "        palabras_min+=[palabra.lower()]\n",
    "    return palabras_min"
   ]
  },
  {
   "cell_type": "code",
   "execution_count": 35,
   "id": "1429a9ae",
   "metadata": {},
   "outputs": [
    {
     "data": {
      "text/plain": [
       "['los',\n",
       " \"selk'nam\",\n",
       " 'u',\n",
       " 'onas',\n",
       " 'son',\n",
       " 'un',\n",
       " 'pueblo',\n",
       " 'amerindio',\n",
       " 'que',\n",
       " 'hasta',\n",
       " 'principios',\n",
       " 'del',\n",
       " 'siglo',\n",
       " 'xx',\n",
       " 'vivía',\n",
       " 'en',\n",
       " 'el',\n",
       " 'norte',\n",
       " 'y',\n",
       " 'centro',\n",
       " 'de',\n",
       " 'la',\n",
       " 'isla',\n",
       " 'grande',\n",
       " 'de',\n",
       " 'tierra',\n",
       " 'del',\n",
       " 'fuego,',\n",
       " 'en',\n",
       " 'el',\n",
       " 'extremo',\n",
       " 'austral',\n",
       " 'del',\n",
       " 'continente',\n",
       " 'americano,',\n",
       " 'en',\n",
       " 'argentina',\n",
       " 'y',\n",
       " 'chile.',\n",
       " 'originalmente',\n",
       " 'eran',\n",
       " 'nómadas',\n",
       " 'terrestres,',\n",
       " 'cazadores',\n",
       " 'y',\n",
       " 'recolectores.',\n",
       " 'luego',\n",
       " 'de',\n",
       " 'un',\n",
       " 'genocidio',\n",
       " 'a',\n",
       " 'principios',\n",
       " 'del',\n",
       " 'siglo',\n",
       " 'xx',\n",
       " 'y',\n",
       " 'un',\n",
       " 'proceso',\n",
       " 'de',\n",
       " 'transculturación',\n",
       " 'que',\n",
       " 'operó',\n",
       " 'por',\n",
       " 'más',\n",
       " 'de',\n",
       " 'un',\n",
       " 'siglo,',\n",
       " 'los',\n",
       " 'selknam',\n",
       " 'que',\n",
       " 'continúan',\n",
       " 'viviendo',\n",
       " 'en',\n",
       " 'la',\n",
       " 'porción',\n",
       " 'argentina',\n",
       " 'de',\n",
       " 'la',\n",
       " 'isla',\n",
       " 'se',\n",
       " 'encuentran',\n",
       " 'aculturados',\n",
       " 'por',\n",
       " 'completo.']"
      ]
     },
     "execution_count": 35,
     "metadata": {},
     "output_type": "execute_result"
    }
   ],
   "source": [
    "minusculas(string)"
   ]
  },
  {
   "cell_type": "code",
   "execution_count": null,
   "id": "8b5bbba9",
   "metadata": {},
   "outputs": [],
   "source": []
  }
 ],
 "metadata": {
  "kernelspec": {
   "display_name": "conda_python3",
   "language": "python",
   "name": "conda_python3"
  },
  "language_info": {
   "codemirror_mode": {
    "name": "ipython",
    "version": 3
   },
   "file_extension": ".py",
   "mimetype": "text/x-python",
   "name": "python",
   "nbconvert_exporter": "python",
   "pygments_lexer": "ipython3",
   "version": "3.6.13"
  }
 },
 "nbformat": 4,
 "nbformat_minor": 5
}
