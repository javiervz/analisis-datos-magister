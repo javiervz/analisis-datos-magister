{
 "cells": [
  {
   "cell_type": "markdown",
   "id": "79c50c5a",
   "metadata": {},
   "source": [
    "## Ejercicios"
   ]
  },
  {
   "cell_type": "markdown",
   "id": "187fbbac",
   "metadata": {},
   "source": [
    "### 1. Uso de listas"
   ]
  },
  {
   "cell_type": "code",
   "execution_count": 151,
   "id": "0f13951b",
   "metadata": {},
   "outputs": [],
   "source": [
    "## considere el siguiente string\n",
    "## (recuerden que los strings están entre '' o entre \"\". A veces, es cómodo usar \"\" cuando el string lleva ')\n",
    "\n",
    "string = \"Los selk'nam u onas son un pueblo amerindio que hasta principios del siglo XX vivía en el norte y centro de la isla Grande de Tierra del Fuego, en el extremo austral del continente americano, en Argentina y Chile. Originalmente eran nómadas terrestres, cazadores y recolectores. Luego de un genocidio a principios del siglo XX y un proceso de transculturación que operó por más de un siglo, los selknam que continúan viviendo en la porción argentina de la isla se encuentran aculturados por completo.\""
   ]
  },
  {
   "cell_type": "code",
   "execution_count": 152,
   "id": "1ce5733d",
   "metadata": {},
   "outputs": [],
   "source": [
    "## el primer desafío es dividir este string en palabras ¿Cómo hacemos eso? :)\n",
    "## manera 1: pruebe qué ocurre con el siguiente código\n",
    "\n",
    "lista_strings = string.split()"
   ]
  },
  {
   "cell_type": "code",
   "execution_count": 153,
   "id": "89386a0f",
   "metadata": {},
   "outputs": [
    {
     "data": {
      "text/plain": [
       "['Los',\n",
       " \"selk'nam\",\n",
       " 'u',\n",
       " 'onas',\n",
       " 'son',\n",
       " 'un',\n",
       " 'pueblo',\n",
       " 'amerindio',\n",
       " 'que',\n",
       " 'hasta']"
      ]
     },
     "execution_count": 153,
     "metadata": {},
     "output_type": "execute_result"
    }
   ],
   "source": [
    "lista_strings[:10]"
   ]
  },
  {
   "cell_type": "code",
   "execution_count": 154,
   "id": "405f23e7",
   "metadata": {},
   "outputs": [],
   "source": [
    "## responda: ¿Qué hace .split() al final de un string?"
   ]
  },
  {
   "cell_type": "code",
   "execution_count": 155,
   "id": "d369219a",
   "metadata": {},
   "outputs": [],
   "source": [
    "## determine ahora el número de palabras del texto\n",
    "## por el momento, la variable numero_palabras vale 0. Usted debe reasignarla al valor correspondiente\n",
    "numero_palabras = 0"
   ]
  },
  {
   "cell_type": "code",
   "execution_count": 156,
   "id": "c6d8c90d",
   "metadata": {},
   "outputs": [],
   "source": [
    "numero_palabras = len(lista_strings)"
   ]
  },
  {
   "cell_type": "code",
   "execution_count": 157,
   "id": "0916ff93",
   "metadata": {},
   "outputs": [
    {
     "data": {
      "text/plain": [
       "84"
      ]
     },
     "execution_count": 157,
     "metadata": {},
     "output_type": "execute_result"
    }
   ],
   "source": [
    "numero_palabras"
   ]
  },
  {
   "cell_type": "code",
   "execution_count": 158,
   "id": "d16f2192",
   "metadata": {},
   "outputs": [],
   "source": [
    "## definamos otra lista, que llamamos texto_copia\n",
    "\n",
    "texto_copia = []"
   ]
  },
  {
   "cell_type": "code",
   "execution_count": 159,
   "id": "4a5833e7",
   "metadata": {},
   "outputs": [
    {
     "data": {
      "text/plain": [
       "0"
      ]
     },
     "execution_count": 159,
     "metadata": {},
     "output_type": "execute_result"
    }
   ],
   "source": [
    "len(texto_copia)"
   ]
  },
  {
   "cell_type": "code",
   "execution_count": 160,
   "id": "0ecd4e1f",
   "metadata": {},
   "outputs": [],
   "source": [
    "for item in lista_strings:\n",
    "    texto_copia = texto_copia + [item]\n",
    "    #texto_copia += [item]"
   ]
  },
  {
   "cell_type": "code",
   "execution_count": 161,
   "id": "b999968e",
   "metadata": {},
   "outputs": [
    {
     "data": {
      "text/plain": [
       "['Los',\n",
       " \"selk'nam\",\n",
       " 'u',\n",
       " 'onas',\n",
       " 'son',\n",
       " 'un',\n",
       " 'pueblo',\n",
       " 'amerindio',\n",
       " 'que',\n",
       " 'hasta']"
      ]
     },
     "execution_count": 161,
     "metadata": {},
     "output_type": "execute_result"
    }
   ],
   "source": [
    "texto_copia[:10]"
   ]
  },
  {
   "cell_type": "code",
   "execution_count": 162,
   "id": "229799d5",
   "metadata": {},
   "outputs": [],
   "source": [
    "## su tarea es copiar cada palabra de lista_strings en texto_copia. Use un ciclo for :)"
   ]
  },
  {
   "cell_type": "code",
   "execution_count": 163,
   "id": "c6bf2aab",
   "metadata": {},
   "outputs": [],
   "source": [
    "## cuente el número de elementos de texto_copia: ¿Coincide con el largo de lista_strings?"
   ]
  },
  {
   "cell_type": "code",
   "execution_count": 164,
   "id": "7c624f14",
   "metadata": {},
   "outputs": [
    {
     "data": {
      "text/plain": [
       "84"
      ]
     },
     "execution_count": 164,
     "metadata": {},
     "output_type": "execute_result"
    }
   ],
   "source": [
    "len(lista_strings)"
   ]
  },
  {
   "cell_type": "code",
   "execution_count": 165,
   "id": "105425c8",
   "metadata": {},
   "outputs": [
    {
     "data": {
      "text/plain": [
       "84"
      ]
     },
     "execution_count": 165,
     "metadata": {},
     "output_type": "execute_result"
    }
   ],
   "source": [
    "len(texto_copia)"
   ]
  },
  {
   "cell_type": "markdown",
   "id": "c812e3e1",
   "metadata": {},
   "source": [
    "### 2. Palabras en minúscula"
   ]
  },
  {
   "cell_type": "code",
   "execution_count": 166,
   "id": "ff8267fe",
   "metadata": {},
   "outputs": [],
   "source": [
    "## ¿Qué ocurre con el siguiente código?\n",
    "\n",
    "palabra = 'Lingüística'\n",
    "\n",
    "palabra_min = palabra.lower()"
   ]
  },
  {
   "cell_type": "code",
   "execution_count": 167,
   "id": "e290b795",
   "metadata": {},
   "outputs": [
    {
     "data": {
      "text/plain": [
       "'lingüística'"
      ]
     },
     "execution_count": 167,
     "metadata": {},
     "output_type": "execute_result"
    }
   ],
   "source": [
    "palabra_min"
   ]
  },
  {
   "cell_type": "code",
   "execution_count": 168,
   "id": "45d99301",
   "metadata": {},
   "outputs": [],
   "source": [
    "## la tarea es: defina una nueva lista, que llamaremos lista_strings_min"
   ]
  },
  {
   "cell_type": "code",
   "execution_count": 169,
   "id": "2add92fc",
   "metadata": {},
   "outputs": [],
   "source": [
    "lista_strings_min = []"
   ]
  },
  {
   "cell_type": "code",
   "execution_count": 170,
   "id": "626c1ba9",
   "metadata": {},
   "outputs": [],
   "source": [
    "for palabra in lista_strings:\n",
    "    palabra_min = palabra.lower()\n",
    "    lista_strings_min = lista_strings_min + [palabra_min] "
   ]
  },
  {
   "cell_type": "code",
   "execution_count": 171,
   "id": "e92d3f58",
   "metadata": {},
   "outputs": [],
   "source": [
    "#for palabra in lista_strings:\n",
    "#    lista_strings_min = lista_strings_min + [palabra.lower()] "
   ]
  },
  {
   "cell_type": "code",
   "execution_count": 172,
   "id": "2c52e520",
   "metadata": {},
   "outputs": [
    {
     "data": {
      "text/plain": [
       "['los',\n",
       " \"selk'nam\",\n",
       " 'u',\n",
       " 'onas',\n",
       " 'son',\n",
       " 'un',\n",
       " 'pueblo',\n",
       " 'amerindio',\n",
       " 'que',\n",
       " 'hasta']"
      ]
     },
     "execution_count": 172,
     "metadata": {},
     "output_type": "execute_result"
    }
   ],
   "source": [
    "lista_strings_min[:10]"
   ]
  },
  {
   "cell_type": "code",
   "execution_count": 173,
   "id": "b4e707e4",
   "metadata": {},
   "outputs": [],
   "source": [
    "## que contenga las palabras en minúscula de lista_strings. Use un ciclo for"
   ]
  },
  {
   "cell_type": "markdown",
   "id": "dd6db68b",
   "metadata": {},
   "source": [
    "### 3. Contemos cuántas veces aparece una palabra"
   ]
  },
  {
   "cell_type": "code",
   "execution_count": 174,
   "id": "0c7c5f51",
   "metadata": {},
   "outputs": [],
   "source": [
    "## considere ahora la lista con las palabras en minúscula lista_strings_min. La idea es contar cuántas\n",
    "## veces aparece una palabra de su elección. Eligamos la palabra \"el\""
   ]
  },
  {
   "cell_type": "code",
   "execution_count": 175,
   "id": "cb9de17c",
   "metadata": {},
   "outputs": [],
   "source": [
    "palabra = 'y'"
   ]
  },
  {
   "cell_type": "code",
   "execution_count": 176,
   "id": "8675acaf",
   "metadata": {},
   "outputs": [],
   "source": [
    "## definamos una variable donde guardamos el número de veces que aparece"
   ]
  },
  {
   "cell_type": "code",
   "execution_count": 177,
   "id": "b97210dc",
   "metadata": {},
   "outputs": [],
   "source": [
    "numero_veces_palabra = 0"
   ]
  },
  {
   "cell_type": "code",
   "execution_count": 178,
   "id": "3a36c3ec",
   "metadata": {},
   "outputs": [
    {
     "data": {
      "text/plain": [
       "0"
      ]
     },
     "execution_count": 178,
     "metadata": {},
     "output_type": "execute_result"
    }
   ],
   "source": [
    "numero_veces_palabra"
   ]
  },
  {
   "cell_type": "code",
   "execution_count": 179,
   "id": "3c27ab93",
   "metadata": {},
   "outputs": [],
   "source": [
    "## la idea detrás de esto es la siguiente: ya sabemos que con un ciclo for podemos recorrer las palabras de\n",
    "## lista_strings_min. En cada paso, debemos detectar si el elemento de la lista es igual a \"palabra\".\n",
    "## ¿Cómo hacemos eso?"
   ]
  },
  {
   "cell_type": "code",
   "execution_count": 180,
   "id": "9d78e04d",
   "metadata": {},
   "outputs": [],
   "source": [
    "## para resolver este problema, necesitamos una condición lógica: Si el elemento es igual a \"palabra\",\n",
    "## sumamos 1 a numero_veces_palabra; si no, no pasa nada, y continuamos con el elemento siguiente.\n",
    "## esta condición lógica se expresa a través del operador \"if\". "
   ]
  },
  {
   "cell_type": "code",
   "execution_count": 181,
   "id": "c019dd4e",
   "metadata": {},
   "outputs": [],
   "source": [
    "## un ejemplo\n",
    "A = [1,2,3]"
   ]
  },
  {
   "cell_type": "code",
   "execution_count": 182,
   "id": "c5634bb7",
   "metadata": {},
   "outputs": [
    {
     "data": {
      "text/plain": [
       "[1, 2, 3]"
      ]
     },
     "execution_count": 182,
     "metadata": {},
     "output_type": "execute_result"
    }
   ],
   "source": [
    "A"
   ]
  },
  {
   "cell_type": "code",
   "execution_count": 183,
   "id": "742a3cff",
   "metadata": {},
   "outputs": [],
   "source": [
    "## si queremos guardar en otra lista, B, los elementos de A que son mayores a 2, usamos"
   ]
  },
  {
   "cell_type": "code",
   "execution_count": 184,
   "id": "d4dfe632",
   "metadata": {},
   "outputs": [],
   "source": [
    "B = []\n",
    "for numero in A:\n",
    "    if numero>2:\n",
    "        B = B + [numero]\n",
    "        #B += [numero]\n",
    "        #B.append(numero)"
   ]
  },
  {
   "cell_type": "code",
   "execution_count": 185,
   "id": "d5dc9540",
   "metadata": {},
   "outputs": [
    {
     "data": {
      "text/plain": [
       "[3]"
      ]
     },
     "execution_count": 185,
     "metadata": {},
     "output_type": "execute_result"
    }
   ],
   "source": [
    "B"
   ]
  },
  {
   "cell_type": "code",
   "execution_count": 186,
   "id": "ffbd6b88",
   "metadata": {},
   "outputs": [],
   "source": [
    "## explique este código. Con esto, resuelva el problema de contar cuántas veces aparece una palabra. "
   ]
  },
  {
   "cell_type": "code",
   "execution_count": 187,
   "id": "1ee10161",
   "metadata": {},
   "outputs": [],
   "source": [
    "for item in lista_strings_min:\n",
    "    if item == palabra:\n",
    "        numero_veces_palabra = numero_veces_palabra + 1 "
   ]
  },
  {
   "cell_type": "code",
   "execution_count": 188,
   "id": "44278526",
   "metadata": {},
   "outputs": [
    {
     "data": {
      "text/plain": [
       "4"
      ]
     },
     "execution_count": 188,
     "metadata": {},
     "output_type": "execute_result"
    }
   ],
   "source": [
    "numero_veces_palabra"
   ]
  },
  {
   "cell_type": "code",
   "execution_count": 189,
   "id": "b2211307",
   "metadata": {},
   "outputs": [],
   "source": [
    "lista_y = []\n",
    "\n",
    "for item in lista_strings_min:\n",
    "    if item == palabra:\n",
    "        lista_y = lista_y + [item]"
   ]
  },
  {
   "cell_type": "code",
   "execution_count": 190,
   "id": "cfa45880",
   "metadata": {},
   "outputs": [
    {
     "data": {
      "text/plain": [
       "4"
      ]
     },
     "execution_count": 190,
     "metadata": {},
     "output_type": "execute_result"
    }
   ],
   "source": [
    "len(lista_y)"
   ]
  },
  {
   "cell_type": "markdown",
   "id": "aac2b38b",
   "metadata": {},
   "source": [
    "### 4. Funciones en **Python**"
   ]
  },
  {
   "cell_type": "code",
   "execution_count": 191,
   "id": "02c39218",
   "metadata": {},
   "outputs": [],
   "source": [
    "## a partir de la lista string, puede ser útil crear una rutina que sea replicable en otro lado. Es bueno \n",
    "## pensar en rutinas (pedazos de código) que se ocupan muchas veces. Un buen ejemplo de esto es partir con un \n",
    "## string entre  ' ' y terminar con una lista de palabras en mínúscula. "
   ]
  },
  {
   "cell_type": "code",
   "execution_count": 192,
   "id": "9d8df799",
   "metadata": {},
   "outputs": [
    {
     "data": {
      "text/plain": [
       "\"Los selk'nam u onas son un pueblo amerindio que hasta principios del siglo XX vivía en el norte y centro de la isla Grande de Tierra del Fuego, en el extremo austral del continente americano, en Argentina y Chile. Originalmente eran nómadas terrestres, cazadores y recolectores. Luego de un genocidio a principios del siglo XX y un proceso de transculturación que operó por más de un siglo, los selknam que continúan viviendo en la porción argentina de la isla se encuentran aculturados por completo.\""
      ]
     },
     "execution_count": 192,
     "metadata": {},
     "output_type": "execute_result"
    }
   ],
   "source": [
    "## sabemos que string es:\n",
    "\n",
    "string"
   ]
  },
  {
   "cell_type": "code",
   "execution_count": 193,
   "id": "a493b2a4",
   "metadata": {},
   "outputs": [],
   "source": [
    "## si queremos crear una lista de palabras en minúscula, usamos\n",
    "## creamos una lista vacia\n",
    "palabras_min = []\n",
    "## dividimos entre espacios en blanco\n",
    "lista_palabras = string.split(' ')"
   ]
  },
  {
   "cell_type": "code",
   "execution_count": 194,
   "id": "1f4484fd",
   "metadata": {},
   "outputs": [],
   "source": [
    "## recorremos con un ciclo for las palabras de lista_palabras\n",
    "for palabra in lista_palabras:\n",
    "    ## en cada iteración, podemos las palabras en minúscula\n",
    "    palabras_min+=[palabra.lower()]"
   ]
  },
  {
   "cell_type": "code",
   "execution_count": 195,
   "id": "ca91d60c",
   "metadata": {},
   "outputs": [],
   "source": [
    "## si juntamos todo, queda: \n",
    "\n",
    "## creamos una lista vacia\n",
    "palabras_min = []\n",
    "## dividimos entre espacios en blanco\n",
    "lista_palabras = string.split(' ')\n",
    "## recorremos con un ciclo for las palabras de lista_palabras\n",
    "for palabra in lista_palabras:\n",
    "    ## en cada iteración, podemos las palabras en minúscula\n",
    "    palabras_min+=[palabra.lower()]"
   ]
  },
  {
   "cell_type": "code",
   "execution_count": 196,
   "id": "1808f57e",
   "metadata": {},
   "outputs": [],
   "source": [
    "## ahora, ¿qué pasa si tenemos otro string y queremos hacer lo mismo pero sin escribir todas estas\n",
    "## instrucciones?\n",
    "\n",
    "def minusculas(S):\n",
    "    ## creamos una lista vacia\n",
    "    palabras_min = []\n",
    "    ## dividimos entre espacios en blanco\n",
    "    lista_palabras = S.split(' ')\n",
    "    ## recorremos con un ciclo for las palabras de lista_palabras\n",
    "    for palabra in lista_palabras:\n",
    "        ## en cada iteración, podemos las palabras en minúscula\n",
    "        palabras_min+=[palabra.lower()]\n",
    "    return palabras_min"
   ]
  },
  {
   "cell_type": "code",
   "execution_count": 197,
   "id": "eca33f05",
   "metadata": {},
   "outputs": [
    {
     "data": {
      "text/plain": [
       "84"
      ]
     },
     "execution_count": 197,
     "metadata": {},
     "output_type": "execute_result"
    }
   ],
   "source": [
    "len(minusculas(string))"
   ]
  },
  {
   "cell_type": "code",
   "execution_count": 198,
   "id": "1a799dcd",
   "metadata": {},
   "outputs": [],
   "source": [
    "## ahora, el desafío es similar a lo visto en la clase 2: cree una función que identifique las palabras\n",
    "## únicas de un string S\n",
    "\n",
    "## input: string S\n",
    "## output: lista de palabras unicas (lista_palabras_unicas)\n",
    "def palabras_unicas(S):\n",
    "    ## código aquí :)\n",
    "    texto = S.split()\n",
    "    \n",
    "    lista_palabras_min = []\n",
    "    \n",
    "    for palabra in texto:\n",
    "        \n",
    "        palabra_min = palabra.lower()\n",
    "        lista_palabras_min = lista_palabras_min+ [palabra_min]\n",
    "        \n",
    "    lista_palabras_unicas = []\n",
    "    \n",
    "    for palabra in lista_palabras_min:\n",
    "        if palabra not in lista_palabras_unicas:\n",
    "            lista_palabras_unicas = lista_palabras_unicas + [palabra]\n",
    "            \n",
    "    return lista_palabras_unicas"
   ]
  },
  {
   "cell_type": "code",
   "execution_count": 199,
   "id": "fe78ee5a",
   "metadata": {},
   "outputs": [
    {
     "data": {
      "text/plain": [
       "55"
      ]
     },
     "execution_count": 199,
     "metadata": {},
     "output_type": "execute_result"
    }
   ],
   "source": [
    "len(palabras_unicas(string))"
   ]
  },
  {
   "cell_type": "code",
   "execution_count": 200,
   "id": "0487a257",
   "metadata": {},
   "outputs": [],
   "source": [
    "## otra versión de lo mismo! Construya una función que haga lo mismo de palabras_unicas, usando un ciclo\n",
    "## for de una dimensión. \n",
    "\n",
    "## input: string S\n",
    "## output: lista de palabras unicas (lista_palabras_unicas)\n",
    "def palabras_unicas_una_dim(S):\n",
    "    ## código aquí :)\n",
    "    return lista_palabras_unicas"
   ]
  },
  {
   "cell_type": "code",
   "execution_count": 201,
   "id": "2f614281",
   "metadata": {},
   "outputs": [],
   "source": [
    "## ya sabemos cómo construir una función que identifica las palabras únicas: ¿Podremos identificar las\n",
    "## palabras que aparecen dos veces? Construya una función que resuelva este problema.\n",
    "\n",
    "## input: string S\n",
    "## output: lista de palabras unicas (lista_palabras_unicas)\n",
    "def palabras_dos_veces(S):\n",
    "    \n",
    "    types = palabras_unicas(S)\n",
    "    D = {}\n",
    "    for palabra in types:\n",
    "        D[palabra]=0\n",
    "    \n",
    "    tokens = minusculas(S)\n",
    "    \n",
    "    for palabra in tokens:\n",
    "        D[palabra]+=1\n",
    "    \n",
    "    lista_dos_veces = []\n",
    "    for key in D.keys():\n",
    "        if D[key]==2:\n",
    "            lista_dos_veces += [key]\n",
    "            \n",
    "    return lista_dos_veces"
   ]
  },
  {
   "cell_type": "code",
   "execution_count": 202,
   "id": "406c835f",
   "metadata": {},
   "outputs": [
    {
     "data": {
      "text/plain": [
       "['los', 'principios', 'siglo', 'xx', 'el', 'isla', 'argentina', 'por']"
      ]
     },
     "execution_count": 202,
     "metadata": {},
     "output_type": "execute_result"
    }
   ],
   "source": [
    "palabras_dos_veces(string)"
   ]
  },
  {
   "cell_type": "code",
   "execution_count": 203,
   "id": "f51434f0",
   "metadata": {},
   "outputs": [
    {
     "data": {
      "text/plain": [
       "\"Los selk'nam u onas son un pueblo amerindio que hasta principios del siglo XX vivía en el norte y centro de la isla Grande de Tierra del Fuego, en el extremo austral del continente americano, en Argentina y Chile. Originalmente eran nómadas terrestres, cazadores y recolectores. Luego de un genocidio a principios del siglo XX y un proceso de transculturación que operó por más de un siglo, los selknam que continúan viviendo en la porción argentina de la isla se encuentran aculturados por completo.\""
      ]
     },
     "execution_count": 203,
     "metadata": {},
     "output_type": "execute_result"
    }
   ],
   "source": [
    "string"
   ]
  },
  {
   "cell_type": "code",
   "execution_count": 204,
   "id": "81134f6f",
   "metadata": {},
   "outputs": [],
   "source": [
    "## otra extensión de la función anterior: construya una función que reciba un string y entregue un diccionario\n",
    "## con las palabras únicas como keys; y las frecuencias respectivas como values. \n",
    "\n",
    "## input: string S\n",
    "## output: diccionario de frecuencias de la forma {palabra:frecuencia ...}\n",
    "def frecuencia_palabras(S):\n",
    "    ## identificar los tokens (secuencias entre espacios en blanco)\n",
    "    ## tokens --> lista!\n",
    "    tokens = S.split()\n",
    "    \n",
    "    ## palabras en la lista tokens quedan en minúscula\n",
    "    tokens_min = []\n",
    "    for palabra in tokens:\n",
    "        tokens_min += [palabra.lower()]\n",
    "        \n",
    "    ## palabras únicas (types)\n",
    "    types = []\n",
    "    for palabra in tokens_min:\n",
    "        if palabra not in types:\n",
    "            types += [palabra]\n",
    "            \n",
    "    ## diccionario de frecuencias\n",
    "    \n",
    "    D = {}\n",
    "    for palabra in types:\n",
    "        D[palabra]=0\n",
    "        \n",
    "    ## contamos las frecuencias!!! :)\n",
    "    for palabra in tokens_min:\n",
    "        D[palabra]+=1\n",
    "    \n",
    "    return D"
   ]
  },
  {
   "cell_type": "code",
   "execution_count": 205,
   "id": "cb213177",
   "metadata": {},
   "outputs": [
    {
     "data": {
      "text/plain": [
       "{'los': 2,\n",
       " \"selk'nam\": 1,\n",
       " 'u': 1,\n",
       " 'onas': 1,\n",
       " 'son': 1,\n",
       " 'un': 4,\n",
       " 'pueblo': 1,\n",
       " 'amerindio': 1,\n",
       " 'que': 3,\n",
       " 'hasta': 1,\n",
       " 'principios': 2,\n",
       " 'del': 4,\n",
       " 'siglo': 2,\n",
       " 'xx': 2,\n",
       " 'vivía': 1,\n",
       " 'en': 4,\n",
       " 'el': 2,\n",
       " 'norte': 1,\n",
       " 'y': 4,\n",
       " 'centro': 1,\n",
       " 'de': 6,\n",
       " 'la': 3,\n",
       " 'isla': 2,\n",
       " 'grande': 1,\n",
       " 'tierra': 1,\n",
       " 'fuego,': 1,\n",
       " 'extremo': 1,\n",
       " 'austral': 1,\n",
       " 'continente': 1,\n",
       " 'americano,': 1,\n",
       " 'argentina': 2,\n",
       " 'chile.': 1,\n",
       " 'originalmente': 1,\n",
       " 'eran': 1,\n",
       " 'nómadas': 1,\n",
       " 'terrestres,': 1,\n",
       " 'cazadores': 1,\n",
       " 'recolectores.': 1,\n",
       " 'luego': 1,\n",
       " 'genocidio': 1,\n",
       " 'a': 1,\n",
       " 'proceso': 1,\n",
       " 'transculturación': 1,\n",
       " 'operó': 1,\n",
       " 'por': 2,\n",
       " 'más': 1,\n",
       " 'siglo,': 1,\n",
       " 'selknam': 1,\n",
       " 'continúan': 1,\n",
       " 'viviendo': 1,\n",
       " 'porción': 1,\n",
       " 'se': 1,\n",
       " 'encuentran': 1,\n",
       " 'aculturados': 1,\n",
       " 'completo.': 1}"
      ]
     },
     "execution_count": 205,
     "metadata": {},
     "output_type": "execute_result"
    }
   ],
   "source": [
    "frecuencia_palabras(string)"
   ]
  },
  {
   "cell_type": "code",
   "execution_count": 206,
   "id": "62bd20b7",
   "metadata": {},
   "outputs": [],
   "source": [
    "## las funciones pueden recibir varios inputs. Construya una función que reciba dos listas S y P, y entregue\n",
    "## las palabras contenidas en S que no están en P. Por ejemplo, si S = ['hola, chao'] y P = ['hola, gato'] debemos\n",
    "## identificar la lista ['chao']\n",
    "\n",
    "## inputs: listas S y P\n",
    "## output: lista de palabras que están en S, pero no en P\n",
    "def not_lista(S,P):\n",
    "    ## definimos la lista de las palabras que están en S, pero no en P\n",
    "    lista_S_not_P = []\n",
    "    for palabra in S:\n",
    "        if palabra not in P:\n",
    "            lista_S_not_P+=[palabra]\n",
    "    return lista_S_not_P"
   ]
  },
  {
   "cell_type": "code",
   "execution_count": 207,
   "id": "fb509ce9",
   "metadata": {},
   "outputs": [],
   "source": [
    "def not_lista(S,P):\n",
    "    ## definimos la lista de las palabras que están en S, pero no en P\n",
    "    lista_S_not_P = [palabra for palabra in S if palabra not in P]\n",
    "    return lista_S_not_P"
   ]
  },
  {
   "cell_type": "code",
   "execution_count": 208,
   "id": "abd55a72",
   "metadata": {},
   "outputs": [],
   "source": [
    "S = ['hola', 'chao'] \n",
    "P = ['hola', 'gato']"
   ]
  },
  {
   "cell_type": "code",
   "execution_count": 209,
   "id": "ce187be7",
   "metadata": {},
   "outputs": [
    {
     "data": {
      "text/plain": [
       "['chao']"
      ]
     },
     "execution_count": 209,
     "metadata": {},
     "output_type": "execute_result"
    }
   ],
   "source": [
    "not_lista(S,P)"
   ]
  },
  {
   "cell_type": "code",
   "execution_count": 210,
   "id": "cc5d190b",
   "metadata": {},
   "outputs": [],
   "source": [
    "## algo parecido a la función anterior. Construya una función que reciba dos listas S y P, y entregue\n",
    "## las palabras contenidas en S y en P. Por ejemplo, si S = ['hola', 'chao'] y P = ['hola', 'gato'] debemos\n",
    "## identificar la lista ['hola']\n",
    "\n",
    "## inputs: listas S y P\n",
    "## output: lista de palabras que están en S, pero no en P\n",
    "def and_lista(S,P):\n",
    "    ## código aquí!\n",
    "    return lista_S_and_P"
   ]
  },
  {
   "cell_type": "code",
   "execution_count": 244,
   "id": "84ee1ecf",
   "metadata": {},
   "outputs": [],
   "source": [
    "## diccionarios!!! Construya una función que reciba una lista de strings, y entregue un diccionario de la \n",
    "## forma {palabra:[palabra_posterior1,...]}, donde \"palabra\" es cada palabra única de la lista, y la lista\n",
    "## [palabra_posterior1,...] es una lista de las palabras que siguen a \"palabra\" a lo largo del texto.\n",
    "## Por ejemplo, si S = ['el','gato','persigue','al','perro','y','el','gato','se','llama','sustantivo'] \n",
    "## {'gato':['persigue','se']}\n",
    "\n",
    "## inputs: lista de strings S \n",
    "## output: diccionario de la forma {palabra:[palabra_posterior1,...]}\n",
    "def palabras_siguientes(S):\n",
    "    ## A: dividir en tokens\n",
    "    \n",
    "    tokens = S.split()\n",
    "    \n",
    "    ## B: tokens en minúscula\n",
    "    \n",
    "    tokens = [palabra.lower() for palabra in tokens]\n",
    "\n",
    "    ## C: types\n",
    "    \n",
    "    types = []\n",
    "    \n",
    "    for palabra in tokens:\n",
    "        if palabra not in types:\n",
    "            types += [palabra]\n",
    "            \n",
    "    ## diccionario de palabras siguientes\n",
    "    D = {}\n",
    "    for palabra in types:\n",
    "        D[palabra]=[]\n",
    "    \n",
    "    ## buscar palabras siguientes! :)\n",
    "    for i in range(len(tokens)):\n",
    "        palabra = tokens[i]\n",
    "        if i+1<len(tokens):\n",
    "            siguiente = tokens[i+1]\n",
    "            D[palabra]+=[siguiente]\n",
    "        \n",
    "    return D"
   ]
  },
  {
   "cell_type": "code",
   "execution_count": 245,
   "id": "f6564c5d",
   "metadata": {},
   "outputs": [
    {
     "data": {
      "text/plain": [
       "{'los': [\"selk'nam\", 'selknam'],\n",
       " \"selk'nam\": ['u'],\n",
       " 'u': ['onas'],\n",
       " 'onas': ['son'],\n",
       " 'son': ['un'],\n",
       " 'un': ['pueblo', 'genocidio', 'proceso', 'siglo,'],\n",
       " 'pueblo': ['amerindio'],\n",
       " 'amerindio': ['que'],\n",
       " 'que': ['hasta', 'operó', 'continúan'],\n",
       " 'hasta': ['principios'],\n",
       " 'principios': ['del', 'del'],\n",
       " 'del': ['siglo', 'fuego,', 'continente', 'siglo'],\n",
       " 'siglo': ['xx', 'xx'],\n",
       " 'xx': ['vivía', 'y'],\n",
       " 'vivía': ['en'],\n",
       " 'en': ['el', 'el', 'argentina', 'la'],\n",
       " 'el': ['norte', 'extremo'],\n",
       " 'norte': ['y'],\n",
       " 'y': ['centro', 'chile.', 'recolectores.', 'un'],\n",
       " 'centro': ['de'],\n",
       " 'de': ['la', 'tierra', 'un', 'transculturación', 'un', 'la'],\n",
       " 'la': ['isla', 'porción', 'isla'],\n",
       " 'isla': ['grande', 'se'],\n",
       " 'grande': ['de'],\n",
       " 'tierra': ['del'],\n",
       " 'fuego,': ['en'],\n",
       " 'extremo': ['austral'],\n",
       " 'austral': ['del'],\n",
       " 'continente': ['americano,'],\n",
       " 'americano,': ['en'],\n",
       " 'argentina': ['y', 'de'],\n",
       " 'chile.': ['originalmente'],\n",
       " 'originalmente': ['eran'],\n",
       " 'eran': ['nómadas'],\n",
       " 'nómadas': ['terrestres,'],\n",
       " 'terrestres,': ['cazadores'],\n",
       " 'cazadores': ['y'],\n",
       " 'recolectores.': ['luego'],\n",
       " 'luego': ['de'],\n",
       " 'genocidio': ['a'],\n",
       " 'a': ['principios'],\n",
       " 'proceso': ['de'],\n",
       " 'transculturación': ['que'],\n",
       " 'operó': ['por'],\n",
       " 'por': ['más', 'completo.'],\n",
       " 'más': ['de'],\n",
       " 'siglo,': ['los'],\n",
       " 'selknam': ['que'],\n",
       " 'continúan': ['viviendo'],\n",
       " 'viviendo': ['en'],\n",
       " 'porción': ['argentina'],\n",
       " 'se': ['encuentran'],\n",
       " 'encuentran': ['aculturados'],\n",
       " 'aculturados': ['por'],\n",
       " 'completo.': []}"
      ]
     },
     "execution_count": 245,
     "metadata": {},
     "output_type": "execute_result"
    }
   ],
   "source": [
    "palabras_siguientes(string)"
   ]
  },
  {
   "cell_type": "code",
   "execution_count": 230,
   "id": "fdb30b08",
   "metadata": {},
   "outputs": [
    {
     "data": {
      "text/plain": [
       "\"Los selk'nam u onas son un pueblo amerindio que hasta principios del siglo XX vivía en el norte y centro de la isla Grande de Tierra del Fuego, en el extremo austral del continente americano, en Argentina y Chile. Originalmente eran nómadas terrestres, cazadores y recolectores. Luego de un genocidio a principios del siglo XX y un proceso de transculturación que operó por más de un siglo, los selknam que continúan viviendo en la porción argentina de la isla se encuentran aculturados por completo.\""
      ]
     },
     "execution_count": 230,
     "metadata": {},
     "output_type": "execute_result"
    }
   ],
   "source": [
    "string"
   ]
  },
  {
   "cell_type": "code",
   "execution_count": 1,
   "id": "90c62226",
   "metadata": {},
   "outputs": [],
   "source": [
    "string = 'el gato persigue al ratón'"
   ]
  },
  {
   "cell_type": "code",
   "execution_count": 2,
   "id": "f9df05a7",
   "metadata": {},
   "outputs": [],
   "source": [
    "lista_tokens = string.split()"
   ]
  },
  {
   "cell_type": "code",
   "execution_count": 3,
   "id": "63ce1882",
   "metadata": {},
   "outputs": [
    {
     "data": {
      "text/plain": [
       "['el', 'gato', 'persigue', 'al', 'ratón']"
      ]
     },
     "execution_count": 3,
     "metadata": {},
     "output_type": "execute_result"
    }
   ],
   "source": [
    "lista_tokens"
   ]
  },
  {
   "cell_type": "code",
   "execution_count": 6,
   "id": "5704f8d2",
   "metadata": {},
   "outputs": [],
   "source": [
    "lista_prueba = []\n",
    "\n",
    "for token in lista_tokens:\n",
    "    lista_prueba+=[token.split()]"
   ]
  },
  {
   "cell_type": "code",
   "execution_count": 7,
   "id": "d9fe693d",
   "metadata": {},
   "outputs": [
    {
     "data": {
      "text/plain": [
       "[['el'], ['gato'], ['persigue'], ['al'], ['ratón']]"
      ]
     },
     "execution_count": 7,
     "metadata": {},
     "output_type": "execute_result"
    }
   ],
   "source": [
    "lista_prueba"
   ]
  },
  {
   "cell_type": "code",
   "execution_count": null,
   "id": "45e21735",
   "metadata": {},
   "outputs": [],
   "source": []
  }
 ],
 "metadata": {
  "kernelspec": {
   "display_name": "conda_python3",
   "language": "python",
   "name": "conda_python3"
  },
  "language_info": {
   "codemirror_mode": {
    "name": "ipython",
    "version": 3
   },
   "file_extension": ".py",
   "mimetype": "text/x-python",
   "name": "python",
   "nbconvert_exporter": "python",
   "pygments_lexer": "ipython3",
   "version": "3.6.13"
  }
 },
 "nbformat": 4,
 "nbformat_minor": 5
}
