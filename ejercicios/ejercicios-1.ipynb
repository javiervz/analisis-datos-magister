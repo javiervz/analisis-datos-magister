{
 "cells": [
  {
   "cell_type": "markdown",
   "id": "28b8672f",
   "metadata": {},
   "source": [
    "## Ejercicios"
   ]
  },
  {
   "cell_type": "markdown",
   "id": "6cf9e2ad",
   "metadata": {},
   "source": [
    "### 1. Uso de listas"
   ]
  },
  {
   "cell_type": "code",
   "execution_count": 1,
   "id": "5f0faf6c",
   "metadata": {},
   "outputs": [],
   "source": [
    "## considere el siguiente string\n",
    "## (recuerden que los strings están entre '' o entre \"\". A veces, es cómodo usar \"\" cuando el string lleva ')\n",
    "\n",
    "string = \"Los selk'nam u onas son un pueblo amerindio que hasta principios del siglo XX vivía en el norte y centro de la isla Grande de Tierra del Fuego, en el extremo austral del continente americano, en Argentina y Chile. Originalmente eran nómadas terrestres, cazadores y recolectores. Luego de un genocidio a principios del siglo XX y un proceso de transculturación que operó por más de un siglo, los selknam que continúan viviendo en la porción argentina de la isla se encuentran aculturados por completo.\""
   ]
  },
  {
   "cell_type": "code",
   "execution_count": 2,
   "id": "1c898772",
   "metadata": {},
   "outputs": [],
   "source": [
    "## el primer desafío es dividir este string en palabras ¿Cómo hacemos eso? :)\n",
    "## manera 1: pruebe qué ocurre con el siguiente código\n",
    "\n",
    "lista_strings = string.split()"
   ]
  },
  {
   "cell_type": "code",
   "execution_count": 3,
   "id": "bea166eb",
   "metadata": {},
   "outputs": [],
   "source": [
    "## responda: ¿Qué hace .split() al final de un string?"
   ]
  },
  {
   "cell_type": "code",
   "execution_count": 4,
   "id": "cc354bb9",
   "metadata": {},
   "outputs": [],
   "source": [
    "## determine ahora el número de palabras del texto\n",
    "## por el momento, la variable numero_palabras vale 0. Usted debe reasignarla al valor correspondiente\n",
    "numero_palabras = 0"
   ]
  },
  {
   "cell_type": "code",
   "execution_count": 5,
   "id": "921918b6",
   "metadata": {},
   "outputs": [],
   "source": [
    "## definamos otra lista, que llamamos texto_copia\n",
    "\n",
    "texto_copia = []"
   ]
  },
  {
   "cell_type": "code",
   "execution_count": 6,
   "id": "304cc00f",
   "metadata": {},
   "outputs": [],
   "source": [
    "## su tarea es copiar cada palabra de lista_strings en texto_copia. Use un ciclo for :)"
   ]
  },
  {
   "cell_type": "code",
   "execution_count": 7,
   "id": "c534380c",
   "metadata": {},
   "outputs": [],
   "source": [
    "## cuente el número de elementos de texto_copia: ¿Coincide con el largo de lista_strings?"
   ]
  },
  {
   "cell_type": "markdown",
   "id": "3edb3dd1",
   "metadata": {},
   "source": [
    "### 2. Palabras en minúscula"
   ]
  },
  {
   "cell_type": "code",
   "execution_count": 8,
   "id": "470be1b1",
   "metadata": {},
   "outputs": [],
   "source": [
    "## ¿Qué ocurre con el siguiente código?\n",
    "\n",
    "palabra = 'Lingüística'\n",
    "\n",
    "palabra_min = palabra.lower()"
   ]
  },
  {
   "cell_type": "code",
   "execution_count": 9,
   "id": "0be47eb9",
   "metadata": {},
   "outputs": [
    {
     "data": {
      "text/plain": [
       "'lingüística'"
      ]
     },
     "execution_count": 9,
     "metadata": {},
     "output_type": "execute_result"
    }
   ],
   "source": [
    "palabra_min"
   ]
  },
  {
   "cell_type": "code",
   "execution_count": 10,
   "id": "733e7928",
   "metadata": {},
   "outputs": [],
   "source": [
    "## la tarea es: defina una nueva lista, que llamaremos lista_strings_min"
   ]
  },
  {
   "cell_type": "code",
   "execution_count": 11,
   "id": "a2be2c15",
   "metadata": {},
   "outputs": [],
   "source": [
    "lista_strings_min = []"
   ]
  },
  {
   "cell_type": "code",
   "execution_count": 12,
   "id": "5c053e15",
   "metadata": {},
   "outputs": [],
   "source": [
    "## que contenga las palabras en minúscula de lista_strings. Use un ciclo for"
   ]
  },
  {
   "cell_type": "markdown",
   "id": "7637e47f",
   "metadata": {},
   "source": [
    "### 3. Contemos cuańtas veces aparece una palabra"
   ]
  },
  {
   "cell_type": "code",
   "execution_count": 13,
   "id": "6ac66614",
   "metadata": {},
   "outputs": [],
   "source": [
    "## considere ahora la lista con las palabras en minúscula lista_strings_min. La idea es contar cuántas\n",
    "## veces aparece una palabra de su elección. Eligamos la palabra \"el\""
   ]
  },
  {
   "cell_type": "code",
   "execution_count": 14,
   "id": "ff98a736",
   "metadata": {},
   "outputs": [],
   "source": [
    "palabra = 'el'"
   ]
  },
  {
   "cell_type": "code",
   "execution_count": 15,
   "id": "71be741b",
   "metadata": {},
   "outputs": [],
   "source": [
    "## definamos una variable donde guardamos el número de veces que aparece"
   ]
  },
  {
   "cell_type": "code",
   "execution_count": 16,
   "id": "2a6f4010",
   "metadata": {},
   "outputs": [],
   "source": [
    "numero_veces_palabra = 0"
   ]
  },
  {
   "cell_type": "code",
   "execution_count": 17,
   "id": "02c673d8",
   "metadata": {},
   "outputs": [],
   "source": [
    "## la idea detrás de esto es la siguiente: ya sabemos que con un ciclo for podemos recorrer las palabras de\n",
    "## lista_strings_min. En cada paso, debemos detectar si el elemento de la lista es igual a \"palabra\".\n",
    "## ¿Cómo hacemos eso?"
   ]
  },
  {
   "cell_type": "code",
   "execution_count": 18,
   "id": "b4aa11c7",
   "metadata": {},
   "outputs": [],
   "source": [
    "## para resolver este problema, necesitamos una condición lógica: Si el elemento es igual a \"palabra\",\n",
    "## sumamos 1 a numero_veces_palabra; si no, no pasa nada, y continuamos con el elemento siguiente.\n",
    "## esta condición lógica se expresa a través del operador \"if\". "
   ]
  },
  {
   "cell_type": "code",
   "execution_count": 19,
   "id": "d1c26209",
   "metadata": {},
   "outputs": [],
   "source": [
    "## un ejemplo\n",
    "A = [1,2,3]"
   ]
  },
  {
   "cell_type": "code",
   "execution_count": 20,
   "id": "b8badce1",
   "metadata": {},
   "outputs": [],
   "source": [
    "## si queremos guardar en otra lista, B, los elementos de A que son mayores a 2, usamos"
   ]
  },
  {
   "cell_type": "code",
   "execution_count": 21,
   "id": "1df44e23",
   "metadata": {},
   "outputs": [],
   "source": [
    "B = []\n",
    "for numero in A:\n",
    "    if numero>2:\n",
    "        B = B + [numero]"
   ]
  },
  {
   "cell_type": "code",
   "execution_count": 22,
   "id": "a53515f9",
   "metadata": {},
   "outputs": [
    {
     "data": {
      "text/plain": [
       "[3]"
      ]
     },
     "execution_count": 22,
     "metadata": {},
     "output_type": "execute_result"
    }
   ],
   "source": [
    "B"
   ]
  },
  {
   "cell_type": "code",
   "execution_count": 23,
   "id": "21b8597e",
   "metadata": {},
   "outputs": [],
   "source": [
    "## explique este código. Con esto, resuelva el problema de contar cuántas veces aparece una palabra. "
   ]
  },
  {
   "cell_type": "code",
   "execution_count": null,
   "id": "fa5ccaeb",
   "metadata": {},
   "outputs": [],
   "source": []
  }
 ],
 "metadata": {
  "kernelspec": {
   "display_name": "conda_python3",
   "language": "python",
   "name": "conda_python3"
  },
  "language_info": {
   "codemirror_mode": {
    "name": "ipython",
    "version": 3
   },
   "file_extension": ".py",
   "mimetype": "text/x-python",
   "name": "python",
   "nbconvert_exporter": "python",
   "pygments_lexer": "ipython3",
   "version": "3.6.13"
  }
 },
 "nbformat": 4,
 "nbformat_minor": 5
}
