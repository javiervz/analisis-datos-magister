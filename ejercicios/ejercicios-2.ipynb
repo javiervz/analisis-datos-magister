{
 "cells": [
  {
   "cell_type": "markdown",
   "id": "ce6792c5",
   "metadata": {},
   "source": [
    "## Ejercicios"
   ]
  },
  {
   "cell_type": "markdown",
   "id": "e3cf665c",
   "metadata": {},
   "source": [
    "### 1. Manejo básico de archivos"
   ]
  },
  {
   "cell_type": "code",
   "execution_count": 39,
   "id": "58ab73ad",
   "metadata": {},
   "outputs": [],
   "source": [
    "## En este primer ejercicio con archivos, vamos a realizar cálculos simples con el corpus UDHR \n",
    "## https://www.unicode.org/udhr/index.html\n",
    "## Para esto, leemos el corpus del mapudungun (isocode: arn)\n",
    "codigo_lengua = 'arn'\n",
    "file = open('udhr/udhr_'+codigo_lengua+'.txt', 'r')  \n",
    "text=file.read()"
   ]
  },
  {
   "cell_type": "code",
   "execution_count": 40,
   "id": "02e0566f",
   "metadata": {},
   "outputs": [
    {
     "data": {
      "text/plain": [
       "'Universal Declaration of Human Rights - Mapudungun\\n© 1996 – 2009 The Office of the High Commissioner for Human Rights\\nThis plain text version prepared by the “UDHR in Unicode”\\nproject, https://www.unicode.org/udhr.\\n---\\n\\nKom Mapu Fijke Az Tañi Az Mogeleam\\n    Tuwvlzugun\\n    (\"Preámbulo\" pi ta wigka)\\n    Kimnieel fij mapu mew tañi kimgen kvme felen kisugvnew felen xvr kvme mvlen. Tvfaci zugu ñi mvleken mvleyem yamvwvn ka xvr kvme nor felen kom pu reñmawke ce mew.\\n    Gewenonmu yamuwvn, zuamgewenonmu kvme felen, goymagenmu nor felen mvley re jazkvnkawvn: Fey mew mvley xvrvmzugu kom pu ce tañi kvme mogeleam kisuke ñi feyentun mew, kisu ñi rakizuam mew ka ñi wimtun mew ñi mvleal egvn.\\n    Tañi mvlenoam kaiñetuwvn zugu, awkan zugu tvfeyci wezake vbmen egvn mvley tañi xvrvmuwael tvfeyci wvnenkvleci pu ce zugu mew tañi yamgeam xvr kvme nor felen.\\n    Ka kimnieel ñi rvf kvme zugugen, wenvykawvn kom pu Xokiñke Ce egvn, nuwkvlelu Kiñe Mapu mew (\"Naciones Unidas\" pi ta wigka): Tvfa egvn xawvlelu \"Naciones Unidas\" mew nuwtuaygvn tvfaci \"Fvxa Cijka\" mew kvme xvr norkvletuam ñi mogen kom pu wenxu ka pu zomo mvlelu ixofij mapu mew feyci, kom xawvci pu ce tañi werkvel ci Pu Xokinke Ce (\"Estados Miembros\" pi ta wigka) mvlelu fij mapu kom pvle kejuwayiñ taiñ yamfalafiel xvr kvme felen ka nor felen piwigvn.\\n    Femueci mvlcy ñi kimniegeael kom mapu mew nor kvme felen ka kisugvnew mvlen tvfaci rakizuam kvzaw mew.\\n    Fey mew Fvxa Xawvn mew (\"Asamblea General\" pi ta wigka)\\n    Wixañpvramgey tvfaci Fvxa Cijka Kom Mapu Fijke Az Ce Tañi Az Mogeleam pigelu.\\n    Rvf kvme zugugelu am fey mew ta mvley tañi kvzawael kom pu ce fij mapu mew, pu fvxake vbmen, kom pu ce wvnenkvlelu cem zugu mew rume, pu wenxu ka pu zomo mvley tañi newenmayafiel ka wenuñpvramafiel tvfaci zugu az mogeleam kom pu mogen ce, fey mew ta yamgeay xvr felen ka nor felen tvfaci mogen mew.\\n  \\n    Kiñe Xoy (1)\\n    Kom pu mogence kisuzuam mvlekey, kom cegeygvn, logkogeygvn ka piwkegeygvn, nieygvn kimvn fey mew mvley tañi yamniewael ka epuñpvle kejuwael egvn.\\n  \\n    Epu Xoy (2)\\n    KIÑE. Kom xipace, fijke mojfvñ ce wixapvraley ñi kvme felen, nor felen tvfaci Fvxa Cijka mew, cumgeay rume ñi zugun, ñi wimtun, cem azgeay rume, cem kimvn rume nieay.\\n    EPU. Kom pu xokiñ ce, cem az mogengeayrume mvlelu fij mapu, ka femueci xvr nvwkvley tvfaci Fvxa Cijka mew.\\n  \\n    Kvla Xoy (3)\\n    Kom ce mvley ñi mogeleael, kisugvnew feleael ka yamniegeael.\\n  \\n    Meli Xoy (4)\\n    Iney rume gelay ñi xafkiñtuceael. Gewelayay xafkiñtucen ran mew kuyfi reke.\\n  \\n    Kecu Xoy (5)\\n    Cem ce rume wezakamekegelayay, kupafkamekegelayay.\\n  \\n    Kayu Xoy (6)\\n    Kom ce fij mapu mew mvley ñi kimgeael, wirintukulelu am ñi vy wigka zugu mew (\"Personalidad Jurídica\" pi ta wigka).\\n  \\n    Reqle Xoy (7)\\n    Kom femgey ce wigka ñi wirikon zugu mew (\"Ley\" pi ta wigka) fey mew kom pu ce pepi nvway tvfaci zugu mew. Yamgerumenole cuci sugu rume wirintukulelu tvfaci \"Fvxa Cijka\" mew.\\n  \\n    Pura Xoy (8)\\n    Pu wigka mew mvley kiñe ruka cew ñi norvmgekemum ixofij wezake zugu; fey mew pepi nvway kom pu ce tañi igkañmageam, yamvñmagenole tvfeyci nor zugu wirintukulelu fvta cijka mew \"Constitución\" pigelu, nielu kom pu xokiñke ce fij mapu.\\n  \\n    Ayja Xoy (9)\\n    Gelay iney rume ñi koraltukugeael ka wemvnentugeael ka wemvnentugeael tañi mapu mew wezakamekenole.\\n  \\n    Mari Xoy (10)\\n    Tvfeyci wigka norvmzuguwe ruka mew, kom pu ce mvley ajkvtuñmageael ñi zugu, tañi kimgeam ñi weza femvn kam femnon ka tañi kimgeam cumueci ñi feletuael ragi kakelu pu ce.\\n  \\n    Mari Kiñe Xoy (11)\\n    \\n      \\n\\tKIÑE. Cem ce rume kimvñmagenole ñi weza femvn gelay cumuelu tañi zajuñmageael ka mvley ñi eluñmageael tañi igkawam.\\n      \\n      \\n\\tEPU. Kuyfi iney rume weza femfule, feyci mew zajufalnofule tvfeyci zugu gelay cumuelu ñi zajuñmageael fewla. Ka gelay cumuelu ñi zoy fvxa zajuñmageael feypilenole fewla tvfeyci nor zugu mew wirintukulelu Fvxa Cijka mew.\\n      \\n    \\n  \\n    Mari Epu Xoy (12)\\n    Wigka ñi wirikon zugu mew (\"Ley\" pi ta wigka) nvwkvley kom pu ce ka fey mew mvley ñi igkañmageael egvn kake ce zugukonle ñi mogen mew, kam ka ce pekanka lef konle ñi ruka mew, kom tañi felen mew ka wezaka zuguyekañmagele.\\n  \\n    Mari Kvla Xoy (13)\\n    \\n      \\n\\tKIÑE. Kom pu ce mvley ñi kisugvnew miyawael xokiñke ce (\"Estados\" pi ta wigka) ñi mapu mew.\\n      \\n      \\n\\tEPU. Kom pu ce pepi xipayay cem xokiñke ce (\"Estado\" pi ta wigka) mew rume ka kisu ñi mvlemum, welu ka pepi wiñotuay.\\n      \\n    \\n  \\n    Mari Meli Xoy (14)\\n    \\n      \\n\\tKIÑE. Cem zugu mew rume inayawgele cem ce rume, tvfa mvley ñi gvnaytuniegeael (\"asilar\" pi ta wigka) cem xokiñ ce mew rume.\\n      \\n      \\n\\tEPU. Welu tvfeyci gvnaytucen kvmelayay, rvf weza femle tvfaci ce, inayawlel (lagvmle, weñele) ka yamnofile tvfaci \"Naciones Unidas\" ñi wixañpvramnieel ci zugu.\\n      \\n    \\n  \\n    Mari Kecu Xoy (15)\\n    \\n      \\n\\tKIÑE. Kom pu ce pepi nvwkvleay cem az mogen (\"nacionalidad\" pi ta wigka) mew rume.\\n      \\n      \\n\\tEPU. Iney rume mvntuñmagelayay ñi az mogen (\"nacionalidad\") ka pepi nvway ka konaygvn kake az mogen mew kvpa femle egvn.\\n      \\n    \\n  \\n    Mari Kayu Xoy (16)\\n    \\n      \\n\\tKIÑE. Kom pu zomo ka pu wenxu pepi kureyeway kvpa kvreyewle cem xipacegeaygu rume, kekewme az mogen nieaygu rume. Kvpa niele kisu ñi pu fvren egu femaygu mvten. Ka femueci kvme feleaygu: iney rume cumekelayaygu egu kurewenkvlen kam wvzatule egu rume.\\n      \\n      \\n\\tEPU. Tvfaci epu ce re kisuzuam pile egu mvten fey wvla pepi kureyewaygu.\\n      \\n      \\n\\tKVLA. Kom pu fijke ce reñmawengenofule gelayafuy ce kom mapu, fey mew ta pu xokiñ ce (\"Estado\" pi ta wigka) ka kom pu ce mvley tañi gvnaytunieael fijke fvrenwen ka reñmawen.\\n      \\n    \\n  \\n    Mari Reqle Xoy (17)\\n    \\n      \\n\\tKIÑE. Kom pu ce mvley kisu ñi gengeael, ka xokiñke ce ñi gengeael cemu rume.\\n      \\n      \\n\\tEPU. Iney rume pekanka mvntuñmagelayay ñi nieel (cemgeay rume).\\n      \\n    \\n  \\n    Mari Pura Xoy (18)\\n    Cem rakizuam rume cem feyentun rume nieay fij pu ce gelayay cumuelu ñi mvntuñmageael ka takuñmageael. Kisuzuam kvpa konle kake feyentun mew femay mvten, kvpa kimelle ñi rakizuam ka feyentun ka pepi kimelafi.\\n  \\n    Mari Ayja Xoy (19)\\n    Kom pu ce pepi entuay ñi rakizuam ka zugu, ka pepi kimellafi kompvle cumueci rume (radiomu, telemu, wirinmu) ka pepi kintuay, ramtuay ka joway zugu tañi kvzawkvlenmu. Ka femueci tvfaci zugu pepi kimellafi cew rume.\\n  \\n    Epu Mari Xoy (20)\\n    \\n      \\n\\tKIÑE. Kom pu ce kisu ñi gvnewmu pepi xawvay cem piei xokiñ ce egvn rume.\\n      \\n      \\n\\tEPU. Welu cem ce rume pinole ñi konaeal cem xokiñ ce ñi kvzaw mew rume, gelay cumuelu ñi gagegeael.\\n      \\n    \\n  \\n    Epu Mari Kiñe Xoy (21)\\n    \\n      \\n\\tKIÑE. Cem ce rume pepi konay logkolealu tvfeyci xokiñ ce mew nvwkvlelu Kiñe Mapu mew (\"País\" pi ta wigka) kam werkvaygvn kiñe ce kisu egvn tañi zujiel.\\n      \\n      \\n\\tEPU. Kom pu ce xvr pepi konay tañi kiñe Mapu Xokiñ ce mew ñi cem kvzaw mew rume.\\n      \\n      \\n\\tKVLA. Tvfey ci Kiñe Mapu Xokiñ ce mew logkolelu: Logkogey kom pu ce mvlelu fey ci xokiñmu tañi zuam. Tvfa ci pu ce mvxvmmuway tañi zujiam ñi logko egvn, kom xvr pepi feypiaygvn iney tañi zuamniefiel tañi logkogeal.\\n      \\n    \\n  \\n    Epu Mari Epu Xoy (22)\\n    Tvfey ci logkolelu Kiñe Mapu Xokiñ Ce mew mvley wvlael ixofij keju tañi kvme feleam ka kvme mogeleam kom pu ce mvlelu tvfey ci Xokiñ mew. Tvfaci logko kvme pepi kejunole ñi pu ce mvley tañi kejuaetew kake Mapu Xokiñ Ce.\\n  \\n    Epu Mari Kvla Xoy (23)\\n    \\n      \\n\\tKIÑE. Kom pu ce mvley ñi nieael kvzaw, mvley kisu zujiael ñi kvzaw femueci ta xvr feleay ta pu ce. Cem ce rumje penoloe kvzaw mvley tañi gvnaytunieaetew wvnenkvleci pu ce ixofij zugu mew, tañi Kiñe Mapu Xokiñ Ce mew.\\n      \\n      \\n\\tEPU. Kom pu ce cumgeay rume mvley ñi kom xvr kujigeael tañi kvzaw mew egvn.\\n      \\n      \\n\\tKVLA. Kom Kvzawci pu ce mvley ñi kvme kujiniegeael; tañi kvme mogeleam ka kvme mogelneam ñi pu fvren. Puwjenole tvfaci mogeam, mvley ñi kejugeael tañi Kiñe Mapu Xokiñ Ce mew.\\n      \\n      \\n\\tMELI. Tvfeyci pu kvzawfe rvf kvme felenole, yamvñmagenole ñi zugu egvn pepi xawvluwaygvn tañi kinewvn igkawam egvn.\\n      \\n    \\n  \\n    Epu Mari Meli Xoy (24)\\n    Kom Kvzawfe pu ce mvley ñi vrkvtuael ñi kvzaw mew, ka tañi zoy kvzawnoam, yamvñmageael ñi orario ka tañi kiñe mufv antv vrkvtuael fij xipantu.\\n  \\n    Epu Mari Kecu Xoy (25)\\n    \\n      \\n\\tKIÑE. Kom pu ce mvley ñi kvme mogen nieael; kuxanle egvn tañi peael lawen, tañi kvme iyael egvn, kvme tukuluwvn ñi peael, kvme ruka mew ñi mvleael, tañi peael lawentufe ce egvn. Tvfa rume falile tañi keju kujigeael. Ka femueci pepi kvzawnole mvley ñi kejuaetew ka gvnaytuaetew pu wvnenkvleci pu ce ixofij zugu mew tañi Kiñe Mapu Xokiñ mew.\\n      \\n      \\n\\tEPU. Pvñeñci pu zomo ka mvle-mvlegeci pu picike ce mvley ñi peaetew ka kejuaetew kvmeke lawentucefe ka femueci kom pu picike ce mvley ñi gvnaytuniegeael kom pu Xokiñ Ce mew.\\n      \\n    \\n  \\n    Epu Mari Kayu Xoy (26)\\n    \\n      \\n\\tKIÑE. Kom pu ce pepi kimay fij cijkatun, cem ce rume kujilayay tañi kimam. Welu kom pu ce mvley tañi rvf kimelgeael fij zugu wvneluw cijkatukeel tañi kim cegeam. Cem ce rume zoy kvpa cijkatule tañi zoy kimam femay mvten ka kom pu ce cumgeay rume, pepi konay cem cijkatun mew rume, tañi ayvnieel ñi inayael.\\n      \\n      \\n\\tEPU. Kom tvfaci cijkatun ka kimeltun mvley ñi kejuael kvme cegeam, kim cegeam, nor vegeam, mvley ñi newenmayafiel ta nor felen ka kisugvnew felen tvfaci mogen mew. Mvley tañi kejuael welukon yamniewael mew ka wenvykawael kom pu ce ka fijke Xokiñke Pu Ce, cem az mogen rume nieaygvn. Kom tvfaci kimeltun mvley ñi kejukvzawmayafiel ka wixañpvramafiel fij kvmeke zugu \"Naciones Unidas\" mew.\\n      \\n      \\n\\tKVLA. Kom pu kurewen mvley kisu egu ñi piael cem kimvn ka cijkatun nieael tañi pu pvñeñ.\\n      \\n    \\n  \\n    Epu Mari Reqle Xoy (27)\\n    \\n      \\n\\tKIÑE. Kom pu ce mvley ñi kisuzuam nvwael cem wimtun mew rume mvlele tañi Xokiñ Ce mew, ka tañi kintuael, inakonael, ka nvael cem fvtake kimvn rume mvlele.\\n      \\n      \\n\\tEPU. Cem ce rume mvley tañi gvnaytukunieñmageae ka kuñiwtukunieñmageael tañi gvbam ka tañi kimvn niele ka femueci mvley ñi niegeael tvfaci zugu cuci ce rume kuwv mew entule cem kvzaw rume.\\n      \\n    \\n  \\n    Epu Mari Pura Xoy (28)\\n    Fijke Kiñe Mapu Xokiñ Ce mew mvley ñi kvme nor elgeael zugu, femueci ta kom pu ce mvlelu fij mapu yamvñmageay ñi nor az felen.\\n  \\n    Epu Mari Ayja Xoy (29)\\n    \\n      \\n\\tKIÑE. Kom pu ce mvley tañi rvf nieael kvme zugu, kvme rakizuam ka tañi nor cegeael tañi ragi pu Xokiñ Ce mew, fey mew am xemkvlelu ce reke ka amulnielu cem kvzaw rume.\\n      \\n      \\n\\tEPU. Tañi nor felenmu ka kisugvnew felenmu kom pu ce nvwkvleay wigka ñi wirikon zugu mew (\"Ley\" pi ta wigka) mvten, fey mew ta kakelu pu ce yamvñmageay ñi kvme feleael, kisugvnew felen, ñi nor feleael ka tañi mvleam xvr ka nor mogen kom pu Xokiñke Ce mew.\\n      \\n      \\n\\tKVLA. Kom tvfaci nor zugu cumkaw rume gelay ñi nvgeael weluka ka pekagka amulgeale. \"Naciones Unidas\" ta pekagka amulael mogen, wixañpvrammekelay tvfaci \"Fvxa Cijka\".\\n      \\n    \\n  \\n    Kvla Mari Xoy (30)\\n    Tvfaci \"Fvxa Cijka\", cew tañi kimelgen cumueci ñi mvleael mogen fij mapu, gelay cem xokiñ ce rume ñi nvafiel tañi goymalafiel ka tañi kvzawmayafiel tañi ñamvmnaqvmgeam cuci zugu rume pegelgeael tvfaci \"Fvxa Cijka\" mew.\\n  '"
      ]
     },
     "execution_count": 40,
     "metadata": {},
     "output_type": "execute_result"
    }
   ],
   "source": [
    "text"
   ]
  },
  {
   "cell_type": "code",
   "execution_count": 41,
   "id": "ee550f65",
   "metadata": {},
   "outputs": [],
   "source": [
    "## noten que \"text\" es un string donde aparece varias veces el símbolo \"\\n\". Esto es un indicador\n",
    "## de salto de línea. Para dividir en oraciones justo en ese punto, usamos split()\n",
    "\n",
    "text = text.split('\\n')"
   ]
  },
  {
   "cell_type": "code",
   "execution_count": 42,
   "id": "5ffd528b",
   "metadata": {},
   "outputs": [],
   "source": [
    "## ahora, tal como pasaba antes cuando dividíamos por espacios en blanco, \"text\" es una lista de strings, que\n",
    "## corresponden aproximadamente a oraciones. "
   ]
  },
  {
   "cell_type": "code",
   "execution_count": 43,
   "id": "c9cd86ac",
   "metadata": {},
   "outputs": [
    {
     "data": {
      "text/plain": [
       "['Universal Declaration of Human Rights - Mapudungun',\n",
       " '© 1996 – 2009 The Office of the High Commissioner for Human Rights',\n",
       " 'This plain text version prepared by the “UDHR in Unicode”',\n",
       " 'project, https://www.unicode.org/udhr.',\n",
       " '---',\n",
       " '',\n",
       " 'Kom Mapu Fijke Az Tañi Az Mogeleam',\n",
       " '    Tuwvlzugun',\n",
       " '    (\"Preámbulo\" pi ta wigka)',\n",
       " '    Kimnieel fij mapu mew tañi kimgen kvme felen kisugvnew felen xvr kvme mvlen. Tvfaci zugu ñi mvleken mvleyem yamvwvn ka xvr kvme nor felen kom pu reñmawke ce mew.']"
      ]
     },
     "execution_count": 43,
     "metadata": {},
     "output_type": "execute_result"
    }
   ],
   "source": [
    "text[:10]"
   ]
  },
  {
   "cell_type": "code",
   "execution_count": 44,
   "id": "dc50f1b9",
   "metadata": {},
   "outputs": [],
   "source": [
    "## noten que hay algunos strings que tienen espacios demás. Eso lo corregimos con .strip()\n",
    "\n",
    "## lista vacía que va a contener las oraciones\n",
    "mapudungun = []\n",
    "## recorremos text con un ciclo for\n",
    "for line in text:\n",
    "    ## en cada iteración, aplicamos strip() y guardamos el resultado en la lista mapudungun\n",
    "    mapudungun = mapudungun + [line.strip()]"
   ]
  },
  {
   "cell_type": "code",
   "execution_count": 45,
   "id": "30e6eca2",
   "metadata": {},
   "outputs": [
    {
     "data": {
      "text/plain": [
       "['Universal Declaration of Human Rights - Mapudungun',\n",
       " '© 1996 – 2009 The Office of the High Commissioner for Human Rights',\n",
       " 'This plain text version prepared by the “UDHR in Unicode”',\n",
       " 'project, https://www.unicode.org/udhr.',\n",
       " '---',\n",
       " '',\n",
       " 'Kom Mapu Fijke Az Tañi Az Mogeleam',\n",
       " 'Tuwvlzugun',\n",
       " '(\"Preámbulo\" pi ta wigka)',\n",
       " 'Kimnieel fij mapu mew tañi kimgen kvme felen kisugvnew felen xvr kvme mvlen. Tvfaci zugu ñi mvleken mvleyem yamvwvn ka xvr kvme nor felen kom pu reñmawke ce mew.',\n",
       " 'Gewenonmu yamuwvn, zuamgewenonmu kvme felen, goymagenmu nor felen mvley re jazkvnkawvn: Fey mew mvley xvrvmzugu kom pu ce tañi kvme mogeleam kisuke ñi feyentun mew, kisu ñi rakizuam mew ka ñi wimtun mew ñi mvleal egvn.',\n",
       " 'Tañi mvlenoam kaiñetuwvn zugu, awkan zugu tvfeyci wezake vbmen egvn mvley tañi xvrvmuwael tvfeyci wvnenkvleci pu ce zugu mew tañi yamgeam xvr kvme nor felen.',\n",
       " 'Ka kimnieel ñi rvf kvme zugugen, wenvykawvn kom pu Xokiñke Ce egvn, nuwkvlelu Kiñe Mapu mew (\"Naciones Unidas\" pi ta wigka): Tvfa egvn xawvlelu \"Naciones Unidas\" mew nuwtuaygvn tvfaci \"Fvxa Cijka\" mew kvme xvr norkvletuam ñi mogen kom pu wenxu ka pu zomo mvlelu ixofij mapu mew feyci, kom xawvci pu ce tañi werkvel ci Pu Xokinke Ce (\"Estados Miembros\" pi ta wigka) mvlelu fij mapu kom pvle kejuwayiñ taiñ yamfalafiel xvr kvme felen ka nor felen piwigvn.',\n",
       " 'Femueci mvlcy ñi kimniegeael kom mapu mew nor kvme felen ka kisugvnew mvlen tvfaci rakizuam kvzaw mew.',\n",
       " 'Fey mew Fvxa Xawvn mew (\"Asamblea General\" pi ta wigka)',\n",
       " 'Wixañpvramgey tvfaci Fvxa Cijka Kom Mapu Fijke Az Ce Tañi Az Mogeleam pigelu.',\n",
       " 'Rvf kvme zugugelu am fey mew ta mvley tañi kvzawael kom pu ce fij mapu mew, pu fvxake vbmen, kom pu ce wvnenkvlelu cem zugu mew rume, pu wenxu ka pu zomo mvley tañi newenmayafiel ka wenuñpvramafiel tvfaci zugu az mogeleam kom pu mogen ce, fey mew ta yamgeay xvr felen ka nor felen tvfaci mogen mew.',\n",
       " '',\n",
       " 'Kiñe Xoy (1)',\n",
       " 'Kom pu mogence kisuzuam mvlekey, kom cegeygvn, logkogeygvn ka piwkegeygvn, nieygvn kimvn fey mew mvley tañi yamniewael ka epuñpvle kejuwael egvn.',\n",
       " '',\n",
       " 'Epu Xoy (2)',\n",
       " 'KIÑE. Kom xipace, fijke mojfvñ ce wixapvraley ñi kvme felen, nor felen tvfaci Fvxa Cijka mew, cumgeay rume ñi zugun, ñi wimtun, cem azgeay rume, cem kimvn rume nieay.',\n",
       " 'EPU. Kom pu xokiñ ce, cem az mogengeayrume mvlelu fij mapu, ka femueci xvr nvwkvley tvfaci Fvxa Cijka mew.',\n",
       " '',\n",
       " 'Kvla Xoy (3)',\n",
       " 'Kom ce mvley ñi mogeleael, kisugvnew feleael ka yamniegeael.',\n",
       " '',\n",
       " 'Meli Xoy (4)',\n",
       " 'Iney rume gelay ñi xafkiñtuceael. Gewelayay xafkiñtucen ran mew kuyfi reke.']"
      ]
     },
     "execution_count": 45,
     "metadata": {},
     "output_type": "execute_result"
    }
   ],
   "source": [
    "mapudungun[:30]"
   ]
  },
  {
   "cell_type": "code",
   "execution_count": 46,
   "id": "d06fade1",
   "metadata": {},
   "outputs": [],
   "source": [
    "## Construya una función que haga todo lo anterior. La función recibe el código de la lengua (arn), abre el \n",
    "## archivo, divide en oraciones, elimina espacios en blanco\n",
    "\n",
    "## input: codigo iso de la lengua\n",
    "## output: lista de oraciones (strings)\n",
    "def lectura_archivo(codigo):\n",
    "    ## código aquí\n",
    "    return lista_oraciones"
   ]
  },
  {
   "cell_type": "code",
   "execution_count": 47,
   "id": "1cce71a0",
   "metadata": {},
   "outputs": [],
   "source": [
    "## Una pequeña variación: construya una función que además de hacer lo que hace lectura_archivo, divida\n",
    "## cada oración en strings en minúscula. Puede usar funciones ya hechas anteriormente. En Python, puede\n",
    "## usar funciones dentro de funciones :)\n",
    "\n",
    "## input: codigo iso de la lengua\n",
    "## output: lista de oraciones tokenizadas\n",
    "def lectura_archivo_tok(codigo):\n",
    "    ## código aquí\n",
    "    return lista_oraciones_tok"
   ]
  },
  {
   "cell_type": "code",
   "execution_count": 48,
   "id": "8a3fcbe0",
   "metadata": {},
   "outputs": [],
   "source": [
    "## Note que la lista \"mapudungun\" tiene elementos ''. Construya una variación de lectura_archivo_tok que\n",
    "## elimine esos strings ¿Qué ocurre si ponemos len('') o len(' ')? \n",
    "\n",
    "## input: codigo iso de la lengua\n",
    "## output: lista de oraciones tokenizadas\n",
    "def lectura_archivo_tok_version2(codigo):\n",
    "    ## código aquí\n",
    "    return lista_oraciones_tok"
   ]
  },
  {
   "cell_type": "code",
   "execution_count": 49,
   "id": "f0cc2e8a",
   "metadata": {},
   "outputs": [],
   "source": [
    "## Como podrá darse cuenta, existen oraciones como\n",
    "\n",
    "s = 'Iney rume gelay ñi xafkiñtuceael. Gewelayay xafkiñtucen ran mew kuyfi reke.'\n",
    "\n",
    "## en las que aplicar .split() nos lleva a errores\n",
    "\n",
    "s_split = s.split()"
   ]
  },
  {
   "cell_type": "code",
   "execution_count": 50,
   "id": "12cf6396",
   "metadata": {},
   "outputs": [
    {
     "data": {
      "text/plain": [
       "['Iney',\n",
       " 'rume',\n",
       " 'gelay',\n",
       " 'ñi',\n",
       " 'xafkiñtuceael.',\n",
       " 'Gewelayay',\n",
       " 'xafkiñtucen',\n",
       " 'ran',\n",
       " 'mew',\n",
       " 'kuyfi',\n",
       " 'reke.']"
      ]
     },
     "execution_count": 50,
     "metadata": {},
     "output_type": "execute_result"
    }
   ],
   "source": [
    "s_split"
   ]
  },
  {
   "cell_type": "code",
   "execution_count": 51,
   "id": "43630230",
   "metadata": {},
   "outputs": [],
   "source": [
    "## Noten que la palabra final lleva \".\". Debemos eliminar eso! Pruebe la siguiente función! ¿Qué es lo que hace?\n",
    "\n",
    "import string\n",
    "\n",
    "def remover_puntuacion(s): \n",
    "    for c in string.punctuation:\n",
    "        s=s.replace(c,\"\")\n",
    "    return s"
   ]
  },
  {
   "cell_type": "code",
   "execution_count": 52,
   "id": "bb57d0bc",
   "metadata": {},
   "outputs": [],
   "source": [
    "## Con esto, construya una nueva función que incluya la eliminación de los signos de puntuación. Mire\n",
    "## aquí para muchas versiones de lo mismo \n",
    "## https://stackoverflow.com/questions/265960/best-way-to-strip-punctuation-from-a-string\n",
    "\n",
    "## input: codigo iso de la lengua\n",
    "## output: lista de oraciones tokenizadas\n",
    "def lectura_archivo_tok_version3(codigo):\n",
    "    ## código aquí\n",
    "    return lista_oraciones_tok"
   ]
  },
  {
   "cell_type": "code",
   "execution_count": null,
   "id": "e3f88187",
   "metadata": {},
   "outputs": [],
   "source": []
  }
 ],
 "metadata": {
  "kernelspec": {
   "display_name": "conda_python3",
   "language": "python",
   "name": "conda_python3"
  },
  "language_info": {
   "codemirror_mode": {
    "name": "ipython",
    "version": 3
   },
   "file_extension": ".py",
   "mimetype": "text/x-python",
   "name": "python",
   "nbconvert_exporter": "python",
   "pygments_lexer": "ipython3",
   "version": "3.6.13"
  }
 },
 "nbformat": 4,
 "nbformat_minor": 5
}
