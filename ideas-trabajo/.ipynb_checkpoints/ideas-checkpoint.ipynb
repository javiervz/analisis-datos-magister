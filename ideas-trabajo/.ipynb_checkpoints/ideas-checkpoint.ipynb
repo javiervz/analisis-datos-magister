{
 "cells": [
  {
   "cell_type": "markdown",
   "id": "bbf74234",
   "metadata": {},
   "source": [
    "## Ideas de trabajo final (en proceso ...)"
   ]
  },
  {
   "cell_type": "markdown",
   "id": "418531c8",
   "metadata": {},
   "source": [
    "## Materiales y corpus\n",
    "1. **Bases de datos tipológicas**\n",
    "    - [Sails](https://sails.clld.org/)\n",
    "    - [Wals](https://wals.info/)\n",
    "    - [Autotyp](http://www.autotyp.uzh.ch/)\n",
    "    - [APiCS](https://apics-online.info/)\n",
    "    - [Glottolog](https://glottolog.org/)\n",
    "    - [soundcomparisons](https://soundcomparisons.com/#home)\n",
    "2. **Corpus paralelos**\n",
    "   - [UDHR](https://www.unicode.org/udhr/index.html)\n",
    "   - [Biblias](https://github.com/christos-c/bible-corpus/tree/master/bibles)\n",
    "   - [Números en 186 lenguas](https://github.com/google/uninum)\n",
    "   - [Corpus paralelo del paper \"A Resource for Computational Experiments on Mapudungun\"](https://github.com/mingjund/mapudungun-corpus)\n",
    "3. **Morfología**\n",
    "   - [Universal Morphology](https://unimorph.github.io)\n",
    "4. **Links**\n",
    "   - [Recursos digitales para lenguas indígenas](https://github.com/pywirrarika/naki#corpus-and-digital-resources)\n",
    "   - [Universal dependencies](https://universaldependencies.org/)"
   ]
  },
  {
   "cell_type": "markdown",
   "id": "94b1fa57",
   "metadata": {},
   "source": [
    "## Papers \n",
    "1. **Aproximaciones computacionales a lenguas específicas**\n",
    "   - [A Resource for Computational Experiments on Mapudungun](https://aclanthology.org/2020.lrec-1.350.pdf)\n",
    "   - [Comparing morphological complexity of Spanish, Otomi and Nahuatl](https://aclanthology.org/W18-4604.pdf)\n",
    "2. **Panorámicas sobre aproximaciones computacionales a lenguas indígenas**\n",
    "   - [Challenges of language technologies for the indigenous languages of the Americas](https://aclanthology.org/C18-1006.pdf)\n",
    "3. **Análisis a gran escala**\n",
    "   - [The entropy of words](https://www.mdpi.com/1099-4300/19/6/275/htm)"
   ]
  },
  {
   "cell_type": "markdown",
   "id": "d6062592",
   "metadata": {},
   "source": [
    "## Herramientas de análisis\n",
    "1. [Entropía](https://aclanthology.org/W16-4117.pdf). La **entropía** mide la información promedio que está contenida en las palabras. \n",
    "2. [Muchas herramientas: Typological Linguistics for NLP](https://hal.archives-ouvertes.fr/hal-01856176/document)"
   ]
  },
  {
   "cell_type": "markdown",
   "id": "de3b6070",
   "metadata": {},
   "source": [
    "## Propuestas: las propuestas incluyen\n",
    "1. **Datos!**\n",
    "2. **Procesamiento** de los datos\n",
    "3. Alguna **herramienta computacional** de análisis\n",
    "4. **Interpretación desde la Lingüística** del uso de la herramienta de análsis"
   ]
  },
  {
   "cell_type": "markdown",
   "id": "39551a84",
   "metadata": {},
   "source": [
    "### Frecuencias de palabras\n",
    "1. A partir de algún corpus paralelo, el **objetivo** es cuantificar diferencias en la manera en que las frecuencias de palabras se distribuyen en lenguas distintas. En diversos papers (por ejemplo, [Zipf's Law for Word Frequencies: Word Forms versus Lemmas in Long Texts](https://journals.plos.org/plosone/article?id=10.1371/journal.pone.0129031)), se propone la aparición de leyes de escala: algunas palabras aparecen mucho, mientras que otras (al parecer, la mayoría) aparece muy poco. La pregunta natural es entonces: **¿Es cierto esto en lenguas de Sudamérica? ¿Qué datos permitirían aproximarnos a esta pregunta?**\n",
    "2. También a partir de algún corpus paralelo, el **objetivo** es cuantificar una variante de la propuesta anterior: ¿Qué ocurre en lenguas polisintéticas si en vez de contar **palabras** contamos **morfemas**? Una posible aproximación es mirar los datos de [UniMorph](https://unimorph.github.io) y testear la hipótesis de que lenguas polisintéticas/aglutinantes tendrán una gran cantidad de **word-forms**. En términos más específicos, es posible usar este tipo de [datos](https://github.com/sigmorphon/conll2018/tree/master/task1/all) con el fin de describir distintas distribuciones de types y tokens. "
   ]
  },
  {
   "cell_type": "markdown",
   "id": "3f038723",
   "metadata": {},
   "source": [
    "### Nociones de información\n",
    "El **objetivo** es cuantificar diferentes formas de comprimir información en una palabra. Es natural pensar, en este sentido, que una lengua polisintética tendrá un mayor cantidad de morfemas por palabra, que una lengua no polisintética ¿Cómo podemos medir este fenómeno? ¿Qué ocurre en lenguas de Sudamérica? Dos fuentes de información pueden ser útiles:\n",
    "   - Alguna forma de corpus paralelo\n",
    "   - [Capítulo 22A de Wals](https://wals.info/chapter/22). En este capítulo, se mide el número de categorías por palabra en un verbo ¿De qué forma esto se correlaciona con alguna medida extraída de corpus? ¿Qué datos nos sirven con respecto a lenguas de Sudamérica? Como sugerencia, se podría identificar, primero, todas las lenguas de Sudamérica anotadas con respecto a este capítulo. Segundo, se puede contrastar este valor teórico con alguna medida extraída de corpus. En términos más precisos, sería interesar cruzar estos [datos](https://github.com/sigmorphon/conll2018/tree/master/task1/all) con información tipológica entregada por Wals. "
   ]
  },
  {
   "cell_type": "markdown",
   "id": "4576965e",
   "metadata": {},
   "source": [
    "### Correlaciones entre información tipológica e información geográfica para lenguas de Sudamérica\n",
    "El **objetivo** es cuantificar las relaciones entre información tipológica e información geográfica (la posición aproximada de las lenguas) para alguna familia de lenguas de Sudamérica. Algunas ideas son las siguientes:\n",
    "   - Información tipológica de [Sails](https://sails.clld.org/) \n",
    "   - Información geográfica de [Glottolog](https://sails.clld.org/)\n",
    "   - Preguntas: ¿Cómo varía la distancia de Hamming entre lenguas a medidad que aumenta/disminuye la distancia geográfica?"
   ]
  },
  {
   "cell_type": "markdown",
   "id": "f31c5b1b",
   "metadata": {},
   "source": [
    "### Distancias tipológicas para lenguas aisladas de Sudamérica\n",
    "Según un [paper muy interesante](https://www.routledgehandbooks.com/doi/10.4324/9781315750026.ch10), Sudamérica es una de las regiones con más lenguas aisladas del mundo. Algunas ideas:\n",
    "   - Pregunta: para una lengua aislada, ¿Cómo varía la distancia tipológica en función de la distancia geográfica con respecto otras lenguas de Sudamérica?"
   ]
  },
  {
   "cell_type": "markdown",
   "id": "4f88ac2c",
   "metadata": {},
   "source": [
    "### Influencia del tamaño de una familia lingüística y distancias tipológicas para lenguas de Sudamérica\n",
    "Según el mismo [paper](https://www.routledgehandbooks.com/doi/10.4324/9781315750026.ch10), Sudamérica es también diverso en familias de pocas lenguas. \n",
    "   - Preguntas: ¿De qué manera influye el tamaño de una familia lingüística en la distancia tipológica interna (entre lenguas de la misma familia)? ¿Qué pasa con lenguas externas (de otras familias)?"
   ]
  },
  {
   "cell_type": "markdown",
   "id": "3f6b3ac3",
   "metadata": {},
   "source": [
    "### Distancias fonéticas entre variantes del mapudungun\n",
    "Usando [datos públicos interesantes](https://soundcomparisons.com/#home) y alguna definición de distancia fonética entre palabras, nos proponemos mapear variaciones geográficas. Algunas ideas:\n",
    "   - usar mapas como una forma de \"ver\" las variaciones.\n",
    "   - ¿Qué variantes se parecen/diferencian más?"
   ]
  },
  {
   "cell_type": "markdown",
   "id": "3571a12f",
   "metadata": {},
   "source": [
    "### Distancias fonéticas entre lenguas distintas\n",
    "Usando [datos públicos interesantes](https://soundcomparisons.com/#home) y alguna definición de distancia fonética entre palabras, nos proponemos mapear variaciones geográficas entre lenguas distintas. Algunas ideas:\n",
    "   - usar mapas como una forma de \"ver\" las variaciones.\n",
    "   - ¿Qué lenguas se parecen/diferencian más?"
   ]
  },
  {
   "cell_type": "code",
   "execution_count": null,
   "id": "1b6d061d",
   "metadata": {},
   "outputs": [],
   "source": []
  }
 ],
 "metadata": {
  "kernelspec": {
   "display_name": "conda_python3",
   "language": "python",
   "name": "conda_python3"
  },
  "language_info": {
   "codemirror_mode": {
    "name": "ipython",
    "version": 3
   },
   "file_extension": ".py",
   "mimetype": "text/x-python",
   "name": "python",
   "nbconvert_exporter": "python",
   "pygments_lexer": "ipython3",
   "version": "3.6.13"
  }
 },
 "nbformat": 4,
 "nbformat_minor": 5
}
