{
 "cells": [
  {
   "cell_type": "markdown",
   "id": "d42eda80",
   "metadata": {},
   "source": [
    "## Ideas de trabajo final (en proceso ...)"
   ]
  },
  {
   "cell_type": "markdown",
   "id": "ae50c011",
   "metadata": {},
   "source": [
    "## Materiales y corpus\n",
    "1. **Bases de datos tipológicas**\n",
    "    - [Sails](https://sails.clld.org/)\n",
    "    - [Wals](https://wals.info/)\n",
    "    - [Autotyp](http://www.autotyp.uzh.ch/)\n",
    "    - [APiCS](https://apics-online.info/)\n",
    "    - [Glottolog](https://glottolog.org/)\n",
    "2. **Corpus paralelos**\n",
    "   - [UDHR](https://www.unicode.org/udhr/index.html)\n",
    "   - [Biblias](https://github.com/christos-c/bible-corpus/tree/master/bibles)\n",
    "   - [Números en 186 lenguas](https://github.com/google/uninum)\n",
    "   - [Corpus paralelo del paper \"A Resource for Computational Experiments on Mapudungun\"](https://github.com/mingjund/mapudungun-corpus)\n",
    "3. **Morfología**\n",
    "   - [Universal Morphology](https://github.com/unimorph)\n",
    "4. **Links**\n",
    "   - [Recursos digitales para lenguas indígenas](https://github.com/pywirrarika/naki#corpus-and-digital-resources)\n",
    "   - [Universal dependencies](https://universaldependencies.org/)"
   ]
  },
  {
   "cell_type": "markdown",
   "id": "f33e0b92",
   "metadata": {},
   "source": [
    "## Papers \n",
    "1. **Aproximaciones computacionales a lenguas específicas**\n",
    "   - [A Resource for Computational Experiments on Mapudungun](https://aclanthology.org/2020.lrec-1.350.pdf)\n",
    "   - [Comparing morphological complexity of Spanish, Otomi and Nahuatl](https://aclanthology.org/W18-4604.pdf)\n",
    "2. **Panorámicas sobre aproximaciones computacionales a lenguas indígenas**\n",
    "   - [Challenges of language technologies for the indigenous languages of the Americas](https://aclanthology.org/C18-1006.pdf)\n",
    "3. **Análisis a gran escala**\n",
    "   - [The entropy of words](http://www.christianbentz.de/Papers/Bentz%20et%20al.%20(2017)%20The%20entropy%20of%20words.pdf)"
   ]
  },
  {
   "cell_type": "markdown",
   "id": "fd625f29",
   "metadata": {},
   "source": [
    "## Propuestas: las propuestas incluyen\n",
    "1. **Datos!**\n",
    "2. **Procesamiento** de los datos\n",
    "3. Alguna **herramienta computacional** de análisis\n",
    "4. **Interpretación desde la Lingüística** del uso de la herramienta de análsis"
   ]
  },
  {
   "cell_type": "markdown",
   "id": "0192c5d8",
   "metadata": {},
   "source": [
    "### Frecuencias de palabras\n",
    "1. A partir de algún corpus paralelo, el **objetivo** es cuantificar diferencias en la manera en que las frecuencias de palabras se distribuyen en lenguas distintas. En diversos papers (por ejemplo, [Zipf's Law for Word Frequencies: Word Forms versus Lemmas in Long Texts](https://journals.plos.org/plosone/article?id=10.1371/journal.pone.0129031)), se ṕropone la aparición de leyes de escala: algunas palabras aparecen mucho, mientras que otras (al parecer, la mayoría) aparece muy poco. La pregunta natural es entonces: **¿Es cierto esto en lenguas de Sudamérica? ¿Qué datos permitirían aproximarnos a esta pregunta?**"
   ]
  },
  {
   "cell_type": "code",
   "execution_count": null,
   "id": "9fc48cd8",
   "metadata": {},
   "outputs": [],
   "source": []
  }
 ],
 "metadata": {
  "kernelspec": {
   "display_name": "conda_python3",
   "language": "python",
   "name": "conda_python3"
  },
  "language_info": {
   "codemirror_mode": {
    "name": "ipython",
    "version": 3
   },
   "file_extension": ".py",
   "mimetype": "text/x-python",
   "name": "python",
   "nbconvert_exporter": "python",
   "pygments_lexer": "ipython3",
   "version": "3.6.13"
  }
 },
 "nbformat": 4,
 "nbformat_minor": 5
}
