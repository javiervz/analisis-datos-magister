{
 "cells": [
  {
   "cell_type": "markdown",
   "id": "17435ffc",
   "metadata": {},
   "source": [
    "## Ideas de trabajo final"
   ]
  },
  {
   "cell_type": "markdown",
   "id": "06b1aa1c",
   "metadata": {},
   "source": [
    "## Materiales y corpus\n",
    "1. **Bases de datos tipológicas**\n",
    "    - [Sails](https://sails.clld.org/)\n",
    "    - [Wals](https://wals.info/)\n",
    "    - [Autotyp](http://www.autotyp.uzh.ch/)\n",
    "    - [APiCS](https://apics-online.info/)\n",
    "    - [Glottolog](https://glottolog.org/)\n",
    "2. **Corpus paralelos**\n",
    "   - [UDHR](https://www.unicode.org/udhr/index.html)\n",
    "   - [Biblias](https://github.com/christos-c/bible-corpus/tree/master/bibles)\n",
    "   - [Números en 186 lenguas](https://github.com/google/uninum)\n",
    "   - [Corpus paralelo del paper \"A Resource for Computational Experiments on Mapudungun\"](https://github.com/mingjund/mapudungun-corpus)\n",
    "3. **Links**\n",
    "   - [Recursos digitales para lenguas indígenas](https://github.com/pywirrarika/naki#corpus-and-digital-resources)\n",
    "   - [Universal dependencies](https://universaldependencies.org/)"
   ]
  },
  {
   "cell_type": "markdown",
   "id": "1b1b2065",
   "metadata": {},
   "source": [
    "## Papers \n",
    "1. **Aproximaciones computacionales a lenguas específicas**\n",
    "   - [A Resource for Computational Experiments on Mapudungun](https://aclanthology.org/2020.lrec-1.350.pdf)\n",
    "   - [Comparing morphological complexity of Spanish, Otomi and Nahuatl](https://aclanthology.org/W18-4604.pdf)\n",
    "2. **Panorámicas sobre aproximaciones computacionales a lenguas indígenas**\n",
    "   - [Challenges of language technologies for the indigenous languages of the Americas](https://aclanthology.org/C18-1006.pdf)\n",
    "3. **Análisis a gran escala**\n",
    "   - [The entropy of words](http://www.christianbentz.de/Papers/Bentz%20et%20al.%20(2017)%20The%20entropy%20of%20words.pdf)"
   ]
  },
  {
   "cell_type": "code",
   "execution_count": null,
   "id": "9b9ac917",
   "metadata": {},
   "outputs": [],
   "source": []
  }
 ],
 "metadata": {
  "kernelspec": {
   "display_name": "conda_python3",
   "language": "python",
   "name": "conda_python3"
  },
  "language_info": {
   "codemirror_mode": {
    "name": "ipython",
    "version": 3
   },
   "file_extension": ".py",
   "mimetype": "text/x-python",
   "name": "python",
   "nbconvert_exporter": "python",
   "pygments_lexer": "ipython3",
   "version": "3.6.13"
  }
 },
 "nbformat": 4,
 "nbformat_minor": 5
}
