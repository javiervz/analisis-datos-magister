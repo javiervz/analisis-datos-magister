{
 "cells": [
  {
   "cell_type": "markdown",
   "id": "28d14186",
   "metadata": {},
   "source": [
    "## Análisis computacional de datos lingüísticos\n",
    "J. Vera"
   ]
  },
  {
   "cell_type": "markdown",
   "id": "a8cef382",
   "metadata": {},
   "source": [
    "## **Aspectos básicos!!!**"
   ]
  },
  {
   "cell_type": "markdown",
   "id": "bc0acdce",
   "metadata": {},
   "source": [
    "1. Instalar **Python** en PC propio\n",
    "2. Conocer Google Colab\n",
    "3. Manejar aspectos básicos de **Jupyter Notebook:** crear carpetas y archivos!\n",
    "4. Tipos de **celdas:** código y markdown"
   ]
  },
  {
   "cell_type": "markdown",
   "id": "d68fcd0e",
   "metadata": {},
   "source": [
    "## **Python!!!**"
   ]
  },
  {
   "cell_type": "markdown",
   "id": "4f449a42",
   "metadata": {},
   "source": [
    "1. ¿Qué **tipos de variables** conocemos? Reconocer **números**, **strings**, **listas.**\n",
    "3. Saber que **las variables se asignan de derecha a izquierda usando el símbolo \"=\".** Entender que las variables se pueden actualizar, y nos vamos quedando con la última asignación. \n",
    "4. Entender **qué es una lista.** Manejar **algunas características de las listas**: estructuras entre \"[]\", que están ordenadas a través de índices y que pueden ser expandidas usando líneas como:\n",
    "```python:\n",
    "A = A + [1,2,3]\n",
    "```\n",
    "5. Entender la sintaxis y cómo se usan los **ciclos for.** Entender que **los ciclos for y las listas son muy parecidos**.\n",
    "6. Entender que **podemos definir ciclos for usando:**\n",
    "    - **los elementos de la lista:** \n",
    "    ```python:\n",
    "    for item in A:\n",
    "     ```\n",
    "    - **los índices de los elementos de la lista:** \n",
    "    ```python:\n",
    "    for i in range(len(A)):\n",
    "    ```\n",
    "7. De todas formas, entender que **si construimos un ciclo for siempre** recorremos una lista.\n",
    "8. Entender la sintaxis y el significado de **la condición if.** Conocer que podemos **mezclar ciclos for con if.**\n",
    "9. Entender **qué es un diccionario.** Reconocer sus principales elementos: keys, values. \n",
    "10. Entender que **a diferencia de las listas, los diccionarios no están ordenados.** \n",
    "11. Manejar **cosas básicas en diccionarios:** agregar elementos, acceder a elementos, integrar ciclos for con diccionarios. "
   ]
  },
  {
   "cell_type": "code",
   "execution_count": null,
   "id": "3c26612c",
   "metadata": {},
   "outputs": [],
   "source": []
  },
  {
   "cell_type": "code",
   "execution_count": null,
   "id": "c6862e92",
   "metadata": {},
   "outputs": [],
   "source": []
  }
 ],
 "metadata": {
  "kernelspec": {
   "display_name": "conda_python3",
   "language": "python",
   "name": "conda_python3"
  },
  "language_info": {
   "codemirror_mode": {
    "name": "ipython",
    "version": 3
   },
   "file_extension": ".py",
   "mimetype": "text/x-python",
   "name": "python",
   "nbconvert_exporter": "python",
   "pygments_lexer": "ipython3",
   "version": "3.6.13"
  }
 },
 "nbformat": 4,
 "nbformat_minor": 5
}
