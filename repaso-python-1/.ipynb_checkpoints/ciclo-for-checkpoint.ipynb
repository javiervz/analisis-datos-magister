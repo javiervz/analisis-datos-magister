{
 "cells": [
  {
   "cell_type": "markdown",
   "id": "e56517f5",
   "metadata": {},
   "source": [
    "## Mini apunte sobre el ciclo for (y algo sobre listas)"
   ]
  },
  {
   "cell_type": "code",
   "execution_count": 1,
   "id": "5038529b",
   "metadata": {},
   "outputs": [],
   "source": [
    "## Partamos con un problema (muy) simple. En la lista lista_palabras, tenemos un conjunto de strings\n",
    "\n",
    "lista_palabras = ['palabra1','palabra2','palabra3','palabra4','palabra5','palabra6']"
   ]
  },
  {
   "cell_type": "code",
   "execution_count": 2,
   "id": "7495c779",
   "metadata": {},
   "outputs": [
    {
     "data": {
      "text/plain": [
       "['palabra1', 'palabra2', 'palabra3', 'palabra4', 'palabra5', 'palabra6']"
      ]
     },
     "execution_count": 2,
     "metadata": {},
     "output_type": "execute_result"
    }
   ],
   "source": [
    "lista_palabras"
   ]
  },
  {
   "cell_type": "code",
   "execution_count": 3,
   "id": "374fbf49",
   "metadata": {},
   "outputs": [],
   "source": [
    "## la idea es agregar a cada string un sufijo\n",
    "\n",
    "sufijo = '-plural'"
   ]
  },
  {
   "cell_type": "code",
   "execution_count": 4,
   "id": "947ea4f6",
   "metadata": {},
   "outputs": [],
   "source": [
    "## NOTA: para concatenar dos strings, simplemente usamos \"+\". Por ejemplo,\n",
    "\n",
    "string1 = 'a'\n",
    "string2 = 'b'"
   ]
  },
  {
   "cell_type": "code",
   "execution_count": 5,
   "id": "0d729d15",
   "metadata": {},
   "outputs": [],
   "source": [
    "string_concatenado = string1+string2"
   ]
  },
  {
   "cell_type": "code",
   "execution_count": 6,
   "id": "ebd1246e",
   "metadata": {},
   "outputs": [
    {
     "data": {
      "text/plain": [
       "'ab'"
      ]
     },
     "execution_count": 6,
     "metadata": {},
     "output_type": "execute_result"
    }
   ],
   "source": [
    "string_concatenado"
   ]
  },
  {
   "cell_type": "code",
   "execution_count": 7,
   "id": "fb9621a7",
   "metadata": {},
   "outputs": [],
   "source": [
    "## ahora, volvamos a nuestro problema! :) Supongamos que en cada string de \"lista_palabras\" queremos agregar el sufijo.\n",
    "## ¿Cómo lo hacemos? Primero, de una forma al parecer un poco lenta!\n",
    "\n",
    "lista_palabras_sufijadas = ['palabra1'+sufijo,'palabra2'+sufijo,'palabra3'+sufijo,'palabra4'+sufijo,'palabra5'+sufijo,'palabra6'+sufijo,]"
   ]
  },
  {
   "cell_type": "code",
   "execution_count": 8,
   "id": "2e4ca39c",
   "metadata": {},
   "outputs": [
    {
     "data": {
      "text/plain": [
       "['palabra1-plural',\n",
       " 'palabra2-plural',\n",
       " 'palabra3-plural',\n",
       " 'palabra4-plural',\n",
       " 'palabra5-plural',\n",
       " 'palabra6-plural']"
      ]
     },
     "execution_count": 8,
     "metadata": {},
     "output_type": "execute_result"
    }
   ],
   "source": [
    "lista_palabras_sufijadas"
   ]
  },
  {
   "cell_type": "code",
   "execution_count": 9,
   "id": "e9da9e6c",
   "metadata": {},
   "outputs": [],
   "source": [
    "## es decir, manualmente agregamos el sufijo a cada palabra. Esto parece ser inmanejable si tenemos muchas palabras!\n",
    "## usemos un ciclo for!!!!\n",
    "\n",
    "## Los ciclos for, en Python, se basan en que las listas están ordenadas! Esto significa que existe un primer elemento, asociado al índice 0,\n",
    "## un segundo elemento, asociado al índice 1, y así sucesivamente hasta el elemento final, asociado al índice (largo de la lista menos 1)\n",
    "\n",
    "## En términos prácticos, al elegir los índices (o los elementos) de una lista sucesivamente podemos realizar cualquier operación\n",
    "## que deba realizarse tantas veces como el largo de una lista. Esto es muy importante :) Miren esto,\n",
    "\n",
    "palabra_sufijada1 = lista_palabras[0]+sufijo"
   ]
  },
  {
   "cell_type": "code",
   "execution_count": 10,
   "id": "4e4c8ac7",
   "metadata": {},
   "outputs": [
    {
     "data": {
      "text/plain": [
       "'palabra1-plural'"
      ]
     },
     "execution_count": 10,
     "metadata": {},
     "output_type": "execute_result"
    }
   ],
   "source": [
    "palabra_sufijada1"
   ]
  },
  {
   "cell_type": "code",
   "execution_count": 11,
   "id": "77136ae7",
   "metadata": {},
   "outputs": [],
   "source": [
    "## y si esto lo realizamos para todas las palabras que faltan\n",
    "\n",
    "palabra_sufijada2 = lista_palabras[1]+sufijo\n",
    "palabra_sufijada3 = lista_palabras[2]+sufijo\n",
    "palabra_sufijada4 = lista_palabras[3]+sufijo\n",
    "palabra_sufijada5 = lista_palabras[4]+sufijo\n",
    "palabra_sufijada6 = lista_palabras[5]+sufijo"
   ]
  },
  {
   "cell_type": "code",
   "execution_count": 12,
   "id": "9bbba642",
   "metadata": {},
   "outputs": [],
   "source": [
    "## Con esto,\n",
    "\n",
    "lista_palabras_sufijadas = [palabra_sufijada1,palabra_sufijada2,palabra_sufijada3,palabra_sufijada4,palabra_sufijada5,palabra_sufijada6]"
   ]
  },
  {
   "cell_type": "code",
   "execution_count": 13,
   "id": "1d25769e",
   "metadata": {},
   "outputs": [
    {
     "data": {
      "text/plain": [
       "['palabra1-plural',\n",
       " 'palabra2-plural',\n",
       " 'palabra3-plural',\n",
       " 'palabra4-plural',\n",
       " 'palabra5-plural',\n",
       " 'palabra6-plural']"
      ]
     },
     "execution_count": 13,
     "metadata": {},
     "output_type": "execute_result"
    }
   ],
   "source": [
    "lista_palabras_sufijadas"
   ]
  },
  {
   "cell_type": "code",
   "execution_count": 14,
   "id": "5d97a09e",
   "metadata": {},
   "outputs": [],
   "source": [
    "## Seguimos haciendo muchas veces una misma operación! Lo importante es que necesitamos una forma de \"iterar\", es decir, de recorrer\n",
    "## la lista lista_palabras, y ordenadamente desde el primer elemento, hasta el último, ir agregando el sufijo. Para esto, \n",
    "## usamos un ciclo \"for\"!!!\n",
    "\n",
    "## definamos una lista vacía\n",
    "\n",
    "lista_palabras_sufijadas = []"
   ]
  },
  {
   "cell_type": "code",
   "execution_count": 15,
   "id": "a886b5d1",
   "metadata": {},
   "outputs": [
    {
     "data": {
      "text/plain": [
       "[]"
      ]
     },
     "execution_count": 15,
     "metadata": {},
     "output_type": "execute_result"
    }
   ],
   "source": [
    "lista_palabras_sufijadas"
   ]
  },
  {
   "cell_type": "code",
   "execution_count": 16,
   "id": "24a127e0",
   "metadata": {},
   "outputs": [],
   "source": [
    "## En esta lista, iremos guardando los elementos de \"lista_palabras\" que vayamos sufijando ¿Cómo hacemos esto?\n",
    "## Esencialmente, de dos formas equivalentes:\n",
    "\n",
    "### o bien, recorremos los \"índices\" de lista_palabras \n",
    "\n",
    "### o bien, recorremos los \"elementos\" de lista_palabras\n",
    "\n",
    "## y vamos sufijando!"
   ]
  },
  {
   "cell_type": "code",
   "execution_count": 17,
   "id": "62979441",
   "metadata": {},
   "outputs": [
    {
     "data": {
      "text/plain": [
       "[0, 1, 2, 3, 4, 5, 6, 7, 8, 9]"
      ]
     },
     "execution_count": 17,
     "metadata": {},
     "output_type": "execute_result"
    }
   ],
   "source": [
    "## OPCIÓN 1: índices de lista_palabras\n",
    "## para obtener los índices, usamos range! range es una lista (o casi) que nos entrega números entre 0 y el número que indiquemos\n",
    "## Es decir,\n",
    "\n",
    "list(range(10))"
   ]
  },
  {
   "cell_type": "code",
   "execution_count": 18,
   "id": "dc4731a1",
   "metadata": {},
   "outputs": [],
   "source": [
    "## entrega números entre 0 y 9. Esto calza perfecto con los índices de los elementos de una lista de largo 10!!!\n",
    "## en nuestro caso, esto queda\n",
    "\n",
    "N = list(range(len(lista_palabras)))"
   ]
  },
  {
   "cell_type": "code",
   "execution_count": 19,
   "id": "ed89dbc6",
   "metadata": {},
   "outputs": [
    {
     "data": {
      "text/plain": [
       "[0, 1, 2, 3, 4, 5]"
      ]
     },
     "execution_count": 19,
     "metadata": {},
     "output_type": "execute_result"
    }
   ],
   "source": [
    "N"
   ]
  },
  {
   "cell_type": "code",
   "execution_count": 20,
   "id": "a83db0d0",
   "metadata": {},
   "outputs": [],
   "source": [
    "## noten que N es una lista que contiene los índices de los elementos de la lista lista_palabras ¿Cómo usamos esto?\n",
    "\n",
    "## recorremos los elementos de lista_palabras a través de sus índices. \n",
    "for i in N:\n",
    "    ## i es una variable, que en cada paso cambia de valor (0,1,...,5)\n",
    "    ## elemento de lista_palabras en la posición i\n",
    "    palabra = lista_palabras[i]\n",
    "    ## sufijamos!\n",
    "    palabra_sufijada = palabra+sufijo\n",
    "    ## guardamos!\n",
    "    lista_palabras_sufijadas+=[palabra_sufijada]"
   ]
  },
  {
   "cell_type": "code",
   "execution_count": 21,
   "id": "8bf7c81d",
   "metadata": {},
   "outputs": [
    {
     "data": {
      "text/plain": [
       "['palabra1-plural',\n",
       " 'palabra2-plural',\n",
       " 'palabra3-plural',\n",
       " 'palabra4-plural',\n",
       " 'palabra5-plural',\n",
       " 'palabra6-plural']"
      ]
     },
     "execution_count": 21,
     "metadata": {},
     "output_type": "execute_result"
    }
   ],
   "source": [
    "## y mágicamente estamos ok!\n",
    "\n",
    "lista_palabras_sufijadas"
   ]
  },
  {
   "cell_type": "code",
   "execution_count": 22,
   "id": "134a65e4",
   "metadata": {},
   "outputs": [],
   "source": [
    "## volvemos a definir esta lista como vacía\n",
    "\n",
    "lista_palabras_sufijadas = []"
   ]
  },
  {
   "cell_type": "code",
   "execution_count": 23,
   "id": "75dca3bb",
   "metadata": {},
   "outputs": [],
   "source": [
    "## OPCIÓN 2: elementos de lista_palabras\n",
    "## la idea es recorrer los elementos de lista_palabras, que sabemos están ordenados\n",
    "\n",
    "## ahora, recorremos los elementos de lista_palabras. Sabemos que están ordenados! Por esto, palabra es primero, el primer elemento\n",
    "## luego, el segundo elemento, y así sucesivamente hasta el último elemento de la lista\n",
    "\n",
    "## palabra es una variable en este caso, que en cada paso se reasigna a un elemento de la lista lista_palabras\n",
    "for palabra in lista_palabras:\n",
    "    ## sufijamos!\n",
    "    palabra_sufijada = palabra+sufijo\n",
    "    ## guardamos!\n",
    "    lista_palabras_sufijadas+=[palabra_sufijada]"
   ]
  },
  {
   "cell_type": "code",
   "execution_count": 24,
   "id": "0720cc05",
   "metadata": {},
   "outputs": [
    {
     "data": {
      "text/plain": [
       "['palabra1-plural',\n",
       " 'palabra2-plural',\n",
       " 'palabra3-plural',\n",
       " 'palabra4-plural',\n",
       " 'palabra5-plural',\n",
       " 'palabra6-plural']"
      ]
     },
     "execution_count": 24,
     "metadata": {},
     "output_type": "execute_result"
    }
   ],
   "source": [
    "## y nuevamente obtenemos lo que buscábamos!\n",
    "\n",
    "lista_palabras_sufijadas"
   ]
  },
  {
   "cell_type": "code",
   "execution_count": null,
   "id": "8711b957",
   "metadata": {},
   "outputs": [],
   "source": []
  }
 ],
 "metadata": {
  "kernelspec": {
   "display_name": "conda_python3",
   "language": "python",
   "name": "conda_python3"
  },
  "language_info": {
   "codemirror_mode": {
    "name": "ipython",
    "version": 3
   },
   "file_extension": ".py",
   "mimetype": "text/x-python",
   "name": "python",
   "nbconvert_exporter": "python",
   "pygments_lexer": "ipython3",
   "version": "3.6.13"
  }
 },
 "nbformat": 4,
 "nbformat_minor": 5
}
