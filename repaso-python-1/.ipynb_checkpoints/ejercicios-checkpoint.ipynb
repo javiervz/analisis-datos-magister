{
 "cells": [
  {
   "cell_type": "markdown",
   "id": "572a0d28",
   "metadata": {},
   "source": [
    "## Ejercicios"
   ]
  },
  {
   "cell_type": "markdown",
   "id": "1a957bef",
   "metadata": {},
   "source": [
    "### 1. Listas"
   ]
  },
  {
   "cell_type": "markdown",
   "id": "7fccc2ed",
   "metadata": {},
   "source": [
    "(problema basado en una consulta!) Considere tres listas A, B y C:"
   ]
  },
  {
   "cell_type": "code",
   "execution_count": 7,
   "id": "1d6898ba",
   "metadata": {},
   "outputs": [],
   "source": [
    "A = ['verde','rojo', 'azul']\n",
    "B = ['gato','perro','serpiente']\n",
    "C = ['mesa','silla','sillón']"
   ]
  },
  {
   "cell_type": "markdown",
   "id": "00d9312b",
   "metadata": {},
   "source": [
    "Defina una nueva lista, D, que contenga la concatenación de los elementos respectivos de A, B y C. Por ejemplo,\n",
    "\n",
    "```python:\n",
    "D = ['verde gato mesa', 'rojo perro silla', 'azul serpiente sillón']\n",
    "```\n",
    "Note que incluimos un espacio entre los strings!"
   ]
  },
  {
   "cell_type": "markdown",
   "id": "3cbfd76e",
   "metadata": {},
   "source": [
    "Pensemos en otra variante. Con las mismas tres listas, defina:\n",
    "    \n",
    "```python:\n",
    "E = ['verde rojo azul', 'gato perro serpiente', 'mesa silla sillón']\n",
    "```"
   ]
  },
  {
   "cell_type": "markdown",
   "id": "8f71859e",
   "metadata": {},
   "source": [
    "Resuma las tres listas en un string, es decir, defina\n",
    "\n",
    "```python:\n",
    "string = 'verde rojo azul gato perro serpiente mesa silla sillón'\n",
    "```"
   ]
  },
  {
   "cell_type": "markdown",
   "id": "f25b323e",
   "metadata": {},
   "source": [
    "Transforme este string en una lista dividiendo en tokens por espacios en blanco. "
   ]
  },
  {
   "cell_type": "markdown",
   "id": "001a6955",
   "metadata": {},
   "source": [
    "### 2. Ciclos for!"
   ]
  },
  {
   "cell_type": "markdown",
   "id": "e8adfae9",
   "metadata": {},
   "source": [
    "Considere el siguiente string:"
   ]
  },
  {
   "cell_type": "code",
   "execution_count": 12,
   "id": "cf75f383",
   "metadata": {},
   "outputs": [],
   "source": [
    "string = 'Sus logros incluyen los primeros estudios sobre el fenómeno de la radiactividad (término que ella misma acuñó), técnicas para el aislamiento de isótopos radiactivos y el descubrimiento de dos elementos'"
   ]
  },
  {
   "cell_type": "markdown",
   "id": "2907dbfe",
   "metadata": {},
   "source": [
    "Construya una lista, A, que contenga los tokens (como secuencias entre espacios en blanco) en minúscula."
   ]
  },
  {
   "cell_type": "markdown",
   "id": "f8ba3703",
   "metadata": {},
   "source": [
    "Construya otra lista, B, que contenga el largo de cada string de A. Sume todos los elementos de la lista B. "
   ]
  },
  {
   "cell_type": "markdown",
   "id": "697165ef",
   "metadata": {},
   "source": [
    "Construya otra lista, C, que contenga los elementos de A, pero sin repetición (es decir, los types). "
   ]
  },
  {
   "cell_type": "markdown",
   "id": "0d4c76a8",
   "metadata": {},
   "source": [
    "Construya otra lista, D, que contenga cuántas veces aparecen los types de C en A. "
   ]
  },
  {
   "cell_type": "markdown",
   "id": "cbb3b4c5",
   "metadata": {},
   "source": [
    "### 3. Diccionarios!"
   ]
  },
  {
   "cell_type": "markdown",
   "id": "de799401",
   "metadata": {},
   "source": [
    "Nuevamente trabajemos con el string definido más arriba!"
   ]
  },
  {
   "cell_type": "markdown",
   "id": "87e48c5d",
   "metadata": {},
   "source": [
    "Construya un diccionario, D_largo, en donde los keys sean los types contenidos en string, y los values sean el largo de cada type. "
   ]
  },
  {
   "cell_type": "markdown",
   "id": "3288afd4",
   "metadata": {},
   "source": [
    "Construya un diccionario, D_largo_type, en donde los keys sean los largos obtenidos antes (los values en D_largo), y los values sean el número de veces que parece ese largo en los tokens de string."
   ]
  },
  {
   "cell_type": "markdown",
   "id": "b6555b91",
   "metadata": {},
   "source": [
    "Grafique el diccionario D_largo_type, los keys forman el eje X, los values forman el eje Y. Investigue como ordenar el diccionario por el valor de los values (menor a mayor, o viceversa). "
   ]
  },
  {
   "cell_type": "code",
   "execution_count": null,
   "id": "bb169931",
   "metadata": {},
   "outputs": [],
   "source": []
  }
 ],
 "metadata": {
  "kernelspec": {
   "display_name": "conda_python3",
   "language": "python",
   "name": "conda_python3"
  },
  "language_info": {
   "codemirror_mode": {
    "name": "ipython",
    "version": 3
   },
   "file_extension": ".py",
   "mimetype": "text/x-python",
   "name": "python",
   "nbconvert_exporter": "python",
   "pygments_lexer": "ipython3",
   "version": "3.6.13"
  }
 },
 "nbformat": 4,
 "nbformat_minor": 5
}
