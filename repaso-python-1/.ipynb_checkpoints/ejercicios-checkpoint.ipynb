{
 "cells": [
  {
   "cell_type": "markdown",
   "id": "572a0d28",
   "metadata": {},
   "source": [
    "## Ejercicios"
   ]
  },
  {
   "cell_type": "markdown",
   "id": "1a957bef",
   "metadata": {},
   "source": [
    "### 1. Listas"
   ]
  },
  {
   "cell_type": "markdown",
   "id": "7fccc2ed",
   "metadata": {},
   "source": [
    "(problema basado en una consulta!) Considere tres listas A, B y C:"
   ]
  },
  {
   "cell_type": "code",
   "execution_count": 7,
   "id": "1d6898ba",
   "metadata": {},
   "outputs": [],
   "source": [
    "A = ['verde','rojo', 'azul']\n",
    "B = ['gato','perro','serpiente']\n",
    "C = ['mesa','silla','sillón']"
   ]
  },
  {
   "cell_type": "markdown",
   "id": "00d9312b",
   "metadata": {},
   "source": [
    "Defina una nueva lista, D, que contenga la concatenación de los elementos respectivos de A, B y C. Por ejemplo,\n",
    "\n",
    "```python:\n",
    "D = ['verde gato mesa', 'rojo perro silla', 'azul serpiente sillón']\n",
    "```\n",
    "Note que incluimos un espacio entre los strings!"
   ]
  },
  {
   "cell_type": "markdown",
   "id": "3cbfd76e",
   "metadata": {},
   "source": [
    "Pensemos en otra variante. Con las mismas tres listas, defina:\n",
    "    \n",
    "```python:\n",
    "E = ['verde rojo azul', 'gato perro serpiente', 'mesa silla sillón']\n",
    "```"
   ]
  },
  {
   "cell_type": "markdown",
   "id": "8f71859e",
   "metadata": {},
   "source": [
    "Resuma las tres listas en un string, es decir, defina\n",
    "\n",
    "```python:\n",
    "string = 'verde rojo azul gato perro serpiente mesa silla sillón'\n",
    "```"
   ]
  },
  {
   "cell_type": "markdown",
   "id": "f25b323e",
   "metadata": {},
   "source": [
    "Transforme este string en una lista dividiendo en tokens por espacios en blanco. "
   ]
  },
  {
   "cell_type": "markdown",
   "id": "001a6955",
   "metadata": {},
   "source": [
    "### 2. Ciclos for!"
   ]
  },
  {
   "cell_type": "markdown",
   "id": "e8adfae9",
   "metadata": {},
   "source": [
    "Considere el siguiente string:"
   ]
  },
  {
   "cell_type": "code",
   "execution_count": 1,
   "id": "cf75f383",
   "metadata": {},
   "outputs": [],
   "source": [
    "string = 'Sus logros incluyen los primeros estudios sobre el fenómeno de la radiactividad (término que ella misma acuñó), técnicas para el aislamiento de isótopos radiactivos y el descubrimiento de dos elementos'"
   ]
  },
  {
   "cell_type": "markdown",
   "id": "2907dbfe",
   "metadata": {},
   "source": [
    "Construya una lista, A, que contenga los tokens (como secuencias entre espacios en blanco) en minúscula."
   ]
  },
  {
   "cell_type": "code",
   "execution_count": 5,
   "id": "eeeb3625",
   "metadata": {},
   "outputs": [],
   "source": [
    "A_split = string.split()"
   ]
  },
  {
   "cell_type": "code",
   "execution_count": 6,
   "id": "8774fef7",
   "metadata": {},
   "outputs": [],
   "source": [
    "A = []\n",
    "\n",
    "for palabra in A_split:\n",
    "    A+=[palabra.lower()]"
   ]
  },
  {
   "cell_type": "code",
   "execution_count": 8,
   "id": "1e803089",
   "metadata": {},
   "outputs": [
    {
     "data": {
      "text/plain": [
       "['sus', 'logros', 'incluyen', 'los', 'primeros']"
      ]
     },
     "execution_count": 8,
     "metadata": {},
     "output_type": "execute_result"
    }
   ],
   "source": [
    "A[:5]"
   ]
  },
  {
   "cell_type": "code",
   "execution_count": 9,
   "id": "c84dc224",
   "metadata": {},
   "outputs": [],
   "source": [
    "## primero: en minúscula; segundo: dividir en tokens!\n",
    "\n",
    "string_lower = string.lower()"
   ]
  },
  {
   "cell_type": "code",
   "execution_count": 10,
   "id": "2fc95603",
   "metadata": {},
   "outputs": [
    {
     "data": {
      "text/plain": [
       "'sus logros incluyen los primeros estudios sobre el fenómeno de la radiactividad (término que ella misma acuñó), técnicas para el aislamiento de isótopos radiactivos y el descubrimiento de dos elementos'"
      ]
     },
     "execution_count": 10,
     "metadata": {},
     "output_type": "execute_result"
    }
   ],
   "source": [
    "string_lower"
   ]
  },
  {
   "cell_type": "code",
   "execution_count": 11,
   "id": "b730dd65",
   "metadata": {},
   "outputs": [],
   "source": [
    "A = string_lower.split()"
   ]
  },
  {
   "cell_type": "code",
   "execution_count": 12,
   "id": "a4e1c6af",
   "metadata": {},
   "outputs": [
    {
     "data": {
      "text/plain": [
       "['sus', 'logros', 'incluyen', 'los', 'primeros']"
      ]
     },
     "execution_count": 12,
     "metadata": {},
     "output_type": "execute_result"
    }
   ],
   "source": [
    "A[:5]"
   ]
  },
  {
   "cell_type": "code",
   "execution_count": 29,
   "id": "471b2859",
   "metadata": {},
   "outputs": [
    {
     "data": {
      "text/plain": [
       "30"
      ]
     },
     "execution_count": 29,
     "metadata": {},
     "output_type": "execute_result"
    }
   ],
   "source": [
    "len(A)"
   ]
  },
  {
   "cell_type": "markdown",
   "id": "f8ba3703",
   "metadata": {},
   "source": [
    "Construya otra lista, B, que contenga el largo de cada string de A. Sume todos los elementos de la lista B. "
   ]
  },
  {
   "cell_type": "code",
   "execution_count": 13,
   "id": "6f528828",
   "metadata": {},
   "outputs": [],
   "source": [
    "s = 'hola'\n",
    "\n",
    "largo = len(s)"
   ]
  },
  {
   "cell_type": "code",
   "execution_count": 19,
   "id": "9f562e94",
   "metadata": {},
   "outputs": [],
   "source": [
    "B = []\n",
    "\n",
    "for palabra in A:\n",
    "    B+=[len(palabra)]"
   ]
  },
  {
   "cell_type": "code",
   "execution_count": 20,
   "id": "987b533c",
   "metadata": {},
   "outputs": [
    {
     "data": {
      "text/plain": [
       "[3, 6, 8, 3, 8]"
      ]
     },
     "execution_count": 20,
     "metadata": {},
     "output_type": "execute_result"
    }
   ],
   "source": [
    "B[:5]"
   ]
  },
  {
   "cell_type": "code",
   "execution_count": 21,
   "id": "93a5fea8",
   "metadata": {},
   "outputs": [
    {
     "data": {
      "text/plain": [
       "172"
      ]
     },
     "execution_count": 21,
     "metadata": {},
     "output_type": "execute_result"
    }
   ],
   "source": [
    "sum(B)"
   ]
  },
  {
   "cell_type": "code",
   "execution_count": 22,
   "id": "1f0c7fa2",
   "metadata": {},
   "outputs": [],
   "source": [
    "suma = 0\n",
    "\n",
    "for largo in B:\n",
    "    suma+=largo"
   ]
  },
  {
   "cell_type": "code",
   "execution_count": 25,
   "id": "f7f48ad9",
   "metadata": {},
   "outputs": [
    {
     "data": {
      "text/plain": [
       "5.73"
      ]
     },
     "execution_count": 25,
     "metadata": {},
     "output_type": "execute_result"
    }
   ],
   "source": [
    "import numpy as np\n",
    "\n",
    "np.round(suma/len(B),2)"
   ]
  },
  {
   "cell_type": "markdown",
   "id": "697165ef",
   "metadata": {},
   "source": [
    "Construya otra lista, C, que contenga los elementos de A, pero sin repetición (es decir, los types). "
   ]
  },
  {
   "cell_type": "code",
   "execution_count": 26,
   "id": "e9f24560",
   "metadata": {},
   "outputs": [],
   "source": [
    "C = []\n",
    "\n",
    "for palabra in A:\n",
    "    if palabra not in C:\n",
    "        C+=[palabra]"
   ]
  },
  {
   "cell_type": "code",
   "execution_count": 28,
   "id": "de53949b",
   "metadata": {},
   "outputs": [
    {
     "data": {
      "text/plain": [
       "26"
      ]
     },
     "execution_count": 28,
     "metadata": {},
     "output_type": "execute_result"
    }
   ],
   "source": [
    "len(C)"
   ]
  },
  {
   "cell_type": "code",
   "execution_count": 30,
   "id": "ea1f5d91",
   "metadata": {},
   "outputs": [
    {
     "data": {
      "text/plain": [
       "['sus', 'logros', 'incluyen', 'los', 'primeros']"
      ]
     },
     "execution_count": 30,
     "metadata": {},
     "output_type": "execute_result"
    }
   ],
   "source": [
    "C[:5]"
   ]
  },
  {
   "cell_type": "markdown",
   "id": "0d4c76a8",
   "metadata": {},
   "source": [
    "Construya otra lista, D, que contenga cuántas veces aparecen los types de C en A. "
   ]
  },
  {
   "cell_type": "code",
   "execution_count": 31,
   "id": "25dba7e7",
   "metadata": {},
   "outputs": [],
   "source": [
    "F = []\n",
    "\n",
    "for palabra in C:\n",
    "    F+=[0]"
   ]
  },
  {
   "cell_type": "code",
   "execution_count": 33,
   "id": "f5993e9d",
   "metadata": {},
   "outputs": [
    {
     "data": {
      "text/plain": [
       "26"
      ]
     },
     "execution_count": 33,
     "metadata": {},
     "output_type": "execute_result"
    }
   ],
   "source": [
    "len(F)"
   ]
  },
  {
   "cell_type": "code",
   "execution_count": 38,
   "id": "96566540",
   "metadata": {},
   "outputs": [],
   "source": [
    "F = [0]*len(C)"
   ]
  },
  {
   "cell_type": "code",
   "execution_count": 46,
   "id": "d6d49970",
   "metadata": {},
   "outputs": [],
   "source": [
    "for palabra in A:\n",
    "    ## necesitamos saber el índice o la posición de \"palabra\" en la lista C\n",
    "    index = C.index(palabra)\n",
    "    F[index]+=1"
   ]
  },
  {
   "cell_type": "code",
   "execution_count": 49,
   "id": "13eeccbc",
   "metadata": {},
   "outputs": [
    {
     "data": {
      "text/plain": [
       "[1, 1, 1, 1, 1]"
      ]
     },
     "execution_count": 49,
     "metadata": {},
     "output_type": "execute_result"
    }
   ],
   "source": [
    "F[:5]"
   ]
  },
  {
   "cell_type": "code",
   "execution_count": 50,
   "id": "b2aaf915",
   "metadata": {},
   "outputs": [
    {
     "data": {
      "text/plain": [
       "['sus', 'logros', 'incluyen', 'los', 'primeros']"
      ]
     },
     "execution_count": 50,
     "metadata": {},
     "output_type": "execute_result"
    }
   ],
   "source": [
    "C[:5]"
   ]
  },
  {
   "cell_type": "code",
   "execution_count": 44,
   "id": "fce928b4",
   "metadata": {},
   "outputs": [],
   "source": [
    "L= ['hola','perro','gato']"
   ]
  },
  {
   "cell_type": "code",
   "execution_count": 45,
   "id": "1295b880",
   "metadata": {},
   "outputs": [
    {
     "data": {
      "text/plain": [
       "0"
      ]
     },
     "execution_count": 45,
     "metadata": {},
     "output_type": "execute_result"
    }
   ],
   "source": [
    "L.index('hola')"
   ]
  },
  {
   "cell_type": "code",
   "execution_count": 57,
   "id": "c66dbf7e",
   "metadata": {},
   "outputs": [],
   "source": [
    "R = []\n",
    "\n",
    "for i in range(len(C)):\n",
    "    R+=[[C[i],F[i]]]"
   ]
  },
  {
   "cell_type": "code",
   "execution_count": 59,
   "id": "cb9a9adc",
   "metadata": {},
   "outputs": [
    {
     "data": {
      "text/plain": [
       "['sus', 1]"
      ]
     },
     "execution_count": 59,
     "metadata": {},
     "output_type": "execute_result"
    }
   ],
   "source": [
    "R[0]"
   ]
  },
  {
   "cell_type": "code",
   "execution_count": null,
   "id": "9c1ef8c7",
   "metadata": {},
   "outputs": [],
   "source": []
  },
  {
   "cell_type": "markdown",
   "id": "cbb3b4c5",
   "metadata": {},
   "source": [
    "### 3. Diccionarios!"
   ]
  },
  {
   "cell_type": "markdown",
   "id": "de799401",
   "metadata": {},
   "source": [
    "Nuevamente trabajemos con el string definido más arriba!"
   ]
  },
  {
   "cell_type": "markdown",
   "id": "87e48c5d",
   "metadata": {},
   "source": [
    "Construya un diccionario, D_largo, en donde los keys sean los types contenidos en string, y los values sean el largo de cada type. "
   ]
  },
  {
   "cell_type": "code",
   "execution_count": 60,
   "id": "d0135fdb",
   "metadata": {},
   "outputs": [],
   "source": [
    "D_largo = {}\n",
    "\n",
    "for palabra in C:\n",
    "    D_largo[palabra]=len(palabra)"
   ]
  },
  {
   "cell_type": "code",
   "execution_count": 62,
   "id": "57b7ac22",
   "metadata": {},
   "outputs": [],
   "source": [
    "largos = list(D_largo.values())"
   ]
  },
  {
   "cell_type": "code",
   "execution_count": 67,
   "id": "fc3c04b4",
   "metadata": {},
   "outputs": [
    {
     "data": {
      "text/plain": [
       "6.3076923076923075"
      ]
     },
     "execution_count": 67,
     "metadata": {},
     "output_type": "execute_result"
    }
   ],
   "source": [
    "np.mean(largos)"
   ]
  },
  {
   "cell_type": "markdown",
   "id": "3288afd4",
   "metadata": {},
   "source": [
    "Construya un diccionario, D_largo_type, en donde los keys sean los largos obtenidos antes (los values en D_largo), y los values sean el número de veces que parece ese largo en los tokens de string."
   ]
  },
  {
   "cell_type": "markdown",
   "id": "b6555b91",
   "metadata": {},
   "source": [
    "Grafique el diccionario D_largo_type, los keys forman el eje X, los values forman el eje Y. Investigue como ordenar el diccionario por el valor de los values (menor a mayor, o viceversa). "
   ]
  },
  {
   "cell_type": "code",
   "execution_count": null,
   "id": "bb169931",
   "metadata": {},
   "outputs": [],
   "source": []
  }
 ],
 "metadata": {
  "kernelspec": {
   "display_name": "Python 3",
   "language": "python",
   "name": "python3"
  },
  "language_info": {
   "codemirror_mode": {
    "name": "ipython",
    "version": 3
   },
   "file_extension": ".py",
   "mimetype": "text/x-python",
   "name": "python",
   "nbconvert_exporter": "python",
   "pygments_lexer": "ipython3",
   "version": "3.8.8"
  }
 },
 "nbformat": 4,
 "nbformat_minor": 5
}
