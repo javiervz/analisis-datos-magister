{
 "cells": [
  {
   "cell_type": "code",
   "execution_count": 2,
   "id": "f58f739c",
   "metadata": {},
   "outputs": [],
   "source": [
    "##ACTIVIDADES CON CICLOS FOR\n",
    "texto = 'Sus logros incluyen los primeros estudios sobre el fenómeno de la radiactividad (término que ella misma acuñó), técnicas para el aislamiento de isótopos radiactivos y el descubrimiento de dos elementos'"
   ]
  },
  {
   "cell_type": "code",
   "execution_count": 3,
   "id": "e7aa0e26",
   "metadata": {},
   "outputs": [],
   "source": [
    "import string"
   ]
  },
  {
   "cell_type": "code",
   "execution_count": 4,
   "id": "fce1dc14",
   "metadata": {},
   "outputs": [],
   "source": [
    "for c in string.punctuation:\n",
    "    texto=texto.replace(c,\"\")"
   ]
  },
  {
   "cell_type": "code",
   "execution_count": 5,
   "id": "1a3f6f67",
   "metadata": {},
   "outputs": [
    {
     "name": "stdout",
     "output_type": "stream",
     "text": [
      "Sus logros incluyen los primeros estudios sobre el fenómeno de la radiactividad término que ella misma acuñó técnicas para el aislamiento de isótopos radiactivos y el descubrimiento de dos elementos\n"
     ]
    }
   ],
   "source": [
    "print(texto)"
   ]
  },
  {
   "cell_type": "code",
   "execution_count": 6,
   "id": "0d2797b6",
   "metadata": {},
   "outputs": [],
   "source": [
    "## creo una lista, que alojará los tokens\n",
    "lista_tokens= []\n",
    "lista_tokens= texto.split()"
   ]
  },
  {
   "cell_type": "code",
   "execution_count": 7,
   "id": "e58446b1",
   "metadata": {},
   "outputs": [
    {
     "name": "stdout",
     "output_type": "stream",
     "text": [
      "['Sus', 'logros', 'incluyen', 'los', 'primeros', 'estudios', 'sobre', 'el', 'fenómeno', 'de', 'la', 'radiactividad', 'término', 'que', 'ella', 'misma', 'acuñó', 'técnicas', 'para', 'el', 'aislamiento', 'de', 'isótopos', 'radiactivos', 'y', 'el', 'descubrimiento', 'de', 'dos', 'elementos']\n"
     ]
    }
   ],
   "source": [
    "print(lista_tokens)"
   ]
  },
  {
   "cell_type": "code",
   "execution_count": 8,
   "id": "d60b4b92",
   "metadata": {},
   "outputs": [],
   "source": [
    "## armo una lista para guardar los tokens en minúsculas\n",
    "lista_tokens_min=[]\n",
    "for palabra in lista_tokens:\n",
    "    lista_tokens_min+= [palabra.lower()]"
   ]
  },
  {
   "cell_type": "code",
   "execution_count": 13,
   "id": "8de6f4f0",
   "metadata": {
    "scrolled": true
   },
   "outputs": [
    {
     "data": {
      "text/plain": [
       "['sus',\n",
       " 'logros',\n",
       " 'incluyen',\n",
       " 'los',\n",
       " 'primeros',\n",
       " 'estudios',\n",
       " 'sobre',\n",
       " 'el',\n",
       " 'fenómeno',\n",
       " 'de']"
      ]
     },
     "execution_count": 13,
     "metadata": {},
     "output_type": "execute_result"
    }
   ],
   "source": [
    "lista_tokens_min[:10]"
   ]
  },
  {
   "cell_type": "code",
   "execution_count": 14,
   "id": "606606f9",
   "metadata": {},
   "outputs": [],
   "source": [
    "## DUDA 1: me gustaría saber cómo puedo eliminar la puntuación después de armar la lista de tokens del texto"
   ]
  },
  {
   "cell_type": "code",
   "execution_count": 15,
   "id": "52672a4b",
   "metadata": {},
   "outputs": [],
   "source": [
    "lista_largos=[]\n",
    "for palabra in lista_tokens_min:\n",
    "    lista_largos+= [len(palabra)]"
   ]
  },
  {
   "cell_type": "code",
   "execution_count": 16,
   "id": "220b8327",
   "metadata": {
    "scrolled": true
   },
   "outputs": [
    {
     "data": {
      "text/plain": [
       "[3, 6, 8, 3, 8, 8, 5, 2, 8, 2]"
      ]
     },
     "execution_count": 16,
     "metadata": {},
     "output_type": "execute_result"
    }
   ],
   "source": [
    "lista_largos[:10]"
   ]
  },
  {
   "cell_type": "code",
   "execution_count": 17,
   "id": "c94136aa",
   "metadata": {},
   "outputs": [
    {
     "data": {
      "text/plain": [
       "169"
      ]
     },
     "execution_count": 17,
     "metadata": {},
     "output_type": "execute_result"
    }
   ],
   "source": [
    "sum(lista_largos)"
   ]
  },
  {
   "cell_type": "code",
   "execution_count": 18,
   "id": "74d1b796",
   "metadata": {},
   "outputs": [],
   "source": [
    "lista_types=[]\n",
    "for palabra in lista_tokens_min:\n",
    "    if palabra not in lista_types:\n",
    "        lista_types+= [palabra]"
   ]
  },
  {
   "cell_type": "code",
   "execution_count": 19,
   "id": "e515ec95",
   "metadata": {
    "scrolled": true
   },
   "outputs": [
    {
     "data": {
      "text/plain": [
       "['sus',\n",
       " 'logros',\n",
       " 'incluyen',\n",
       " 'los',\n",
       " 'primeros',\n",
       " 'estudios',\n",
       " 'sobre',\n",
       " 'el',\n",
       " 'fenómeno',\n",
       " 'de',\n",
       " 'la',\n",
       " 'radiactividad',\n",
       " 'término',\n",
       " 'que',\n",
       " 'ella',\n",
       " 'misma',\n",
       " 'acuñó',\n",
       " 'técnicas',\n",
       " 'para',\n",
       " 'aislamiento',\n",
       " 'isótopos',\n",
       " 'radiactivos',\n",
       " 'y',\n",
       " 'descubrimiento',\n",
       " 'dos',\n",
       " 'elementos']"
      ]
     },
     "execution_count": 19,
     "metadata": {},
     "output_type": "execute_result"
    }
   ],
   "source": [
    "lista_types"
   ]
  },
  {
   "cell_type": "code",
   "execution_count": 20,
   "id": "13b90710",
   "metadata": {},
   "outputs": [],
   "source": [
    "## quiero armar una lista que contenga cuántas veces aparecen los types en la lista de tokens.\n",
    "## solo se me ocurre hacerlo a partir de un diccionario, de lo contrario no sé cómo\n",
    "## DUDA 2: ¿cómo se podría hacer sin  recurrir a un diccionario?"
   ]
  },
  {
   "cell_type": "code",
   "execution_count": 21,
   "id": "c1fa2eb2",
   "metadata": {},
   "outputs": [],
   "source": [
    "## ahora voy a hacer un diccionario que tenga las frecuencias\n",
    "diccionario_frecuencias={}\n",
    "for palabra in lista_tokens_min:\n",
    "    if palabra in diccionario_frecuencias:\n",
    "        diccionario_frecuencias[palabra] += 1\n",
    "    else:\n",
    "        diccionario_frecuencias[palabra] = 1        "
   ]
  },
  {
   "cell_type": "code",
   "execution_count": 22,
   "id": "08abc38b",
   "metadata": {},
   "outputs": [
    {
     "data": {
      "text/plain": [
       "{'sus': 1,\n",
       " 'logros': 1,\n",
       " 'incluyen': 1,\n",
       " 'los': 1,\n",
       " 'primeros': 1,\n",
       " 'estudios': 1,\n",
       " 'sobre': 1,\n",
       " 'el': 3,\n",
       " 'fenómeno': 1,\n",
       " 'de': 3,\n",
       " 'la': 1,\n",
       " 'radiactividad': 1,\n",
       " 'término': 1,\n",
       " 'que': 1,\n",
       " 'ella': 1,\n",
       " 'misma': 1,\n",
       " 'acuñó': 1,\n",
       " 'técnicas': 1,\n",
       " 'para': 1,\n",
       " 'aislamiento': 1,\n",
       " 'isótopos': 1,\n",
       " 'radiactivos': 1,\n",
       " 'y': 1,\n",
       " 'descubrimiento': 1,\n",
       " 'dos': 1,\n",
       " 'elementos': 1}"
      ]
     },
     "execution_count": 22,
     "metadata": {},
     "output_type": "execute_result"
    }
   ],
   "source": [
    "diccionario_frecuencias"
   ]
  },
  {
   "cell_type": "code",
   "execution_count": 23,
   "id": "6972df80",
   "metadata": {},
   "outputs": [],
   "source": [
    "## ahora le pongo a la lista D la lista de valores del diccionario (list lista valores de un diccionario)\n",
    "lista_D=[]\n",
    "lista_D+= list(diccionario_frecuencias.values())"
   ]
  },
  {
   "cell_type": "code",
   "execution_count": 24,
   "id": "e21667f0",
   "metadata": {},
   "outputs": [
    {
     "data": {
      "text/plain": [
       "[1, 1, 1, 1, 1, 1, 1, 3, 1, 3, 1, 1, 1, 1, 1, 1, 1, 1, 1, 1, 1, 1, 1, 1, 1, 1]"
      ]
     },
     "execution_count": 24,
     "metadata": {},
     "output_type": "execute_result"
    }
   ],
   "source": [
    "lista_D"
   ]
  },
  {
   "cell_type": "code",
   "execution_count": 25,
   "id": "8c22590a",
   "metadata": {
    "scrolled": true
   },
   "outputs": [],
   "source": [
    "## EJERCICIOS DICCIONARIOS\n",
    "## creo diccionario y agrego las palabras de lista de types como keys. Valor, por ahora, 0\n",
    "D_largo={}\n",
    "for palabra in lista_types:\n",
    "    D_largo[palabra] = 0"
   ]
  },
  {
   "cell_type": "code",
   "execution_count": 26,
   "id": "8a488c72",
   "metadata": {},
   "outputs": [
    {
     "data": {
      "text/plain": [
       "{'sus': 0,\n",
       " 'logros': 0,\n",
       " 'incluyen': 0,\n",
       " 'los': 0,\n",
       " 'primeros': 0,\n",
       " 'estudios': 0,\n",
       " 'sobre': 0,\n",
       " 'el': 0,\n",
       " 'fenómeno': 0,\n",
       " 'de': 0,\n",
       " 'la': 0,\n",
       " 'radiactividad': 0,\n",
       " 'término': 0,\n",
       " 'que': 0,\n",
       " 'ella': 0,\n",
       " 'misma': 0,\n",
       " 'acuñó': 0,\n",
       " 'técnicas': 0,\n",
       " 'para': 0,\n",
       " 'aislamiento': 0,\n",
       " 'isótopos': 0,\n",
       " 'radiactivos': 0,\n",
       " 'y': 0,\n",
       " 'descubrimiento': 0,\n",
       " 'dos': 0,\n",
       " 'elementos': 0}"
      ]
     },
     "execution_count": 26,
     "metadata": {},
     "output_type": "execute_result"
    }
   ],
   "source": [
    "D_largo"
   ]
  },
  {
   "cell_type": "code",
   "execution_count": 27,
   "id": "d88ce5da",
   "metadata": {},
   "outputs": [],
   "source": [
    "## ahora agrego como valor de cada key su largo\n",
    "for palabra in D_largo:\n",
    "    D_largo[palabra] = len(palabra)"
   ]
  },
  {
   "cell_type": "code",
   "execution_count": 28,
   "id": "220feced",
   "metadata": {
    "scrolled": true
   },
   "outputs": [
    {
     "data": {
      "text/plain": [
       "{'sus': 3,\n",
       " 'logros': 6,\n",
       " 'incluyen': 8,\n",
       " 'los': 3,\n",
       " 'primeros': 8,\n",
       " 'estudios': 8,\n",
       " 'sobre': 5,\n",
       " 'el': 2,\n",
       " 'fenómeno': 8,\n",
       " 'de': 2,\n",
       " 'la': 2,\n",
       " 'radiactividad': 13,\n",
       " 'término': 7,\n",
       " 'que': 3,\n",
       " 'ella': 4,\n",
       " 'misma': 5,\n",
       " 'acuñó': 5,\n",
       " 'técnicas': 8,\n",
       " 'para': 4,\n",
       " 'aislamiento': 11,\n",
       " 'isótopos': 8,\n",
       " 'radiactivos': 11,\n",
       " 'y': 1,\n",
       " 'descubrimiento': 14,\n",
       " 'dos': 3,\n",
       " 'elementos': 9}"
      ]
     },
     "execution_count": 28,
     "metadata": {},
     "output_type": "execute_result"
    }
   ],
   "source": [
    "D_largo"
   ]
  },
  {
   "cell_type": "code",
   "execution_count": 29,
   "id": "da178ea0",
   "metadata": {},
   "outputs": [],
   "source": [
    "## Fíjate qye recorres los valores de D_largo y cuando los agregas como keys, solo los agregas una vez \n",
    "## Esto pasa porque los diccionarios no tienen keys repetidos.\n",
    "\n",
    "\n",
    "## Los keys deben ser los largos obtenidos antes (los values en D_largo), y los values, el número de veces que parece ese largo en los tokens de string.\n",
    "D_largo_type={}\n",
    "## pido que liste los valores del D_largo y que los agregue de a uno a D_largo_type, con value 0\n",
    "for valor in list(D_largo.values()):\n",
    "    D_largo_type[valor] = 0  "
   ]
  },
  {
   "cell_type": "code",
   "execution_count": 30,
   "id": "d9f7f469",
   "metadata": {},
   "outputs": [
    {
     "data": {
      "text/plain": [
       "{3: 0, 6: 0, 8: 0, 5: 0, 2: 0, 13: 0, 7: 0, 4: 0, 11: 0, 1: 0, 14: 0, 9: 0}"
      ]
     },
     "execution_count": 30,
     "metadata": {},
     "output_type": "execute_result"
    }
   ],
   "source": [
    "## con esto, que está correcto, debes recorrer la lista lista_largos buscando repeticiones de cada largo\n",
    "\n",
    "D_largo_type"
   ]
  },
  {
   "cell_type": "code",
   "execution_count": 31,
   "id": "46586ad7",
   "metadata": {
    "scrolled": true
   },
   "outputs": [
    {
     "data": {
      "text/plain": [
       "dict_keys([3, 6, 8, 5, 2, 13, 7, 4, 11, 1, 14, 9])"
      ]
     },
     "execution_count": 31,
     "metadata": {},
     "output_type": "execute_result"
    }
   ],
   "source": [
    "D_largo_type.keys()"
   ]
  },
  {
   "cell_type": "code",
   "execution_count": 32,
   "id": "626a627c",
   "metadata": {},
   "outputs": [
    {
     "data": {
      "text/plain": [
       "[3,\n",
       " 6,\n",
       " 8,\n",
       " 3,\n",
       " 8,\n",
       " 8,\n",
       " 5,\n",
       " 2,\n",
       " 8,\n",
       " 2,\n",
       " 2,\n",
       " 13,\n",
       " 7,\n",
       " 3,\n",
       " 4,\n",
       " 5,\n",
       " 5,\n",
       " 8,\n",
       " 4,\n",
       " 2,\n",
       " 11,\n",
       " 2,\n",
       " 8,\n",
       " 11,\n",
       " 1,\n",
       " 2,\n",
       " 14,\n",
       " 2,\n",
       " 3,\n",
       " 9]"
      ]
     },
     "execution_count": 32,
     "metadata": {},
     "output_type": "execute_result"
    }
   ],
   "source": [
    "lista_largos"
   ]
  },
  {
   "cell_type": "code",
   "execution_count": 33,
   "id": "ebc0eb4d",
   "metadata": {},
   "outputs": [],
   "source": [
    "## DUDA 3: después de probar muchísimo, logré que me saliera, pero realmente no sé bien cómo. ¿Es correcto? sobre todo la tercera línea del código.\n",
    "\n",
    "for largo in lista_largos:\n",
    "    ## este if no es necesario! el diccionario ubica automáticamente el value correspondiente a un key\n",
    "    ##if largo in D_largo_type.keys():\n",
    "    D_largo_type[largo] = D_largo_type[largo] +1"
   ]
  },
  {
   "cell_type": "code",
   "execution_count": 34,
   "id": "c6307ce6",
   "metadata": {},
   "outputs": [
    {
     "data": {
      "text/plain": [
       "{3: 4, 6: 1, 8: 6, 5: 3, 2: 7, 13: 1, 7: 1, 4: 2, 11: 2, 1: 1, 14: 1, 9: 1}"
      ]
     },
     "execution_count": 34,
     "metadata": {},
     "output_type": "execute_result"
    }
   ],
   "source": [
    "D_largo_type"
   ]
  },
  {
   "cell_type": "code",
   "execution_count": 38,
   "id": "409a2e32",
   "metadata": {},
   "outputs": [],
   "source": [
    "D_largo_type={}\n",
    "## pido que liste los valores del D_largo y que los agregue de a uno a D_largo_type, con value 0\n",
    "for valor in list(D_largo.values()):\n",
    "    D_largo_type[valor] = 0  "
   ]
  },
  {
   "cell_type": "code",
   "execution_count": 39,
   "id": "5723bc7a",
   "metadata": {},
   "outputs": [],
   "source": [
    "## DUDA 4: esto no funciona, no sé como hacerlo en un solo paso (son dos variables, palabra y el key del diccionario)\n",
    "for palabra in lista_tokens_min:\n",
    "    D_largo_type[len(palabra)] += 1       "
   ]
  },
  {
   "cell_type": "code",
   "execution_count": 40,
   "id": "1e000b52",
   "metadata": {},
   "outputs": [
    {
     "data": {
      "text/plain": [
       "{3: 4, 6: 1, 8: 6, 5: 3, 2: 7, 13: 1, 7: 1, 4: 2, 11: 2, 1: 1, 14: 1, 9: 1}"
      ]
     },
     "execution_count": 40,
     "metadata": {},
     "output_type": "execute_result"
    }
   ],
   "source": [
    "D_largo_type"
   ]
  },
  {
   "cell_type": "code",
   "execution_count": null,
   "id": "f860e3d6",
   "metadata": {},
   "outputs": [],
   "source": []
  }
 ],
 "metadata": {
  "kernelspec": {
   "display_name": "Python 3",
   "language": "python",
   "name": "python3"
  },
  "language_info": {
   "codemirror_mode": {
    "name": "ipython",
    "version": 3
   },
   "file_extension": ".py",
   "mimetype": "text/x-python",
   "name": "python",
   "nbconvert_exporter": "python",
   "pygments_lexer": "ipython3",
   "version": "3.8.8"
  }
 },
 "nbformat": 4,
 "nbformat_minor": 5
}
