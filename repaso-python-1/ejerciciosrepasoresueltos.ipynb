{
 "cells": [
  {
   "cell_type": "code",
   "execution_count": 1,
   "id": "f58f739c",
   "metadata": {},
   "outputs": [],
   "source": [
    "#ACTIVIDADES CON CICLOS FOR\n",
    "texto = 'Sus logros incluyen los primeros estudios sobre el fenómeno de la radiactividad (término que ella misma acuñó), técnicas para el aislamiento de isótopos radiactivos y el descubrimiento de dos elementos'"
   ]
  },
  {
   "cell_type": "code",
   "execution_count": 2,
   "id": "e7aa0e26",
   "metadata": {},
   "outputs": [],
   "source": [
    "import string"
   ]
  },
  {
   "cell_type": "code",
   "execution_count": 3,
   "id": "fce1dc14",
   "metadata": {},
   "outputs": [],
   "source": [
    "for c in string.punctuation:\n",
    "    texto=texto.replace(c,\"\")"
   ]
  },
  {
   "cell_type": "code",
   "execution_count": 4,
   "id": "1a3f6f67",
   "metadata": {},
   "outputs": [
    {
     "name": "stdout",
     "output_type": "stream",
     "text": [
      "Sus logros incluyen los primeros estudios sobre el fenómeno de la radiactividad término que ella misma acuñó técnicas para el aislamiento de isótopos radiactivos y el descubrimiento de dos elementos\n"
     ]
    }
   ],
   "source": [
    "print(texto)"
   ]
  },
  {
   "cell_type": "code",
   "execution_count": 5,
   "id": "0d2797b6",
   "metadata": {},
   "outputs": [],
   "source": [
    "## creo una lista, que alojará los tokens\n",
    "lista_tokens= []\n",
    "lista_tokens= texto.split()"
   ]
  },
  {
   "cell_type": "code",
   "execution_count": 6,
   "id": "e58446b1",
   "metadata": {},
   "outputs": [
    {
     "name": "stdout",
     "output_type": "stream",
     "text": [
      "['Sus', 'logros', 'incluyen', 'los', 'primeros', 'estudios', 'sobre', 'el', 'fenómeno', 'de', 'la', 'radiactividad', 'término', 'que', 'ella', 'misma', 'acuñó', 'técnicas', 'para', 'el', 'aislamiento', 'de', 'isótopos', 'radiactivos', 'y', 'el', 'descubrimiento', 'de', 'dos', 'elementos']\n"
     ]
    }
   ],
   "source": [
    "print(lista_tokens)"
   ]
  },
  {
   "cell_type": "code",
   "execution_count": 7,
   "id": "d60b4b92",
   "metadata": {},
   "outputs": [],
   "source": [
    "## armo una lista para guardar los tokens en minúsculas\n",
    "lista_tokens_min=[]\n",
    "for palabra in lista_tokens:\n",
    "    lista_tokens_min+= [palabra.lower()]"
   ]
  },
  {
   "cell_type": "code",
   "execution_count": 8,
   "id": "8de6f4f0",
   "metadata": {
    "scrolled": true
   },
   "outputs": [
    {
     "data": {
      "text/plain": [
       "['sus',\n",
       " 'logros',\n",
       " 'incluyen',\n",
       " 'los',\n",
       " 'primeros',\n",
       " 'estudios',\n",
       " 'sobre',\n",
       " 'el',\n",
       " 'fenómeno',\n",
       " 'de']"
      ]
     },
     "execution_count": 8,
     "metadata": {},
     "output_type": "execute_result"
    }
   ],
   "source": [
    "lista_tokens_min[:10]"
   ]
  },
  {
   "cell_type": "code",
   "execution_count": 9,
   "id": "606606f9",
   "metadata": {},
   "outputs": [],
   "source": [
    "## DUDA 1: me gustaría saber cómo puedo eliminar la puntuación después de armar la lista de tokens del texto"
   ]
  },
  {
   "cell_type": "code",
   "execution_count": 14,
   "id": "53cdb11e",
   "metadata": {},
   "outputs": [],
   "source": [
    "## se hace igual a como lo hiciste para todo el string, pero para cada tokens.\n",
    "\n",
    "def remover_puntuacion(s): \n",
    "    for c in string.punctuation:\n",
    "        s=s.replace(c,\"\")\n",
    "    return s"
   ]
  },
  {
   "cell_type": "code",
   "execution_count": 15,
   "id": "48067d12",
   "metadata": {},
   "outputs": [],
   "source": [
    "texto = 'Sus logros incluyen los primeros estudios sobre el fenómeno de la radiactividad (término que ella misma acuñó), técnicas para el aislamiento de isótopos radiactivos y el descubrimiento de dos elementos'"
   ]
  },
  {
   "cell_type": "code",
   "execution_count": 16,
   "id": "d4daef00",
   "metadata": {},
   "outputs": [],
   "source": [
    "lista_tokens = texto.split()"
   ]
  },
  {
   "cell_type": "code",
   "execution_count": 17,
   "id": "f3597aa2",
   "metadata": {},
   "outputs": [],
   "source": [
    "## aplicamos la función de arriba (que es igual a lo que hiciste a cada token)\n",
    "\n",
    "lista_tokens_rem = []\n",
    "\n",
    "for palabra in lista_tokens:\n",
    "    lista_tokens_rem+=[remover_puntuacion(palabra)]"
   ]
  },
  {
   "cell_type": "code",
   "execution_count": 18,
   "id": "2f62d4a5",
   "metadata": {},
   "outputs": [
    {
     "data": {
      "text/plain": [
       "['Sus',\n",
       " 'logros',\n",
       " 'incluyen',\n",
       " 'los',\n",
       " 'primeros',\n",
       " 'estudios',\n",
       " 'sobre',\n",
       " 'el',\n",
       " 'fenómeno',\n",
       " 'de',\n",
       " 'la',\n",
       " 'radiactividad',\n",
       " 'término',\n",
       " 'que',\n",
       " 'ella',\n",
       " 'misma',\n",
       " 'acuñó',\n",
       " 'técnicas',\n",
       " 'para',\n",
       " 'el',\n",
       " 'aislamiento',\n",
       " 'de',\n",
       " 'isótopos',\n",
       " 'radiactivos',\n",
       " 'y',\n",
       " 'el',\n",
       " 'descubrimiento',\n",
       " 'de',\n",
       " 'dos',\n",
       " 'elementos']"
      ]
     },
     "execution_count": 18,
     "metadata": {},
     "output_type": "execute_result"
    }
   ],
   "source": [
    "lista_tokens_rem"
   ]
  },
  {
   "cell_type": "code",
   "execution_count": 19,
   "id": "52672a4b",
   "metadata": {},
   "outputs": [],
   "source": [
    "lista_largos=[]\n",
    "for palabra in lista_tokens_min:\n",
    "    lista_largos+= [len(palabra)]"
   ]
  },
  {
   "cell_type": "code",
   "execution_count": 20,
   "id": "220b8327",
   "metadata": {
    "scrolled": true
   },
   "outputs": [
    {
     "data": {
      "text/plain": [
       "[3, 6, 8, 3, 8, 8, 5, 2, 8, 2]"
      ]
     },
     "execution_count": 20,
     "metadata": {},
     "output_type": "execute_result"
    }
   ],
   "source": [
    "lista_largos[:10]"
   ]
  },
  {
   "cell_type": "code",
   "execution_count": 21,
   "id": "c94136aa",
   "metadata": {},
   "outputs": [
    {
     "data": {
      "text/plain": [
       "169"
      ]
     },
     "execution_count": 21,
     "metadata": {},
     "output_type": "execute_result"
    }
   ],
   "source": [
    "sum(lista_largos)"
   ]
  },
  {
   "cell_type": "code",
   "execution_count": 22,
   "id": "74d1b796",
   "metadata": {},
   "outputs": [],
   "source": [
    "lista_types=[]\n",
    "for palabra in lista_tokens_min:\n",
    "    if palabra not in lista_types:\n",
    "        lista_types+= [palabra]"
   ]
  },
  {
   "cell_type": "code",
   "execution_count": 23,
   "id": "e515ec95",
   "metadata": {
    "scrolled": true
   },
   "outputs": [
    {
     "data": {
      "text/plain": [
       "['sus',\n",
       " 'logros',\n",
       " 'incluyen',\n",
       " 'los',\n",
       " 'primeros',\n",
       " 'estudios',\n",
       " 'sobre',\n",
       " 'el',\n",
       " 'fenómeno',\n",
       " 'de',\n",
       " 'la',\n",
       " 'radiactividad',\n",
       " 'término',\n",
       " 'que',\n",
       " 'ella',\n",
       " 'misma',\n",
       " 'acuñó',\n",
       " 'técnicas',\n",
       " 'para',\n",
       " 'aislamiento',\n",
       " 'isótopos',\n",
       " 'radiactivos',\n",
       " 'y',\n",
       " 'descubrimiento',\n",
       " 'dos',\n",
       " 'elementos']"
      ]
     },
     "execution_count": 23,
     "metadata": {},
     "output_type": "execute_result"
    }
   ],
   "source": [
    "lista_types"
   ]
  },
  {
   "cell_type": "code",
   "execution_count": null,
   "id": "13b90710",
   "metadata": {},
   "outputs": [],
   "source": [
    "## quiero armar una lista que contenga cuántas veces aparecen los types en la lista de tokens.\n",
    "## solo se me ocurre hacerlo a partir de un diccionario, de lo contrario no sé cómo\n",
    "## DUDA 2: ¿cómo se podría hacer sin  recurrir a un diccionario?"
   ]
  },
  {
   "cell_type": "code",
   "execution_count": 77,
   "id": "c1fa2eb2",
   "metadata": {},
   "outputs": [],
   "source": [
    "## ahora voy a hacer un diccionario que tenga las frecuencias\n",
    "diccionario_frecuencias={}\n",
    "for palabra in lista_tokens_min:\n",
    "    if palabra in diccionario_frecuencias:\n",
    "        diccionario_frecuencias[palabra] += 1\n",
    "    else:\n",
    "        diccionario_frecuencias[palabra] = 1        "
   ]
  },
  {
   "cell_type": "code",
   "execution_count": 78,
   "id": "08abc38b",
   "metadata": {},
   "outputs": [
    {
     "data": {
      "text/plain": [
       "{'sus': 1,\n",
       " 'logros': 1,\n",
       " 'incluyen': 1,\n",
       " 'los': 1,\n",
       " 'primeros': 1,\n",
       " 'estudios': 1,\n",
       " 'sobre': 1,\n",
       " 'el': 3,\n",
       " 'fenómeno': 1,\n",
       " 'de': 3,\n",
       " 'la': 1,\n",
       " 'radiactividad': 1,\n",
       " 'término': 1,\n",
       " 'que': 1,\n",
       " 'ella': 1,\n",
       " 'misma': 1,\n",
       " 'acuñó': 1,\n",
       " 'técnicas': 1,\n",
       " 'para': 1,\n",
       " 'aislamiento': 1,\n",
       " 'isótopos': 1,\n",
       " 'radiactivos': 1,\n",
       " 'y': 1,\n",
       " 'descubrimiento': 1,\n",
       " 'dos': 1,\n",
       " 'elementos': 1}"
      ]
     },
     "execution_count": 78,
     "metadata": {},
     "output_type": "execute_result"
    }
   ],
   "source": [
    "diccionario_frecuencias"
   ]
  },
  {
   "cell_type": "code",
   "execution_count": 84,
   "id": "6972df80",
   "metadata": {},
   "outputs": [],
   "source": [
    "## ahora le pongo a la lista D la lista de valores del diccionario (list lista valores de un diccionario)\n",
    "lista_D=[]\n",
    "lista_D+= list(diccionario_frecuencias.values())"
   ]
  },
  {
   "cell_type": "code",
   "execution_count": 85,
   "id": "e21667f0",
   "metadata": {},
   "outputs": [
    {
     "data": {
      "text/plain": [
       "[1, 1, 1, 1, 1, 1, 1, 3, 1, 3, 1, 1, 1, 1, 1, 1, 1, 1, 1, 1, 1, 1, 1, 1, 1, 1]"
      ]
     },
     "execution_count": 85,
     "metadata": {},
     "output_type": "execute_result"
    }
   ],
   "source": [
    "lista_D"
   ]
  },
  {
   "cell_type": "code",
   "execution_count": 24,
   "id": "8c22590a",
   "metadata": {},
   "outputs": [
    {
     "data": {
      "text/plain": [
       "['sus',\n",
       " 'logros',\n",
       " 'incluyen',\n",
       " 'los',\n",
       " 'primeros',\n",
       " 'estudios',\n",
       " 'sobre',\n",
       " 'el',\n",
       " 'fenómeno',\n",
       " 'de',\n",
       " 'la',\n",
       " 'radiactividad',\n",
       " 'término',\n",
       " 'que',\n",
       " 'ella',\n",
       " 'misma',\n",
       " 'acuñó',\n",
       " 'técnicas',\n",
       " 'para',\n",
       " 'aislamiento',\n",
       " 'isótopos',\n",
       " 'radiactivos',\n",
       " 'y',\n",
       " 'descubrimiento',\n",
       " 'dos',\n",
       " 'elementos']"
      ]
     },
     "execution_count": 24,
     "metadata": {},
     "output_type": "execute_result"
    }
   ],
   "source": [
    "## una forma de hacerlo sin diccionarios, es usando dos listas. mira\n",
    "\n",
    "lista_types"
   ]
  },
  {
   "cell_type": "code",
   "execution_count": 25,
   "id": "46a62b35",
   "metadata": {},
   "outputs": [],
   "source": [
    "## definimos una lista del mismo largo de lista_types\n",
    "\n",
    "## tiene 0's en cada posición, ahi vamos a ir guardando las frencuencias\n",
    "F = [0]*len(lista_types)"
   ]
  },
  {
   "cell_type": "code",
   "execution_count": 26,
   "id": "5e0cef3b",
   "metadata": {},
   "outputs": [],
   "source": [
    "## recorremos los tokens en miníscula\n",
    "\n",
    "for palabra in lista_tokens_min:\n",
    "    ## en qué posición de lista_types aparece \"palabra\"\n",
    "    index = lista_types.index(palabra)\n",
    "    ## en esa posición sumamos 1\n",
    "    F[index]+=1"
   ]
  },
  {
   "cell_type": "code",
   "execution_count": 27,
   "id": "c01f61e9",
   "metadata": {},
   "outputs": [
    {
     "data": {
      "text/plain": [
       "[1, 1, 1, 1, 1, 1, 1, 3, 1, 3, 1, 1, 1, 1, 1, 1, 1, 1, 1, 1, 1, 1, 1, 1, 1, 1]"
      ]
     },
     "execution_count": 27,
     "metadata": {},
     "output_type": "execute_result"
    }
   ],
   "source": [
    "F"
   ]
  },
  {
   "cell_type": "code",
   "execution_count": null,
   "id": "0ed41a60",
   "metadata": {},
   "outputs": [],
   "source": []
  }
 ],
 "metadata": {
  "kernelspec": {
   "display_name": "Python 3 (ipykernel)",
   "language": "python",
   "name": "python3"
  },
  "language_info": {
   "codemirror_mode": {
    "name": "ipython",
    "version": 3
   },
   "file_extension": ".py",
   "mimetype": "text/x-python",
   "name": "python",
   "nbconvert_exporter": "python",
   "pygments_lexer": "ipython3",
   "version": "3.9.7"
  }
 },
 "nbformat": 4,
 "nbformat_minor": 5
}
